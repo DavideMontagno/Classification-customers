{
 "metadata": {
  "language_info": {
   "codemirror_mode": {
    "name": "ipython",
    "version": 3
   },
   "file_extension": ".py",
   "mimetype": "text/x-python",
   "name": "python",
   "nbconvert_exporter": "python",
   "pygments_lexer": "ipython3",
   "version": "3.7.5-final"
  },
  "orig_nbformat": 2,
  "kernelspec": {
   "name": "python37564bit61209d9bcfea452998e2771b9ee1a7fb",
   "display_name": "Python 3.7.5 64-bit"
  }
 },
 "nbformat": 4,
 "nbformat_minor": 2,
 "cells": [
  {
   "source": [
    "# Knn"
   ],
   "cell_type": "markdown",
   "metadata": {}
  },
  {
   "cell_type": "code",
   "execution_count": 14,
   "metadata": {},
   "outputs": [],
   "source": [
    "import pandas as pd\n",
    "import numpy as np\n",
    "import matplotlib.pyplot as plt\n",
    "df = pd.read_csv(\"dataset/CL-dataset.csv\",sep='\\t',decimal=\",\",index_col=0)\n",
    "df = df.drop(columns=[\"CustomerID\"])"
   ]
  },
  {
   "cell_type": "code",
   "execution_count": 15,
   "metadata": {},
   "outputs": [
    {
     "output_type": "execute_result",
     "data": {
      "text/plain": [
       "   Imax         E    PIL          Mb      MeanD     EDate  class\n",
       "0    12  4.335643  2.567  156.860294   0.000000  0.000000      2\n",
       "1    32  6.503112  2.567  356.232222  35.000000  2.226424      2\n",
       "2   360  6.504979  2.752  442.969333  24.266667  2.235084      2\n",
       "3    80  4.494680  2.567  189.650000  55.400000  1.177965      1\n",
       "4    32  0.000000  2.567  292.000000  13.000000  0.918296      1"
      ],
      "text/html": "<div>\n<style scoped>\n    .dataframe tbody tr th:only-of-type {\n        vertical-align: middle;\n    }\n\n    .dataframe tbody tr th {\n        vertical-align: top;\n    }\n\n    .dataframe thead th {\n        text-align: right;\n    }\n</style>\n<table border=\"1\" class=\"dataframe\">\n  <thead>\n    <tr style=\"text-align: right;\">\n      <th></th>\n      <th>Imax</th>\n      <th>E</th>\n      <th>PIL</th>\n      <th>Mb</th>\n      <th>MeanD</th>\n      <th>EDate</th>\n      <th>class</th>\n    </tr>\n  </thead>\n  <tbody>\n    <tr>\n      <th>0</th>\n      <td>12</td>\n      <td>4.335643</td>\n      <td>2.567</td>\n      <td>156.860294</td>\n      <td>0.000000</td>\n      <td>0.000000</td>\n      <td>2</td>\n    </tr>\n    <tr>\n      <th>1</th>\n      <td>32</td>\n      <td>6.503112</td>\n      <td>2.567</td>\n      <td>356.232222</td>\n      <td>35.000000</td>\n      <td>2.226424</td>\n      <td>2</td>\n    </tr>\n    <tr>\n      <th>2</th>\n      <td>360</td>\n      <td>6.504979</td>\n      <td>2.752</td>\n      <td>442.969333</td>\n      <td>24.266667</td>\n      <td>2.235084</td>\n      <td>2</td>\n    </tr>\n    <tr>\n      <th>3</th>\n      <td>80</td>\n      <td>4.494680</td>\n      <td>2.567</td>\n      <td>189.650000</td>\n      <td>55.400000</td>\n      <td>1.177965</td>\n      <td>1</td>\n    </tr>\n    <tr>\n      <th>4</th>\n      <td>32</td>\n      <td>0.000000</td>\n      <td>2.567</td>\n      <td>292.000000</td>\n      <td>13.000000</td>\n      <td>0.918296</td>\n      <td>1</td>\n    </tr>\n  </tbody>\n</table>\n</div>"
     },
     "metadata": {},
     "execution_count": 15
    }
   ],
   "source": [
    "df.head()"
   ]
  },
  {
   "cell_type": "code",
   "execution_count": 16,
   "metadata": {},
   "outputs": [],
   "source": [
    "from sklearn.model_selection import train_test_split\n",
    "from sklearn.metrics import classification_report\n",
    "\n",
    "label = df.pop('class')\n",
    "train_set, test_set, train_label, test_label = train_test_split(df, label, stratify =label, test_size=0.30)"
   ]
  },
  {
   "source": [
    "## Grid search"
   ],
   "cell_type": "markdown",
   "metadata": {}
  },
  {
   "cell_type": "code",
   "execution_count": 17,
   "metadata": {},
   "outputs": [
    {
     "output_type": "stream",
     "name": "stdout",
     "text": [
      "Fitting 5 folds for each of 20 candidates, totalling 100 fits\n",
      "[Parallel(n_jobs=3)]: Using backend LokyBackend with 3 concurrent workers.\n",
      "[Parallel(n_jobs=3)]: Done  83 tasks      | elapsed:    4.8s\n",
      "[Parallel(n_jobs=3)]: Done 100 out of 100 | elapsed:    5.0s finished\n",
      "Best Score:  0.8272678026199152\n",
      "Best Params:  {'metric': 'manhattan', 'n_neighbors': 15, 'weights': 'distance'}\n",
      "Complete Grid search:\n",
      "0.790 (+/-0.012) for {'metric': 'minkowski', 'n_neighbors': 3, 'weights': 'uniform'}\n",
      "0.789 (+/-0.013) for {'metric': 'minkowski', 'n_neighbors': 3, 'weights': 'distance'}\n",
      "0.802 (+/-0.024) for {'metric': 'minkowski', 'n_neighbors': 5, 'weights': 'uniform'}\n",
      "0.799 (+/-0.021) for {'metric': 'minkowski', 'n_neighbors': 5, 'weights': 'distance'}\n",
      "0.798 (+/-0.012) for {'metric': 'minkowski', 'n_neighbors': 10, 'weights': 'uniform'}\n",
      "0.804 (+/-0.016) for {'metric': 'minkowski', 'n_neighbors': 10, 'weights': 'distance'}\n",
      "0.808 (+/-0.021) for {'metric': 'minkowski', 'n_neighbors': 15, 'weights': 'uniform'}\n",
      "0.809 (+/-0.018) for {'metric': 'minkowski', 'n_neighbors': 15, 'weights': 'distance'}\n",
      "0.805 (+/-0.015) for {'metric': 'minkowski', 'n_neighbors': 20, 'weights': 'uniform'}\n",
      "0.811 (+/-0.012) for {'metric': 'minkowski', 'n_neighbors': 20, 'weights': 'distance'}\n",
      "0.809 (+/-0.010) for {'metric': 'manhattan', 'n_neighbors': 3, 'weights': 'uniform'}\n",
      "0.809 (+/-0.016) for {'metric': 'manhattan', 'n_neighbors': 3, 'weights': 'distance'}\n",
      "0.818 (+/-0.030) for {'metric': 'manhattan', 'n_neighbors': 5, 'weights': 'uniform'}\n",
      "0.817 (+/-0.023) for {'metric': 'manhattan', 'n_neighbors': 5, 'weights': 'distance'}\n",
      "0.814 (+/-0.027) for {'metric': 'manhattan', 'n_neighbors': 10, 'weights': 'uniform'}\n",
      "0.823 (+/-0.019) for {'metric': 'manhattan', 'n_neighbors': 10, 'weights': 'distance'}\n",
      "0.820 (+/-0.013) for {'metric': 'manhattan', 'n_neighbors': 15, 'weights': 'uniform'}\n",
      "0.827 (+/-0.011) for {'metric': 'manhattan', 'n_neighbors': 15, 'weights': 'distance'}\n",
      "0.818 (+/-0.013) for {'metric': 'manhattan', 'n_neighbors': 20, 'weights': 'uniform'}\n",
      "0.824 (+/-0.013) for {'metric': 'manhattan', 'n_neighbors': 20, 'weights': 'distance'}\n"
     ]
    }
   ],
   "source": [
    "from sklearn.model_selection import GridSearchCV\n",
    "grid_params={\n",
    "    'n_neighbors':[3,5,10,15,20],\n",
    "    'weights':['uniform','distance'],\n",
    "    'metric':['minkowski','manhattan']\n",
    "}\n",
    "\n",
    "gs=GridSearchCV(KNeighborsClassifier(),grid_params,verbose=1,n_jobs=3,scoring='accuracy')\n",
    "gs.fit(train_set,train_label)\n",
    "print(\"Best Score: \",gs.best_score_)\n",
    "print(\"Best Params: \",gs.best_params_)\n",
    "\n",
    "print(\"Complete Grid search:\")\n",
    "means = gs.cv_results_['mean_test_score']\n",
    "stds = gs.cv_results_['std_test_score']\n",
    "for mean, std, params in zip(means, stds, gs.cv_results_['params']):\n",
    "    print(\"%0.3f (+/-%0.03f) for %r\"% (mean, std * 2, params))\n"
   ]
  },
  {
   "source": [
    "## Modello finale"
   ],
   "cell_type": "markdown",
   "metadata": {}
  },
  {
   "cell_type": "code",
   "execution_count": 18,
   "metadata": {},
   "outputs": [],
   "source": [
    "from sklearn.neighbors import KNeighborsClassifier\n",
    "\n",
    "knn = KNeighborsClassifier(n_neighbors=2, algorithm='ball_tree', metric='minkowski').fit(train_set, train_label)"
   ]
  },
  {
   "cell_type": "code",
   "execution_count": 19,
   "metadata": {},
   "outputs": [],
   "source": [
    "#prediction on the test test\n",
    "test_pred_knn = knn.predict(test_set)"
   ]
  },
  {
   "cell_type": "code",
   "execution_count": 20,
   "metadata": {},
   "outputs": [
    {
     "output_type": "stream",
     "name": "stdout",
     "text": [
      "              precision    recall  f1-score   support\n\n           0       0.84      0.96      0.90       859\n           1       0.72      0.73      0.72       529\n           2       0.78      0.44      0.57       285\n\n    accuracy                           0.80      1673\n   macro avg       0.78      0.71      0.73      1673\nweighted avg       0.79      0.80      0.79      1673\n\n"
     ]
    }
   ],
   "source": [
    "#compute the performance of the model\n",
    "print(classification_report(test_label, test_pred_knn))"
   ]
  },
  {
   "cell_type": "code",
   "execution_count": null,
   "metadata": {},
   "outputs": [],
   "source": []
  }
 ]
}