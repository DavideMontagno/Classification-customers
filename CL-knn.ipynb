{
 "metadata": {
  "language_info": {
   "codemirror_mode": {
    "name": "ipython",
    "version": 3
   },
   "file_extension": ".py",
   "mimetype": "text/x-python",
   "name": "python",
   "nbconvert_exporter": "python",
   "pygments_lexer": "ipython3",
   "version": "3.7.8-final"
  },
  "orig_nbformat": 2,
  "kernelspec": {
   "name": "python3",
   "display_name": "Python 3.7.8 64-bit",
   "metadata": {
    "interpreter": {
     "hash": "57baa5815c940fdaff4d14510622de9616cae602444507ba5d0b6727c008cbd6"
    }
   }
  }
 },
 "nbformat": 4,
 "nbformat_minor": 2,
 "cells": [
  {
   "source": [
    "# Knn"
   ],
   "cell_type": "markdown",
   "metadata": {}
  },
  {
   "cell_type": "code",
   "execution_count": 17,
   "metadata": {},
   "outputs": [],
   "source": [
    "import pandas as pd\n",
    "import numpy as np\n",
    "import matplotlib.pyplot as plt\n",
    "df = pd.read_csv(\"dataset/CL_over_Normalized-dataset.csv\",sep='\\t',decimal=\",\",index_col=0)"
   ]
  },
  {
   "cell_type": "code",
   "execution_count": 18,
   "metadata": {},
   "outputs": [
    {
     "output_type": "execute_result",
     "data": {
      "text/plain": [
       "       Imax         E       PIL        Mt       TsW      NbxW     MeanD  \\\n",
       "0  0.002292  0.418977  0.167672  0.000846  0.019121  0.162562  0.000000   \n",
       "1  0.006460  0.628431  0.167672  0.000885  0.011490  0.039409  0.191781   \n",
       "2  0.074807  0.628612  0.179798  0.001379  0.023824  0.068966  0.132968   \n",
       "3  0.016462  0.434346  0.167672  0.001636  0.003391  0.019704  0.303562   \n",
       "4  0.006460  0.000000  0.167672  0.014668  0.003132  0.009852  0.071233   \n",
       "\n",
       "   Eday_of_week  class  \n",
       "0      0.330587      0  \n",
       "1      0.759352      1  \n",
       "2      0.936665      1  \n",
       "3      0.460422      0  \n",
       "4      0.358927      1  "
      ],
      "text/html": "<div>\n<style scoped>\n    .dataframe tbody tr th:only-of-type {\n        vertical-align: middle;\n    }\n\n    .dataframe tbody tr th {\n        vertical-align: top;\n    }\n\n    .dataframe thead th {\n        text-align: right;\n    }\n</style>\n<table border=\"1\" class=\"dataframe\">\n  <thead>\n    <tr style=\"text-align: right;\">\n      <th></th>\n      <th>Imax</th>\n      <th>E</th>\n      <th>PIL</th>\n      <th>Mt</th>\n      <th>TsW</th>\n      <th>NbxW</th>\n      <th>MeanD</th>\n      <th>Eday_of_week</th>\n      <th>class</th>\n    </tr>\n  </thead>\n  <tbody>\n    <tr>\n      <th>0</th>\n      <td>0.002292</td>\n      <td>0.418977</td>\n      <td>0.167672</td>\n      <td>0.000846</td>\n      <td>0.019121</td>\n      <td>0.162562</td>\n      <td>0.000000</td>\n      <td>0.330587</td>\n      <td>0</td>\n    </tr>\n    <tr>\n      <th>1</th>\n      <td>0.006460</td>\n      <td>0.628431</td>\n      <td>0.167672</td>\n      <td>0.000885</td>\n      <td>0.011490</td>\n      <td>0.039409</td>\n      <td>0.191781</td>\n      <td>0.759352</td>\n      <td>1</td>\n    </tr>\n    <tr>\n      <th>2</th>\n      <td>0.074807</td>\n      <td>0.628612</td>\n      <td>0.179798</td>\n      <td>0.001379</td>\n      <td>0.023824</td>\n      <td>0.068966</td>\n      <td>0.132968</td>\n      <td>0.936665</td>\n      <td>1</td>\n    </tr>\n    <tr>\n      <th>3</th>\n      <td>0.016462</td>\n      <td>0.434346</td>\n      <td>0.167672</td>\n      <td>0.001636</td>\n      <td>0.003391</td>\n      <td>0.019704</td>\n      <td>0.303562</td>\n      <td>0.460422</td>\n      <td>0</td>\n    </tr>\n    <tr>\n      <th>4</th>\n      <td>0.006460</td>\n      <td>0.000000</td>\n      <td>0.167672</td>\n      <td>0.014668</td>\n      <td>0.003132</td>\n      <td>0.009852</td>\n      <td>0.071233</td>\n      <td>0.358927</td>\n      <td>1</td>\n    </tr>\n  </tbody>\n</table>\n</div>"
     },
     "metadata": {},
     "execution_count": 18
    }
   ],
   "source": [
    "df.head()"
   ]
  },
  {
   "cell_type": "code",
   "execution_count": 19,
   "metadata": {},
   "outputs": [],
   "source": [
    "from sklearn.model_selection import train_test_split\n",
    "from sklearn.metrics import classification_report\n",
    "\n",
    "label = df.pop('class')\n",
    "train_set, test_set, train_label, test_label = train_test_split(df, label, stratify =label, test_size=0.20)"
   ]
  },
  {
   "cell_type": "code",
   "execution_count": 20,
   "metadata": {},
   "outputs": [],
   "source": [
    "from sklearn.neighbors import KNeighborsClassifier"
   ]
  },
  {
   "source": [
    "## Grid search"
   ],
   "cell_type": "markdown",
   "metadata": {}
  },
  {
   "cell_type": "code",
   "execution_count": 21,
   "metadata": {},
   "outputs": [
    {
     "output_type": "stream",
     "name": "stdout",
     "text": [
      "Fitting 5 folds for each of 20 candidates, totalling 100 fits\n",
      "[Parallel(n_jobs=3)]: Using backend LokyBackend with 3 concurrent workers.\n",
      "Best Score:  0.6446134347275032\n",
      "Best Params:  {'metric': 'manhattan', 'n_neighbors': 10, 'weights': 'distance'}\n",
      "Complete Grid search:\n",
      "0.572 (+/-0.022) for {'metric': 'minkowski', 'n_neighbors': 3, 'weights': 'uniform'}\n",
      "0.603 (+/-0.013) for {'metric': 'minkowski', 'n_neighbors': 3, 'weights': 'distance'}\n",
      "0.577 (+/-0.028) for {'metric': 'minkowski', 'n_neighbors': 5, 'weights': 'uniform'}\n",
      "0.611 (+/-0.006) for {'metric': 'minkowski', 'n_neighbors': 5, 'weights': 'distance'}\n",
      "0.570 (+/-0.009) for {'metric': 'minkowski', 'n_neighbors': 10, 'weights': 'uniform'}\n",
      "0.605 (+/-0.017) for {'metric': 'minkowski', 'n_neighbors': 10, 'weights': 'distance'}\n",
      "0.569 (+/-0.022) for {'metric': 'minkowski', 'n_neighbors': 15, 'weights': 'uniform'}\n",
      "0.602 (+/-0.023) for {'metric': 'minkowski', 'n_neighbors': 15, 'weights': 'distance'}\n",
      "0.557 (+/-0.033) for {'metric': 'minkowski', 'n_neighbors': 20, 'weights': 'uniform'}\n",
      "0.600 (+/-0.016) for {'metric': 'minkowski', 'n_neighbors': 20, 'weights': 'distance'}\n",
      "0.616 (+/-0.018) for {'metric': 'manhattan', 'n_neighbors': 3, 'weights': 'uniform'}\n",
      "0.640 (+/-0.022) for {'metric': 'manhattan', 'n_neighbors': 3, 'weights': 'distance'}\n",
      "0.618 (+/-0.025) for {'metric': 'manhattan', 'n_neighbors': 5, 'weights': 'uniform'}\n",
      "0.641 (+/-0.022) for {'metric': 'manhattan', 'n_neighbors': 5, 'weights': 'distance'}\n",
      "0.612 (+/-0.020) for {'metric': 'manhattan', 'n_neighbors': 10, 'weights': 'uniform'}\n",
      "0.645 (+/-0.027) for {'metric': 'manhattan', 'n_neighbors': 10, 'weights': 'distance'}\n",
      "0.599 (+/-0.015) for {'metric': 'manhattan', 'n_neighbors': 15, 'weights': 'uniform'}\n",
      "0.639 (+/-0.018) for {'metric': 'manhattan', 'n_neighbors': 15, 'weights': 'distance'}\n",
      "0.593 (+/-0.023) for {'metric': 'manhattan', 'n_neighbors': 20, 'weights': 'uniform'}\n",
      "0.636 (+/-0.022) for {'metric': 'manhattan', 'n_neighbors': 20, 'weights': 'distance'}\n",
      "[Parallel(n_jobs=3)]: Done 100 out of 100 | elapsed:    0.9s finished\n"
     ]
    }
   ],
   "source": [
    "from sklearn.model_selection import GridSearchCV\n",
    "grid_params={\n",
    "    'n_neighbors':[3,5,10,15,20],\n",
    "    'weights':['uniform','distance'],\n",
    "    'metric':['minkowski','manhattan']\n",
    "}\n",
    "\n",
    "gs=GridSearchCV(KNeighborsClassifier(),grid_params,verbose=1,n_jobs=3,scoring='accuracy')\n",
    "gs.fit(train_set,train_label)\n",
    "print(\"Best Score: \",gs.best_score_)\n",
    "print(\"Best Params: \",gs.best_params_)\n",
    "\n",
    "print(\"Complete Grid search:\")\n",
    "means = gs.cv_results_['mean_test_score']\n",
    "stds = gs.cv_results_['std_test_score']\n",
    "for mean, std, params in zip(means, stds, gs.cv_results_['params']):\n",
    "    print(\"%0.3f (+/-%0.03f) for %r\"% (mean, std * 2, params))\n"
   ]
  },
  {
   "source": [
    "## Modello finale"
   ],
   "cell_type": "markdown",
   "metadata": {}
  },
  {
   "cell_type": "code",
   "execution_count": 22,
   "metadata": {},
   "outputs": [],
   "source": [
    "knn = KNeighborsClassifier(n_neighbors=3, weights='distance', metric='manhattan').fit(train_set, train_label)"
   ]
  },
  {
   "cell_type": "code",
   "execution_count": 23,
   "metadata": {},
   "outputs": [],
   "source": [
    "#prediction on the test test\n",
    "test_pred_knn = knn.predict(test_set)"
   ]
  },
  {
   "cell_type": "code",
   "execution_count": 24,
   "metadata": {},
   "outputs": [
    {
     "output_type": "stream",
     "name": "stdout",
     "text": [
      "              precision    recall  f1-score   support\n\n           0       0.67      0.63      0.65       564\n           1       0.55      0.59      0.57       564\n           2       0.75      0.74      0.74       564\n\n    accuracy                           0.65      1692\n   macro avg       0.66      0.65      0.65      1692\nweighted avg       0.66      0.65      0.65      1692\n\n"
     ]
    }
   ],
   "source": [
    "#compute the performance of the model\n",
    "print(classification_report(test_label, test_pred_knn))"
   ]
  },
  {
   "cell_type": "code",
   "execution_count": null,
   "metadata": {},
   "outputs": [],
   "source": []
  }
 ]
}