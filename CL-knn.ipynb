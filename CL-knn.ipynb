{
 "metadata": {
  "language_info": {
   "codemirror_mode": {
    "name": "ipython",
    "version": 3
   },
   "file_extension": ".py",
   "mimetype": "text/x-python",
   "name": "python",
   "nbconvert_exporter": "python",
   "pygments_lexer": "ipython3",
   "version": "3.7.8-final"
  },
  "orig_nbformat": 2,
  "kernelspec": {
   "name": "python3",
   "display_name": "Python 3.7.8 64-bit",
   "metadata": {
    "interpreter": {
     "hash": "57baa5815c940fdaff4d14510622de9616cae602444507ba5d0b6727c008cbd6"
    }
   }
  }
 },
 "nbformat": 4,
 "nbformat_minor": 2,
 "cells": [
  {
   "source": [
    "# Knn"
   ],
   "cell_type": "markdown",
   "metadata": {}
  },
  {
   "cell_type": "code",
   "execution_count": 9,
   "metadata": {},
   "outputs": [],
   "source": [
    "import pandas as pd\n",
    "import numpy as np\n",
    "import matplotlib.pyplot as plt\n",
    "df = pd.read_csv(\"dataset/CL_Normalized-dataset.csv\",sep='\\t',decimal=\",\",index_col=0)"
   ]
  },
  {
   "cell_type": "code",
   "execution_count": 10,
   "metadata": {},
   "outputs": [
    {
     "output_type": "execute_result",
     "data": {
      "text/plain": [
       "       Imax         E       PIL        Mt       TsM       TsW      NbxM  \\\n",
       "0  0.002292  0.275864  0.167672  0.000697  0.000373  0.000373  0.000000   \n",
       "1  0.002292  0.697919  0.167672  0.000107  0.002323  0.002323  0.015464   \n",
       "2  0.004793  0.294794  0.167672  0.000623  0.000386  0.000386  0.000000   \n",
       "3  0.001042  0.383909  0.167672  0.000137  0.000214  0.000214  0.010309   \n",
       "4  0.009794  0.686301  0.167672  0.000349  0.007160  0.007160  0.051546   \n",
       "\n",
       "       NbxW     MeanD     Etrim    Emonth  Eday_of_week     Ehour  class  \n",
       "0  0.000000  0.000000  0.000000  0.000000      0.000000  0.000000      0  \n",
       "1  0.015464  0.304110  0.678523  0.441490      0.613803  0.477344      0  \n",
       "2  0.000000  0.000000  0.000000  0.000000      0.000000  0.000000      0  \n",
       "3  0.010309  0.001826  0.000000  0.000000      0.138115  0.107410      0  \n",
       "4  0.051546  0.133998  0.789065  0.813654      0.734281  0.724191      0  "
      ],
      "text/html": "<div>\n<style scoped>\n    .dataframe tbody tr th:only-of-type {\n        vertical-align: middle;\n    }\n\n    .dataframe tbody tr th {\n        vertical-align: top;\n    }\n\n    .dataframe thead th {\n        text-align: right;\n    }\n</style>\n<table border=\"1\" class=\"dataframe\">\n  <thead>\n    <tr style=\"text-align: right;\">\n      <th></th>\n      <th>Imax</th>\n      <th>E</th>\n      <th>PIL</th>\n      <th>Mt</th>\n      <th>TsM</th>\n      <th>TsW</th>\n      <th>NbxM</th>\n      <th>NbxW</th>\n      <th>MeanD</th>\n      <th>Etrim</th>\n      <th>Emonth</th>\n      <th>Eday_of_week</th>\n      <th>Ehour</th>\n      <th>class</th>\n    </tr>\n  </thead>\n  <tbody>\n    <tr>\n      <th>0</th>\n      <td>0.002292</td>\n      <td>0.275864</td>\n      <td>0.167672</td>\n      <td>0.000697</td>\n      <td>0.000373</td>\n      <td>0.000373</td>\n      <td>0.000000</td>\n      <td>0.000000</td>\n      <td>0.000000</td>\n      <td>0.000000</td>\n      <td>0.000000</td>\n      <td>0.000000</td>\n      <td>0.000000</td>\n      <td>0</td>\n    </tr>\n    <tr>\n      <th>1</th>\n      <td>0.002292</td>\n      <td>0.697919</td>\n      <td>0.167672</td>\n      <td>0.000107</td>\n      <td>0.002323</td>\n      <td>0.002323</td>\n      <td>0.015464</td>\n      <td>0.015464</td>\n      <td>0.304110</td>\n      <td>0.678523</td>\n      <td>0.441490</td>\n      <td>0.613803</td>\n      <td>0.477344</td>\n      <td>0</td>\n    </tr>\n    <tr>\n      <th>2</th>\n      <td>0.004793</td>\n      <td>0.294794</td>\n      <td>0.167672</td>\n      <td>0.000623</td>\n      <td>0.000386</td>\n      <td>0.000386</td>\n      <td>0.000000</td>\n      <td>0.000000</td>\n      <td>0.000000</td>\n      <td>0.000000</td>\n      <td>0.000000</td>\n      <td>0.000000</td>\n      <td>0.000000</td>\n      <td>0</td>\n    </tr>\n    <tr>\n      <th>3</th>\n      <td>0.001042</td>\n      <td>0.383909</td>\n      <td>0.167672</td>\n      <td>0.000137</td>\n      <td>0.000214</td>\n      <td>0.000214</td>\n      <td>0.010309</td>\n      <td>0.010309</td>\n      <td>0.001826</td>\n      <td>0.000000</td>\n      <td>0.000000</td>\n      <td>0.138115</td>\n      <td>0.107410</td>\n      <td>0</td>\n    </tr>\n    <tr>\n      <th>4</th>\n      <td>0.009794</td>\n      <td>0.686301</td>\n      <td>0.167672</td>\n      <td>0.000349</td>\n      <td>0.007160</td>\n      <td>0.007160</td>\n      <td>0.051546</td>\n      <td>0.051546</td>\n      <td>0.133998</td>\n      <td>0.789065</td>\n      <td>0.813654</td>\n      <td>0.734281</td>\n      <td>0.724191</td>\n      <td>0</td>\n    </tr>\n  </tbody>\n</table>\n</div>"
     },
     "metadata": {},
     "execution_count": 10
    }
   ],
   "source": [
    "df.head()"
   ]
  },
  {
   "cell_type": "code",
   "execution_count": 11,
   "metadata": {},
   "outputs": [],
   "source": [
    "from sklearn.model_selection import train_test_split\n",
    "from sklearn.metrics import classification_report\n",
    "\n",
    "label = df.pop('class')\n",
    "train_set, test_set, train_label, test_label = train_test_split(df, label, stratify =label, test_size=0.30)"
   ]
  },
  {
   "cell_type": "code",
   "execution_count": 12,
   "metadata": {},
   "outputs": [],
   "source": [
    "from sklearn.neighbors import KNeighborsClassifier"
   ]
  },
  {
   "source": [
    "## Grid search"
   ],
   "cell_type": "markdown",
   "metadata": {}
  },
  {
   "cell_type": "code",
   "execution_count": 13,
   "metadata": {},
   "outputs": [
    {
     "output_type": "stream",
     "name": "stdout",
     "text": [
      "Fitting 5 folds for each of 20 candidates, totalling 100 fits\n",
      "[Parallel(n_jobs=3)]: Using backend LokyBackend with 3 concurrent workers.\n",
      "Best Score:  0.6610314070601323\n",
      "Best Params:  {'metric': 'manhattan', 'n_neighbors': 3, 'weights': 'distance'}\n",
      "Complete Grid search:\n",
      "0.583 (+/-0.037) for {'metric': 'minkowski', 'n_neighbors': 3, 'weights': 'uniform'}\n",
      "0.607 (+/-0.032) for {'metric': 'minkowski', 'n_neighbors': 3, 'weights': 'distance'}\n",
      "0.577 (+/-0.020) for {'metric': 'minkowski', 'n_neighbors': 5, 'weights': 'uniform'}\n",
      "0.618 (+/-0.009) for {'metric': 'minkowski', 'n_neighbors': 5, 'weights': 'distance'}\n",
      "0.574 (+/-0.022) for {'metric': 'minkowski', 'n_neighbors': 10, 'weights': 'uniform'}\n",
      "0.611 (+/-0.032) for {'metric': 'minkowski', 'n_neighbors': 10, 'weights': 'distance'}\n",
      "0.562 (+/-0.032) for {'metric': 'minkowski', 'n_neighbors': 15, 'weights': 'uniform'}\n",
      "0.606 (+/-0.020) for {'metric': 'minkowski', 'n_neighbors': 15, 'weights': 'distance'}\n",
      "0.565 (+/-0.023) for {'metric': 'minkowski', 'n_neighbors': 20, 'weights': 'uniform'}\n",
      "0.612 (+/-0.017) for {'metric': 'minkowski', 'n_neighbors': 20, 'weights': 'distance'}\n",
      "0.631 (+/-0.030) for {'metric': 'manhattan', 'n_neighbors': 3, 'weights': 'uniform'}\n",
      "0.661 (+/-0.021) for {'metric': 'manhattan', 'n_neighbors': 3, 'weights': 'distance'}\n",
      "0.624 (+/-0.013) for {'metric': 'manhattan', 'n_neighbors': 5, 'weights': 'uniform'}\n",
      "0.653 (+/-0.015) for {'metric': 'manhattan', 'n_neighbors': 5, 'weights': 'distance'}\n",
      "0.611 (+/-0.008) for {'metric': 'manhattan', 'n_neighbors': 10, 'weights': 'uniform'}\n",
      "0.650 (+/-0.008) for {'metric': 'manhattan', 'n_neighbors': 10, 'weights': 'distance'}\n",
      "0.605 (+/-0.014) for {'metric': 'manhattan', 'n_neighbors': 15, 'weights': 'uniform'}\n",
      "0.651 (+/-0.019) for {'metric': 'manhattan', 'n_neighbors': 15, 'weights': 'distance'}\n",
      "0.602 (+/-0.011) for {'metric': 'manhattan', 'n_neighbors': 20, 'weights': 'uniform'}\n",
      "0.655 (+/-0.024) for {'metric': 'manhattan', 'n_neighbors': 20, 'weights': 'distance'}\n",
      "[Parallel(n_jobs=3)]: Done  89 tasks      | elapsed:    2.3s\n",
      "[Parallel(n_jobs=3)]: Done  95 out of 100 | elapsed:    2.4s remaining:    0.0s\n",
      "[Parallel(n_jobs=3)]: Done 100 out of 100 | elapsed:    2.4s finished\n"
     ]
    }
   ],
   "source": [
    "from sklearn.model_selection import GridSearchCV\n",
    "grid_params={\n",
    "    'n_neighbors':[3,5,10,15,20],\n",
    "    'weights':['uniform','distance'],\n",
    "    'metric':['minkowski','manhattan']\n",
    "}\n",
    "\n",
    "gs=GridSearchCV(KNeighborsClassifier(),grid_params,verbose=1,n_jobs=3,scoring='accuracy')\n",
    "gs.fit(train_set,train_label)\n",
    "print(\"Best Score: \",gs.best_score_)\n",
    "print(\"Best Params: \",gs.best_params_)\n",
    "\n",
    "print(\"Complete Grid search:\")\n",
    "means = gs.cv_results_['mean_test_score']\n",
    "stds = gs.cv_results_['std_test_score']\n",
    "for mean, std, params in zip(means, stds, gs.cv_results_['params']):\n",
    "    print(\"%0.3f (+/-%0.03f) for %r\"% (mean, std * 2, params))\n"
   ]
  },
  {
   "source": [
    "## Modello finale"
   ],
   "cell_type": "markdown",
   "metadata": {}
  },
  {
   "cell_type": "code",
   "execution_count": 17,
   "metadata": {},
   "outputs": [],
   "source": [
    "knn = KNeighborsClassifier(n_neighbors=3, weights='distance', metric='manhattan').fit(train_set, train_label)"
   ]
  },
  {
   "cell_type": "code",
   "execution_count": 18,
   "metadata": {},
   "outputs": [],
   "source": [
    "#prediction on the test test\n",
    "test_pred_knn = knn.predict(test_set)"
   ]
  },
  {
   "cell_type": "code",
   "execution_count": 19,
   "metadata": {},
   "outputs": [
    {
     "output_type": "stream",
     "name": "stdout",
     "text": [
      "              precision    recall  f1-score   support\n\n           0       0.66      0.65      0.65       507\n           1       0.56      0.56      0.56       507\n           2       0.74      0.76      0.75       507\n\n    accuracy                           0.65      1521\n   macro avg       0.65      0.65      0.65      1521\nweighted avg       0.65      0.65      0.65      1521\n\n"
     ]
    }
   ],
   "source": [
    "#compute the performance of the model\n",
    "print(classification_report(test_label, test_pred_knn))"
   ]
  },
  {
   "cell_type": "code",
   "execution_count": null,
   "metadata": {},
   "outputs": [],
   "source": []
  }
 ]
}