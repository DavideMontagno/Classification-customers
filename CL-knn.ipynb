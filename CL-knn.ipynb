{
 "metadata": {
  "language_info": {
   "codemirror_mode": {
    "name": "ipython",
    "version": 3
   },
   "file_extension": ".py",
   "mimetype": "text/x-python",
   "name": "python",
   "nbconvert_exporter": "python",
   "pygments_lexer": "ipython3",
   "version": "3.7.5-final"
  },
  "orig_nbformat": 2,
  "kernelspec": {
   "name": "python37564bit61209d9bcfea452998e2771b9ee1a7fb",
   "display_name": "Python 3.7.5 64-bit"
  }
 },
 "nbformat": 4,
 "nbformat_minor": 2,
 "cells": [
  {
   "source": [
    "# Knn"
   ],
   "cell_type": "markdown",
   "metadata": {}
  },
  {
   "cell_type": "code",
   "execution_count": 5,
   "metadata": {},
   "outputs": [],
   "source": [
    "import pandas as pd\n",
    "import numpy as np\n",
    "import matplotlib.pyplot as plt\n",
    "df = pd.read_csv(\"dataset/CL_Normalized-dataset.csv\",sep='\\t',decimal=\",\",index_col=0)"
   ]
  },
  {
   "cell_type": "code",
   "execution_count": 6,
   "metadata": {},
   "outputs": [
    {
     "output_type": "execute_result",
     "data": {
      "text/plain": [
       "       Imax         E       PIL     MeanD     EDate  class\n",
       "0  0.009794  0.494960  0.167672  0.608219  0.366637      0\n",
       "1  0.005001  0.591952  0.167672  0.330594  0.634431      0\n",
       "2  0.004793  0.416542  0.167672  0.084932  0.000000      0\n",
       "3  0.014795  0.454229  0.167672  0.421918  0.430229      0\n",
       "4  0.009794  0.563574  0.167672  0.203836  0.645860      0"
      ],
      "text/html": "<div>\n<style scoped>\n    .dataframe tbody tr th:only-of-type {\n        vertical-align: middle;\n    }\n\n    .dataframe tbody tr th {\n        vertical-align: top;\n    }\n\n    .dataframe thead th {\n        text-align: right;\n    }\n</style>\n<table border=\"1\" class=\"dataframe\">\n  <thead>\n    <tr style=\"text-align: right;\">\n      <th></th>\n      <th>Imax</th>\n      <th>E</th>\n      <th>PIL</th>\n      <th>MeanD</th>\n      <th>EDate</th>\n      <th>class</th>\n    </tr>\n  </thead>\n  <tbody>\n    <tr>\n      <th>0</th>\n      <td>0.009794</td>\n      <td>0.494960</td>\n      <td>0.167672</td>\n      <td>0.608219</td>\n      <td>0.366637</td>\n      <td>0</td>\n    </tr>\n    <tr>\n      <th>1</th>\n      <td>0.005001</td>\n      <td>0.591952</td>\n      <td>0.167672</td>\n      <td>0.330594</td>\n      <td>0.634431</td>\n      <td>0</td>\n    </tr>\n    <tr>\n      <th>2</th>\n      <td>0.004793</td>\n      <td>0.416542</td>\n      <td>0.167672</td>\n      <td>0.084932</td>\n      <td>0.000000</td>\n      <td>0</td>\n    </tr>\n    <tr>\n      <th>3</th>\n      <td>0.014795</td>\n      <td>0.454229</td>\n      <td>0.167672</td>\n      <td>0.421918</td>\n      <td>0.430229</td>\n      <td>0</td>\n    </tr>\n    <tr>\n      <th>4</th>\n      <td>0.009794</td>\n      <td>0.563574</td>\n      <td>0.167672</td>\n      <td>0.203836</td>\n      <td>0.645860</td>\n      <td>0</td>\n    </tr>\n  </tbody>\n</table>\n</div>"
     },
     "metadata": {},
     "execution_count": 6
    }
   ],
   "source": [
    "df.head()"
   ]
  },
  {
   "cell_type": "code",
   "execution_count": 7,
   "metadata": {},
   "outputs": [],
   "source": [
    "from sklearn.model_selection import train_test_split\n",
    "from sklearn.metrics import classification_report\n",
    "\n",
    "label = df.pop('class')\n",
    "train_set, test_set, train_label, test_label = train_test_split(df, label, stratify =label, test_size=0.30)"
   ]
  },
  {
   "cell_type": "code",
   "execution_count": 8,
   "metadata": {},
   "outputs": [],
   "source": [
    "from sklearn.neighbors import KNeighborsClassifier"
   ]
  },
  {
   "source": [
    "## Grid search"
   ],
   "cell_type": "markdown",
   "metadata": {}
  },
  {
   "cell_type": "code",
   "execution_count": 9,
   "metadata": {},
   "outputs": [
    {
     "output_type": "stream",
     "name": "stdout",
     "text": [
      "Fitting 5 folds for each of 20 candidates, totalling 100 fits\n",
      "[Parallel(n_jobs=3)]: Using backend LokyBackend with 3 concurrent workers.\n",
      "[Parallel(n_jobs=3)]: Done  83 tasks      | elapsed:    4.8s\n",
      "[Parallel(n_jobs=3)]: Done 100 out of 100 | elapsed:    5.1s finished\n",
      "Best Score:  0.5682417211307337\n",
      "Best Params:  {'metric': 'manhattan', 'n_neighbors': 15, 'weights': 'distance'}\n",
      "Complete Grid search:\n",
      "0.528 (+/-0.008) for {'metric': 'minkowski', 'n_neighbors': 3, 'weights': 'uniform'}\n",
      "0.546 (+/-0.030) for {'metric': 'minkowski', 'n_neighbors': 3, 'weights': 'distance'}\n",
      "0.530 (+/-0.027) for {'metric': 'minkowski', 'n_neighbors': 5, 'weights': 'uniform'}\n",
      "0.549 (+/-0.032) for {'metric': 'minkowski', 'n_neighbors': 5, 'weights': 'distance'}\n",
      "0.543 (+/-0.019) for {'metric': 'minkowski', 'n_neighbors': 10, 'weights': 'uniform'}\n",
      "0.557 (+/-0.020) for {'metric': 'minkowski', 'n_neighbors': 10, 'weights': 'distance'}\n",
      "0.548 (+/-0.014) for {'metric': 'minkowski', 'n_neighbors': 15, 'weights': 'uniform'}\n",
      "0.559 (+/-0.030) for {'metric': 'minkowski', 'n_neighbors': 15, 'weights': 'distance'}\n",
      "0.557 (+/-0.023) for {'metric': 'minkowski', 'n_neighbors': 20, 'weights': 'uniform'}\n",
      "0.564 (+/-0.011) for {'metric': 'minkowski', 'n_neighbors': 20, 'weights': 'distance'}\n",
      "0.530 (+/-0.032) for {'metric': 'manhattan', 'n_neighbors': 3, 'weights': 'uniform'}\n",
      "0.547 (+/-0.037) for {'metric': 'manhattan', 'n_neighbors': 3, 'weights': 'distance'}\n",
      "0.532 (+/-0.022) for {'metric': 'manhattan', 'n_neighbors': 5, 'weights': 'uniform'}\n",
      "0.557 (+/-0.032) for {'metric': 'manhattan', 'n_neighbors': 5, 'weights': 'distance'}\n",
      "0.545 (+/-0.016) for {'metric': 'manhattan', 'n_neighbors': 10, 'weights': 'uniform'}\n",
      "0.563 (+/-0.023) for {'metric': 'manhattan', 'n_neighbors': 10, 'weights': 'distance'}\n",
      "0.549 (+/-0.016) for {'metric': 'manhattan', 'n_neighbors': 15, 'weights': 'uniform'}\n",
      "0.568 (+/-0.022) for {'metric': 'manhattan', 'n_neighbors': 15, 'weights': 'distance'}\n",
      "0.554 (+/-0.010) for {'metric': 'manhattan', 'n_neighbors': 20, 'weights': 'uniform'}\n",
      "0.567 (+/-0.010) for {'metric': 'manhattan', 'n_neighbors': 20, 'weights': 'distance'}\n"
     ]
    }
   ],
   "source": [
    "from sklearn.model_selection import GridSearchCV\n",
    "grid_params={\n",
    "    'n_neighbors':[3,5,10,15,20],\n",
    "    'weights':['uniform','distance'],\n",
    "    'metric':['minkowski','manhattan']\n",
    "}\n",
    "\n",
    "gs=GridSearchCV(KNeighborsClassifier(),grid_params,verbose=1,n_jobs=3,scoring='accuracy')\n",
    "gs.fit(train_set,train_label)\n",
    "print(\"Best Score: \",gs.best_score_)\n",
    "print(\"Best Params: \",gs.best_params_)\n",
    "\n",
    "print(\"Complete Grid search:\")\n",
    "means = gs.cv_results_['mean_test_score']\n",
    "stds = gs.cv_results_['std_test_score']\n",
    "for mean, std, params in zip(means, stds, gs.cv_results_['params']):\n",
    "    print(\"%0.3f (+/-%0.03f) for %r\"% (mean, std * 2, params))\n"
   ]
  },
  {
   "source": [
    "## Modello finale"
   ],
   "cell_type": "markdown",
   "metadata": {}
  },
  {
   "cell_type": "code",
   "execution_count": 13,
   "metadata": {},
   "outputs": [],
   "source": [
    "knn = KNeighborsClassifier(n_neighbors=15, weights='distance', metric='manhattan').fit(train_set, train_label)"
   ]
  },
  {
   "cell_type": "code",
   "execution_count": 14,
   "metadata": {},
   "outputs": [],
   "source": [
    "#prediction on the test test\n",
    "test_pred_knn = knn.predict(test_set)"
   ]
  },
  {
   "cell_type": "code",
   "execution_count": 15,
   "metadata": {},
   "outputs": [
    {
     "output_type": "stream",
     "name": "stdout",
     "text": [
      "              precision    recall  f1-score   support\n\n           0       0.58      0.56      0.57       507\n           1       0.46      0.52      0.49       507\n           2       0.61      0.56      0.58       507\n\n    accuracy                           0.55      1521\n   macro avg       0.55      0.55      0.55      1521\nweighted avg       0.55      0.55      0.55      1521\n\n"
     ]
    }
   ],
   "source": [
    "#compute the performance of the model\n",
    "print(classification_report(test_label, test_pred_knn))"
   ]
  }
 ]
}