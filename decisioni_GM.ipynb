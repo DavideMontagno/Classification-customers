{
 "metadata": {
  "language_info": {
   "codemirror_mode": {
    "name": "ipython",
    "version": 3
   },
   "file_extension": ".py",
   "mimetype": "text/x-python",
   "name": "python",
   "nbconvert_exporter": "python",
   "pygments_lexer": "ipython3",
   "version": "3.7.5-final"
  },
  "orig_nbformat": 2,
  "kernelspec": {
   "name": "Python 3.7.5 64-bit",
   "display_name": "Python 3.7.5 64-bit",
   "metadata": {
    "interpreter": {
     "hash": "a23959b220aae94b277b2feb28a92f00653f030ef1fcf8b66d10e2db8b9e2607"
    }
   }
  }
 },
 "nbformat": 4,
 "nbformat_minor": 2,
 "cells": [
  {
   "source": [
    "## Record con CustomerID nulli "
   ],
   "cell_type": "markdown",
   "metadata": {}
  },
  {
   "cell_type": "code",
   "execution_count": 30,
   "metadata": {},
   "outputs": [],
   "source": [
    "import numpy as np\n",
    "import pandas as pd"
   ]
  },
  {
   "cell_type": "code",
   "execution_count": 31,
   "metadata": {},
   "outputs": [
    {
     "output_type": "stream",
     "name": "stdout",
     "text": [
      "<class 'pandas.core.frame.DataFrame'>\nInt64Index: 471910 entries, 0 to 541909\nData columns (total 8 columns):\nBasketID           471910 non-null object\nBasketDate         471910 non-null object\nSale               471910 non-null float64\nCustomerID         406830 non-null float64\nCustomerCountry    471910 non-null object\nProdID             471910 non-null object\nProdDescr          471157 non-null object\nQta                471910 non-null int64\ndtypes: float64(2), int64(1), object(5)\nmemory usage: 32.4+ MB\n"
     ]
    }
   ],
   "source": [
    "df = pd.read_csv(\"dataset/TC-dataset.csv\", sep=\"\\t\",index_col=0)\n",
    "df.info()"
   ]
  },
  {
   "cell_type": "code",
   "execution_count": 32,
   "metadata": {},
   "outputs": [
    {
     "output_type": "execute_result",
     "data": {
      "text/plain": [
       "       BasketID           BasketDate     Sale  CustomerID CustomerCountry  \\\n",
       "1444     536544  2010-12-01 14:32:00     2.51         NaN  United Kingdom   \n",
       "1446     536544  2010-12-01 14:32:00     1.66         NaN  United Kingdom   \n",
       "1447     536544  2010-12-01 14:32:00     1.66         NaN  United Kingdom   \n",
       "1448     536544  2010-12-01 14:32:00     2.51         NaN  United Kingdom   \n",
       "1450     536544  2010-12-01 14:32:00     0.43         NaN  United Kingdom   \n",
       "...         ...                  ...      ...         ...             ...   \n",
       "541532   581498  2011-12-09 10:26:00     4.13         NaN  United Kingdom   \n",
       "541534   581498  2011-12-09 10:26:00     3.29         NaN  United Kingdom   \n",
       "541538   581498  2011-12-09 10:26:00     4.96         NaN  United Kingdom   \n",
       "541539   581498  2011-12-09 10:26:00    10.79         NaN  United Kingdom   \n",
       "541540   581498  2011-12-09 10:26:00  1714.17         NaN  United Kingdom   \n",
       "\n",
       "        ProdID                           ProdDescr  Qta  \n",
       "1444     21774     DECORATIVE CATS BATHROOM BOTTLE    2  \n",
       "1446     21787               RAIN PONCHO RETROSPOT    2  \n",
       "1447     21790                  VINTAGE SNAP CARDS    9  \n",
       "1448     21791  VINTAGE HEADS AND TAILS CARD GAME     2  \n",
       "1450     21802     CHRISTMAS TREE HEART DECORATION    9  \n",
       "...        ...                                 ...  ...  \n",
       "541532   85038     6 CHOCOLATE LOVE HEART T-LIGHTS    1  \n",
       "541534  85049a       TRADITIONAL CHRISTMAS RIBBONS    5  \n",
       "541538   85150       LADIES & GENTLEMEN METAL SIGN    1  \n",
       "541539   85174                   S/4 CACTI CANDLES    1  \n",
       "541540     DOT                      DOTCOM POSTAGE    1  \n",
       "\n",
       "[65080 rows x 8 columns]"
      ],
      "text/html": "<div>\n<style scoped>\n    .dataframe tbody tr th:only-of-type {\n        vertical-align: middle;\n    }\n\n    .dataframe tbody tr th {\n        vertical-align: top;\n    }\n\n    .dataframe thead th {\n        text-align: right;\n    }\n</style>\n<table border=\"1\" class=\"dataframe\">\n  <thead>\n    <tr style=\"text-align: right;\">\n      <th></th>\n      <th>BasketID</th>\n      <th>BasketDate</th>\n      <th>Sale</th>\n      <th>CustomerID</th>\n      <th>CustomerCountry</th>\n      <th>ProdID</th>\n      <th>ProdDescr</th>\n      <th>Qta</th>\n    </tr>\n  </thead>\n  <tbody>\n    <tr>\n      <th>1444</th>\n      <td>536544</td>\n      <td>2010-12-01 14:32:00</td>\n      <td>2.51</td>\n      <td>NaN</td>\n      <td>United Kingdom</td>\n      <td>21774</td>\n      <td>DECORATIVE CATS BATHROOM BOTTLE</td>\n      <td>2</td>\n    </tr>\n    <tr>\n      <th>1446</th>\n      <td>536544</td>\n      <td>2010-12-01 14:32:00</td>\n      <td>1.66</td>\n      <td>NaN</td>\n      <td>United Kingdom</td>\n      <td>21787</td>\n      <td>RAIN PONCHO RETROSPOT</td>\n      <td>2</td>\n    </tr>\n    <tr>\n      <th>1447</th>\n      <td>536544</td>\n      <td>2010-12-01 14:32:00</td>\n      <td>1.66</td>\n      <td>NaN</td>\n      <td>United Kingdom</td>\n      <td>21790</td>\n      <td>VINTAGE SNAP CARDS</td>\n      <td>9</td>\n    </tr>\n    <tr>\n      <th>1448</th>\n      <td>536544</td>\n      <td>2010-12-01 14:32:00</td>\n      <td>2.51</td>\n      <td>NaN</td>\n      <td>United Kingdom</td>\n      <td>21791</td>\n      <td>VINTAGE HEADS AND TAILS CARD GAME</td>\n      <td>2</td>\n    </tr>\n    <tr>\n      <th>1450</th>\n      <td>536544</td>\n      <td>2010-12-01 14:32:00</td>\n      <td>0.43</td>\n      <td>NaN</td>\n      <td>United Kingdom</td>\n      <td>21802</td>\n      <td>CHRISTMAS TREE HEART DECORATION</td>\n      <td>9</td>\n    </tr>\n    <tr>\n      <th>...</th>\n      <td>...</td>\n      <td>...</td>\n      <td>...</td>\n      <td>...</td>\n      <td>...</td>\n      <td>...</td>\n      <td>...</td>\n      <td>...</td>\n    </tr>\n    <tr>\n      <th>541532</th>\n      <td>581498</td>\n      <td>2011-12-09 10:26:00</td>\n      <td>4.13</td>\n      <td>NaN</td>\n      <td>United Kingdom</td>\n      <td>85038</td>\n      <td>6 CHOCOLATE LOVE HEART T-LIGHTS</td>\n      <td>1</td>\n    </tr>\n    <tr>\n      <th>541534</th>\n      <td>581498</td>\n      <td>2011-12-09 10:26:00</td>\n      <td>3.29</td>\n      <td>NaN</td>\n      <td>United Kingdom</td>\n      <td>85049a</td>\n      <td>TRADITIONAL CHRISTMAS RIBBONS</td>\n      <td>5</td>\n    </tr>\n    <tr>\n      <th>541538</th>\n      <td>581498</td>\n      <td>2011-12-09 10:26:00</td>\n      <td>4.96</td>\n      <td>NaN</td>\n      <td>United Kingdom</td>\n      <td>85150</td>\n      <td>LADIES &amp; GENTLEMEN METAL SIGN</td>\n      <td>1</td>\n    </tr>\n    <tr>\n      <th>541539</th>\n      <td>581498</td>\n      <td>2011-12-09 10:26:00</td>\n      <td>10.79</td>\n      <td>NaN</td>\n      <td>United Kingdom</td>\n      <td>85174</td>\n      <td>S/4 CACTI CANDLES</td>\n      <td>1</td>\n    </tr>\n    <tr>\n      <th>541540</th>\n      <td>581498</td>\n      <td>2011-12-09 10:26:00</td>\n      <td>1714.17</td>\n      <td>NaN</td>\n      <td>United Kingdom</td>\n      <td>DOT</td>\n      <td>DOTCOM POSTAGE</td>\n      <td>1</td>\n    </tr>\n  </tbody>\n</table>\n<p>65080 rows × 8 columns</p>\n</div>"
     },
     "metadata": {},
     "execution_count": 32
    }
   ],
   "source": [
    "df[df[\"CustomerID\"].isnull()]"
   ]
  },
  {
   "cell_type": "code",
   "execution_count": 33,
   "metadata": {},
   "outputs": [],
   "source": [
    "import random\n",
    "\n",
    "basket_list_customer_null=df[df[\"CustomerID\"].isnull()].BasketID.unique()\n",
    "new_customer_per_basket_list=random.sample(range(1, 100000), len(basket_list_customer_null))\n",
    "\n",
    "\n",
    "for i, elem in enumerate(basket_list_customer_null):\n",
    "    df[\"CustomerID\"][df.BasketID==elem]=str(new_customer_per_basket_list[i])+\"N\""
   ]
  },
  {
   "cell_type": "code",
   "execution_count": 34,
   "metadata": {},
   "outputs": [
    {
     "output_type": "execute_result",
     "data": {
      "text/plain": [
       "Empty DataFrame\n",
       "Columns: [BasketID, BasketDate, Sale, CustomerID, CustomerCountry, ProdID, ProdDescr, Qta]\n",
       "Index: []"
      ],
      "text/html": "<div>\n<style scoped>\n    .dataframe tbody tr th:only-of-type {\n        vertical-align: middle;\n    }\n\n    .dataframe tbody tr th {\n        vertical-align: top;\n    }\n\n    .dataframe thead th {\n        text-align: right;\n    }\n</style>\n<table border=\"1\" class=\"dataframe\">\n  <thead>\n    <tr style=\"text-align: right;\">\n      <th></th>\n      <th>BasketID</th>\n      <th>BasketDate</th>\n      <th>Sale</th>\n      <th>CustomerID</th>\n      <th>CustomerCountry</th>\n      <th>ProdID</th>\n      <th>ProdDescr</th>\n      <th>Qta</th>\n    </tr>\n  </thead>\n  <tbody>\n  </tbody>\n</table>\n</div>"
     },
     "metadata": {},
     "execution_count": 34
    }
   ],
   "source": [
    "df[df[\"CustomerID\"].isnull()]"
   ]
  },
  {
   "cell_type": "code",
   "execution_count": 37,
   "metadata": {},
   "outputs": [
    {
     "output_type": "execute_result",
     "data": {
      "text/plain": [
       "       BasketID           BasketDate     Sale CustomerID CustomerCountry  \\\n",
       "1444     536544  2010-12-01 14:32:00     2.51     63964N  United Kingdom   \n",
       "1446     536544  2010-12-01 14:32:00     1.66     63964N  United Kingdom   \n",
       "1447     536544  2010-12-01 14:32:00     1.66     63964N  United Kingdom   \n",
       "1448     536544  2010-12-01 14:32:00     2.51     63964N  United Kingdom   \n",
       "1450     536544  2010-12-01 14:32:00     0.43     63964N  United Kingdom   \n",
       "...         ...                  ...      ...        ...             ...   \n",
       "541532   581498  2011-12-09 10:26:00     4.13     55002N  United Kingdom   \n",
       "541534   581498  2011-12-09 10:26:00     3.29     55002N  United Kingdom   \n",
       "541538   581498  2011-12-09 10:26:00     4.96     55002N  United Kingdom   \n",
       "541539   581498  2011-12-09 10:26:00    10.79     55002N  United Kingdom   \n",
       "541540   581498  2011-12-09 10:26:00  1714.17     55002N  United Kingdom   \n",
       "\n",
       "        ProdID                           ProdDescr  Qta  \n",
       "1444     21774     DECORATIVE CATS BATHROOM BOTTLE    2  \n",
       "1446     21787               RAIN PONCHO RETROSPOT    2  \n",
       "1447     21790                  VINTAGE SNAP CARDS    9  \n",
       "1448     21791  VINTAGE HEADS AND TAILS CARD GAME     2  \n",
       "1450     21802     CHRISTMAS TREE HEART DECORATION    9  \n",
       "...        ...                                 ...  ...  \n",
       "541532   85038     6 CHOCOLATE LOVE HEART T-LIGHTS    1  \n",
       "541534  85049a       TRADITIONAL CHRISTMAS RIBBONS    5  \n",
       "541538   85150       LADIES & GENTLEMEN METAL SIGN    1  \n",
       "541539   85174                   S/4 CACTI CANDLES    1  \n",
       "541540     DOT                      DOTCOM POSTAGE    1  \n",
       "\n",
       "[65080 rows x 8 columns]"
      ],
      "text/html": "<div>\n<style scoped>\n    .dataframe tbody tr th:only-of-type {\n        vertical-align: middle;\n    }\n\n    .dataframe tbody tr th {\n        vertical-align: top;\n    }\n\n    .dataframe thead th {\n        text-align: right;\n    }\n</style>\n<table border=\"1\" class=\"dataframe\">\n  <thead>\n    <tr style=\"text-align: right;\">\n      <th></th>\n      <th>BasketID</th>\n      <th>BasketDate</th>\n      <th>Sale</th>\n      <th>CustomerID</th>\n      <th>CustomerCountry</th>\n      <th>ProdID</th>\n      <th>ProdDescr</th>\n      <th>Qta</th>\n    </tr>\n  </thead>\n  <tbody>\n    <tr>\n      <th>1444</th>\n      <td>536544</td>\n      <td>2010-12-01 14:32:00</td>\n      <td>2.51</td>\n      <td>63964N</td>\n      <td>United Kingdom</td>\n      <td>21774</td>\n      <td>DECORATIVE CATS BATHROOM BOTTLE</td>\n      <td>2</td>\n    </tr>\n    <tr>\n      <th>1446</th>\n      <td>536544</td>\n      <td>2010-12-01 14:32:00</td>\n      <td>1.66</td>\n      <td>63964N</td>\n      <td>United Kingdom</td>\n      <td>21787</td>\n      <td>RAIN PONCHO RETROSPOT</td>\n      <td>2</td>\n    </tr>\n    <tr>\n      <th>1447</th>\n      <td>536544</td>\n      <td>2010-12-01 14:32:00</td>\n      <td>1.66</td>\n      <td>63964N</td>\n      <td>United Kingdom</td>\n      <td>21790</td>\n      <td>VINTAGE SNAP CARDS</td>\n      <td>9</td>\n    </tr>\n    <tr>\n      <th>1448</th>\n      <td>536544</td>\n      <td>2010-12-01 14:32:00</td>\n      <td>2.51</td>\n      <td>63964N</td>\n      <td>United Kingdom</td>\n      <td>21791</td>\n      <td>VINTAGE HEADS AND TAILS CARD GAME</td>\n      <td>2</td>\n    </tr>\n    <tr>\n      <th>1450</th>\n      <td>536544</td>\n      <td>2010-12-01 14:32:00</td>\n      <td>0.43</td>\n      <td>63964N</td>\n      <td>United Kingdom</td>\n      <td>21802</td>\n      <td>CHRISTMAS TREE HEART DECORATION</td>\n      <td>9</td>\n    </tr>\n    <tr>\n      <th>...</th>\n      <td>...</td>\n      <td>...</td>\n      <td>...</td>\n      <td>...</td>\n      <td>...</td>\n      <td>...</td>\n      <td>...</td>\n      <td>...</td>\n    </tr>\n    <tr>\n      <th>541532</th>\n      <td>581498</td>\n      <td>2011-12-09 10:26:00</td>\n      <td>4.13</td>\n      <td>55002N</td>\n      <td>United Kingdom</td>\n      <td>85038</td>\n      <td>6 CHOCOLATE LOVE HEART T-LIGHTS</td>\n      <td>1</td>\n    </tr>\n    <tr>\n      <th>541534</th>\n      <td>581498</td>\n      <td>2011-12-09 10:26:00</td>\n      <td>3.29</td>\n      <td>55002N</td>\n      <td>United Kingdom</td>\n      <td>85049a</td>\n      <td>TRADITIONAL CHRISTMAS RIBBONS</td>\n      <td>5</td>\n    </tr>\n    <tr>\n      <th>541538</th>\n      <td>581498</td>\n      <td>2011-12-09 10:26:00</td>\n      <td>4.96</td>\n      <td>55002N</td>\n      <td>United Kingdom</td>\n      <td>85150</td>\n      <td>LADIES &amp; GENTLEMEN METAL SIGN</td>\n      <td>1</td>\n    </tr>\n    <tr>\n      <th>541539</th>\n      <td>581498</td>\n      <td>2011-12-09 10:26:00</td>\n      <td>10.79</td>\n      <td>55002N</td>\n      <td>United Kingdom</td>\n      <td>85174</td>\n      <td>S/4 CACTI CANDLES</td>\n      <td>1</td>\n    </tr>\n    <tr>\n      <th>541540</th>\n      <td>581498</td>\n      <td>2011-12-09 10:26:00</td>\n      <td>1714.17</td>\n      <td>55002N</td>\n      <td>United Kingdom</td>\n      <td>DOT</td>\n      <td>DOTCOM POSTAGE</td>\n      <td>1</td>\n    </tr>\n  </tbody>\n</table>\n<p>65080 rows × 8 columns</p>\n</div>"
     },
     "metadata": {},
     "execution_count": 37
    }
   ],
   "source": [
    "df[df[\"CustomerID\"].astype(str).str.contains('N')]"
   ]
  },
  {
   "source": [
    "Sono stati generati nuovi CustomerId per non buttare transazioni mancanti"
   ],
   "cell_type": "markdown",
   "metadata": {}
  },
  {
   "source": [
    "## Quantità negative e non cancellati\n",
    "Abbiamo già constatato che gli ordini con la C sono cancellati e abbiamo già deciso di cancellarli. Consideriamo ora quelli con solo le quantità negative. "
   ],
   "cell_type": "markdown",
   "metadata": {}
  },
  {
   "cell_type": "code",
   "execution_count": 47,
   "metadata": {},
   "outputs": [
    {
     "output_type": "stream",
     "name": "stdout",
     "text": [
      "9752\n",
      "9084\n",
      "668\n",
      "668\n",
      "[nan 'check' 'Dotcom sales' 'reverse 21/5/10 adjustment'\n",
      " 'mouldy, thrown away.' '?' 'label mix up' 'samples/damages' 'thrown away'\n",
      " 'damages' 'showroom' 'wrongly sold as sets' 'dotcom sold sets'\n",
      " 'Amazon sold sets' 'wrongly sold sets' '?sold as sets?' 'damages/display'\n",
      " 'damaged stock' 'damages?' 're dotcom quick fix.' 'sold in set?'\n",
      " 'POSSIBLE DAMAGES OR LOST?' 'damaged' 'Damaged' 'DAMAGED' 'Missing'\n",
      " 'wrong code?' 'crushed' 'damages/credits from ASOS.'\n",
      " 'Not rcvd in 10/11/2010 delivery' 'Thrown away-rusty' 'damages/dotcom?'\n",
      " 'smashed' 'reverse previous adjustment'\n",
      " 'incorrectly credited C550456 see 47' 'wet damaged' 'Water damaged'\n",
      " 'missing' 'sold as set on dotcom' 'mix up with c' 'ebay'\n",
      " 'Sold as 1 on dotcom' 'taig adjust no stock' '?display?' '??'\n",
      " 'OOPS ! adjustment' 'Dagamed' 'historic computer difference?....se'\n",
      " 'incorrect stock entry.' 'wrongly coded-23343' 'stock check' 'WET/MOULDY'\n",
      " 'Wet pallet-thrown away' 're-adjustment' 'wrongly coded 20713'\n",
      " 'Unsaleable, destroyed.' 'dotcom sales' 'damages wax' 'wet rusty'\n",
      " 'adjustment' 'wet pallet' '???missing' 'wet?' 'lost??' 'CHECK' 'wet'\n",
      " 'lost']\n"
     ]
    }
   ],
   "source": [
    "print(len(df[df[\"Qta\"]<=0]))\n",
    "print(len(df[(df[\"Qta\"]<=0) & (df[\"BasketID\"].str.contains(\"C\"))]))\n",
    "\n",
    "print(len(df[(df[\"Qta\"]<=0) & (df[\"BasketID\"].str.contains(\"C\")==False)]))\n",
    "print(len(df[(df[\"Qta\"]<=0) & (df[\"Sale\"]<=0)&(df[\"BasketID\"].str.contains(\"C\")==False)]))\n",
    "print(df[(df[\"Qta\"]<=0) & (df[\"BasketID\"].str.contains(\"C\")==False)].ProdDescr.unique())"
   ]
  },
  {
   "source": [
    "Abbiamo solamente 668 transazioni in cui abbiamo la quantità negativa e non appartengono a ordini cancellati. Inoltre in questi 668 tutti hanno sale<=0.  Dalle descrizioni fornite la maggior parte sono quindi articoli persi oppure danneggiati o eventuali errori."
   ],
   "cell_type": "markdown",
   "metadata": {}
  },
  {
   "cell_type": "code",
   "execution_count": 44,
   "metadata": {},
   "outputs": [
    {
     "output_type": "execute_result",
     "data": {
      "text/plain": [
       "       BasketID           BasketDate  Sale CustomerID CustomerCountry  ProdID  \\\n",
       "4347     536764  2010-12-02 14:42:00   0.0     22874N  United Kingdom  84952C   \n",
       "7188     536996  2010-12-03 15:30:00   0.0     63823N  United Kingdom   22712   \n",
       "7192     537000  2010-12-03 15:32:00   0.0     95404N  United Kingdom   21414   \n",
       "7193     537001  2010-12-03 15:33:00   0.0     59702N  United Kingdom   21653   \n",
       "7195     537003  2010-12-03 15:33:00   0.0     30662N  United Kingdom   85126   \n",
       "...         ...                  ...   ...        ...             ...     ...   \n",
       "535321   581198  2011-12-07 18:26:00   0.0     78679N  United Kingdom   22025   \n",
       "535322   581199  2011-12-07 18:26:00   0.0     87097N  United Kingdom   84581   \n",
       "535324   581201  2011-12-07 18:30:00   0.0     64996N  United Kingdom   22217   \n",
       "535328   581205  2011-12-07 18:32:00   0.0      7847N  United Kingdom   20893   \n",
       "535335   581212  2011-12-07 18:38:00   0.0     30484N  United Kingdom   22578   \n",
       "\n",
       "       ProdDescr   Qta  \n",
       "4347         NaN   -38  \n",
       "7188         NaN   -20  \n",
       "7192         NaN   -22  \n",
       "7193         NaN    -6  \n",
       "7195         NaN    -2  \n",
       "...          ...   ...  \n",
       "535321     check   -30  \n",
       "535322       NaN    -2  \n",
       "535324  damages?  -155  \n",
       "535328   damages   -55  \n",
       "535335      lost -1050  \n",
       "\n",
       "[668 rows x 8 columns]"
      ],
      "text/html": "<div>\n<style scoped>\n    .dataframe tbody tr th:only-of-type {\n        vertical-align: middle;\n    }\n\n    .dataframe tbody tr th {\n        vertical-align: top;\n    }\n\n    .dataframe thead th {\n        text-align: right;\n    }\n</style>\n<table border=\"1\" class=\"dataframe\">\n  <thead>\n    <tr style=\"text-align: right;\">\n      <th></th>\n      <th>BasketID</th>\n      <th>BasketDate</th>\n      <th>Sale</th>\n      <th>CustomerID</th>\n      <th>CustomerCountry</th>\n      <th>ProdID</th>\n      <th>ProdDescr</th>\n      <th>Qta</th>\n    </tr>\n  </thead>\n  <tbody>\n    <tr>\n      <th>4347</th>\n      <td>536764</td>\n      <td>2010-12-02 14:42:00</td>\n      <td>0.0</td>\n      <td>22874N</td>\n      <td>United Kingdom</td>\n      <td>84952C</td>\n      <td>NaN</td>\n      <td>-38</td>\n    </tr>\n    <tr>\n      <th>7188</th>\n      <td>536996</td>\n      <td>2010-12-03 15:30:00</td>\n      <td>0.0</td>\n      <td>63823N</td>\n      <td>United Kingdom</td>\n      <td>22712</td>\n      <td>NaN</td>\n      <td>-20</td>\n    </tr>\n    <tr>\n      <th>7192</th>\n      <td>537000</td>\n      <td>2010-12-03 15:32:00</td>\n      <td>0.0</td>\n      <td>95404N</td>\n      <td>United Kingdom</td>\n      <td>21414</td>\n      <td>NaN</td>\n      <td>-22</td>\n    </tr>\n    <tr>\n      <th>7193</th>\n      <td>537001</td>\n      <td>2010-12-03 15:33:00</td>\n      <td>0.0</td>\n      <td>59702N</td>\n      <td>United Kingdom</td>\n      <td>21653</td>\n      <td>NaN</td>\n      <td>-6</td>\n    </tr>\n    <tr>\n      <th>7195</th>\n      <td>537003</td>\n      <td>2010-12-03 15:33:00</td>\n      <td>0.0</td>\n      <td>30662N</td>\n      <td>United Kingdom</td>\n      <td>85126</td>\n      <td>NaN</td>\n      <td>-2</td>\n    </tr>\n    <tr>\n      <th>...</th>\n      <td>...</td>\n      <td>...</td>\n      <td>...</td>\n      <td>...</td>\n      <td>...</td>\n      <td>...</td>\n      <td>...</td>\n      <td>...</td>\n    </tr>\n    <tr>\n      <th>535321</th>\n      <td>581198</td>\n      <td>2011-12-07 18:26:00</td>\n      <td>0.0</td>\n      <td>78679N</td>\n      <td>United Kingdom</td>\n      <td>22025</td>\n      <td>check</td>\n      <td>-30</td>\n    </tr>\n    <tr>\n      <th>535322</th>\n      <td>581199</td>\n      <td>2011-12-07 18:26:00</td>\n      <td>0.0</td>\n      <td>87097N</td>\n      <td>United Kingdom</td>\n      <td>84581</td>\n      <td>NaN</td>\n      <td>-2</td>\n    </tr>\n    <tr>\n      <th>535324</th>\n      <td>581201</td>\n      <td>2011-12-07 18:30:00</td>\n      <td>0.0</td>\n      <td>64996N</td>\n      <td>United Kingdom</td>\n      <td>22217</td>\n      <td>damages?</td>\n      <td>-155</td>\n    </tr>\n    <tr>\n      <th>535328</th>\n      <td>581205</td>\n      <td>2011-12-07 18:32:00</td>\n      <td>0.0</td>\n      <td>7847N</td>\n      <td>United Kingdom</td>\n      <td>20893</td>\n      <td>damages</td>\n      <td>-55</td>\n    </tr>\n    <tr>\n      <th>535335</th>\n      <td>581212</td>\n      <td>2011-12-07 18:38:00</td>\n      <td>0.0</td>\n      <td>30484N</td>\n      <td>United Kingdom</td>\n      <td>22578</td>\n      <td>lost</td>\n      <td>-1050</td>\n    </tr>\n  </tbody>\n</table>\n<p>668 rows × 8 columns</p>\n</div>"
     },
     "metadata": {},
     "execution_count": 44
    }
   ],
   "source": [
    "df[(df[\"Qta\"]<=0) & (df[\"BasketID\"].str.contains(\"C\")==False)]"
   ]
  },
  {
   "source": [
    "Verifichiamo però che non ci sia una trasazione speculare ma positiva. Proviamo con alcuni prodID"
   ],
   "cell_type": "markdown",
   "metadata": {}
  },
  {
   "cell_type": "code",
   "execution_count": 50,
   "metadata": {},
   "outputs": [
    {
     "output_type": "execute_result",
     "data": {
      "text/plain": [
       "       BasketID           BasketDate  Sale CustomerID CustomerCountry ProdID  \\\n",
       "7192     537000  2010-12-03 15:32:00   0.0     95404N  United Kingdom  21414   \n",
       "98375    544677  2011-02-22 16:13:00   2.1      18196  United Kingdom  21414   \n",
       "147790   549136  2011-04-06 15:23:00   0.0     53902N  United Kingdom  21414   \n",
       "\n",
       "                      ProdDescr  Qta  \n",
       "7192                        NaN  -22  \n",
       "98375   SCALLOP SHELL SOAP DISH    1  \n",
       "147790                      NaN   -3  "
      ],
      "text/html": "<div>\n<style scoped>\n    .dataframe tbody tr th:only-of-type {\n        vertical-align: middle;\n    }\n\n    .dataframe tbody tr th {\n        vertical-align: top;\n    }\n\n    .dataframe thead th {\n        text-align: right;\n    }\n</style>\n<table border=\"1\" class=\"dataframe\">\n  <thead>\n    <tr style=\"text-align: right;\">\n      <th></th>\n      <th>BasketID</th>\n      <th>BasketDate</th>\n      <th>Sale</th>\n      <th>CustomerID</th>\n      <th>CustomerCountry</th>\n      <th>ProdID</th>\n      <th>ProdDescr</th>\n      <th>Qta</th>\n    </tr>\n  </thead>\n  <tbody>\n    <tr>\n      <th>7192</th>\n      <td>537000</td>\n      <td>2010-12-03 15:32:00</td>\n      <td>0.0</td>\n      <td>95404N</td>\n      <td>United Kingdom</td>\n      <td>21414</td>\n      <td>NaN</td>\n      <td>-22</td>\n    </tr>\n    <tr>\n      <th>98375</th>\n      <td>544677</td>\n      <td>2011-02-22 16:13:00</td>\n      <td>2.1</td>\n      <td>18196</td>\n      <td>United Kingdom</td>\n      <td>21414</td>\n      <td>SCALLOP SHELL SOAP DISH</td>\n      <td>1</td>\n    </tr>\n    <tr>\n      <th>147790</th>\n      <td>549136</td>\n      <td>2011-04-06 15:23:00</td>\n      <td>0.0</td>\n      <td>53902N</td>\n      <td>United Kingdom</td>\n      <td>21414</td>\n      <td>NaN</td>\n      <td>-3</td>\n    </tr>\n  </tbody>\n</table>\n</div>"
     },
     "metadata": {},
     "execution_count": 50
    }
   ],
   "source": [
    "df[df[\"ProdID\"]==\"21414\"]"
   ]
  },
  {
   "source": [
    "Non si rileva nessun particolare pattern che fa presumere la presenza di un corrispettivo ordine positivo.\n",
    "\n",
    "*Decisione finale*: Eliminare anche questi sample a meno che non ci vien ein mente qualche indicatore che possa tenere conto di questi articoli. In ogni caso sono solo 668 elementi."
   ],
   "cell_type": "markdown",
   "metadata": {}
  }
 ]
}