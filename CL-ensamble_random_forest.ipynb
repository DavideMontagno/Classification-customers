{
 "metadata": {
  "language_info": {
   "codemirror_mode": {
    "name": "ipython",
    "version": 3
   },
   "file_extension": ".py",
   "mimetype": "text/x-python",
   "name": "python",
   "nbconvert_exporter": "python",
   "pygments_lexer": "ipython3",
   "version": "3.7.5-final"
  },
  "orig_nbformat": 2,
  "kernelspec": {
   "name": "python37564bit61209d9bcfea452998e2771b9ee1a7fb",
   "display_name": "Python 3.7.5 64-bit"
  }
 },
 "nbformat": 4,
 "nbformat_minor": 2,
 "cells": [
  {
   "source": [
    "# Random Forest"
   ],
   "cell_type": "markdown",
   "metadata": {}
  },
  {
   "cell_type": "code",
   "execution_count": 14,
   "metadata": {},
   "outputs": [],
   "source": [
    "import pandas as pd\n",
    "import numpy as np\n",
    "import matplotlib.pyplot as plt\n",
    "df = pd.read_csv(\"dataset/CL-dataset.csv\",sep='\\t',decimal=\",\",index_col=0)"
   ]
  },
  {
   "cell_type": "code",
   "execution_count": 15,
   "metadata": {},
   "outputs": [
    {
     "output_type": "execute_result",
     "data": {
      "text/plain": [
       "   Imax         E    PIL       MeanD     EDate  class\n",
       "0    48  5.121928  2.567  111.000000  0.848548      0\n",
       "1    25  6.125617  2.567   60.333333  1.468334      0\n",
       "2    24  4.310443  2.567   15.500000  0.000000      0\n",
       "3    72  4.700440  2.567   77.000000  0.995727      0\n",
       "4    48  5.831955  2.567   37.200000  1.494785      0"
      ],
      "text/html": "<div>\n<style scoped>\n    .dataframe tbody tr th:only-of-type {\n        vertical-align: middle;\n    }\n\n    .dataframe tbody tr th {\n        vertical-align: top;\n    }\n\n    .dataframe thead th {\n        text-align: right;\n    }\n</style>\n<table border=\"1\" class=\"dataframe\">\n  <thead>\n    <tr style=\"text-align: right;\">\n      <th></th>\n      <th>Imax</th>\n      <th>E</th>\n      <th>PIL</th>\n      <th>MeanD</th>\n      <th>EDate</th>\n      <th>class</th>\n    </tr>\n  </thead>\n  <tbody>\n    <tr>\n      <th>0</th>\n      <td>48</td>\n      <td>5.121928</td>\n      <td>2.567</td>\n      <td>111.000000</td>\n      <td>0.848548</td>\n      <td>0</td>\n    </tr>\n    <tr>\n      <th>1</th>\n      <td>25</td>\n      <td>6.125617</td>\n      <td>2.567</td>\n      <td>60.333333</td>\n      <td>1.468334</td>\n      <td>0</td>\n    </tr>\n    <tr>\n      <th>2</th>\n      <td>24</td>\n      <td>4.310443</td>\n      <td>2.567</td>\n      <td>15.500000</td>\n      <td>0.000000</td>\n      <td>0</td>\n    </tr>\n    <tr>\n      <th>3</th>\n      <td>72</td>\n      <td>4.700440</td>\n      <td>2.567</td>\n      <td>77.000000</td>\n      <td>0.995727</td>\n      <td>0</td>\n    </tr>\n    <tr>\n      <th>4</th>\n      <td>48</td>\n      <td>5.831955</td>\n      <td>2.567</td>\n      <td>37.200000</td>\n      <td>1.494785</td>\n      <td>0</td>\n    </tr>\n  </tbody>\n</table>\n</div>"
     },
     "metadata": {},
     "execution_count": 15
    }
   ],
   "source": [
    "df.head()"
   ]
  },
  {
   "cell_type": "code",
   "execution_count": 16,
   "metadata": {},
   "outputs": [],
   "source": [
    "from sklearn.model_selection import train_test_split\n",
    "label = df.pop('class')\n",
    "train_set, test_set, train_label, test_label = train_test_split(df, label, stratify =label, test_size=0.30)"
   ]
  },
  {
   "cell_type": "code",
   "execution_count": 17,
   "metadata": {},
   "outputs": [],
   "source": [
    "from sklearn.model_selection import RandomizedSearchCV\n",
    "from sklearn.ensemble import RandomForestClassifier\n",
    "from sklearn.model_selection import GridSearchCV\n",
    "from scipy.stats import randint as sp_randint\n",
    "from sklearn.metrics import make_scorer\n",
    "from sklearn.metrics import accuracy_score\n",
    "from sklearn.metrics import classification_report\n"
   ]
  },
  {
   "source": [
    "## Grid search"
   ],
   "cell_type": "markdown",
   "metadata": {}
  },
  {
   "cell_type": "code",
   "execution_count": 18,
   "metadata": {
    "tags": [
     "outputPrepend"
    ]
   },
   "outputs": [
    {
     "output_type": "stream",
     "name": "stdout",
     "text": [
      "samples_leaf': 10, 'min_samples_split': 10}\n0.488 (+/-0.049) for {'bootstrap': True, 'class_weight': {0: 0.3, 1: 0.7}, 'criterion': 'gini', 'max_depth': 2, 'max_features': 5, 'min_samples_leaf': 10, 'min_samples_split': 50}\n0.490 (+/-0.054) for {'bootstrap': True, 'class_weight': {0: 0.3, 1: 0.7}, 'criterion': 'gini', 'max_depth': 2, 'max_features': 5, 'min_samples_leaf': 50, 'min_samples_split': 10}\n0.485 (+/-0.032) for {'bootstrap': True, 'class_weight': {0: 0.3, 1: 0.7}, 'criterion': 'gini', 'max_depth': 2, 'max_features': 5, 'min_samples_leaf': 50, 'min_samples_split': 50}\n0.507 (+/-0.045) for {'bootstrap': True, 'class_weight': {0: 0.3, 1: 0.7}, 'criterion': 'gini', 'max_depth': 3, 'max_features': 5, 'min_samples_leaf': 10, 'min_samples_split': 10}\n0.494 (+/-0.041) for {'bootstrap': True, 'class_weight': {0: 0.3, 1: 0.7}, 'criterion': 'gini', 'max_depth': 3, 'max_features': 5, 'min_samples_leaf': 10, 'min_samples_split': 50}\n0.497 (+/-0.020) for {'bootstrap': True, 'class_weight': {0: 0.3, 1: 0.7}, 'criterion': 'gini', 'max_depth': 3, 'max_features': 5, 'min_samples_leaf': 50, 'min_samples_split': 10}\n0.503 (+/-0.037) for {'bootstrap': True, 'class_weight': {0: 0.3, 1: 0.7}, 'criterion': 'gini', 'max_depth': 3, 'max_features': 5, 'min_samples_leaf': 50, 'min_samples_split': 50}\n0.607 (+/-0.021) for {'bootstrap': True, 'class_weight': {0: 0.3, 1: 0.7}, 'criterion': 'gini', 'max_depth': 12, 'max_features': 5, 'min_samples_leaf': 10, 'min_samples_split': 10}\n0.605 (+/-0.020) for {'bootstrap': True, 'class_weight': {0: 0.3, 1: 0.7}, 'criterion': 'gini', 'max_depth': 12, 'max_features': 5, 'min_samples_leaf': 10, 'min_samples_split': 50}\n0.558 (+/-0.016) for {'bootstrap': True, 'class_weight': {0: 0.3, 1: 0.7}, 'criterion': 'gini', 'max_depth': 12, 'max_features': 5, 'min_samples_leaf': 50, 'min_samples_split': 10}\n0.561 (+/-0.017) for {'bootstrap': True, 'class_weight': {0: 0.3, 1: 0.7}, 'criterion': 'gini', 'max_depth': 12, 'max_features': 5, 'min_samples_leaf': 50, 'min_samples_split': 50}\n0.611 (+/-0.020) for {'bootstrap': True, 'class_weight': {0: 0.3, 1: 0.7}, 'criterion': 'gini', 'max_depth': None, 'max_features': 5, 'min_samples_leaf': 10, 'min_samples_split': 10}\n0.603 (+/-0.019) for {'bootstrap': True, 'class_weight': {0: 0.3, 1: 0.7}, 'criterion': 'gini', 'max_depth': None, 'max_features': 5, 'min_samples_leaf': 10, 'min_samples_split': 50}\n0.565 (+/-0.022) for {'bootstrap': True, 'class_weight': {0: 0.3, 1: 0.7}, 'criterion': 'gini', 'max_depth': None, 'max_features': 5, 'min_samples_leaf': 50, 'min_samples_split': 10}\n0.559 (+/-0.017) for {'bootstrap': True, 'class_weight': {0: 0.3, 1: 0.7}, 'criterion': 'gini', 'max_depth': None, 'max_features': 5, 'min_samples_leaf': 50, 'min_samples_split': 50}\n0.487 (+/-0.023) for {'bootstrap': False, 'class_weight': 'balanced', 'criterion': 'entropy', 'max_depth': 2, 'max_features': 5, 'min_samples_leaf': 10, 'min_samples_split': 10}\n0.487 (+/-0.023) for {'bootstrap': False, 'class_weight': 'balanced', 'criterion': 'entropy', 'max_depth': 2, 'max_features': 5, 'min_samples_leaf': 10, 'min_samples_split': 50}\n0.487 (+/-0.023) for {'bootstrap': False, 'class_weight': 'balanced', 'criterion': 'entropy', 'max_depth': 2, 'max_features': 5, 'min_samples_leaf': 50, 'min_samples_split': 10}\n0.487 (+/-0.023) for {'bootstrap': False, 'class_weight': 'balanced', 'criterion': 'entropy', 'max_depth': 2, 'max_features': 5, 'min_samples_leaf': 50, 'min_samples_split': 50}\n0.523 (+/-0.030) for {'bootstrap': False, 'class_weight': 'balanced', 'criterion': 'entropy', 'max_depth': 3, 'max_features': 5, 'min_samples_leaf': 10, 'min_samples_split': 10}\n0.523 (+/-0.030) for {'bootstrap': False, 'class_weight': 'balanced', 'criterion': 'entropy', 'max_depth': 3, 'max_features': 5, 'min_samples_leaf': 10, 'min_samples_split': 50}\n0.523 (+/-0.030) for {'bootstrap': False, 'class_weight': 'balanced', 'criterion': 'entropy', 'max_depth': 3, 'max_features': 5, 'min_samples_leaf': 50, 'min_samples_split': 10}\n0.523 (+/-0.030) for {'bootstrap': False, 'class_weight': 'balanced', 'criterion': 'entropy', 'max_depth': 3, 'max_features': 5, 'min_samples_leaf': 50, 'min_samples_split': 50}\n0.574 (+/-0.033) for {'bootstrap': False, 'class_weight': 'balanced', 'criterion': 'entropy', 'max_depth': 12, 'max_features': 5, 'min_samples_leaf': 10, 'min_samples_split': 10}\n0.588 (+/-0.046) for {'bootstrap': False, 'class_weight': 'balanced', 'criterion': 'entropy', 'max_depth': 12, 'max_features': 5, 'min_samples_leaf': 10, 'min_samples_split': 50}\n0.590 (+/-0.030) for {'bootstrap': False, 'class_weight': 'balanced', 'criterion': 'entropy', 'max_depth': 12, 'max_features': 5, 'min_samples_leaf': 50, 'min_samples_split': 10}\n0.590 (+/-0.030) for {'bootstrap': False, 'class_weight': 'balanced', 'criterion': 'entropy', 'max_depth': 12, 'max_features': 5, 'min_samples_leaf': 50, 'min_samples_split': 50}\n0.575 (+/-0.023) for {'bootstrap': False, 'class_weight': 'balanced', 'criterion': 'entropy', 'max_depth': None, 'max_features': 5, 'min_samples_leaf': 10, 'min_samples_split': 10}\n0.590 (+/-0.044) for {'bootstrap': False, 'class_weight': 'balanced', 'criterion': 'entropy', 'max_depth': None, 'max_features': 5, 'min_samples_leaf': 10, 'min_samples_split': 50}\n0.590 (+/-0.030) for {'bootstrap': False, 'class_weight': 'balanced', 'criterion': 'entropy', 'max_depth': None, 'max_features': 5, 'min_samples_leaf': 50, 'min_samples_split': 10}\n0.590 (+/-0.030) for {'bootstrap': False, 'class_weight': 'balanced', 'criterion': 'entropy', 'max_depth': None, 'max_features': 5, 'min_samples_leaf': 50, 'min_samples_split': 50}\n0.487 (+/-0.031) for {'bootstrap': False, 'class_weight': 'balanced', 'criterion': 'gini', 'max_depth': 2, 'max_features': 5, 'min_samples_leaf': 10, 'min_samples_split': 10}\n0.487 (+/-0.031) for {'bootstrap': False, 'class_weight': 'balanced', 'criterion': 'gini', 'max_depth': 2, 'max_features': 5, 'min_samples_leaf': 10, 'min_samples_split': 50}\n0.487 (+/-0.031) for {'bootstrap': False, 'class_weight': 'balanced', 'criterion': 'gini', 'max_depth': 2, 'max_features': 5, 'min_samples_leaf': 50, 'min_samples_split': 10}\n0.487 (+/-0.031) for {'bootstrap': False, 'class_weight': 'balanced', 'criterion': 'gini', 'max_depth': 2, 'max_features': 5, 'min_samples_leaf': 50, 'min_samples_split': 50}\n0.519 (+/-0.034) for {'bootstrap': False, 'class_weight': 'balanced', 'criterion': 'gini', 'max_depth': 3, 'max_features': 5, 'min_samples_leaf': 10, 'min_samples_split': 10}\n0.519 (+/-0.034) for {'bootstrap': False, 'class_weight': 'balanced', 'criterion': 'gini', 'max_depth': 3, 'max_features': 5, 'min_samples_leaf': 10, 'min_samples_split': 50}\n0.519 (+/-0.034) for {'bootstrap': False, 'class_weight': 'balanced', 'criterion': 'gini', 'max_depth': 3, 'max_features': 5, 'min_samples_leaf': 50, 'min_samples_split': 10}\n0.519 (+/-0.034) for {'bootstrap': False, 'class_weight': 'balanced', 'criterion': 'gini', 'max_depth': 3, 'max_features': 5, 'min_samples_leaf': 50, 'min_samples_split': 50}\n0.581 (+/-0.023) for {'bootstrap': False, 'class_weight': 'balanced', 'criterion': 'gini', 'max_depth': 12, 'max_features': 5, 'min_samples_leaf': 10, 'min_samples_split': 10}\n0.594 (+/-0.021) for {'bootstrap': False, 'class_weight': 'balanced', 'criterion': 'gini', 'max_depth': 12, 'max_features': 5, 'min_samples_leaf': 10, 'min_samples_split': 50}\n0.591 (+/-0.034) for {'bootstrap': False, 'class_weight': 'balanced', 'criterion': 'gini', 'max_depth': 12, 'max_features': 5, 'min_samples_leaf': 50, 'min_samples_split': 10}\n0.591 (+/-0.034) for {'bootstrap': False, 'class_weight': 'balanced', 'criterion': 'gini', 'max_depth': 12, 'max_features': 5, 'min_samples_leaf': 50, 'min_samples_split': 50}\n0.582 (+/-0.028) for {'bootstrap': False, 'class_weight': 'balanced', 'criterion': 'gini', 'max_depth': None, 'max_features': 5, 'min_samples_leaf': 10, 'min_samples_split': 10}\n0.596 (+/-0.020) for {'bootstrap': False, 'class_weight': 'balanced', 'criterion': 'gini', 'max_depth': None, 'max_features': 5, 'min_samples_leaf': 10, 'min_samples_split': 50}\n0.591 (+/-0.034) for {'bootstrap': False, 'class_weight': 'balanced', 'criterion': 'gini', 'max_depth': None, 'max_features': 5, 'min_samples_leaf': 50, 'min_samples_split': 10}\n0.591 (+/-0.034) for {'bootstrap': False, 'class_weight': 'balanced', 'criterion': 'gini', 'max_depth': None, 'max_features': 5, 'min_samples_leaf': 50, 'min_samples_split': 50}\n0.487 (+/-0.023) for {'bootstrap': False, 'class_weight': None, 'criterion': 'entropy', 'max_depth': 2, 'max_features': 5, 'min_samples_leaf': 10, 'min_samples_split': 10}\n0.487 (+/-0.023) for {'bootstrap': False, 'class_weight': None, 'criterion': 'entropy', 'max_depth': 2, 'max_features': 5, 'min_samples_leaf': 10, 'min_samples_split': 50}\n0.487 (+/-0.023) for {'bootstrap': False, 'class_weight': None, 'criterion': 'entropy', 'max_depth': 2, 'max_features': 5, 'min_samples_leaf': 50, 'min_samples_split': 10}\n0.487 (+/-0.023) for {'bootstrap': False, 'class_weight': None, 'criterion': 'entropy', 'max_depth': 2, 'max_features': 5, 'min_samples_leaf': 50, 'min_samples_split': 50}\n0.523 (+/-0.030) for {'bootstrap': False, 'class_weight': None, 'criterion': 'entropy', 'max_depth': 3, 'max_features': 5, 'min_samples_leaf': 10, 'min_samples_split': 10}\n0.523 (+/-0.030) for {'bootstrap': False, 'class_weight': None, 'criterion': 'entropy', 'max_depth': 3, 'max_features': 5, 'min_samples_leaf': 10, 'min_samples_split': 50}\n0.523 (+/-0.030) for {'bootstrap': False, 'class_weight': None, 'criterion': 'entropy', 'max_depth': 3, 'max_features': 5, 'min_samples_leaf': 50, 'min_samples_split': 10}\n0.523 (+/-0.030) for {'bootstrap': False, 'class_weight': None, 'criterion': 'entropy', 'max_depth': 3, 'max_features': 5, 'min_samples_leaf': 50, 'min_samples_split': 50}\n0.572 (+/-0.038) for {'bootstrap': False, 'class_weight': None, 'criterion': 'entropy', 'max_depth': 12, 'max_features': 5, 'min_samples_leaf': 10, 'min_samples_split': 10}\n0.586 (+/-0.043) for {'bootstrap': False, 'class_weight': None, 'criterion': 'entropy', 'max_depth': 12, 'max_features': 5, 'min_samples_leaf': 10, 'min_samples_split': 50}\n0.596 (+/-0.038) for {'bootstrap': False, 'class_weight': None, 'criterion': 'entropy', 'max_depth': 12, 'max_features': 5, 'min_samples_leaf': 50, 'min_samples_split': 10}\n0.596 (+/-0.038) for {'bootstrap': False, 'class_weight': None, 'criterion': 'entropy', 'max_depth': 12, 'max_features': 5, 'min_samples_leaf': 50, 'min_samples_split': 50}\n0.572 (+/-0.022) for {'bootstrap': False, 'class_weight': None, 'criterion': 'entropy', 'max_depth': None, 'max_features': 5, 'min_samples_leaf': 10, 'min_samples_split': 10}\n0.587 (+/-0.038) for {'bootstrap': False, 'class_weight': None, 'criterion': 'entropy', 'max_depth': None, 'max_features': 5, 'min_samples_leaf': 10, 'min_samples_split': 50}\n0.596 (+/-0.038) for {'bootstrap': False, 'class_weight': None, 'criterion': 'entropy', 'max_depth': None, 'max_features': 5, 'min_samples_leaf': 50, 'min_samples_split': 10}\n0.596 (+/-0.038) for {'bootstrap': False, 'class_weight': None, 'criterion': 'entropy', 'max_depth': None, 'max_features': 5, 'min_samples_leaf': 50, 'min_samples_split': 50}\n0.487 (+/-0.031) for {'bootstrap': False, 'class_weight': None, 'criterion': 'gini', 'max_depth': 2, 'max_features': 5, 'min_samples_leaf': 10, 'min_samples_split': 10}\n0.487 (+/-0.031) for {'bootstrap': False, 'class_weight': None, 'criterion': 'gini', 'max_depth': 2, 'max_features': 5, 'min_samples_leaf': 10, 'min_samples_split': 50}\n0.487 (+/-0.031) for {'bootstrap': False, 'class_weight': None, 'criterion': 'gini', 'max_depth': 2, 'max_features': 5, 'min_samples_leaf': 50, 'min_samples_split': 10}\n0.487 (+/-0.031) for {'bootstrap': False, 'class_weight': None, 'criterion': 'gini', 'max_depth': 2, 'max_features': 5, 'min_samples_leaf': 50, 'min_samples_split': 50}\n0.519 (+/-0.034) for {'bootstrap': False, 'class_weight': None, 'criterion': 'gini', 'max_depth': 3, 'max_features': 5, 'min_samples_leaf': 10, 'min_samples_split': 10}\n0.519 (+/-0.034) for {'bootstrap': False, 'class_weight': None, 'criterion': 'gini', 'max_depth': 3, 'max_features': 5, 'min_samples_leaf': 10, 'min_samples_split': 50}\n0.519 (+/-0.034) for {'bootstrap': False, 'class_weight': None, 'criterion': 'gini', 'max_depth': 3, 'max_features': 5, 'min_samples_leaf': 50, 'min_samples_split': 10}\n0.519 (+/-0.034) for {'bootstrap': False, 'class_weight': None, 'criterion': 'gini', 'max_depth': 3, 'max_features': 5, 'min_samples_leaf': 50, 'min_samples_split': 50}\n0.581 (+/-0.017) for {'bootstrap': False, 'class_weight': None, 'criterion': 'gini', 'max_depth': 12, 'max_features': 5, 'min_samples_leaf': 10, 'min_samples_split': 10}\n0.593 (+/-0.020) for {'bootstrap': False, 'class_weight': None, 'criterion': 'gini', 'max_depth': 12, 'max_features': 5, 'min_samples_leaf': 10, 'min_samples_split': 50}\n0.591 (+/-0.034) for {'bootstrap': False, 'class_weight': None, 'criterion': 'gini', 'max_depth': 12, 'max_features': 5, 'min_samples_leaf': 50, 'min_samples_split': 10}\n0.591 (+/-0.034) for {'bootstrap': False, 'class_weight': None, 'criterion': 'gini', 'max_depth': 12, 'max_features': 5, 'min_samples_leaf': 50, 'min_samples_split': 50}\n0.580 (+/-0.023) for {'bootstrap': False, 'class_weight': None, 'criterion': 'gini', 'max_depth': None, 'max_features': 5, 'min_samples_leaf': 10, 'min_samples_split': 10}\n0.595 (+/-0.019) for {'bootstrap': False, 'class_weight': None, 'criterion': 'gini', 'max_depth': None, 'max_features': 5, 'min_samples_leaf': 10, 'min_samples_split': 50}\n0.591 (+/-0.034) for {'bootstrap': False, 'class_weight': None, 'criterion': 'gini', 'max_depth': None, 'max_features': 5, 'min_samples_leaf': 50, 'min_samples_split': 10}\n0.591 (+/-0.034) for {'bootstrap': False, 'class_weight': None, 'criterion': 'gini', 'max_depth': None, 'max_features': 5, 'min_samples_leaf': 50, 'min_samples_split': 50}\n0.455 (+/-0.069) for {'bootstrap': False, 'class_weight': {0: 0.3, 1: 0.7}, 'criterion': 'entropy', 'max_depth': 2, 'max_features': 5, 'min_samples_leaf': 10, 'min_samples_split': 10}\n0.455 (+/-0.069) for {'bootstrap': False, 'class_weight': {0: 0.3, 1: 0.7}, 'criterion': 'entropy', 'max_depth': 2, 'max_features': 5, 'min_samples_leaf': 10, 'min_samples_split': 50}\n0.455 (+/-0.069) for {'bootstrap': False, 'class_weight': {0: 0.3, 1: 0.7}, 'criterion': 'entropy', 'max_depth': 2, 'max_features': 5, 'min_samples_leaf': 50, 'min_samples_split': 10}\n0.455 (+/-0.069) for {'bootstrap': False, 'class_weight': {0: 0.3, 1: 0.7}, 'criterion': 'entropy', 'max_depth': 2, 'max_features': 5, 'min_samples_leaf': 50, 'min_samples_split': 50}\n0.482 (+/-0.045) for {'bootstrap': False, 'class_weight': {0: 0.3, 1: 0.7}, 'criterion': 'entropy', 'max_depth': 3, 'max_features': 5, 'min_samples_leaf': 10, 'min_samples_split': 10}\n0.482 (+/-0.045) for {'bootstrap': False, 'class_weight': {0: 0.3, 1: 0.7}, 'criterion': 'entropy', 'max_depth': 3, 'max_features': 5, 'min_samples_leaf': 10, 'min_samples_split': 50}\n0.482 (+/-0.045) for {'bootstrap': False, 'class_weight': {0: 0.3, 1: 0.7}, 'criterion': 'entropy', 'max_depth': 3, 'max_features': 5, 'min_samples_leaf': 50, 'min_samples_split': 10}\n0.482 (+/-0.045) for {'bootstrap': False, 'class_weight': {0: 0.3, 1: 0.7}, 'criterion': 'entropy', 'max_depth': 3, 'max_features': 5, 'min_samples_leaf': 50, 'min_samples_split': 50}\n0.571 (+/-0.033) for {'bootstrap': False, 'class_weight': {0: 0.3, 1: 0.7}, 'criterion': 'entropy', 'max_depth': 12, 'max_features': 5, 'min_samples_leaf': 10, 'min_samples_split': 10}\n0.580 (+/-0.020) for {'bootstrap': False, 'class_weight': {0: 0.3, 1: 0.7}, 'criterion': 'entropy', 'max_depth': 12, 'max_features': 5, 'min_samples_leaf': 10, 'min_samples_split': 50}\n0.583 (+/-0.016) for {'bootstrap': False, 'class_weight': {0: 0.3, 1: 0.7}, 'criterion': 'entropy', 'max_depth': 12, 'max_features': 5, 'min_samples_leaf': 50, 'min_samples_split': 10}\n0.583 (+/-0.016) for {'bootstrap': False, 'class_weight': {0: 0.3, 1: 0.7}, 'criterion': 'entropy', 'max_depth': 12, 'max_features': 5, 'min_samples_leaf': 50, 'min_samples_split': 50}\n0.568 (+/-0.041) for {'bootstrap': False, 'class_weight': {0: 0.3, 1: 0.7}, 'criterion': 'entropy', 'max_depth': None, 'max_features': 5, 'min_samples_leaf': 10, 'min_samples_split': 10}\n0.581 (+/-0.021) for {'bootstrap': False, 'class_weight': {0: 0.3, 1: 0.7}, 'criterion': 'entropy', 'max_depth': None, 'max_features': 5, 'min_samples_leaf': 10, 'min_samples_split': 50}\n0.583 (+/-0.016) for {'bootstrap': False, 'class_weight': {0: 0.3, 1: 0.7}, 'criterion': 'entropy', 'max_depth': None, 'max_features': 5, 'min_samples_leaf': 50, 'min_samples_split': 10}\n0.583 (+/-0.016) for {'bootstrap': False, 'class_weight': {0: 0.3, 1: 0.7}, 'criterion': 'entropy', 'max_depth': None, 'max_features': 5, 'min_samples_leaf': 50, 'min_samples_split': 50}\n0.460 (+/-0.084) for {'bootstrap': False, 'class_weight': {0: 0.3, 1: 0.7}, 'criterion': 'gini', 'max_depth': 2, 'max_features': 5, 'min_samples_leaf': 10, 'min_samples_split': 10}\n0.460 (+/-0.084) for {'bootstrap': False, 'class_weight': {0: 0.3, 1: 0.7}, 'criterion': 'gini', 'max_depth': 2, 'max_features': 5, 'min_samples_leaf': 10, 'min_samples_split': 50}\n0.460 (+/-0.084) for {'bootstrap': False, 'class_weight': {0: 0.3, 1: 0.7}, 'criterion': 'gini', 'max_depth': 2, 'max_features': 5, 'min_samples_leaf': 50, 'min_samples_split': 10}\n0.460 (+/-0.084) for {'bootstrap': False, 'class_weight': {0: 0.3, 1: 0.7}, 'criterion': 'gini', 'max_depth': 2, 'max_features': 5, 'min_samples_leaf': 50, 'min_samples_split': 50}\n0.495 (+/-0.045) for {'bootstrap': False, 'class_weight': {0: 0.3, 1: 0.7}, 'criterion': 'gini', 'max_depth': 3, 'max_features': 5, 'min_samples_leaf': 10, 'min_samples_split': 10}\n0.495 (+/-0.045) for {'bootstrap': False, 'class_weight': {0: 0.3, 1: 0.7}, 'criterion': 'gini', 'max_depth': 3, 'max_features': 5, 'min_samples_leaf': 10, 'min_samples_split': 50}\n0.495 (+/-0.045) for {'bootstrap': False, 'class_weight': {0: 0.3, 1: 0.7}, 'criterion': 'gini', 'max_depth': 3, 'max_features': 5, 'min_samples_leaf': 50, 'min_samples_split': 10}\n0.495 (+/-0.045) for {'bootstrap': False, 'class_weight': {0: 0.3, 1: 0.7}, 'criterion': 'gini', 'max_depth': 3, 'max_features': 5, 'min_samples_leaf': 50, 'min_samples_split': 50}\n0.565 (+/-0.045) for {'bootstrap': False, 'class_weight': {0: 0.3, 1: 0.7}, 'criterion': 'gini', 'max_depth': 12, 'max_features': 5, 'min_samples_leaf': 10, 'min_samples_split': 10}\n0.582 (+/-0.026) for {'bootstrap': False, 'class_weight': {0: 0.3, 1: 0.7}, 'criterion': 'gini', 'max_depth': 12, 'max_features': 5, 'min_samples_leaf': 10, 'min_samples_split': 50}\n0.573 (+/-0.023) for {'bootstrap': False, 'class_weight': {0: 0.3, 1: 0.7}, 'criterion': 'gini', 'max_depth': 12, 'max_features': 5, 'min_samples_leaf': 50, 'min_samples_split': 10}\n0.573 (+/-0.023) for {'bootstrap': False, 'class_weight': {0: 0.3, 1: 0.7}, 'criterion': 'gini', 'max_depth': 12, 'max_features': 5, 'min_samples_leaf': 50, 'min_samples_split': 50}\n0.569 (+/-0.034) for {'bootstrap': False, 'class_weight': {0: 0.3, 1: 0.7}, 'criterion': 'gini', 'max_depth': None, 'max_features': 5, 'min_samples_leaf': 10, 'min_samples_split': 10}\n0.592 (+/-0.020) for {'bootstrap': False, 'class_weight': {0: 0.3, 1: 0.7}, 'criterion': 'gini', 'max_depth': None, 'max_features': 5, 'min_samples_leaf': 10, 'min_samples_split': 50}\n0.573 (+/-0.023) for {'bootstrap': False, 'class_weight': {0: 0.3, 1: 0.7}, 'criterion': 'gini', 'max_depth': None, 'max_features': 5, 'min_samples_leaf': 50, 'min_samples_split': 10}\n0.573 (+/-0.023) for {'bootstrap': False, 'class_weight': {0: 0.3, 1: 0.7}, 'criterion': 'gini', 'max_depth': None, 'max_features': 5, 'min_samples_leaf': 50, 'min_samples_split': 50}\nBest parameters: {'bootstrap': True, 'class_weight': None, 'criterion': 'entropy', 'max_depth': 12, 'max_features': 5, 'min_samples_leaf': 10, 'min_samples_split': 50}\nBest Score:  0.6266270684757346\n"
     ]
    }
   ],
   "source": [
    "\n",
    "\n",
    "param_dist = [{\"max_depth\": [2,3,12,None],\n",
    "              \"max_features\": [5],# Al massimo 6 non di più\n",
    "              \"min_samples_split\": [10,50],\n",
    "              \"min_samples_leaf\": [10,50],\n",
    "              \"bootstrap\": [True, False],\n",
    "              \"criterion\": [\"entropy\", \"gini\"],\n",
    "              \"class_weight\":['balanced', None, {0: 0.3, 1: 0.7}]}]\n",
    "\n",
    "clf = RandomForestClassifier(n_estimators=30)\n",
    "grid_search = GridSearchCV(clf, param_dist,  \n",
    "                            n_jobs=3, \n",
    "                            scoring='accuracy')\n",
    "\n",
    "grid_search.fit(train_set, train_label)\n",
    "\n",
    "print(\"Complete Grid search:\")\n",
    "means = grid_search.cv_results_['mean_test_score']\n",
    "stds = grid_search.cv_results_['std_test_score']\n",
    "for mean, std, params in zip(means, stds, grid_search.cv_results_['params']):\n",
    "    print(\"%0.3f (+/-%0.03f) for %r\"% (mean, std * 2, params))\n",
    "\n",
    "print(\"Best parameters:\",grid_search.best_params_)\n",
    "print(\"Best Score: \",grid_search.best_score_)\n"
   ]
  },
  {
   "source": [
    "## Modello Finale"
   ],
   "cell_type": "markdown",
   "metadata": {}
  },
  {
   "cell_type": "code",
   "execution_count": 19,
   "metadata": {},
   "outputs": [],
   "source": [
    "rf = RandomForestClassifier(n_estimators=30, \n",
    "                             criterion='entropy',\n",
    "                             class_weight=None,\n",
    "                             max_features=5,\n",
    "                             max_depth=12, \n",
    "                             min_samples_split=50,\n",
    "                             min_samples_leaf=10,\n",
    "                             bootstrap=True) \n",
    "rf = rf.fit(train_set, train_label)"
   ]
  },
  {
   "cell_type": "code",
   "execution_count": 20,
   "metadata": {},
   "outputs": [],
   "source": [
    "#prediction on the test test\n",
    "test_pred_rf = rf.predict(test_set)"
   ]
  },
  {
   "cell_type": "code",
   "execution_count": 21,
   "metadata": {},
   "outputs": [
    {
     "output_type": "stream",
     "name": "stdout",
     "text": [
      "              precision    recall  f1-score   support\n\n           0       0.67      0.61      0.64       507\n           1       0.52      0.48      0.50       507\n           2       0.63      0.75      0.68       507\n\n    accuracy                           0.61      1521\n   macro avg       0.61      0.61      0.61      1521\nweighted avg       0.61      0.61      0.61      1521\n\n"
     ]
    }
   ],
   "source": [
    "#compute the performance of the model\n",
    "print(classification_report(test_label, \n",
    "                            test_pred_rf))"
   ]
  },
  {
   "cell_type": "code",
   "execution_count": null,
   "metadata": {},
   "outputs": [],
   "source": []
  }
 ]
}