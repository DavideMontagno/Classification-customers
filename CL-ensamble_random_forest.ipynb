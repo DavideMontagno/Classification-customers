{
 "metadata": {
  "language_info": {
   "codemirror_mode": {
    "name": "ipython",
    "version": 3
   },
   "file_extension": ".py",
   "mimetype": "text/x-python",
   "name": "python",
   "nbconvert_exporter": "python",
   "pygments_lexer": "ipython3",
   "version": "3.7.8-final"
  },
  "orig_nbformat": 2,
  "kernelspec": {
   "name": "python3",
   "display_name": "Python 3.7.8 64-bit",
   "metadata": {
    "interpreter": {
     "hash": "57baa5815c940fdaff4d14510622de9616cae602444507ba5d0b6727c008cbd6"
    }
   }
  }
 },
 "nbformat": 4,
 "nbformat_minor": 2,
 "cells": [
  {
   "source": [
    "# Random Forest"
   ],
   "cell_type": "markdown",
   "metadata": {}
  },
  {
   "cell_type": "code",
   "execution_count": 1,
   "metadata": {},
   "outputs": [],
   "source": [
    "import pandas as pd\n",
    "import numpy as np\n",
    "import matplotlib.pyplot as plt\n",
    "df = pd.read_csv(\"dataset/CL-dataset.csv\",sep='\\t',decimal=\",\",index_col=0)"
   ]
  },
  {
   "cell_type": "code",
   "execution_count": 2,
   "metadata": {},
   "outputs": [
    {
     "output_type": "execute_result",
     "data": {
      "text/plain": [
       "   Imax         E    PIL         Mt         TsM        TsW      NbxM  \\\n",
       "0    12  2.807355  2.567  15.261429    8.217692   2.015660  0.076923   \n",
       "1    12  7.102441  2.567   3.573791   50.033077  12.272264  0.307692   \n",
       "2    24  3.000000  2.567  13.797500    8.490769   2.082642  0.076923   \n",
       "3     6  3.906891  2.567   4.162000    4.802308   1.177925  0.230769   \n",
       "4    48  6.984210  2.567   8.364100  153.770769  37.717358  0.846154   \n",
       "\n",
       "       NbxW      MeanD     Etrim    Emonth  Eday_of_week     Ehour  class  \n",
       "0  0.018868   0.000000  0.000000  0.000000      0.000000  0.000000      0  \n",
       "1  0.075472  55.500000  1.570383  1.570383      1.570383  1.570383      0  \n",
       "2  0.018868   0.000000  0.000000  0.000000      0.000000  0.000000      0  \n",
       "3  0.056604   0.333333  0.000000  0.000000      0.353359  0.353359      0  \n",
       "4  0.207547  24.454545  1.826220  2.894170      1.878620  2.382467      0  "
      ],
      "text/html": "<div>\n<style scoped>\n    .dataframe tbody tr th:only-of-type {\n        vertical-align: middle;\n    }\n\n    .dataframe tbody tr th {\n        vertical-align: top;\n    }\n\n    .dataframe thead th {\n        text-align: right;\n    }\n</style>\n<table border=\"1\" class=\"dataframe\">\n  <thead>\n    <tr style=\"text-align: right;\">\n      <th></th>\n      <th>Imax</th>\n      <th>E</th>\n      <th>PIL</th>\n      <th>Mt</th>\n      <th>TsM</th>\n      <th>TsW</th>\n      <th>NbxM</th>\n      <th>NbxW</th>\n      <th>MeanD</th>\n      <th>Etrim</th>\n      <th>Emonth</th>\n      <th>Eday_of_week</th>\n      <th>Ehour</th>\n      <th>class</th>\n    </tr>\n  </thead>\n  <tbody>\n    <tr>\n      <th>0</th>\n      <td>12</td>\n      <td>2.807355</td>\n      <td>2.567</td>\n      <td>15.261429</td>\n      <td>8.217692</td>\n      <td>2.015660</td>\n      <td>0.076923</td>\n      <td>0.018868</td>\n      <td>0.000000</td>\n      <td>0.000000</td>\n      <td>0.000000</td>\n      <td>0.000000</td>\n      <td>0.000000</td>\n      <td>0</td>\n    </tr>\n    <tr>\n      <th>1</th>\n      <td>12</td>\n      <td>7.102441</td>\n      <td>2.567</td>\n      <td>3.573791</td>\n      <td>50.033077</td>\n      <td>12.272264</td>\n      <td>0.307692</td>\n      <td>0.075472</td>\n      <td>55.500000</td>\n      <td>1.570383</td>\n      <td>1.570383</td>\n      <td>1.570383</td>\n      <td>1.570383</td>\n      <td>0</td>\n    </tr>\n    <tr>\n      <th>2</th>\n      <td>24</td>\n      <td>3.000000</td>\n      <td>2.567</td>\n      <td>13.797500</td>\n      <td>8.490769</td>\n      <td>2.082642</td>\n      <td>0.076923</td>\n      <td>0.018868</td>\n      <td>0.000000</td>\n      <td>0.000000</td>\n      <td>0.000000</td>\n      <td>0.000000</td>\n      <td>0.000000</td>\n      <td>0</td>\n    </tr>\n    <tr>\n      <th>3</th>\n      <td>6</td>\n      <td>3.906891</td>\n      <td>2.567</td>\n      <td>4.162000</td>\n      <td>4.802308</td>\n      <td>1.177925</td>\n      <td>0.230769</td>\n      <td>0.056604</td>\n      <td>0.333333</td>\n      <td>0.000000</td>\n      <td>0.000000</td>\n      <td>0.353359</td>\n      <td>0.353359</td>\n      <td>0</td>\n    </tr>\n    <tr>\n      <th>4</th>\n      <td>48</td>\n      <td>6.984210</td>\n      <td>2.567</td>\n      <td>8.364100</td>\n      <td>153.770769</td>\n      <td>37.717358</td>\n      <td>0.846154</td>\n      <td>0.207547</td>\n      <td>24.454545</td>\n      <td>1.826220</td>\n      <td>2.894170</td>\n      <td>1.878620</td>\n      <td>2.382467</td>\n      <td>0</td>\n    </tr>\n  </tbody>\n</table>\n</div>"
     },
     "metadata": {},
     "execution_count": 2
    }
   ],
   "source": [
    "df.head()"
   ]
  },
  {
   "cell_type": "code",
   "execution_count": 3,
   "metadata": {},
   "outputs": [],
   "source": [
    "from sklearn.model_selection import train_test_split\n",
    "label = df.pop('class')\n",
    "train_set, test_set, train_label, test_label = train_test_split(df, label, stratify =label, test_size=0.30)"
   ]
  },
  {
   "cell_type": "code",
   "execution_count": 4,
   "metadata": {},
   "outputs": [],
   "source": [
    "from sklearn.model_selection import RandomizedSearchCV\n",
    "from sklearn.ensemble import RandomForestClassifier\n",
    "from sklearn.model_selection import GridSearchCV\n",
    "from scipy.stats import randint as sp_randint\n",
    "from sklearn.metrics import make_scorer\n",
    "from sklearn.metrics import accuracy_score\n",
    "from sklearn.metrics import classification_report\n"
   ]
  },
  {
   "source": [
    "## Grid search"
   ],
   "cell_type": "markdown",
   "metadata": {}
  },
  {
   "cell_type": "code",
   "execution_count": 5,
   "metadata": {
    "tags": [
     "outputPrepend"
    ]
   },
   "outputs": [
    {
     "output_type": "stream",
     "name": "stdout",
     "text": [
      "s_leaf': 10, 'min_samples_split': 10}\n0.598 (+/-0.075) for {'bootstrap': True, 'class_weight': {0: 0.3, 1: 0.7}, 'criterion': 'gini', 'max_depth': 2, 'max_features': 5, 'min_samples_leaf': 10, 'min_samples_split': 50}\n0.598 (+/-0.052) for {'bootstrap': True, 'class_weight': {0: 0.3, 1: 0.7}, 'criterion': 'gini', 'max_depth': 2, 'max_features': 5, 'min_samples_leaf': 50, 'min_samples_split': 10}\n0.618 (+/-0.080) for {'bootstrap': True, 'class_weight': {0: 0.3, 1: 0.7}, 'criterion': 'gini', 'max_depth': 2, 'max_features': 5, 'min_samples_leaf': 50, 'min_samples_split': 50}\n0.726 (+/-0.023) for {'bootstrap': True, 'class_weight': {0: 0.3, 1: 0.7}, 'criterion': 'gini', 'max_depth': 3, 'max_features': 5, 'min_samples_leaf': 10, 'min_samples_split': 10}\n0.731 (+/-0.027) for {'bootstrap': True, 'class_weight': {0: 0.3, 1: 0.7}, 'criterion': 'gini', 'max_depth': 3, 'max_features': 5, 'min_samples_leaf': 10, 'min_samples_split': 50}\n0.732 (+/-0.023) for {'bootstrap': True, 'class_weight': {0: 0.3, 1: 0.7}, 'criterion': 'gini', 'max_depth': 3, 'max_features': 5, 'min_samples_leaf': 50, 'min_samples_split': 10}\n0.727 (+/-0.016) for {'bootstrap': True, 'class_weight': {0: 0.3, 1: 0.7}, 'criterion': 'gini', 'max_depth': 3, 'max_features': 5, 'min_samples_leaf': 50, 'min_samples_split': 50}\n0.952 (+/-0.019) for {'bootstrap': True, 'class_weight': {0: 0.3, 1: 0.7}, 'criterion': 'gini', 'max_depth': 12, 'max_features': 5, 'min_samples_leaf': 10, 'min_samples_split': 10}\n0.934 (+/-0.019) for {'bootstrap': True, 'class_weight': {0: 0.3, 1: 0.7}, 'criterion': 'gini', 'max_depth': 12, 'max_features': 5, 'min_samples_leaf': 10, 'min_samples_split': 50}\n0.892 (+/-0.025) for {'bootstrap': True, 'class_weight': {0: 0.3, 1: 0.7}, 'criterion': 'gini', 'max_depth': 12, 'max_features': 5, 'min_samples_leaf': 50, 'min_samples_split': 10}\n0.894 (+/-0.031) for {'bootstrap': True, 'class_weight': {0: 0.3, 1: 0.7}, 'criterion': 'gini', 'max_depth': 12, 'max_features': 5, 'min_samples_leaf': 50, 'min_samples_split': 50}\n0.956 (+/-0.021) for {'bootstrap': True, 'class_weight': {0: 0.3, 1: 0.7}, 'criterion': 'gini', 'max_depth': None, 'max_features': 5, 'min_samples_leaf': 10, 'min_samples_split': 10}\n0.927 (+/-0.022) for {'bootstrap': True, 'class_weight': {0: 0.3, 1: 0.7}, 'criterion': 'gini', 'max_depth': None, 'max_features': 5, 'min_samples_leaf': 10, 'min_samples_split': 50}\n0.887 (+/-0.025) for {'bootstrap': True, 'class_weight': {0: 0.3, 1: 0.7}, 'criterion': 'gini', 'max_depth': None, 'max_features': 5, 'min_samples_leaf': 50, 'min_samples_split': 10}\n0.891 (+/-0.035) for {'bootstrap': True, 'class_weight': {0: 0.3, 1: 0.7}, 'criterion': 'gini', 'max_depth': None, 'max_features': 5, 'min_samples_leaf': 50, 'min_samples_split': 50}\n0.650 (+/-0.065) for {'bootstrap': False, 'class_weight': 'balanced', 'criterion': 'entropy', 'max_depth': 2, 'max_features': 5, 'min_samples_leaf': 10, 'min_samples_split': 10}\n0.688 (+/-0.043) for {'bootstrap': False, 'class_weight': 'balanced', 'criterion': 'entropy', 'max_depth': 2, 'max_features': 5, 'min_samples_leaf': 10, 'min_samples_split': 50}\n0.649 (+/-0.074) for {'bootstrap': False, 'class_weight': 'balanced', 'criterion': 'entropy', 'max_depth': 2, 'max_features': 5, 'min_samples_leaf': 50, 'min_samples_split': 10}\n0.665 (+/-0.102) for {'bootstrap': False, 'class_weight': 'balanced', 'criterion': 'entropy', 'max_depth': 2, 'max_features': 5, 'min_samples_leaf': 50, 'min_samples_split': 50}\n0.747 (+/-0.023) for {'bootstrap': False, 'class_weight': 'balanced', 'criterion': 'entropy', 'max_depth': 3, 'max_features': 5, 'min_samples_leaf': 10, 'min_samples_split': 10}\n0.752 (+/-0.015) for {'bootstrap': False, 'class_weight': 'balanced', 'criterion': 'entropy', 'max_depth': 3, 'max_features': 5, 'min_samples_leaf': 10, 'min_samples_split': 50}\n0.750 (+/-0.015) for {'bootstrap': False, 'class_weight': 'balanced', 'criterion': 'entropy', 'max_depth': 3, 'max_features': 5, 'min_samples_leaf': 50, 'min_samples_split': 10}\n0.750 (+/-0.034) for {'bootstrap': False, 'class_weight': 'balanced', 'criterion': 'entropy', 'max_depth': 3, 'max_features': 5, 'min_samples_leaf': 50, 'min_samples_split': 50}\n0.976 (+/-0.009) for {'bootstrap': False, 'class_weight': 'balanced', 'criterion': 'entropy', 'max_depth': 12, 'max_features': 5, 'min_samples_leaf': 10, 'min_samples_split': 10}\n0.965 (+/-0.001) for {'bootstrap': False, 'class_weight': 'balanced', 'criterion': 'entropy', 'max_depth': 12, 'max_features': 5, 'min_samples_leaf': 10, 'min_samples_split': 50}\n0.949 (+/-0.009) for {'bootstrap': False, 'class_weight': 'balanced', 'criterion': 'entropy', 'max_depth': 12, 'max_features': 5, 'min_samples_leaf': 50, 'min_samples_split': 10}\n0.940 (+/-0.023) for {'bootstrap': False, 'class_weight': 'balanced', 'criterion': 'entropy', 'max_depth': 12, 'max_features': 5, 'min_samples_leaf': 50, 'min_samples_split': 50}\n0.974 (+/-0.008) for {'bootstrap': False, 'class_weight': 'balanced', 'criterion': 'entropy', 'max_depth': None, 'max_features': 5, 'min_samples_leaf': 10, 'min_samples_split': 10}\n0.965 (+/-0.006) for {'bootstrap': False, 'class_weight': 'balanced', 'criterion': 'entropy', 'max_depth': None, 'max_features': 5, 'min_samples_leaf': 10, 'min_samples_split': 50}\n0.946 (+/-0.024) for {'bootstrap': False, 'class_weight': 'balanced', 'criterion': 'entropy', 'max_depth': None, 'max_features': 5, 'min_samples_leaf': 50, 'min_samples_split': 10}\n0.947 (+/-0.019) for {'bootstrap': False, 'class_weight': 'balanced', 'criterion': 'entropy', 'max_depth': None, 'max_features': 5, 'min_samples_leaf': 50, 'min_samples_split': 50}\n0.591 (+/-0.033) for {'bootstrap': False, 'class_weight': 'balanced', 'criterion': 'gini', 'max_depth': 2, 'max_features': 5, 'min_samples_leaf': 10, 'min_samples_split': 10}\n0.600 (+/-0.036) for {'bootstrap': False, 'class_weight': 'balanced', 'criterion': 'gini', 'max_depth': 2, 'max_features': 5, 'min_samples_leaf': 10, 'min_samples_split': 50}\n0.601 (+/-0.046) for {'bootstrap': False, 'class_weight': 'balanced', 'criterion': 'gini', 'max_depth': 2, 'max_features': 5, 'min_samples_leaf': 50, 'min_samples_split': 10}\n0.599 (+/-0.049) for {'bootstrap': False, 'class_weight': 'balanced', 'criterion': 'gini', 'max_depth': 2, 'max_features': 5, 'min_samples_leaf': 50, 'min_samples_split': 50}\n0.721 (+/-0.031) for {'bootstrap': False, 'class_weight': 'balanced', 'criterion': 'gini', 'max_depth': 3, 'max_features': 5, 'min_samples_leaf': 10, 'min_samples_split': 10}\n0.728 (+/-0.039) for {'bootstrap': False, 'class_weight': 'balanced', 'criterion': 'gini', 'max_depth': 3, 'max_features': 5, 'min_samples_leaf': 10, 'min_samples_split': 50}\n0.719 (+/-0.032) for {'bootstrap': False, 'class_weight': 'balanced', 'criterion': 'gini', 'max_depth': 3, 'max_features': 5, 'min_samples_leaf': 50, 'min_samples_split': 10}\n0.723 (+/-0.026) for {'bootstrap': False, 'class_weight': 'balanced', 'criterion': 'gini', 'max_depth': 3, 'max_features': 5, 'min_samples_leaf': 50, 'min_samples_split': 50}\n0.963 (+/-0.017) for {'bootstrap': False, 'class_weight': 'balanced', 'criterion': 'gini', 'max_depth': 12, 'max_features': 5, 'min_samples_leaf': 10, 'min_samples_split': 10}\n0.958 (+/-0.008) for {'bootstrap': False, 'class_weight': 'balanced', 'criterion': 'gini', 'max_depth': 12, 'max_features': 5, 'min_samples_leaf': 10, 'min_samples_split': 50}\n0.932 (+/-0.020) for {'bootstrap': False, 'class_weight': 'balanced', 'criterion': 'gini', 'max_depth': 12, 'max_features': 5, 'min_samples_leaf': 50, 'min_samples_split': 10}\n0.930 (+/-0.029) for {'bootstrap': False, 'class_weight': 'balanced', 'criterion': 'gini', 'max_depth': 12, 'max_features': 5, 'min_samples_leaf': 50, 'min_samples_split': 50}\n0.969 (+/-0.014) for {'bootstrap': False, 'class_weight': 'balanced', 'criterion': 'gini', 'max_depth': None, 'max_features': 5, 'min_samples_leaf': 10, 'min_samples_split': 10}\n0.959 (+/-0.015) for {'bootstrap': False, 'class_weight': 'balanced', 'criterion': 'gini', 'max_depth': None, 'max_features': 5, 'min_samples_leaf': 10, 'min_samples_split': 50}\n0.933 (+/-0.024) for {'bootstrap': False, 'class_weight': 'balanced', 'criterion': 'gini', 'max_depth': None, 'max_features': 5, 'min_samples_leaf': 50, 'min_samples_split': 10}\n0.928 (+/-0.037) for {'bootstrap': False, 'class_weight': 'balanced', 'criterion': 'gini', 'max_depth': None, 'max_features': 5, 'min_samples_leaf': 50, 'min_samples_split': 50}\n0.653 (+/-0.092) for {'bootstrap': False, 'class_weight': None, 'criterion': 'entropy', 'max_depth': 2, 'max_features': 5, 'min_samples_leaf': 10, 'min_samples_split': 10}\n0.687 (+/-0.030) for {'bootstrap': False, 'class_weight': None, 'criterion': 'entropy', 'max_depth': 2, 'max_features': 5, 'min_samples_leaf': 10, 'min_samples_split': 50}\n0.663 (+/-0.067) for {'bootstrap': False, 'class_weight': None, 'criterion': 'entropy', 'max_depth': 2, 'max_features': 5, 'min_samples_leaf': 50, 'min_samples_split': 10}\n0.688 (+/-0.047) for {'bootstrap': False, 'class_weight': None, 'criterion': 'entropy', 'max_depth': 2, 'max_features': 5, 'min_samples_leaf': 50, 'min_samples_split': 50}\n0.744 (+/-0.034) for {'bootstrap': False, 'class_weight': None, 'criterion': 'entropy', 'max_depth': 3, 'max_features': 5, 'min_samples_leaf': 10, 'min_samples_split': 10}\n0.744 (+/-0.030) for {'bootstrap': False, 'class_weight': None, 'criterion': 'entropy', 'max_depth': 3, 'max_features': 5, 'min_samples_leaf': 10, 'min_samples_split': 50}\n0.748 (+/-0.024) for {'bootstrap': False, 'class_weight': None, 'criterion': 'entropy', 'max_depth': 3, 'max_features': 5, 'min_samples_leaf': 50, 'min_samples_split': 10}\n0.740 (+/-0.029) for {'bootstrap': False, 'class_weight': None, 'criterion': 'entropy', 'max_depth': 3, 'max_features': 5, 'min_samples_leaf': 50, 'min_samples_split': 50}\n0.974 (+/-0.012) for {'bootstrap': False, 'class_weight': None, 'criterion': 'entropy', 'max_depth': 12, 'max_features': 5, 'min_samples_leaf': 10, 'min_samples_split': 10}\n0.962 (+/-0.005) for {'bootstrap': False, 'class_weight': None, 'criterion': 'entropy', 'max_depth': 12, 'max_features': 5, 'min_samples_leaf': 10, 'min_samples_split': 50}\n0.942 (+/-0.010) for {'bootstrap': False, 'class_weight': None, 'criterion': 'entropy', 'max_depth': 12, 'max_features': 5, 'min_samples_leaf': 50, 'min_samples_split': 10}\n0.940 (+/-0.024) for {'bootstrap': False, 'class_weight': None, 'criterion': 'entropy', 'max_depth': 12, 'max_features': 5, 'min_samples_leaf': 50, 'min_samples_split': 50}\n0.975 (+/-0.011) for {'bootstrap': False, 'class_weight': None, 'criterion': 'entropy', 'max_depth': None, 'max_features': 5, 'min_samples_leaf': 10, 'min_samples_split': 10}\n0.966 (+/-0.004) for {'bootstrap': False, 'class_weight': None, 'criterion': 'entropy', 'max_depth': None, 'max_features': 5, 'min_samples_leaf': 10, 'min_samples_split': 50}\n0.946 (+/-0.013) for {'bootstrap': False, 'class_weight': None, 'criterion': 'entropy', 'max_depth': None, 'max_features': 5, 'min_samples_leaf': 50, 'min_samples_split': 10}\n0.942 (+/-0.008) for {'bootstrap': False, 'class_weight': None, 'criterion': 'entropy', 'max_depth': None, 'max_features': 5, 'min_samples_leaf': 50, 'min_samples_split': 50}\n0.605 (+/-0.032) for {'bootstrap': False, 'class_weight': None, 'criterion': 'gini', 'max_depth': 2, 'max_features': 5, 'min_samples_leaf': 10, 'min_samples_split': 10}\n0.593 (+/-0.033) for {'bootstrap': False, 'class_weight': None, 'criterion': 'gini', 'max_depth': 2, 'max_features': 5, 'min_samples_leaf': 10, 'min_samples_split': 50}\n0.606 (+/-0.052) for {'bootstrap': False, 'class_weight': None, 'criterion': 'gini', 'max_depth': 2, 'max_features': 5, 'min_samples_leaf': 50, 'min_samples_split': 10}\n0.598 (+/-0.044) for {'bootstrap': False, 'class_weight': None, 'criterion': 'gini', 'max_depth': 2, 'max_features': 5, 'min_samples_leaf': 50, 'min_samples_split': 50}\n0.725 (+/-0.029) for {'bootstrap': False, 'class_weight': None, 'criterion': 'gini', 'max_depth': 3, 'max_features': 5, 'min_samples_leaf': 10, 'min_samples_split': 10}\n0.715 (+/-0.044) for {'bootstrap': False, 'class_weight': None, 'criterion': 'gini', 'max_depth': 3, 'max_features': 5, 'min_samples_leaf': 10, 'min_samples_split': 50}\n0.727 (+/-0.039) for {'bootstrap': False, 'class_weight': None, 'criterion': 'gini', 'max_depth': 3, 'max_features': 5, 'min_samples_leaf': 50, 'min_samples_split': 10}\n0.732 (+/-0.040) for {'bootstrap': False, 'class_weight': None, 'criterion': 'gini', 'max_depth': 3, 'max_features': 5, 'min_samples_leaf': 50, 'min_samples_split': 50}\n0.965 (+/-0.011) for {'bootstrap': False, 'class_weight': None, 'criterion': 'gini', 'max_depth': 12, 'max_features': 5, 'min_samples_leaf': 10, 'min_samples_split': 10}\n0.961 (+/-0.013) for {'bootstrap': False, 'class_weight': None, 'criterion': 'gini', 'max_depth': 12, 'max_features': 5, 'min_samples_leaf': 10, 'min_samples_split': 50}\n0.933 (+/-0.040) for {'bootstrap': False, 'class_weight': None, 'criterion': 'gini', 'max_depth': 12, 'max_features': 5, 'min_samples_leaf': 50, 'min_samples_split': 10}\n0.930 (+/-0.024) for {'bootstrap': False, 'class_weight': None, 'criterion': 'gini', 'max_depth': 12, 'max_features': 5, 'min_samples_leaf': 50, 'min_samples_split': 50}\n0.971 (+/-0.014) for {'bootstrap': False, 'class_weight': None, 'criterion': 'gini', 'max_depth': None, 'max_features': 5, 'min_samples_leaf': 10, 'min_samples_split': 10}\n0.956 (+/-0.011) for {'bootstrap': False, 'class_weight': None, 'criterion': 'gini', 'max_depth': None, 'max_features': 5, 'min_samples_leaf': 10, 'min_samples_split': 50}\n0.929 (+/-0.027) for {'bootstrap': False, 'class_weight': None, 'criterion': 'gini', 'max_depth': None, 'max_features': 5, 'min_samples_leaf': 50, 'min_samples_split': 10}\n0.930 (+/-0.027) for {'bootstrap': False, 'class_weight': None, 'criterion': 'gini', 'max_depth': None, 'max_features': 5, 'min_samples_leaf': 50, 'min_samples_split': 50}\n0.620 (+/-0.079) for {'bootstrap': False, 'class_weight': {0: 0.3, 1: 0.7}, 'criterion': 'entropy', 'max_depth': 2, 'max_features': 5, 'min_samples_leaf': 10, 'min_samples_split': 10}\n0.589 (+/-0.046) for {'bootstrap': False, 'class_weight': {0: 0.3, 1: 0.7}, 'criterion': 'entropy', 'max_depth': 2, 'max_features': 5, 'min_samples_leaf': 10, 'min_samples_split': 50}\n0.612 (+/-0.100) for {'bootstrap': False, 'class_weight': {0: 0.3, 1: 0.7}, 'criterion': 'entropy', 'max_depth': 2, 'max_features': 5, 'min_samples_leaf': 50, 'min_samples_split': 10}\n0.613 (+/-0.052) for {'bootstrap': False, 'class_weight': {0: 0.3, 1: 0.7}, 'criterion': 'entropy', 'max_depth': 2, 'max_features': 5, 'min_samples_leaf': 50, 'min_samples_split': 50}\n0.733 (+/-0.022) for {'bootstrap': False, 'class_weight': {0: 0.3, 1: 0.7}, 'criterion': 'entropy', 'max_depth': 3, 'max_features': 5, 'min_samples_leaf': 10, 'min_samples_split': 10}\n0.734 (+/-0.023) for {'bootstrap': False, 'class_weight': {0: 0.3, 1: 0.7}, 'criterion': 'entropy', 'max_depth': 3, 'max_features': 5, 'min_samples_leaf': 10, 'min_samples_split': 50}\n0.734 (+/-0.023) for {'bootstrap': False, 'class_weight': {0: 0.3, 1: 0.7}, 'criterion': 'entropy', 'max_depth': 3, 'max_features': 5, 'min_samples_leaf': 50, 'min_samples_split': 10}\n0.732 (+/-0.024) for {'bootstrap': False, 'class_weight': {0: 0.3, 1: 0.7}, 'criterion': 'entropy', 'max_depth': 3, 'max_features': 5, 'min_samples_leaf': 50, 'min_samples_split': 50}\n0.963 (+/-0.012) for {'bootstrap': False, 'class_weight': {0: 0.3, 1: 0.7}, 'criterion': 'entropy', 'max_depth': 12, 'max_features': 5, 'min_samples_leaf': 10, 'min_samples_split': 10}\n0.952 (+/-0.014) for {'bootstrap': False, 'class_weight': {0: 0.3, 1: 0.7}, 'criterion': 'entropy', 'max_depth': 12, 'max_features': 5, 'min_samples_leaf': 10, 'min_samples_split': 50}\n0.912 (+/-0.017) for {'bootstrap': False, 'class_weight': {0: 0.3, 1: 0.7}, 'criterion': 'entropy', 'max_depth': 12, 'max_features': 5, 'min_samples_leaf': 50, 'min_samples_split': 10}\n0.912 (+/-0.017) for {'bootstrap': False, 'class_weight': {0: 0.3, 1: 0.7}, 'criterion': 'entropy', 'max_depth': 12, 'max_features': 5, 'min_samples_leaf': 50, 'min_samples_split': 50}\n0.968 (+/-0.012) for {'bootstrap': False, 'class_weight': {0: 0.3, 1: 0.7}, 'criterion': 'entropy', 'max_depth': None, 'max_features': 5, 'min_samples_leaf': 10, 'min_samples_split': 10}\n0.956 (+/-0.015) for {'bootstrap': False, 'class_weight': {0: 0.3, 1: 0.7}, 'criterion': 'entropy', 'max_depth': None, 'max_features': 5, 'min_samples_leaf': 10, 'min_samples_split': 50}\n0.904 (+/-0.027) for {'bootstrap': False, 'class_weight': {0: 0.3, 1: 0.7}, 'criterion': 'entropy', 'max_depth': None, 'max_features': 5, 'min_samples_leaf': 50, 'min_samples_split': 10}\n0.911 (+/-0.018) for {'bootstrap': False, 'class_weight': {0: 0.3, 1: 0.7}, 'criterion': 'entropy', 'max_depth': None, 'max_features': 5, 'min_samples_leaf': 50, 'min_samples_split': 50}\n0.618 (+/-0.047) for {'bootstrap': False, 'class_weight': {0: 0.3, 1: 0.7}, 'criterion': 'gini', 'max_depth': 2, 'max_features': 5, 'min_samples_leaf': 10, 'min_samples_split': 10}\n0.601 (+/-0.064) for {'bootstrap': False, 'class_weight': {0: 0.3, 1: 0.7}, 'criterion': 'gini', 'max_depth': 2, 'max_features': 5, 'min_samples_leaf': 10, 'min_samples_split': 50}\n0.606 (+/-0.069) for {'bootstrap': False, 'class_weight': {0: 0.3, 1: 0.7}, 'criterion': 'gini', 'max_depth': 2, 'max_features': 5, 'min_samples_leaf': 50, 'min_samples_split': 10}\n0.598 (+/-0.074) for {'bootstrap': False, 'class_weight': {0: 0.3, 1: 0.7}, 'criterion': 'gini', 'max_depth': 2, 'max_features': 5, 'min_samples_leaf': 50, 'min_samples_split': 50}\n0.732 (+/-0.025) for {'bootstrap': False, 'class_weight': {0: 0.3, 1: 0.7}, 'criterion': 'gini', 'max_depth': 3, 'max_features': 5, 'min_samples_leaf': 10, 'min_samples_split': 10}\n0.733 (+/-0.024) for {'bootstrap': False, 'class_weight': {0: 0.3, 1: 0.7}, 'criterion': 'gini', 'max_depth': 3, 'max_features': 5, 'min_samples_leaf': 10, 'min_samples_split': 50}\n0.732 (+/-0.024) for {'bootstrap': False, 'class_weight': {0: 0.3, 1: 0.7}, 'criterion': 'gini', 'max_depth': 3, 'max_features': 5, 'min_samples_leaf': 50, 'min_samples_split': 10}\n0.733 (+/-0.025) for {'bootstrap': False, 'class_weight': {0: 0.3, 1: 0.7}, 'criterion': 'gini', 'max_depth': 3, 'max_features': 5, 'min_samples_leaf': 50, 'min_samples_split': 50}\n0.961 (+/-0.018) for {'bootstrap': False, 'class_weight': {0: 0.3, 1: 0.7}, 'criterion': 'gini', 'max_depth': 12, 'max_features': 5, 'min_samples_leaf': 10, 'min_samples_split': 10}\n0.949 (+/-0.013) for {'bootstrap': False, 'class_weight': {0: 0.3, 1: 0.7}, 'criterion': 'gini', 'max_depth': 12, 'max_features': 5, 'min_samples_leaf': 10, 'min_samples_split': 50}\n0.905 (+/-0.020) for {'bootstrap': False, 'class_weight': {0: 0.3, 1: 0.7}, 'criterion': 'gini', 'max_depth': 12, 'max_features': 5, 'min_samples_leaf': 50, 'min_samples_split': 10}\n0.905 (+/-0.027) for {'bootstrap': False, 'class_weight': {0: 0.3, 1: 0.7}, 'criterion': 'gini', 'max_depth': 12, 'max_features': 5, 'min_samples_leaf': 50, 'min_samples_split': 50}\n0.961 (+/-0.010) for {'bootstrap': False, 'class_weight': {0: 0.3, 1: 0.7}, 'criterion': 'gini', 'max_depth': None, 'max_features': 5, 'min_samples_leaf': 10, 'min_samples_split': 10}\n0.949 (+/-0.005) for {'bootstrap': False, 'class_weight': {0: 0.3, 1: 0.7}, 'criterion': 'gini', 'max_depth': None, 'max_features': 5, 'min_samples_leaf': 10, 'min_samples_split': 50}\n0.902 (+/-0.022) for {'bootstrap': False, 'class_weight': {0: 0.3, 1: 0.7}, 'criterion': 'gini', 'max_depth': None, 'max_features': 5, 'min_samples_leaf': 50, 'min_samples_split': 10}\n0.906 (+/-0.027) for {'bootstrap': False, 'class_weight': {0: 0.3, 1: 0.7}, 'criterion': 'gini', 'max_depth': None, 'max_features': 5, 'min_samples_leaf': 50, 'min_samples_split': 50}\nBest parameters: {'bootstrap': False, 'class_weight': 'balanced', 'criterion': 'entropy', 'max_depth': 12, 'max_features': 5, 'min_samples_leaf': 10, 'min_samples_split': 10}\nBest Score:  0.975745644530086\n"
     ]
    }
   ],
   "source": [
    "\n",
    "\n",
    "param_dist = [{\"max_depth\": [2,3,12,None],\n",
    "              \"max_features\": [5],# Al massimo 6 non di più\n",
    "              \"min_samples_split\": [10,50],\n",
    "              \"min_samples_leaf\": [10,50],\n",
    "              \"bootstrap\": [True, False],\n",
    "              \"criterion\": [\"entropy\", \"gini\"],\n",
    "              \"class_weight\":['balanced', None, {0: 0.3, 1: 0.7}]}]\n",
    "\n",
    "clf = RandomForestClassifier(n_estimators=30)\n",
    "grid_search = GridSearchCV(clf, param_dist,  \n",
    "                            n_jobs=3, \n",
    "                            scoring='accuracy')\n",
    "\n",
    "grid_search.fit(train_set, train_label)\n",
    "\n",
    "print(\"Complete Grid search:\")\n",
    "means = grid_search.cv_results_['mean_test_score']\n",
    "stds = grid_search.cv_results_['std_test_score']\n",
    "for mean, std, params in zip(means, stds, grid_search.cv_results_['params']):\n",
    "    print(\"%0.3f (+/-%0.03f) for %r\"% (mean, std * 2, params))\n",
    "\n",
    "print(\"Best parameters:\",grid_search.best_params_)\n",
    "print(\"Best Score: \",grid_search.best_score_)\n"
   ]
  },
  {
   "source": [
    "## Modello Finale"
   ],
   "cell_type": "markdown",
   "metadata": {}
  },
  {
   "cell_type": "code",
   "execution_count": 6,
   "metadata": {},
   "outputs": [],
   "source": [
    "rf = RandomForestClassifier(n_estimators=30, \n",
    "                             criterion='entropy',\n",
    "                             class_weight=None,\n",
    "                             max_features=5,\n",
    "                             max_depth=12, \n",
    "                             min_samples_split=50,\n",
    "                             min_samples_leaf=10,\n",
    "                             bootstrap=True) \n",
    "rf = rf.fit(train_set, train_label)"
   ]
  },
  {
   "cell_type": "code",
   "execution_count": 7,
   "metadata": {},
   "outputs": [],
   "source": [
    "#prediction on the test test\n",
    "test_pred_rf = rf.predict(test_set)"
   ]
  },
  {
   "cell_type": "code",
   "execution_count": 8,
   "metadata": {},
   "outputs": [
    {
     "output_type": "stream",
     "name": "stdout",
     "text": [
      "              precision    recall  f1-score   support\n\n           0       1.00      0.94      0.97       507\n           1       0.92      0.97      0.94       507\n           2       0.97      0.97      0.97       507\n\n    accuracy                           0.96      1521\n   macro avg       0.96      0.96      0.96      1521\nweighted avg       0.96      0.96      0.96      1521\n\n"
     ]
    }
   ],
   "source": [
    "#compute the performance of the model\n",
    "print(classification_report(test_label, \n",
    "                            test_pred_rf))"
   ]
  },
  {
   "cell_type": "code",
   "execution_count": null,
   "metadata": {},
   "outputs": [],
   "source": []
  }
 ]
}