{
 "metadata": {
  "language_info": {
   "codemirror_mode": {
    "name": "ipython",
    "version": 3
   },
   "file_extension": ".py",
   "mimetype": "text/x-python",
   "name": "python",
   "nbconvert_exporter": "python",
   "pygments_lexer": "ipython3",
   "version": "3.7.5-final"
  },
  "orig_nbformat": 2,
  "kernelspec": {
   "name": "Python 3.7.5 64-bit",
   "display_name": "Python 3.7.5 64-bit",
   "metadata": {
    "interpreter": {
     "hash": "a23959b220aae94b277b2feb28a92f00653f030ef1fcf8b66d10e2db8b9e2607"
    }
   }
  }
 },
 "nbformat": 4,
 "nbformat_minor": 2,
 "cells": [
  {
   "source": [
    "# Informazioni dataset\n",
    "Dal link https://archive.ics.uci.edu/ml/datasets/Online+Retail si estrapolano alcune informazioni per quanto riguarda gli attributi. Di seguito si elencano le cose più importanti\n",
    "\n"
   ],
   "cell_type": "markdown",
   "metadata": {}
  },
  {
   "source": [
    "## Provenienza dati\n",
    "Si tratta di un sito e-commerce Inglese. Vende principalmente regali per tutte le occasioni e molti dei clienti sono grossisti."
   ],
   "cell_type": "markdown",
   "metadata": {}
  },
  {
   "source": [
    "## Prezzo articolo\n",
    "Nella colonna sale è presente il prezzo per singolo articolo quindi equivale a quantità=1. Il prezzo è in sterline"
   ],
   "cell_type": "markdown",
   "metadata": {}
  },
  {
   "source": [
    "## Ordini cancellati"
   ],
   "cell_type": "markdown",
   "metadata": {}
  },
  {
   "cell_type": "code",
   "execution_count": 1,
   "metadata": {},
   "outputs": [
    {
     "output_type": "execute_result",
     "data": {
      "text/plain": [
       "  BasketID           BasketDate  Sale  CustomerID CustomerCountry  ProdID  \\\n",
       "0   536365  2010-12-01 08:26:00  2.55     17850.0  United Kingdom  85123A   \n",
       "1   536365  2010-12-01 08:26:00  3.39     17850.0  United Kingdom   71053   \n",
       "2   536365  2010-12-01 08:26:00  2.75     17850.0  United Kingdom  84406B   \n",
       "3   536365  2010-12-01 08:26:00  3.39     17850.0  United Kingdom  84029G   \n",
       "4   536365  2010-12-01 08:26:00  3.39     17850.0  United Kingdom  84029E   \n",
       "\n",
       "                             ProdDescr  Qta  \n",
       "0   WHITE HANGING HEART T-LIGHT HOLDER    6  \n",
       "1                  WHITE METAL LANTERN    6  \n",
       "2       CREAM CUPID HEARTS COAT HANGER    8  \n",
       "3  KNITTED UNION FLAG HOT WATER BOTTLE    6  \n",
       "4       RED WOOLLY HOTTIE WHITE HEART.    6  "
      ],
      "text/html": "<div>\n<style scoped>\n    .dataframe tbody tr th:only-of-type {\n        vertical-align: middle;\n    }\n\n    .dataframe tbody tr th {\n        vertical-align: top;\n    }\n\n    .dataframe thead th {\n        text-align: right;\n    }\n</style>\n<table border=\"1\" class=\"dataframe\">\n  <thead>\n    <tr style=\"text-align: right;\">\n      <th></th>\n      <th>BasketID</th>\n      <th>BasketDate</th>\n      <th>Sale</th>\n      <th>CustomerID</th>\n      <th>CustomerCountry</th>\n      <th>ProdID</th>\n      <th>ProdDescr</th>\n      <th>Qta</th>\n    </tr>\n  </thead>\n  <tbody>\n    <tr>\n      <th>0</th>\n      <td>536365</td>\n      <td>2010-12-01 08:26:00</td>\n      <td>2.55</td>\n      <td>17850.0</td>\n      <td>United Kingdom</td>\n      <td>85123A</td>\n      <td>WHITE HANGING HEART T-LIGHT HOLDER</td>\n      <td>6</td>\n    </tr>\n    <tr>\n      <th>1</th>\n      <td>536365</td>\n      <td>2010-12-01 08:26:00</td>\n      <td>3.39</td>\n      <td>17850.0</td>\n      <td>United Kingdom</td>\n      <td>71053</td>\n      <td>WHITE METAL LANTERN</td>\n      <td>6</td>\n    </tr>\n    <tr>\n      <th>2</th>\n      <td>536365</td>\n      <td>2010-12-01 08:26:00</td>\n      <td>2.75</td>\n      <td>17850.0</td>\n      <td>United Kingdom</td>\n      <td>84406B</td>\n      <td>CREAM CUPID HEARTS COAT HANGER</td>\n      <td>8</td>\n    </tr>\n    <tr>\n      <th>3</th>\n      <td>536365</td>\n      <td>2010-12-01 08:26:00</td>\n      <td>3.39</td>\n      <td>17850.0</td>\n      <td>United Kingdom</td>\n      <td>84029G</td>\n      <td>KNITTED UNION FLAG HOT WATER BOTTLE</td>\n      <td>6</td>\n    </tr>\n    <tr>\n      <th>4</th>\n      <td>536365</td>\n      <td>2010-12-01 08:26:00</td>\n      <td>3.39</td>\n      <td>17850.0</td>\n      <td>United Kingdom</td>\n      <td>84029E</td>\n      <td>RED WOOLLY HOTTIE WHITE HEART.</td>\n      <td>6</td>\n    </tr>\n  </tbody>\n</table>\n</div>"
     },
     "metadata": {},
     "execution_count": 1
    }
   ],
   "source": [
    "import numpy as np\n",
    "import pandas as pd\n",
    "import matplotlib.pyplot as plt\n",
    "df = pd.read_csv(\"dataset/TC-dataset.csv\", sep=\"\\t\",index_col=0)\n",
    "df.head()"
   ]
  },
  {
   "source": [
    "Secondo la descrizione del dataset quando in basket id abbiamo una C iniziale si tratta di ordini cancellati, verifichiamo quanti sono i sample cancellati"
   ],
   "cell_type": "markdown",
   "metadata": {}
  },
  {
   "cell_type": "code",
   "execution_count": 2,
   "metadata": {},
   "outputs": [
    {
     "output_type": "stream",
     "name": "stdout",
     "text": [
      "9084\n",
      "3754\n"
     ]
    }
   ],
   "source": [
    "print(len(df[df[\"BasketID\"].str.contains(\"C\")]))\n",
    "print(len(df[df[\"BasketID\"].str.contains(\"C\")].BasketID.unique()))"
   ]
  },
  {
   "source": [
    "I sample totali che sono stati cancellati sono 9084, ma se guardiamo gli ordini si tratta di 3754 ordini.\n",
    "Alla cancellazione degli ordini è abbinata una quantità negativa. Vediamo infatti quante sono le quantità negative del dataset e quante di queste appartendono a ordini cancellati,"
   ],
   "cell_type": "markdown",
   "metadata": {}
  },
  {
   "cell_type": "code",
   "execution_count": 3,
   "metadata": {},
   "outputs": [
    {
     "output_type": "stream",
     "name": "stdout",
     "text": [
      "9752\n",
      "9084\n"
     ]
    }
   ],
   "source": [
    "print(len(df[df[\"Qta\"]<=0]))\n",
    "print(len(df[(df[\"Qta\"]<=0) &(df[\"BasketID\"].str.contains(\"C\"))]))"
   ]
  },
  {
   "source": [
    "In totale nel dataset abbiamo 9752 quantità negative, di queste 9084 appartengono a ordini cancellati.\n",
    "\n",
    "Propongo quindi per una correttezza semantica di eliminare gli ordini cancellati\n",
    "\n",
    "Controlliamo anche l'attributo Sale e vediamo quando è <=0"
   ],
   "cell_type": "markdown",
   "metadata": {}
  },
  {
   "cell_type": "code",
   "execution_count": 31,
   "metadata": {},
   "outputs": [
    {
     "output_type": "stream",
     "name": "stdout",
     "text": [
      "1281\n",
      "0\n"
     ]
    }
   ],
   "source": [
    "print(len(df[df[\"Sale\"]<=0]))\n",
    "print(len(df[(df[\"Sale\"]<=0) &(df[\"BasketID\"].str.contains(\"C\"))]))"
   ]
  },
  {
   "source": [
    "Di conseguenza non corrisponde ad ordini cancellati"
   ],
   "cell_type": "markdown",
   "metadata": {}
  },
  {
   "cell_type": "code",
   "execution_count": 35,
   "metadata": {},
   "outputs": [
    {
     "output_type": "stream",
     "name": "stdout",
     "text": [
      "668\n"
     ]
    }
   ],
   "source": [
    "\n",
    "print(len(df[(df[\"Sale\"]<=0) &(df[\"Qta\"]<=0)]))"
   ]
  },
  {
   "source": [
    "Praticamente tutti i casi in cui Qta<=0 o sono cancellati o hanno sale a 0"
   ],
   "cell_type": "markdown",
   "metadata": {}
  },
  {
   "cell_type": "code",
   "execution_count": 29,
   "metadata": {},
   "outputs": [
    {
     "output_type": "stream",
     "name": "stdout",
     "text": [
      "65080\n1241\n"
     ]
    }
   ],
   "source": [
    "print(len(df[df[\"CustomerID\"].isnull()]))\n",
    "print(len(df[(df[\"Sale\"]<=0) &(df[\"CustomerID\"].isnull())]))"
   ]
  },
  {
   "source": [
    "Quindi in corrispondenza di un sale <=0 nella maggior parte dei casi abbiamo il customerid a null"
   ],
   "cell_type": "markdown",
   "metadata": {}
  },
  {
   "source": [
    "## Considerazioni finali\n",
    "L'attributo Quantita<=0 indica o ordini cancellati o sale<=0 quindi:\n",
    "* Propongo di eliminare tutti gli ordini con qta<=0. In questa maniera si eliminano tutti gli ordini cancellati e alcuni Sale<=0.\n",
    "* I Sale<=0 rimasti li consideriamo come omaggi\n"
   ],
   "cell_type": "markdown",
   "metadata": {}
  }
 ]
}