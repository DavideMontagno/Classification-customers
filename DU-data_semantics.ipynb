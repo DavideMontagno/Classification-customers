{
 "metadata": {
  "language_info": {
   "codemirror_mode": {
    "name": "ipython",
    "version": 3
   },
   "file_extension": ".py",
   "mimetype": "text/x-python",
   "name": "python",
   "nbconvert_exporter": "python",
   "pygments_lexer": "ipython3",
   "version": "3.7.5-final"
  },
  "orig_nbformat": 2,
  "kernelspec": {
   "name": "Python 3.7.5 64-bit",
   "display_name": "Python 3.7.5 64-bit",
   "metadata": {
    "interpreter": {
     "hash": "a23959b220aae94b277b2feb28a92f00653f030ef1fcf8b66d10e2db8b9e2607"
    }
   }
  }
 },
 "nbformat": 4,
 "nbformat_minor": 2,
 "cells": [
  {
   "source": [
    "# Data Semantics\n",
    "Il dataset contiene al suo interno dei record che descrivono l'acquisto di un prodotto nel dettaglio e il suo acquirente. Inoltre ci fornisce l'informazione del carrello a cui appartiene il prodotto."
   ],
   "cell_type": "markdown",
   "metadata": {}
  },
  {
   "cell_type": "code",
   "execution_count": 1,
   "metadata": {},
   "outputs": [],
   "source": [
    "import numpy as np\n",
    "import pandas as pd\n",
    "import matplotlib.pyplot as plt"
   ]
  },
  {
   "cell_type": "code",
   "execution_count": 2,
   "metadata": {},
   "outputs": [
    {
     "output_type": "stream",
     "name": "stdout",
     "text": [
      "<class 'pandas.core.frame.DataFrame'>\nInt64Index: 471910 entries, 0 to 541909\nData columns (total 8 columns):\nBasketID           471910 non-null object\nBasketDate         471910 non-null object\nSale               471910 non-null object\nCustomerID         406830 non-null float64\nCustomerCountry    471910 non-null object\nProdID             471910 non-null object\nProdDescr          471157 non-null object\nQta                471910 non-null int64\ndtypes: float64(1), int64(1), object(6)\nmemory usage: 32.4+ MB\n"
     ]
    }
   ],
   "source": [
    "df = pd.read_csv(\"dataset/customer_supermarket.csv\", sep=\"\\t\",index_col=0)\n",
    "df.info()\n",
    "print(df.head())\n",
    "print(\"\\nNumero di record\")\n",
    "len(df.index)"
   ]
  },
  {
   "source": [
    "Il dataset preso in analisi è composto da 471.910 record descritto da 8 attributi\n",
    "\n",
    "* BasketID: (Nominale) ID del carrello in cui il prodotto è contenuto\n",
    "* BasketDate: (Numerico, intervallo) La data in cui è avvenuto l'acquisto\n",
    "* Sale: (Numerico, continuo???) Il prezzo pagato per l'acquisto dal cliente. Dominio N>0\n",
    "* CustomerID: (nominale) ID del cliente. Dominio N\n",
    "* CustomerCountry: (Nominale) La città di appartenenza del cliente\n",
    "* ProdID: (Nominale) ID del prodotto acquistato\n",
    "* ProdDescr: (Nominale) Descrizione del prodotto\n",
    "* Qta: (Numerico, discreto) Quantità di prodotto acquistata. Dominio N>0"
   ],
   "cell_type": "markdown",
   "metadata": {}
  },
  {
   "source": [
    "## Variable transformation\n",
    "In questo notebook si guarda il tipo dei vari attributi che abbiamo e si modificano eventualmente\n",
    "\n",
    "### BasketID ✔️\n",
    "Cerchiamo di capire il tipo di dato. Vediamo che è composto da Lettere maiuscole e numeri."
   ],
   "cell_type": "markdown",
   "metadata": {}
  },
  {
   "cell_type": "code",
   "execution_count": 3,
   "metadata": {},
   "outputs": [
    {
     "output_type": "stream",
     "name": "stdout",
     "text": [
      "MAIUSC: True\n",
      "minuscole: False\n",
      "Numeri: True\n",
      "Segni speciali: False\n"
     ]
    }
   ],
   "source": [
    "print(\"MAIUSC: \"+str(df.BasketID.str.contains('[A-Z]').any()))\n",
    "print(\"minuscole: \"+str(df.BasketID.str.contains('[a-z]').any()))\n",
    "print(\"Numeri: \"+str(df.BasketID.str.contains('[0-9]').any()))\n",
    "print(\"Segni speciali: \"+str(df.BasketID.str.contains('[^A-Za-z0-9]').any()))"
   ]
  },
  {
   "source": [
    "è corretto mantenerlo come letterale"
   ],
   "cell_type": "markdown",
   "metadata": {}
  },
  {
   "source": [
    "### ProdID ✔️\n",
    "è un oggetto vediamo come è composto"
   ],
   "cell_type": "markdown",
   "metadata": {}
  },
  {
   "cell_type": "code",
   "execution_count": 4,
   "metadata": {},
   "outputs": [
    {
     "output_type": "stream",
     "name": "stdout",
     "text": [
      "MAIUSC: True\n",
      "minuscole: True\n",
      "Numeri: True\n",
      "Segni speciali: True\n"
     ]
    }
   ],
   "source": [
    "print(\"MAIUSC: \"+str(df.ProdID.str.contains('[A-Z]').any()))\n",
    "print(\"minuscole: \"+str(df.ProdID.str.contains('[a-z]').any()))\n",
    "print(\"Numeri: \"+str(df.ProdID.str.contains('[0-9]').any()))\n",
    "print(\"Segni speciali: \"+str(df.ProdID.str.contains('[^A-Za-z0-9]').any()))"
   ]
  },
  {
   "cell_type": "code",
   "execution_count": 5,
   "metadata": {},
   "outputs": [
    {
     "output_type": "stream",
     "name": "stdout",
     "text": [
      "{'BANK CHARGES': 25, 'gift_0001_40': 3, 'gift_0001_30': 5, 'gift_0001_20': 4, 'gift_0001_10': 4, 'gift_0001_50': 2}\n"
     ]
    }
   ],
   "source": [
    "import re\n",
    "regexp = re.compile(r'[^A-Za-z0-9]')\n",
    "dict_special={}\n",
    "for index, row in df[\"ProdID\"].iteritems():\n",
    "    if(regexp.search(row)):\n",
    "        if(row in dict_special):\n",
    "            dict_special[row]+=1\n",
    "        else:\n",
    "            dict_special[row]=1\n",
    "print(dict_special)"
   ]
  },
  {
   "source": [
    "In particolare i prodotti che contengono caratteri speciali sono pochi e sono di fue categorie BANK CHARGES e gift. In ogni caso va bene mantenerlo come stringa"
   ],
   "cell_type": "markdown",
   "metadata": {}
  },
  {
   "source": [
    "### ProdDescr  ✔️\n",
    "contiene la descrizione dei prodotti, è un attributo nominale e non c'è bisogno di nessuna conversione"
   ],
   "cell_type": "markdown",
   "metadata": {}
  },
  {
   "source": [
    "### Qta ✔️\n",
    "Indica la quantità acquistata di un determinato prodotto, in questo caso abbiamo degli interi ed è giusto che sia così"
   ],
   "cell_type": "markdown",
   "metadata": {}
  },
  {
   "source": [
    "### BasketDate ⚠️\n",
    "Dovrebbe essere un datetime ma in realtà è un ogetto, provvediamo a modificarlo"
   ],
   "cell_type": "markdown",
   "metadata": {}
  },
  {
   "cell_type": "code",
   "execution_count": 6,
   "metadata": {},
   "outputs": [],
   "source": [
    "df[\"BasketDate\"] = pd.to_datetime(df['BasketDate'], format='%d/%m/%y %H:%M')"
   ]
  },
  {
   "source": [
    "### Sale ⚠️\n",
    "è un object ma dovrebbe essere un float, modifichiamo.\n",
    "\n"
   ],
   "cell_type": "markdown",
   "metadata": {}
  },
  {
   "cell_type": "code",
   "execution_count": 7,
   "metadata": {},
   "outputs": [],
   "source": [
    "df[\"Sale\"] = df['Sale'].str.replace(',', '.').astype(float)"
   ]
  },
  {
   "source": [
    "### CustomerID ⚠️\n",
    "Questo campo è un float ma potrebbe essere tranquillamente una stringa. Controlliamo che non ci siano decimali, in modo da convertire prima a int e poi a stringa"
   ],
   "cell_type": "markdown",
   "metadata": {}
  },
  {
   "cell_type": "code",
   "execution_count": 8,
   "metadata": {
    "tags": []
   },
   "outputs": [
    {
     "output_type": "stream",
     "name": "stdout",
     "text": [
      "0\n"
     ]
    }
   ],
   "source": [
    "import math\n",
    "count=0\n",
    "for index, row in df[\"CustomerID\"].iteritems():\n",
    "    if(row %1!=0.0 and not math.isnan(row)):\n",
    "        count+=1\n",
    "        print(row)\n",
    "print(count)\n",
    "        "
   ]
  },
  {
   "source": [
    "Trasformiamo tutto in stringa e eliminiamo la parte decimale per pulizia. Preservando i valori che sono a null che verranno trattati in seguito."
   ],
   "cell_type": "markdown",
   "metadata": {}
  },
  {
   "cell_type": "code",
   "execution_count": 9,
   "metadata": {},
   "outputs": [
    {
     "output_type": "execute_result",
     "data": {
      "text/plain": [
       "65080"
      ]
     },
     "metadata": {},
     "execution_count": 9
    }
   ],
   "source": [
    "len(df[df[\"CustomerID\"].isnull()])"
   ]
  },
  {
   "cell_type": "code",
   "execution_count": 10,
   "metadata": {},
   "outputs": [],
   "source": [
    "df[\"CustomerID\"] = df['CustomerID'].astype(str).str.replace('\\.0', '')"
   ]
  },
  {
   "cell_type": "code",
   "execution_count": 11,
   "metadata": {},
   "outputs": [
    {
     "output_type": "execute_result",
     "data": {
      "text/plain": [
       "65080"
      ]
     },
     "metadata": {},
     "execution_count": 11
    }
   ],
   "source": [
    "len(df[df[\"CustomerID\"]==\"nan\"])"
   ]
  },
  {
   "source": [
    "### Salvataggio dataframe\n",
    "Salviamo il dataframe con i tipi di dato modificati"
   ],
   "cell_type": "markdown",
   "metadata": {}
  },
  {
   "source": [
    "df.to_csv('dataset/TC-dataset.csv', sep='\\t')"
   ],
   "cell_type": "code",
   "metadata": {},
   "execution_count": 12,
   "outputs": []
  },
  {
   "cell_type": "code",
   "execution_count": 13,
   "metadata": {},
   "outputs": [
    {
     "output_type": "stream",
     "name": "stdout",
     "text": [
      "<class 'pandas.core.frame.DataFrame'>\nInt64Index: 471910 entries, 0 to 541909\nData columns (total 8 columns):\nBasketID           471910 non-null object\nBasketDate         471910 non-null object\nSale               471910 non-null float64\nCustomerID         406830 non-null float64\nCustomerCountry    471910 non-null object\nProdID             471910 non-null object\nProdDescr          471157 non-null object\nQta                471910 non-null int64\ndtypes: float64(2), int64(1), object(5)\nmemory usage: 32.4+ MB\n"
     ]
    }
   ],
   "source": [
    "df = pd.read_csv(\"dataset/TC-dataset.csv\", sep=\"\\t\",index_col=0)\n",
    "df.info()"
   ]
  }
 ]
}