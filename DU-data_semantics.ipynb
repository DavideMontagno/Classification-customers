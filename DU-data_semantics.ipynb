{
 "metadata": {
  "language_info": {
   "codemirror_mode": {
    "name": "ipython",
    "version": 3
   },
   "file_extension": ".py",
   "mimetype": "text/x-python",
   "name": "python",
   "nbconvert_exporter": "python",
   "pygments_lexer": "ipython3",
   "version": "3.7.8-final"
  },
  "orig_nbformat": 2,
  "kernelspec": {
   "name": "Python 3.7.8 64-bit",
   "display_name": "Python 3.7.8 64-bit",
   "metadata": {
    "interpreter": {
     "hash": "57baa5815c940fdaff4d14510622de9616cae602444507ba5d0b6727c008cbd6"
    }
   }
  }
 },
 "nbformat": 4,
 "nbformat_minor": 2,
 "cells": [
  {
   "source": [],
   "cell_type": "markdown",
   "metadata": {}
  },
  {
   "source": [
    "import pandas as pd\n",
    "import numpy as np"
   ],
   "cell_type": "code",
   "metadata": {},
   "execution_count": 19,
   "outputs": []
  },
  {
   "cell_type": "code",
   "execution_count": 45,
   "metadata": {},
   "outputs": [
    {
     "output_type": "stream",
     "name": "stdout",
     "text": [
      "  BasketID      BasketDate  Sale  CustomerID CustomerCountry  ProdID  \\\n0   536365  01/12/10 08:26  2,55     17850.0  United Kingdom  85123A   \n1   536365  01/12/10 08:26  3,39     17850.0  United Kingdom   71053   \n2   536365  01/12/10 08:26  2,75     17850.0  United Kingdom  84406B   \n3   536365  01/12/10 08:26  3,39     17850.0  United Kingdom  84029G   \n4   536365  01/12/10 08:26  3,39     17850.0  United Kingdom  84029E   \n\n                             ProdDescr  Qta  \n0   WHITE HANGING HEART T-LIGHT HOLDER    6  \n1                  WHITE METAL LANTERN    6  \n2       CREAM CUPID HEARTS COAT HANGER    8  \n3  KNITTED UNION FLAG HOT WATER BOTTLE    6  \n4       RED WOOLLY HOTTIE WHITE HEART.    6  \n\nNumero di record\n"
     ]
    },
    {
     "output_type": "execute_result",
     "data": {
      "text/plain": [
       "471910"
      ]
     },
     "metadata": {},
     "execution_count": 45
    }
   ],
   "source": [
    "df = pd.read_csv(\"dataset/customer_supermarket.csv\", sep=\"\\t\",index_col=0)\n",
    "\n",
    "\n",
    "print(df.head())\n",
    "print(\"\\nNumero di record\")\n",
    "len(df.index)"
   ]
  },
  {
   "source": [
    "## Data Understanding\n",
    "Il dataset contiene al suo interno dei record che descrivono l'acquisto di un prodotto nel dettaglio e il suo acquirente. Inoltre ci fornisce l'informazione del carrello a cui appartiene il prodotto."
   ],
   "cell_type": "markdown",
   "metadata": {}
  },
  {
   "source": [
    "## Data Semantics\n",
    "Il dataset preso in analisi è composto da 471.910 record descritto da 8 attributi\n",
    "\n",
    "* BasketID: (Nominale) ID del carrello in cui il prodotto è contenuto\n",
    "* BasketDate: (Numerico, intervallo) La data in cui è avvenuto l'acquisto\n",
    "* Sale: (Numerico, continuo???) Il prezzo pagato per l'acquisto dal cliente. Dominio N>0\n",
    "* CustomerID: (nominale) ID del cliente. Dominio N\n",
    "* CustomerCountry: (Nominale) La città di appartenenza del cliente\n",
    "* ProdID: (Nominale) ID del prodotto acquistato\n",
    "* ProdDescr: (Nominale) Descrizione del prodotto\n",
    "* Qta: (Numerico, discreto) Quantità di prodotto acquistata. Dominio N>0\n"
   ],
   "cell_type": "markdown",
   "metadata": {}
  },
  {
   "cell_type": "code",
   "execution_count": null,
   "metadata": {},
   "outputs": [],
   "source": []
  }
 ]
}