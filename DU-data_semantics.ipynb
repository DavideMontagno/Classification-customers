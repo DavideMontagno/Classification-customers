{
 "metadata": {
  "language_info": {
   "codemirror_mode": {
    "name": "ipython",
    "version": 3
   },
   "file_extension": ".py",
   "mimetype": "text/x-python",
   "name": "python",
   "nbconvert_exporter": "python",
   "pygments_lexer": "ipython3",
   "version": "3.8.1-final"
  },
  "orig_nbformat": 2,
  "kernelspec": {
   "name": "Python 3.8.1 64-bit ('global': conda)",
   "display_name": "Python 3.8.1 64-bit ('global': conda)",
   "metadata": {
    "interpreter": {
     "hash": "62a0a71f3957e8a37755d1b2583238dc5de7e6f67aae5eba00a886e262893edc"
    }
   }
  }
 },
 "nbformat": 4,
 "nbformat_minor": 2,
 "cells": [
  {
   "source": [
    "# Data Semantics\n",
    "Il dataset contiene al suo interno dei record che descrivono l'acquisto di un prodotto nel dettaglio e il suo acquirente. Inoltre ci fornisce l'informazione del carrello a cui appartiene il prodotto."
   ],
   "cell_type": "markdown",
   "metadata": {}
  },
  {
   "cell_type": "code",
   "execution_count": 50,
   "metadata": {},
   "outputs": [],
   "source": [
    "import numpy as np\n",
    "import pandas as pd\n",
    "import matplotlib.pyplot as plt"
   ]
  },
  {
   "cell_type": "code",
   "execution_count": 52,
   "metadata": {},
   "outputs": [
    {
     "output_type": "stream",
     "name": "stdout",
     "text": [
      "<class 'pandas.core.frame.DataFrame'>\nInt64Index: 471910 entries, 0 to 541909\nData columns (total 8 columns):\n #   Column           Non-Null Count   Dtype  \n---  ------           --------------   -----  \n 0   BasketID         471910 non-null  object \n 1   BasketDate       471910 non-null  object \n 2   Sale             471910 non-null  float64\n 3   CustomerID       406830 non-null  object \n 4   CustomerCountry  471910 non-null  object \n 5   ProdID           471910 non-null  object \n 6   ProdDescr        471157 non-null  object \n 7   Qta              471910 non-null  int64  \ndtypes: float64(1), int64(1), object(6)\nmemory usage: 32.4+ MB\n  BasketID      BasketDate  Sale CustomerID CustomerCountry  ProdID  \\\n0   536365  01/12/10 08:26  2.55    17850.0  United Kingdom  85123A   \n1   536365  01/12/10 08:26  3.39    17850.0  United Kingdom   71053   \n2   536365  01/12/10 08:26  2.75    17850.0  United Kingdom  84406B   \n3   536365  01/12/10 08:26  3.39    17850.0  United Kingdom  84029G   \n4   536365  01/12/10 08:26  3.39    17850.0  United Kingdom  84029E   \n\n                             ProdDescr  Qta  \n0   WHITE HANGING HEART T-LIGHT HOLDER    6  \n1                  WHITE METAL LANTERN    6  \n2       CREAM CUPID HEARTS COAT HANGER    8  \n3  KNITTED UNION FLAG HOT WATER BOTTLE    6  \n4       RED WOOLLY HOTTIE WHITE HEART.    6  \n\nNumero di record\n"
     ]
    },
    {
     "output_type": "execute_result",
     "data": {
      "text/plain": [
       "471910"
      ]
     },
     "metadata": {},
     "execution_count": 52
    }
   ],
   "source": [
    "df = pd.read_csv(\"dataset/customer_supermarket.csv\", sep=\"\\t\",index_col=0,decimal=\",\")\n",
    "df.info()\n",
    "print(df.head())\n",
    "print(\"\\nNumero di record\")\n",
    "len(df.index)"
   ]
  },
  {
   "source": [
    "Il dataset preso in analisi è composto da 471.910 record descritto da 8 attributi\n",
    "\n",
    "* BasketID: (Nominale) ID del carrello in cui il prodotto è contenuto\n",
    "* BasketDate: (Numerico, intervallo) La data in cui è avvenuto l'acquisto\n",
    "* Sale: (Numerico, continuo???) Il prezzo pagato per l'acquisto dal cliente. Dominio N>0\n",
    "* CustomerID: (nominale) ID del cliente. Dominio N\n",
    "* CustomerCountry: (Nominale) La città di appartenenza del cliente\n",
    "* ProdID: (Nominale) ID del prodotto acquistato\n",
    "* ProdDescr: (Nominale) Descrizione del prodotto\n",
    "* Qta: (Numerico, discreto) Quantità di prodotto acquistata. Dominio N>0"
   ],
   "cell_type": "markdown",
   "metadata": {}
  },
  {
   "source": [
    "## Variable transformation\n",
    "In questo notebook si guarda il tipo dei vari attributi che abbiamo e si modificano eventualmente\n",
    "\n",
    "### BasketID ✔️\n",
    "Cerchiamo di capire il tipo di dato. Vediamo che è composto da Lettere maiuscole e numeri."
   ],
   "cell_type": "markdown",
   "metadata": {}
  },
  {
   "cell_type": "code",
   "execution_count": 54,
   "metadata": {},
   "outputs": [
    {
     "output_type": "stream",
     "name": "stdout",
     "text": [
      "MAIUSC: True\n",
      "minuscole: False\n",
      "Numeri: True\n",
      "Segni speciali: False\n"
     ]
    }
   ],
   "source": [
    "print(\"MAIUSC: \"+str(df.BasketID.str.contains('[A-Z]').any()))\n",
    "print(\"minuscole: \"+str(df.BasketID.str.contains('[a-z]').any()))\n",
    "print(\"Numeri: \"+str(df.BasketID.str.contains('[0-9]').any()))\n",
    "print(\"Segni speciali: \"+str(df.BasketID.str.contains('[^A-Za-z0-9]').any()))"
   ]
  },
  {
   "source": [
    "è corretto mantenerlo come letterale"
   ],
   "cell_type": "markdown",
   "metadata": {}
  },
  {
   "source": [
    "### ProdID ✔️\n",
    "è un oggetto vediamo come è composto"
   ],
   "cell_type": "markdown",
   "metadata": {}
  },
  {
   "cell_type": "code",
   "execution_count": 56,
   "metadata": {},
   "outputs": [
    {
     "output_type": "stream",
     "name": "stdout",
     "text": [
      "MAIUSC: True\n",
      "minuscole: True\n",
      "Numeri: True\n",
      "Segni speciali: True\n"
     ]
    }
   ],
   "source": [
    "print(\"MAIUSC: \"+str(df.ProdID.str.contains('[A-Z]').any()))\n",
    "print(\"minuscole: \"+str(df.ProdID.str.contains('[a-z]').any()))\n",
    "print(\"Numeri: \"+str(df.ProdID.str.contains('[0-9]').any()))\n",
    "print(\"Segni speciali: \"+str(df.ProdID.str.contains('[^A-Za-z0-9]').any()))"
   ]
  },
  {
   "cell_type": "code",
   "execution_count": 58,
   "metadata": {},
   "outputs": [
    {
     "output_type": "stream",
     "name": "stdout",
     "text": [
      "{'BANK CHARGES': 25, 'gift_0001_40': 3, 'gift_0001_30': 5, 'gift_0001_20': 4, 'gift_0001_10': 4, 'gift_0001_50': 2}\n"
     ]
    }
   ],
   "source": [
    "import re\n",
    "regexp = re.compile(r'[^A-Za-z0-9]')\n",
    "dict_special={}\n",
    "for index, row in df[\"ProdID\"].iteritems():\n",
    "    if(regexp.search(row)):\n",
    "        if(row in dict_special):\n",
    "            dict_special[row]+=1\n",
    "        else:\n",
    "            dict_special[row]=1\n",
    "print(dict_special)"
   ]
  },
  {
   "source": [
    "In particolare i prodotti che contengono caratteri speciali sono pochi e sono di fue categorie BANK CHARGES e gift. In ogni caso va bene mantenerlo come stringa"
   ],
   "cell_type": "markdown",
   "metadata": {}
  },
  {
   "source": [
    "### ProdDescr  ✔️\n",
    "contiene la descrizione dei prodotti, è un attributo nominale e non c'è bisogno di nessuna conversione"
   ],
   "cell_type": "markdown",
   "metadata": {}
  },
  {
   "source": [
    "### Qta ✔️\n",
    "Indica la quantità acquistata di un determinato prodotto, in questo caso abbiamo degli interi ed è giusto che sia così"
   ],
   "cell_type": "markdown",
   "metadata": {}
  },
  {
   "source": [
    "### BasketDate ⚠️\n",
    "Dovrebbe essere un datetime ma in realtà è un ogetto, provvediamo a modificarlo"
   ],
   "cell_type": "markdown",
   "metadata": {}
  },
  {
   "cell_type": "code",
   "execution_count": 60,
   "metadata": {},
   "outputs": [],
   "source": [
    "df[\"BasketDate\"] = pd.to_datetime(df['BasketDate'], format='%d/%m/%y %H:%M')"
   ]
  },
  {
   "source": [
    "### CustomerID ⚠️✔\n",
    "Questo campo è un float ma potrebbe essere tranquillamente una stringa. Controlliamo che non ci siano decimali, in modo da convertire prima a int e poi a stringa"
   ],
   "cell_type": "markdown",
   "metadata": {}
  },
  {
   "cell_type": "code",
   "execution_count": 62,
   "metadata": {
    "tags": []
   },
   "outputs": [
    {
     "output_type": "execute_result",
     "data": {
      "text/plain": [
       "'import math\\ncount=0\\nfor index, row in df[\"CustomerID\"].iteritems():\\n    if(row %1!=0.0 and not math.isnan(row)):\\n        count+=1\\n        print(row)\\nprint(count)'"
      ]
     },
     "metadata": {},
     "execution_count": 62
    }
   ],
   "source": [
    "'''import math\n",
    "count=0\n",
    "for index, row in df[\"CustomerID\"].iteritems():\n",
    "    if(row %1!=0.0 and not math.isnan(row)):\n",
    "        count+=1\n",
    "        print(row)\n",
    "print(count)'''\n",
    "        "
   ]
  },
  {
   "source": [
    "Trasformiamo tutto in stringa e eliminiamo la parte decimale per pulizia. Preservando i valori che sono a null che verranno trattati in seguito."
   ],
   "cell_type": "markdown",
   "metadata": {}
  },
  {
   "cell_type": "code",
   "execution_count": 64,
   "metadata": {},
   "outputs": [
    {
     "output_type": "execute_result",
     "data": {
      "text/plain": [
       "65080"
      ]
     },
     "metadata": {},
     "execution_count": 64
    }
   ],
   "source": [
    "len(df[df[\"CustomerID\"].isnull()])"
   ]
  },
  {
   "cell_type": "code",
   "execution_count": 66,
   "metadata": {},
   "outputs": [],
   "source": [
    "#df[\"CustomerID\"] = df['CustomerID'].astype(str).str.replace('\\.0', '')"
   ]
  },
  {
   "cell_type": "code",
   "execution_count": 68,
   "metadata": {},
   "outputs": [],
   "source": [
    "#len(df[df[\"CustomerID\"]==\"nan\"])"
   ]
  },
  {
   "source": [
    "### Salvataggio dataframe\n",
    "Salviamo il dataframe con i tipi di dato modificati"
   ],
   "cell_type": "markdown",
   "metadata": {}
  },
  {
   "source": [
    "\n",
    "df.BasketID = df.BasketID.astype(str)\n",
    "df.CustomerID = df.CustomerID.astype(str)\n",
    "df.CustomerCountry = df.CustomerCountry.astype(str)\n",
    "df.ProdID = df.ProdID.astype(str)\n",
    "df.ProdDescr = df.ProdDescr.astype(str)\n",
    "df.to_csv('dataset/TC-dataset.csv', sep='\\t',decimal=\",\")"
   ],
   "cell_type": "code",
   "metadata": {},
   "execution_count": 70,
   "outputs": []
  },
  {
   "cell_type": "code",
   "execution_count": null,
   "metadata": {},
   "outputs": [],
   "source": [
    "df = pd.read_csv(\"dataset/TC-dataset.csv\", sep=\"\\t\",index_col=0,decimal=\",\")\n",
    "df.info()"
   ]
  }
 ]
}