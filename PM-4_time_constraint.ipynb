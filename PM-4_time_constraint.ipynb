{
 "metadata": {
  "language_info": {
   "codemirror_mode": {
    "name": "ipython",
    "version": 3
   },
   "file_extension": ".py",
   "mimetype": "text/x-python",
   "name": "python",
   "nbconvert_exporter": "python",
   "pygments_lexer": "ipython3",
   "version": "3.7.5-final"
  },
  "orig_nbformat": 2,
  "kernelspec": {
   "name": "python37564bit61209d9bcfea452998e2771b9ee1a7fb",
   "display_name": "Python 3.7.5 64-bit",
   "language": "python"
  }
 },
 "nbformat": 4,
 "nbformat_minor": 2,
 "cells": [
  {
   "cell_type": "code",
   "execution_count": 155,
   "metadata": {},
   "outputs": [],
   "source": [
    "import pickle\n",
    "from utility.gsp import *\n",
    "\n",
    "file_to_read = open(\"./dataset/PM-dataset.pickle\", \"rb\")\n",
    "loaded_object = pickle.load(file_to_read)\n",
    "file_to_read.close()\n",
    "data=loaded_object\n",
    "#\n",
    "# to delete timestamp\n",
    "#data=[[basket[1] for basket in customer] for customer in loaded_object]"
   ]
  },
  {
   "cell_type": "code",
   "execution_count": 231,
   "metadata": {},
   "outputs": [],
   "source": [
    "'''OLD\n",
    "def check_pattern(pattern,customer):\n",
    "\n",
    "    find=0\n",
    "    list_timestamp=[]\n",
    "    for elem in pattern:\n",
    "        \n",
    "        for timestamp,basket_set in customer:\n",
    "            \n",
    "            if(set(elem).issubset(basket_set) and timestamp not in list_timestamp):\n",
    "                find+=1\n",
    "                list_timestamp.append(timestamp)\n",
    "                break\n",
    "    \n",
    "    if(find==len(pattern) and sorted(list_timestamp)==list_timestamp):\n",
    "        return list_timestamp\n",
    "    else:\n",
    "        return []\n",
    "'''"
   ]
  },
  {
   "cell_type": "code",
   "execution_count": 256,
   "metadata": {},
   "outputs": [],
   "source": [
    "def check_pattern(pattern,customer):\n",
    "\n",
    "    find=0\n",
    "    list_timestamp=[]\n",
    "    for elem in pattern:\n",
    "        list_timestamp_current=[]\n",
    "        for timestamp,basket_set in customer:\n",
    "            \n",
    "            if(set(elem).issubset(basket_set) and timestamp not in list_timestamp_current):\n",
    "                list_timestamp_current.append(timestamp)\n",
    "        list_timestamp.append(list_timestamp_current)\n",
    "\n",
    "    combinations= list(itertools.product(*list_timestamp))\n",
    "\n",
    "    \n",
    "    filtered_combination=[elem for elem in combinations if all(i < j for i, j in zip(elem, elem[1:]))] \n",
    "\n",
    "    \n",
    "    if(len(list_timestamp)==len(pattern)):\n",
    "        return filtered_combination\n",
    "    else:\n",
    "        return []"
   ]
  },
  {
   "cell_type": "code",
   "execution_count": 270,
   "metadata": {},
   "outputs": [],
   "source": [
    "def filter_timestamp(dataset, pattern, time_inf, time_gap,time_sup):\n",
    "    count_support=0\n",
    "\n",
    "    for elem in dataset:\n",
    "        result=check_pattern(pattern,elem)\n",
    "        [(1,2,3),(4,5,6),(7,8,9)]\n",
    "\n",
    "        if(result!=[]):\n",
    "            condition_gap=True\n",
    "            for time in result:\n",
    "                if(time[0]>time_inf and time[-1]<time_sup):\n",
    "                    \n",
    "                    for i in range(len(time)-1):\n",
    "                        if(time[i+1]-time[i]<=time_gap):\n",
    "                            condition_gap=False\n",
    "                else:\n",
    "                    condition_gap=False\n",
    "\n",
    "            if(condition_gap==True):\n",
    "                count_support+=1\n",
    "\n",
    "    return count_support\n",
    "            \n"
   ]
  },
  {
   "cell_type": "code",
   "execution_count": 271,
   "metadata": {},
   "outputs": [
    {
     "output_type": "execute_result",
     "data": {
      "text/plain": [
       "1"
      ]
     },
     "metadata": {},
     "execution_count": 271
    }
   ],
   "source": [
    "filter_timestamp([[(1,['b','a']),(2,['c','c']),(3,['b'])],[(1,['z','a']),(2,['c','c']),(3,['b'])]], [['b','a'],['b']],0,0,9999999999)"
   ]
  },
  {
   "cell_type": "code",
   "execution_count": 273,
   "metadata": {
    "tags": []
   },
   "outputs": [
    {
     "output_type": "execute_result",
     "data": {
      "text/plain": [
       "152"
      ]
     },
     "metadata": {},
     "execution_count": 273
    }
   ],
   "source": [
    "filter_timestamp(data,[['LUNCH BAG PINK POLKADOT', 'LUNCH BAG RED RETROSPOT'],\n",
    "   ['LUNCH BAG RED RETROSPOT']],0,0,9999999999)"
   ]
  },
  {
   "cell_type": "code",
   "execution_count": null,
   "metadata": {},
   "outputs": [],
   "source": []
  },
  {
   "cell_type": "code",
   "execution_count": null,
   "metadata": {},
   "outputs": [],
   "source": []
  }
 ]
}