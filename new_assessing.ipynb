{
 "metadata": {
  "language_info": {
   "codemirror_mode": {
    "name": "ipython",
    "version": 3
   },
   "file_extension": ".py",
   "mimetype": "text/x-python",
   "name": "python",
   "nbconvert_exporter": "python",
   "pygments_lexer": "ipython3",
   "version": 3
  },
  "orig_nbformat": 2
 },
 "nbformat": 4,
 "nbformat_minor": 2,
 "cells": [
  {
   "source": [
    "# Assessing Data Quality"
   ],
   "cell_type": "markdown",
   "metadata": {}
  },
  {
   "cell_type": "code",
   "execution_count": null,
   "metadata": {},
   "outputs": [],
   "source": [
    "import pandas as pd\n",
    "import random as random\n",
    "import numpy as np\n",
    "df = pd.read_csv(\"dataset/TC-dataset.csv\", sep=\"\\t\", index_col=0, decimal=\",\")\n",
    "df.info()"
   ]
  },
  {
   "source": [
    "## Data Selection\n",
    "In questa sezione a partire dai dati originali si effettua una selezione dei dati in modo tale da eliminare tutti quelli semanticamente errati. Queste eliminazioni provengono da alcune assunzioni effettuate sui dati e sulla loro provenienza\n",
    "\n",
    "### Provenienza dei dati\n",
    "I dati provengono dal dataset https://archive.ics.uci.edu/ml/datasets/Online+Retail Nella fase di data semantics abbiamo già precisato alcune informazioni:\n",
    "Si tratta di un sito e-commerce Inglese. Vende principalmente regali per tutte le occasioni e molti dei clienti sono grossisti. Nella colonna Sale è presente il prezzo per singolo articolo quindi equivale a quantità=1. Il prezzo è in sterline. Secondo la descrizione del dataset quando in basket id abbiamo una C iniziale si tratta di ordini cancellati.\n",
    "\n",
    "### Trattamento Ordini cancellati\n",
    "Per quanto ci riguarda gli ordini cancellati non sono significativi per noi per caratterizzare i clienti. Di conseguenza possiamo eliminarli. Tutti gli ordini da cancellare hanno anche quantità<=0"
   ],
   "cell_type": "markdown",
   "metadata": {}
  },
  {
   "cell_type": "code",
   "execution_count": null,
   "metadata": {},
   "outputs": [],
   "source": [
    "print(\"Ordini da cancellare con \\\"C\\\": \",len(df[df[\"BasketID\"].str.contains(\"C\")]))\n",
    "print(\"Ordini da cancellare con Qta<=0: \",len(df[df[\"Qta\"]<=0]))\n",
    "print(\"Record da cancellare con \\\"C\\\" con quantità<=0: \"+str(len(df[(df[\"Qta\"]<=0) & (df[\"BasketID\"].str.contains(\"C\"))])))"
   ]
  },
  {
   "source": [
    "Ogni ordine cancellato potrebbe averne un corrispondente positivo quindi prima di eliminarli verifichiamo quindi se troviamo degli ordini opposti, prediamo tutti quelli negativi e verifichiamo."
   ],
   "cell_type": "markdown",
   "metadata": {}
  },
  {
   "cell_type": "code",
   "execution_count": null,
   "metadata": {},
   "outputs": [],
   "source": [
    "list_baskC=df[df[\"BasketID\"].str.contains(\"C\")]\n",
    "count=0\n",
    "\n",
    "for index, row in list_baskC.iterrows():\n",
    "\n",
    "    local_search=df[(df[\"CustomerID\"]==row['CustomerID'])&(df[\"Sale\"]==row['Sale'])&(df[\"Qta\"]==-row['Qta'])&(df[\"ProdID\"]==row['ProdID'])]\n",
    "\n",
    "    if len(local_search)>0:# In questo caso vuol dire che ci sono due ordini opposti\n",
    "        count+=1\n",
    "        ##print(index)\n",
    "        ##print(df.loc[index])\n",
    "        ##print(local_search.index[0])\n",
    "        ##print(df.loc[local_search.index[0]])\n",
    "        ##print(\"_________________________\")\n",
    "        df.drop([index,local_search.index[0]], inplace=True)\n",
    "        \n",
    "        \n",
    "        \n",
    "print(\"Record cancellati: \",2*count)\n",
    "print(\"Nuova grandezza del dataset: \",len(df))"
   ]
  },
  {
   "source": [
    "Nell'analisi non abbiamo considerato che non per forza un ordine cacellato ha la stessa quantità, potrebbe essere su un ordine di 50 elementi solo 20 per esempio siano stati cancellati. Tuttavia abbiamo semplificato il problema per evitare analisi troppe complicate. Magari con lo sviluppo del progetto potremo valutare di migliorare questa analisi. Vediamo quanti record rimangono:"
   ],
   "cell_type": "markdown",
   "metadata": {}
  },
  {
   "cell_type": "code",
   "execution_count": null,
   "metadata": {},
   "outputs": [],
   "source": [
    "print(\"Record ancora da eliminare: \",len(df[df[\"BasketID\"].str.contains(\"C\"]))"
   ]
  },
  {
   "source": [
    "Possiamo prendere i rimanenti e cercare nel dataset se c'è un altro ordine positivo con una quantità maggiore del valore assoluto in modo tale da elimiare un po' di quantità. Quindi rispetto a prima rimangono da fare i record in cui il valore assoluto della quantità negativa non ha un record >="
   ],
   "cell_type": "markdown",
   "metadata": {}
  },
  {
   "cell_type": "code",
   "execution_count": null,
   "metadata": {},
   "outputs": [],
   "source": [
    "remaining_order=df[df[\"BasketID\"].str.contains(\"C\")]\n",
    "count=0\n",
    "\n",
    "for index,row in remaining_order.iterrows():\n",
    "    transaction_retrived=df[(df[\"CustomerID\"]==row[\"CustomerID\"])&(df[\"ProdID\"]==row[\"ProdID\"])&(df[\"Sale\"]==row[\"Sale\"])&(df[\"Qta\"]>-row[\"Qta\"])].sort_values(by=['BasketDate'])\n",
    "    if len(transaction_retrived)>0:\n",
    "        df.drop([index], inplace=True)\n",
    "        transaction_retrived.Qta.iloc[0]=transaction_retrived.Qta.iloc[0]-row[\"Qta\"]\n",
    "        count+=1\n",
    "print(\"Record eliminati: \",count)"
   ]
  },
  {
   "cell_type": "code",
   "execution_count": null,
   "metadata": {},
   "outputs": [],
   "source": [
    "len(df[df[\"BasketID\"].str.contains(\"C\")])"
   ]
  },
  {
   "source": [
    "Oltre a quelli opposti verifichiamo che non ci siano altri ordini cancellati. In questo caso li eliminamo comunque perchè potrebbero essere errori, anche se non hanno un corrispettivo positivo. Oppure potrebbero essere ordini cancellati corrispondenti a ordini fatti prima del dicembre 2010."
   ],
   "cell_type": "markdown",
   "metadata": {}
  },
  {
   "cell_type": "code",
   "execution_count": null,
   "metadata": {},
   "outputs": [],
   "source": [
    "print(\"Record da eliminare: \",len(df[df[\"BasketID\"].str.contains(\"C\")]))\n",
    "df=df[df[\"BasketID\"].str.contains(\"C\") == False]"
   ]
  },
  {
   "source": [
    "### Quantità negative con ordini non cancellati\n",
    "Abbiamo già constatato che gli ordini con la C sono cancellati e abbiamo già deciso di cancellarli. Consideriamo ora quelli con solo le quantità negative."
   ],
   "cell_type": "markdown",
   "metadata": {}
  },
  {
   "cell_type": "code",
   "execution_count": null,
   "metadata": {},
   "outputs": [],
   "source": [
    "print(\"Record con quantità <=0: \", len(df[df[\"Qta\"]<=0]))\n",
    "print(\"Record con quantità <=0 e Sale<=0: \", len(df[(df[\"Qta\"]<=0) & (df[\"Sale\"]<=0)]))\n",
    "print(df[df[\"Qta\"]<=0].ProdDescr.unique())\n"
   ]
  },
  {
   "source": [
    "Abbiamo solamente 668 transazioni in cui abbiamo la quantità negativa e non appartengono a ordini cancellati. Inoltre in questi 668 tutti hanno sale<=0.  Dalle descrizioni fornite la maggior parte sono quindi articoli persi oppure danneggiati o eventuali errori. \n",
    "Eliminare anche questi record, in futuro possiamo pensare a qualche indicatore che possa tenere conto di questi articoli. In ogni caso sono solo 668 elementi."
   ],
   "cell_type": "markdown",
   "metadata": {}
  },
  {
   "cell_type": "code",
   "execution_count": null,
   "metadata": {},
   "outputs": [],
   "source": [
    "df=df[df[\"Qta\"]>0]"
   ]
  },
  {
   "source": [
    "### Sale <=0 e quantità >=0\n",
    "Abbiamo trattato le quantità <=0. Altri valori particolari sono quelli relativi al Sale. In particolare ci sono alcuni sale che sono <=0."
   ],
   "cell_type": "markdown",
   "metadata": {}
  },
  {
   "cell_type": "code",
   "execution_count": null,
   "metadata": {},
   "outputs": [],
   "source": [
    "print(\"Sale<=0: \",len((df[df[\"Sale\"]<=0])))\n",
    "print(\"Sale<0: \",len((df[df[\"Sale\"]<0])),\" record\\n\", df[df[\"Sale\"]<0])"
   ]
  },
  {
   "source": [
    "Esistono solo 2 record con sale < 0 che eliminati in quanto non rappresentano una informazione relativa ai customer ma sono relativi all'azienda.\n",
    "\n",
    "611 Record hanno sia il sale > 0 e la quantità > 0, essendo il nostro clustering fatto sui clienti e non sui prodotti potrebbe fuoriviante avere alcuni record con sale = 0.\n",
    "Potrebbero essere omaggi per esempio e non avrebbe senso considerarli.\n",
    "Alcuni con il sale = 0 hanno quantità molto alte anche di 300 unità, in questo caso sarebbe anche difficile considerarli omaggi a meno che non siano per grossisti.\n",
    "\n",
    "Dato che stiamo performando una analisi sui customer trovo poco significativo considerare gli ordini \"omaggio\" che sono una registrazione che viene fatta dall'azienda per tenerne traccia\n",
    "\n",
    "Altra possibilità fare il clustering con questi e vedere se effettivamente ci deviano il clustering, sono comunque pochi record."
   ],
   "cell_type": "markdown",
   "metadata": {}
  },
  {
   "cell_type": "code",
   "execution_count": null,
   "metadata": {},
   "outputs": [],
   "source": [
    "df=df[df[\"Sale\"]>=0]"
   ]
  },
  {
   "source": [
    "## Missing Values\n",
    "### Missing Values CustomerID"
   ],
   "cell_type": "markdown",
   "metadata": {}
  },
  {
   "cell_type": "code",
   "execution_count": null,
   "metadata": {},
   "outputs": [],
   "source": [
    "print(\"Numero di CustomerID Null: \" + str(len(df[df[\"CustomerID\"].isnull()])))"
   ]
  },
  {
   "cell_type": "code",
   "execution_count": null,
   "metadata": {},
   "outputs": [],
   "source": [
    "\n",
    "#Generazione dei nuovi CustomerID\n",
    "basket_list_customer_null=df[df[\"CustomerID\"].isnull()].BasketID.unique()\n",
    "new_customer_per_basket_list=random.sample(range(1, 100000), len(basket_list_customer_null))\n",
    "\n",
    "#Inserimento dei customer id con il contrassegno N per il riconoscimento\n",
    "for i, elem in enumerate(basket_list_customer_null):\n",
    "    df[\"CustomerID\"][df.BasketID==elem]=str(new_customer_per_basket_list[i])+\"N\""
   ]
  },
  {
   "cell_type": "code",
   "execution_count": null,
   "metadata": {},
   "outputs": [],
   "source": [
    "print(\"Numero di CustomerID Null: \" + str(len(df[df[\"CustomerID\"].isnull()])))"
   ]
  },
  {
   "source": [
    "### Country Missing Values"
   ],
   "cell_type": "markdown",
   "metadata": {}
  },
  {
   "cell_type": "code",
   "execution_count": null,
   "metadata": {},
   "outputs": [],
   "source": [
    "#Numero di righe con country Unspecified\n",
    "print(\"Numero di Unspecified: \" + str(len(df[df[\"CustomerCountry\"].str.contains(\"Unspecified\")])))\n",
    "\n",
    "#Numero di righe con country European Community\n",
    "print(\"Numero di European Community: \" + str(len(df[df[\"CustomerCountry\"].str.contains(\"European Community\")])))"
   ]
  },
  {
   "cell_type": "code",
   "execution_count": null,
   "metadata": {},
   "outputs": [],
   "source": [
    "#Moda di CustomerCountry\n",
    "moda = df['CustomerCountry'].mode()[0]\n",
    "print(\"Moda: \" + str(moda))\n",
    "\n",
    "\n",
    "df[\"CustomerCountry\"].replace({\"Unspecified\": moda}, inplace=True)\n",
    "df[\"CustomerCountry\"].replace({\"European Community\": moda}, inplace=True)\n",
    "\n",
    "print(\"Numero di Unspecified: \" + str(len(df[df[\"CustomerCountry\"].str.contains(\"Unspecified\")])))\n",
    "print(\"Numero di European Community: \" + str(len(df[df[\"CustomerCountry\"].str.contains(\"European Community\")])))"
   ]
  },
  {
   "source": [
    "### ProdDesc"
   ],
   "cell_type": "markdown",
   "metadata": {}
  },
  {
   "cell_type": "code",
   "execution_count": null,
   "metadata": {},
   "outputs": [],
   "source": [
    "len(df[df['ProdDescr'].isnull()])"
   ]
  },
  {
   "source": [
    "La mancanza di valori per la descrizione del prodotto non ci interessa più di tanto, l'identificativo del prodotto è più rilevante, sono due attributi doppi. Per recuperalo potremo controllare se nei sample con gli stessi Productid di quelli mancanti ci sono i dati"
   ],
   "cell_type": "markdown",
   "metadata": {}
  },
  {
   "cell_type": "code",
   "execution_count": null,
   "metadata": {},
   "outputs": [],
   "source": [
    "retrievable_count=0\n",
    "error_count=0\n",
    "for elem in df[df['ProdDescr'].isnull()].ProdID.unique():\n",
    "    df_loc_equal_ProdID=df[df['ProdID']==elem]\n",
    "    \n",
    "    if len(df_loc_equal_ProdID[df_loc_equal_ProdID['ProdDescr'].notnull()])>0:\n",
    "        # Recupero descrizione a partire dal primo prodotto della lista\n",
    "        retrived_ProdDescr=df_loc_equal_ProdID[df_loc_equal_ProdID['ProdDescr'].notnull()].iloc[0].ProdDescr\n",
    "\n",
    "        #Vediamo se le descrizioni sono tutte uguali saranno nan oppure una descrizione del prodotto\n",
    "        if(len(df_loc_equal_ProdID['ProdDescr'].unique())>2):\n",
    "            error_count+=1\n",
    "\n",
    "        #DEBUG\n",
    "        #print(\"ProdId: \"+elem+\" ProdDescr: \"+retrived_ProdDescr)\n",
    "        \n",
    "        retrievable_count+=1\n",
    "print(\"Totale elementi sostituibili: \"+str(retrievable_count))\n",
    "print(\"Errori trovati: \"+str(error_count))"
   ]
  },
  {
   "source": [
    "Del dataframe creato si possono sostituire 541 elementi su 753 ma di questi 76 non sono coerenti tra di loro (stesso ProdID ma diversa ProdDescr). In ogni caso la descrizione nel prodotto è inutile quindi possiamo evitare di processarla e droppare la colonna nella data transformation"
   ],
   "cell_type": "markdown",
   "metadata": {}
  },
  {
   "source": [
    "## Outliers"
   ],
   "cell_type": "markdown",
   "metadata": {}
  },
  {
   "source": [
    "## Salvatagio Dataframe"
   ],
   "cell_type": "markdown",
   "metadata": {}
  },
  {
   "cell_type": "code",
   "execution_count": null,
   "metadata": {},
   "outputs": [],
   "source": [
    "df.to_csv('dataset/DQ-dataset.csv', sep='\\t',decimal=\",\")"
   ]
  }
 ]
}