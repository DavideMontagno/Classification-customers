{
 "metadata": {
  "language_info": {
   "codemirror_mode": {
    "name": "ipython",
    "version": 3
   },
   "file_extension": ".py",
   "mimetype": "text/x-python",
   "name": "python",
   "nbconvert_exporter": "python",
   "pygments_lexer": "ipython3",
   "version": "3.7.5-final"
  },
  "orig_nbformat": 2,
  "kernelspec": {
   "name": "Python 3.7.5 64-bit",
   "display_name": "Python 3.7.5 64-bit",
   "metadata": {
    "interpreter": {
     "hash": "a23959b220aae94b277b2feb28a92f00653f030ef1fcf8b66d10e2db8b9e2607"
    }
   }
  }
 },
 "nbformat": 4,
 "nbformat_minor": 2,
 "cells": [
  {
   "cell_type": "code",
   "execution_count": 40,
   "metadata": {},
   "outputs": [
    {
     "output_type": "stream",
     "name": "stdout",
     "text": [
      "<class 'pandas.core.frame.DataFrame'>\nInt64Index: 471910 entries, 0 to 541909\nData columns (total 8 columns):\nBasketID           471910 non-null object\nBasketDate         471910 non-null object\nSale               471910 non-null float64\nCustomerID         406830 non-null float64\nCustomerCountry    471910 non-null object\nProdID             471910 non-null object\nProdDescr          471157 non-null object\nQta                471910 non-null int64\ndtypes: float64(2), int64(1), object(5)\nmemory usage: 32.4+ MB\n"
     ]
    }
   ],
   "source": [
    "import numpy as np\n",
    "import pandas as pd\n",
    "df = pd.read_csv(\"dataset/TC-dataset.csv\", sep=\"\\t\",index_col=0)\n",
    "df.info()"
   ]
  },
  {
   "cell_type": "code",
   "execution_count": 41,
   "metadata": {},
   "outputs": [
    {
     "output_type": "execute_result",
     "data": {
      "text/plain": [
       "       BasketID           BasketDate  Sale  CustomerID CustomerCountry ProdID  \\\n",
       "4268    C536757  2010-12-02 14:23:00  0.03     15838.0  United Kingdom  84347   \n",
       "61624   C541433  2011-01-18 10:17:00  1.04     12346.0  United Kingdom  23166   \n",
       "540422  C581484  2011-12-09 09:27:00  2.08     16446.0  United Kingdom  23843   \n",
       "\n",
       "                                  ProdDescr    Qta  \n",
       "4268    ROTATING SILVER ANGELS T-LIGHT HLDR  -9360  \n",
       "61624        MEDIUM CERAMIC TOP STORAGE JAR -74215  \n",
       "540422          PAPER CRAFT , LITTLE BIRDIE -80995  "
      ],
      "text/html": "<div>\n<style scoped>\n    .dataframe tbody tr th:only-of-type {\n        vertical-align: middle;\n    }\n\n    .dataframe tbody tr th {\n        vertical-align: top;\n    }\n\n    .dataframe thead th {\n        text-align: right;\n    }\n</style>\n<table border=\"1\" class=\"dataframe\">\n  <thead>\n    <tr style=\"text-align: right;\">\n      <th></th>\n      <th>BasketID</th>\n      <th>BasketDate</th>\n      <th>Sale</th>\n      <th>CustomerID</th>\n      <th>CustomerCountry</th>\n      <th>ProdID</th>\n      <th>ProdDescr</th>\n      <th>Qta</th>\n    </tr>\n  </thead>\n  <tbody>\n    <tr>\n      <th>4268</th>\n      <td>C536757</td>\n      <td>2010-12-02 14:23:00</td>\n      <td>0.03</td>\n      <td>15838.0</td>\n      <td>United Kingdom</td>\n      <td>84347</td>\n      <td>ROTATING SILVER ANGELS T-LIGHT HLDR</td>\n      <td>-9360</td>\n    </tr>\n    <tr>\n      <th>61624</th>\n      <td>C541433</td>\n      <td>2011-01-18 10:17:00</td>\n      <td>1.04</td>\n      <td>12346.0</td>\n      <td>United Kingdom</td>\n      <td>23166</td>\n      <td>MEDIUM CERAMIC TOP STORAGE JAR</td>\n      <td>-74215</td>\n    </tr>\n    <tr>\n      <th>540422</th>\n      <td>C581484</td>\n      <td>2011-12-09 09:27:00</td>\n      <td>2.08</td>\n      <td>16446.0</td>\n      <td>United Kingdom</td>\n      <td>23843</td>\n      <td>PAPER CRAFT , LITTLE BIRDIE</td>\n      <td>-80995</td>\n    </tr>\n  </tbody>\n</table>\n</div>"
     },
     "metadata": {},
     "execution_count": 41
    }
   ],
   "source": [
    "df[df[\"Qta\"]<=-5000]"
   ]
  },
  {
   "cell_type": "code",
   "execution_count": 42,
   "metadata": {},
   "outputs": [
    {
     "output_type": "execute_result",
     "data": {
      "text/plain": [
       "       BasketID           BasketDate  Sale  CustomerID CustomerCountry ProdID  \\\n",
       "61619    541431  2011-01-18 10:01:00  1.04     12346.0  United Kingdom  23166   \n",
       "502122   578841  2011-11-25 15:57:00  0.00     13256.0  United Kingdom  84826   \n",
       "540421   581483  2011-12-09 09:15:00  2.08     16446.0  United Kingdom  23843   \n",
       "\n",
       "                             ProdDescr    Qta  \n",
       "61619   MEDIUM CERAMIC TOP STORAGE JAR  74215  \n",
       "502122  ASSTD DESIGN 3D PAPER STICKERS  12540  \n",
       "540421     PAPER CRAFT , LITTLE BIRDIE  80995  "
      ],
      "text/html": "<div>\n<style scoped>\n    .dataframe tbody tr th:only-of-type {\n        vertical-align: middle;\n    }\n\n    .dataframe tbody tr th {\n        vertical-align: top;\n    }\n\n    .dataframe thead th {\n        text-align: right;\n    }\n</style>\n<table border=\"1\" class=\"dataframe\">\n  <thead>\n    <tr style=\"text-align: right;\">\n      <th></th>\n      <th>BasketID</th>\n      <th>BasketDate</th>\n      <th>Sale</th>\n      <th>CustomerID</th>\n      <th>CustomerCountry</th>\n      <th>ProdID</th>\n      <th>ProdDescr</th>\n      <th>Qta</th>\n    </tr>\n  </thead>\n  <tbody>\n    <tr>\n      <th>61619</th>\n      <td>541431</td>\n      <td>2011-01-18 10:01:00</td>\n      <td>1.04</td>\n      <td>12346.0</td>\n      <td>United Kingdom</td>\n      <td>23166</td>\n      <td>MEDIUM CERAMIC TOP STORAGE JAR</td>\n      <td>74215</td>\n    </tr>\n    <tr>\n      <th>502122</th>\n      <td>578841</td>\n      <td>2011-11-25 15:57:00</td>\n      <td>0.00</td>\n      <td>13256.0</td>\n      <td>United Kingdom</td>\n      <td>84826</td>\n      <td>ASSTD DESIGN 3D PAPER STICKERS</td>\n      <td>12540</td>\n    </tr>\n    <tr>\n      <th>540421</th>\n      <td>581483</td>\n      <td>2011-12-09 09:15:00</td>\n      <td>2.08</td>\n      <td>16446.0</td>\n      <td>United Kingdom</td>\n      <td>23843</td>\n      <td>PAPER CRAFT , LITTLE BIRDIE</td>\n      <td>80995</td>\n    </tr>\n  </tbody>\n</table>\n</div>"
     },
     "metadata": {},
     "execution_count": 42
    }
   ],
   "source": [
    "df[df[\"Qta\"]>=6000]"
   ]
  },
  {
   "cell_type": "code",
   "execution_count": 43,
   "metadata": {},
   "outputs": [
    {
     "output_type": "stream",
     "name": "stdout",
     "text": [
      "3137\n"
     ]
    }
   ],
   "source": [
    "list_baskC=df[df[\"Qta\"]<=0]\n",
    "count=0\n",
    "for index, row in list_baskC.iterrows():\n",
    "    len_list=len(df[(df[\"CustomerID\"]==row['CustomerID'])&(df[\"Sale\"]==row['Sale'])&(df[\"Qta\"]==-row['Qta'])&(df[\"ProdID\"]==row['ProdID'])])\n",
    "    if len_list>0:\n",
    "        count+=1\n",
    "print(count)"
   ]
  },
  {
   "cell_type": "code",
   "execution_count": 44,
   "metadata": {},
   "outputs": [
    {
     "output_type": "execute_result",
     "data": {
      "text/plain": [
       "9752"
      ]
     },
     "metadata": {},
     "execution_count": 44
    }
   ],
   "source": [
    "len(list_baskC)"
   ]
  },
  {
   "cell_type": "code",
   "execution_count": 63,
   "metadata": {},
   "outputs": [
    {
     "output_type": "execute_result",
     "data": {
      "text/plain": [
       "      BasketID           BasketDate  Sale  CustomerID CustomerCountry ProdID  \\\n",
       "57      536373  2010-12-01 09:02:00  4.95     17850.0  United Kingdom  82483   \n",
       "74      536375  2010-12-01 09:32:00  4.95     17850.0  United Kingdom  82483   \n",
       "289     536396  2010-12-01 10:51:00  4.95     17850.0  United Kingdom  82483   \n",
       "424     536406  2010-12-01 11:33:00  4.95     17850.0  United Kingdom  82483   \n",
       "3120    536600  2010-12-02 08:32:00  4.95     17850.0  United Kingdom  82483   \n",
       "3136    536602  2010-12-02 08:34:00  4.95     17850.0  United Kingdom  82483   \n",
       "3199    536609  2010-12-02 09:41:00  4.95     17850.0  United Kingdom  82483   \n",
       "3248    536612  2010-12-02 09:44:00  4.95     17850.0  United Kingdom  82483   \n",
       "3432    536628  2010-12-02 10:54:00  4.95     17850.0  United Kingdom  82483   \n",
       "3450    536630  2010-12-02 10:56:00  4.95     17850.0  United Kingdom  82483   \n",
       "3815    536685  2010-12-02 12:23:00  4.95     17850.0  United Kingdom  82483   \n",
       "3830    536690  2010-12-02 12:25:00  4.95     17850.0  United Kingdom  82483   \n",
       "4170    536750  2010-12-02 14:04:00  4.95     17850.0  United Kingdom  82483   \n",
       "4191    536752  2010-12-02 14:06:00  4.95     17850.0  United Kingdom  82483   \n",
       "4534    536790  2010-12-02 15:26:00  4.95     17850.0  United Kingdom  82483   \n",
       "86888  C543611  2011-02-10 14:38:00  4.95     17850.0  United Kingdom  82483   \n",
       "86890  C543611  2011-02-10 14:38:00  4.95     17850.0  United Kingdom  82483   \n",
       "86897  C543611  2011-02-10 14:38:00  4.95     17850.0  United Kingdom  82483   \n",
       "86898  C543611  2011-02-10 14:38:00  4.95     17850.0  United Kingdom  82483   \n",
       "86901  C543611  2011-02-10 14:38:00  4.95     17850.0  United Kingdom  82483   \n",
       "\n",
       "                                ProdDescr  Qta  \n",
       "57     WOOD 2 DRAWER CABINET WHITE FINISH    2  \n",
       "74     WOOD 2 DRAWER CABINET WHITE FINISH    2  \n",
       "289    WOOD 2 DRAWER CABINET WHITE FINISH    2  \n",
       "424    WOOD 2 DRAWER CABINET WHITE FINISH    4  \n",
       "3120   WOOD 2 DRAWER CABINET WHITE FINISH    4  \n",
       "3136   WOOD 2 DRAWER CABINET WHITE FINISH    4  \n",
       "3199   WOOD 2 DRAWER CABINET WHITE FINISH    4  \n",
       "3248   WOOD 2 DRAWER CABINET WHITE FINISH    4  \n",
       "3432   WOOD 2 DRAWER CABINET WHITE FINISH    4  \n",
       "3450   WOOD 2 DRAWER CABINET WHITE FINISH    4  \n",
       "3815   WOOD 2 DRAWER CABINET WHITE FINISH    4  \n",
       "3830   WOOD 2 DRAWER CABINET WHITE FINISH    4  \n",
       "4170   WOOD 2 DRAWER CABINET WHITE FINISH    4  \n",
       "4191   WOOD 2 DRAWER CABINET WHITE FINISH    4  \n",
       "4534   WOOD 2 DRAWER CABINET WHITE FINISH    4  \n",
       "86888  WOOD 2 DRAWER CABINET WHITE FINISH   -1  \n",
       "86890  WOOD 2 DRAWER CABINET WHITE FINISH   -1  \n",
       "86897  WOOD 2 DRAWER CABINET WHITE FINISH   -2  \n",
       "86898  WOOD 2 DRAWER CABINET WHITE FINISH   -1  \n",
       "86901  WOOD 2 DRAWER CABINET WHITE FINISH   -1  "
      ],
      "text/html": "<div>\n<style scoped>\n    .dataframe tbody tr th:only-of-type {\n        vertical-align: middle;\n    }\n\n    .dataframe tbody tr th {\n        vertical-align: top;\n    }\n\n    .dataframe thead th {\n        text-align: right;\n    }\n</style>\n<table border=\"1\" class=\"dataframe\">\n  <thead>\n    <tr style=\"text-align: right;\">\n      <th></th>\n      <th>BasketID</th>\n      <th>BasketDate</th>\n      <th>Sale</th>\n      <th>CustomerID</th>\n      <th>CustomerCountry</th>\n      <th>ProdID</th>\n      <th>ProdDescr</th>\n      <th>Qta</th>\n    </tr>\n  </thead>\n  <tbody>\n    <tr>\n      <th>57</th>\n      <td>536373</td>\n      <td>2010-12-01 09:02:00</td>\n      <td>4.95</td>\n      <td>17850.0</td>\n      <td>United Kingdom</td>\n      <td>82483</td>\n      <td>WOOD 2 DRAWER CABINET WHITE FINISH</td>\n      <td>2</td>\n    </tr>\n    <tr>\n      <th>74</th>\n      <td>536375</td>\n      <td>2010-12-01 09:32:00</td>\n      <td>4.95</td>\n      <td>17850.0</td>\n      <td>United Kingdom</td>\n      <td>82483</td>\n      <td>WOOD 2 DRAWER CABINET WHITE FINISH</td>\n      <td>2</td>\n    </tr>\n    <tr>\n      <th>289</th>\n      <td>536396</td>\n      <td>2010-12-01 10:51:00</td>\n      <td>4.95</td>\n      <td>17850.0</td>\n      <td>United Kingdom</td>\n      <td>82483</td>\n      <td>WOOD 2 DRAWER CABINET WHITE FINISH</td>\n      <td>2</td>\n    </tr>\n    <tr>\n      <th>424</th>\n      <td>536406</td>\n      <td>2010-12-01 11:33:00</td>\n      <td>4.95</td>\n      <td>17850.0</td>\n      <td>United Kingdom</td>\n      <td>82483</td>\n      <td>WOOD 2 DRAWER CABINET WHITE FINISH</td>\n      <td>4</td>\n    </tr>\n    <tr>\n      <th>3120</th>\n      <td>536600</td>\n      <td>2010-12-02 08:32:00</td>\n      <td>4.95</td>\n      <td>17850.0</td>\n      <td>United Kingdom</td>\n      <td>82483</td>\n      <td>WOOD 2 DRAWER CABINET WHITE FINISH</td>\n      <td>4</td>\n    </tr>\n    <tr>\n      <th>3136</th>\n      <td>536602</td>\n      <td>2010-12-02 08:34:00</td>\n      <td>4.95</td>\n      <td>17850.0</td>\n      <td>United Kingdom</td>\n      <td>82483</td>\n      <td>WOOD 2 DRAWER CABINET WHITE FINISH</td>\n      <td>4</td>\n    </tr>\n    <tr>\n      <th>3199</th>\n      <td>536609</td>\n      <td>2010-12-02 09:41:00</td>\n      <td>4.95</td>\n      <td>17850.0</td>\n      <td>United Kingdom</td>\n      <td>82483</td>\n      <td>WOOD 2 DRAWER CABINET WHITE FINISH</td>\n      <td>4</td>\n    </tr>\n    <tr>\n      <th>3248</th>\n      <td>536612</td>\n      <td>2010-12-02 09:44:00</td>\n      <td>4.95</td>\n      <td>17850.0</td>\n      <td>United Kingdom</td>\n      <td>82483</td>\n      <td>WOOD 2 DRAWER CABINET WHITE FINISH</td>\n      <td>4</td>\n    </tr>\n    <tr>\n      <th>3432</th>\n      <td>536628</td>\n      <td>2010-12-02 10:54:00</td>\n      <td>4.95</td>\n      <td>17850.0</td>\n      <td>United Kingdom</td>\n      <td>82483</td>\n      <td>WOOD 2 DRAWER CABINET WHITE FINISH</td>\n      <td>4</td>\n    </tr>\n    <tr>\n      <th>3450</th>\n      <td>536630</td>\n      <td>2010-12-02 10:56:00</td>\n      <td>4.95</td>\n      <td>17850.0</td>\n      <td>United Kingdom</td>\n      <td>82483</td>\n      <td>WOOD 2 DRAWER CABINET WHITE FINISH</td>\n      <td>4</td>\n    </tr>\n    <tr>\n      <th>3815</th>\n      <td>536685</td>\n      <td>2010-12-02 12:23:00</td>\n      <td>4.95</td>\n      <td>17850.0</td>\n      <td>United Kingdom</td>\n      <td>82483</td>\n      <td>WOOD 2 DRAWER CABINET WHITE FINISH</td>\n      <td>4</td>\n    </tr>\n    <tr>\n      <th>3830</th>\n      <td>536690</td>\n      <td>2010-12-02 12:25:00</td>\n      <td>4.95</td>\n      <td>17850.0</td>\n      <td>United Kingdom</td>\n      <td>82483</td>\n      <td>WOOD 2 DRAWER CABINET WHITE FINISH</td>\n      <td>4</td>\n    </tr>\n    <tr>\n      <th>4170</th>\n      <td>536750</td>\n      <td>2010-12-02 14:04:00</td>\n      <td>4.95</td>\n      <td>17850.0</td>\n      <td>United Kingdom</td>\n      <td>82483</td>\n      <td>WOOD 2 DRAWER CABINET WHITE FINISH</td>\n      <td>4</td>\n    </tr>\n    <tr>\n      <th>4191</th>\n      <td>536752</td>\n      <td>2010-12-02 14:06:00</td>\n      <td>4.95</td>\n      <td>17850.0</td>\n      <td>United Kingdom</td>\n      <td>82483</td>\n      <td>WOOD 2 DRAWER CABINET WHITE FINISH</td>\n      <td>4</td>\n    </tr>\n    <tr>\n      <th>4534</th>\n      <td>536790</td>\n      <td>2010-12-02 15:26:00</td>\n      <td>4.95</td>\n      <td>17850.0</td>\n      <td>United Kingdom</td>\n      <td>82483</td>\n      <td>WOOD 2 DRAWER CABINET WHITE FINISH</td>\n      <td>4</td>\n    </tr>\n    <tr>\n      <th>86888</th>\n      <td>C543611</td>\n      <td>2011-02-10 14:38:00</td>\n      <td>4.95</td>\n      <td>17850.0</td>\n      <td>United Kingdom</td>\n      <td>82483</td>\n      <td>WOOD 2 DRAWER CABINET WHITE FINISH</td>\n      <td>-1</td>\n    </tr>\n    <tr>\n      <th>86890</th>\n      <td>C543611</td>\n      <td>2011-02-10 14:38:00</td>\n      <td>4.95</td>\n      <td>17850.0</td>\n      <td>United Kingdom</td>\n      <td>82483</td>\n      <td>WOOD 2 DRAWER CABINET WHITE FINISH</td>\n      <td>-1</td>\n    </tr>\n    <tr>\n      <th>86897</th>\n      <td>C543611</td>\n      <td>2011-02-10 14:38:00</td>\n      <td>4.95</td>\n      <td>17850.0</td>\n      <td>United Kingdom</td>\n      <td>82483</td>\n      <td>WOOD 2 DRAWER CABINET WHITE FINISH</td>\n      <td>-2</td>\n    </tr>\n    <tr>\n      <th>86898</th>\n      <td>C543611</td>\n      <td>2011-02-10 14:38:00</td>\n      <td>4.95</td>\n      <td>17850.0</td>\n      <td>United Kingdom</td>\n      <td>82483</td>\n      <td>WOOD 2 DRAWER CABINET WHITE FINISH</td>\n      <td>-1</td>\n    </tr>\n    <tr>\n      <th>86901</th>\n      <td>C543611</td>\n      <td>2011-02-10 14:38:00</td>\n      <td>4.95</td>\n      <td>17850.0</td>\n      <td>United Kingdom</td>\n      <td>82483</td>\n      <td>WOOD 2 DRAWER CABINET WHITE FINISH</td>\n      <td>-1</td>\n    </tr>\n  </tbody>\n</table>\n</div>"
     },
     "metadata": {},
     "execution_count": 63
    }
   ],
   "source": [
    "df[(df[\"CustomerID\"]==17850.0)&(df[\"ProdID\"]==\"82483\")]"
   ]
  },
  {
   "cell_type": "code",
   "execution_count": null,
   "metadata": {},
   "outputs": [],
   "source": []
  }
 ]
}