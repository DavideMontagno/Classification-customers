{
 "metadata": {
  "language_info": {
   "codemirror_mode": {
    "name": "ipython",
    "version": 3
   },
   "file_extension": ".py",
   "mimetype": "text/x-python",
   "name": "python",
   "nbconvert_exporter": "python",
   "pygments_lexer": "ipython3",
   "version": "3.7.5-final"
  },
  "orig_nbformat": 2,
  "kernelspec": {
   "name": "python37564bit61209d9bcfea452998e2771b9ee1a7fb",
   "display_name": "Python 3.7.5 64-bit",
   "language": "python"
  }
 },
 "nbformat": 4,
 "nbformat_minor": 2,
 "cells": [
  {
   "cell_type": "code",
   "execution_count": 156,
   "metadata": {},
   "outputs": [],
   "source": [
    "import pickle\n",
    "file_to_read = open(\"./dataset/3_perc.pickle\", \"rb\")\n",
    "array_3_perc = pickle.load(file_to_read)\n",
    "file_to_read.close()\n",
    "\n",
    "file_to_read = open(\"./dataset/PM-dataset.pickle\", \"rb\")\n",
    "loaded_object = pickle.load(file_to_read)\n",
    "file_to_read.close()\n",
    "\n",
    "# to delete timestamp\n",
    "data=[[basket[1] for basket in customer] for customer in loaded_object]"
   ]
  },
  {
   "cell_type": "code",
   "execution_count": 157,
   "metadata": {},
   "outputs": [],
   "source": [
    "def get_perc_range(result_gsp,len_data,ub_perc=100,lb_perc=0):\n",
    "    ub_number=(len_data*ub_perc)/100\n",
    "    lb_number=(len_data*lb_perc)/100\n",
    "    \n",
    "    return [(elem[0],elem[1],str((elem[1]*100)/len_data)+\"%\") for elem in result_gsp if elem[1]<=ub_number and elem[1]>=lb_number]\n",
    "\n",
    "def get_ordered_result(result_gsp):\n",
    "    return sorted(result_gsp, key=lambda tup: tup[1], reverse=True)\n",
    "\n",
    "def unique_elem(list_of_list):\n",
    "    return len([list(x) for x in set(tuple(x) for x in list_of_list)])\n",
    "\n",
    "def filter_min_number_elem(result_gsp, min_num_basket=1, min_num_elem_per_basket=1,different_elem=False):\n",
    "    result=[]\n",
    "\n",
    "    for elem in result_gsp:\n",
    "        add=False\n",
    "        current_pattern_flatten=[]\n",
    "\n",
    "        if(len(elem[0])>=min_num_basket):\n",
    "\n",
    "            for in_elem in elem[0]:\n",
    "                current_pattern_flatten.extend(in_elem)\n",
    "                if(len(in_elem)>=min_num_elem_per_basket):\n",
    "                    add=True\n",
    "\n",
    "        if(add==True and different_elem==True):\n",
    "\n",
    "            if(len(set(current_pattern_flatten))==1):\n",
    "                add=False\n",
    "\n",
    "        if(add==True):\n",
    "            result.append(elem)\n",
    "\n",
    "    return result\n",
    "\n",
    "def get_longest_sequences(result_gsp):\n",
    "    result=[]\n",
    "    for elem in result_gsp:\n",
    "        current_pattern_flatten=[]\n",
    "\n",
    "        for in_elem in elem[0]:\n",
    "            current_pattern_flatten.extend(in_elem)\n",
    "        result.append((elem[0],elem[1],elem[2],len(current_pattern_flatten)))\n",
    "\n",
    "    return sorted(result, key=lambda tup: tup[3], reverse=True)\n",
    "\n"
   ]
  },
  {
   "source": [
    "## Top 10 sequenze di oggetti condivise"
   ],
   "cell_type": "markdown",
   "metadata": {}
  },
  {
   "cell_type": "code",
   "execution_count": 158,
   "metadata": {},
   "outputs": [
    {
     "output_type": "execute_result",
     "data": {
      "text/plain": [
       "[([['REGENCY CAKESTAND 3 TIER']], 872, '20.17584451642758%'),\n",
       " ([['WHITE HANGING HEART T-LIGHT HOLDER']], 854, '19.75937066173068%'),\n",
       " ([['PARTY BUNTING']], 708, '16.381304951411384%'),\n",
       " ([['ASSORTED COLOUR BIRD ORNAMENT']], 677, '15.664044423877835%'),\n",
       " ([['SET OF 3 CAKE TINS PANTRY DESIGN ']], 635, '14.692272096251735%'),\n",
       " ([['JUMBO BAG RED RETROSPOT']], 633, '14.645997223507635%'),\n",
       " ([['PACK OF 72 RETROSPOT CAKE CASES']], 632, '14.622859787135585%'),\n",
       " ([[\"PAPER CHAIN KIT 50'S CHRISTMAS \"]], 611, '14.136973623322536%'),\n",
       " ([['NATURAL SLATE HEART CHALKBOARD ']], 586, '13.558537714021286%'),\n",
       " ([['BAKING SET 9 PIECE RETROSPOT ']], 577, '13.350300786672836%')]"
      ]
     },
     "metadata": {},
     "execution_count": 158
    }
   ],
   "source": [
    "get_ordered_result(get_perc_range(array_3_perc,len(data),lb_perc=2))[0:10]"
   ]
  },
  {
   "source": [
    "## Top 10 sequenze di oggetti con almeno 2 basket"
   ],
   "cell_type": "markdown",
   "metadata": {}
  },
  {
   "cell_type": "code",
   "execution_count": 159,
   "metadata": {},
   "outputs": [
    {
     "output_type": "execute_result",
     "data": {
      "text/plain": [
       "[([['WHITE HANGING HEART T-LIGHT HOLDER'],\n",
       "   ['WHITE HANGING HEART T-LIGHT HOLDER']],\n",
       "  403,\n",
       "  '9.32438685793614%'),\n",
       " ([['REGENCY CAKESTAND 3 TIER'], ['REGENCY CAKESTAND 3 TIER']],\n",
       "  321,\n",
       "  '7.4271170754280424%'),\n",
       " ([['JUMBO BAG RED RETROSPOT'], ['JUMBO BAG RED RETROSPOT']],\n",
       "  312,\n",
       "  '7.2188801480795926%'),\n",
       " ([['ASSORTED COLOUR BIRD ORNAMENT'], ['ASSORTED COLOUR BIRD ORNAMENT']],\n",
       "  291,\n",
       "  '6.732993984266543%'),\n",
       " ([['PARTY BUNTING'], ['PARTY BUNTING']], 277, '6.409069875057844%'),\n",
       " ([['LUNCH BAG RED RETROSPOT'], ['LUNCH BAG RED RETROSPOT']],\n",
       "  274,\n",
       "  '6.339657565941693%'),\n",
       " ([['LUNCH BAG  BLACK SKULL.'], ['LUNCH BAG  BLACK SKULL.']],\n",
       "  228,\n",
       "  '5.275335492827395%'),\n",
       " ([['SET OF 3 CAKE TINS PANTRY DESIGN '],\n",
       "   ['SET OF 3 CAKE TINS PANTRY DESIGN ']],\n",
       "  224,\n",
       "  '5.182785747339195%'),\n",
       " ([['WHITE HANGING HEART T-LIGHT HOLDER'],\n",
       "   ['WHITE HANGING HEART T-LIGHT HOLDER'],\n",
       "   ['WHITE HANGING HEART T-LIGHT HOLDER']],\n",
       "  221,\n",
       "  '5.113373438223045%'),\n",
       " ([['LUNCH BAG RED RETROSPOT'], ['LUNCH BAG  BLACK SKULL.']],\n",
       "  211,\n",
       "  '4.881999074502545%')]"
      ]
     },
     "metadata": {},
     "execution_count": 159
    }
   ],
   "source": [
    "\n",
    "\n",
    "def unique_elem(list_of_list):\n",
    "    return len([list(x) for x in set(tuple(x) for x in list_of_list)])\n",
    "\n",
    "def filter_min_number_elem(result_gsp, min_num_basket=1, min_num_elem_per_basket=1,different_elem=False):\n",
    "    result=[]\n"
   ]
  },
  {
   "source": [
    "## Top 10 sequenze di oggetti  con almeno 2 basket e elementi diversi"
   ],
   "cell_type": "markdown",
   "metadata": {}
  },
  {
   "cell_type": "code",
   "execution_count": 160,
   "metadata": {},
   "outputs": [
    {
     "output_type": "execute_result",
     "data": {
      "text/plain": [
       "[([['LUNCH BAG RED RETROSPOT'], ['LUNCH BAG  BLACK SKULL.']],\n",
       "  211,\n",
       "  '4.881999074502545%'),\n",
       " ([['LUNCH BAG  BLACK SKULL.'], ['LUNCH BAG RED RETROSPOT']],\n",
       "  207,\n",
       "  '4.789449329014345%'),\n",
       " ([['LUNCH BAG CARS BLUE'], ['LUNCH BAG RED RETROSPOT']],\n",
       "  207,\n",
       "  '4.789449329014345%'),\n",
       " ([['LUNCH BAG RED RETROSPOT'], ['LUNCH BAG SPACEBOY DESIGN ']],\n",
       "  207,\n",
       "  '4.789449329014345%'),\n",
       " ([['REGENCY CAKESTAND 3 TIER'], ['SET OF 3 REGENCY CAKE TINS']],\n",
       "  205,\n",
       "  '4.743174456270245%'),\n",
       " ([['LUNCH BAG RED RETROSPOT'], ['LUNCH BAG SUKI DESIGN ']],\n",
       "  202,\n",
       "  '4.673762147154095%'),\n",
       " ([['JUMBO BAG RED RETROSPOT'], ['JUMBO BAG VINTAGE DOILY ']],\n",
       "  200,\n",
       "  '4.6274872744099955%'),\n",
       " ([['JUMBO BAG RED RETROSPOT'], ['LUNCH BAG RED RETROSPOT']],\n",
       "  200,\n",
       "  '4.6274872744099955%'),\n",
       " ([['LUNCH BAG PINK POLKADOT'], ['LUNCH BAG RED RETROSPOT']],\n",
       "  199,\n",
       "  '4.604349838037946%'),\n",
       " ([['LUNCH BAG SPACEBOY DESIGN '], ['LUNCH BAG RED RETROSPOT']],\n",
       "  197,\n",
       "  '4.558074965293845%')]"
      ]
     },
     "metadata": {},
     "execution_count": 160
    }
   ],
   "source": [
    "filter_min_number_elem(get_ordered_result(get_perc_range(array_3_perc,len(data),lb_perc=2)),min_num_basket=2,min_num_elem_per_basket=1, different_elem=True)[0:10]"
   ]
  },
  {
   "source": [
    "## Top 10 sequenze di oggetti con almeno 2 elementi nello stesso basket"
   ],
   "cell_type": "markdown",
   "metadata": {}
  },
  {
   "cell_type": "code",
   "execution_count": 161,
   "metadata": {},
   "outputs": [
    {
     "output_type": "execute_result",
     "data": {
      "text/plain": [
       "[([[\"PAPER CHAIN KIT 50'S CHRISTMAS \", 'PAPER CHAIN KIT VINTAGE CHRISTMAS']],\n",
       "  311,\n",
       "  '7.195742711707543%'),\n",
       " ([['GREEN REGENCY TEACUP AND SAUCER', 'ROSES REGENCY TEACUP AND SAUCER ']],\n",
       "  310,\n",
       "  '7.172605275335493%'),\n",
       " ([['GREEN REGENCY TEACUP AND SAUCER', 'PINK REGENCY TEACUP AND SAUCER']],\n",
       "  282,\n",
       "  '6.5247570569180935%'),\n",
       " ([['HEART OF WICKER LARGE', 'HEART OF WICKER SMALL']],\n",
       "  276,\n",
       "  '6.385932438685794%'),\n",
       " ([['RED HANGING HEART T-LIGHT HOLDER', 'WHITE HANGING HEART T-LIGHT HOLDER']],\n",
       "  273,\n",
       "  '6.316520129569644%'),\n",
       " ([['REGENCY CAKESTAND 3 TIER', 'ROSES REGENCY TEACUP AND SAUCER ']],\n",
       "  262,\n",
       "  '6.062008329477094%'),\n",
       " ([['GARDENERS KNEELING PAD CUP OF TEA ',\n",
       "    'GARDENERS KNEELING PAD KEEP CALM ']],\n",
       "  254,\n",
       "  '5.876908838500694%'),\n",
       " ([['JUMBO BAG PINK POLKADOT', 'JUMBO BAG RED RETROSPOT']],\n",
       "  254,\n",
       "  '5.876908838500694%'),\n",
       " ([['LUNCH BAG PINK POLKADOT', 'LUNCH BAG RED RETROSPOT']],\n",
       "  254,\n",
       "  '5.876908838500694%'),\n",
       " ([['PINK REGENCY TEACUP AND SAUCER', 'ROSES REGENCY TEACUP AND SAUCER ']],\n",
       "  254,\n",
       "  '5.876908838500694%')]"
      ]
     },
     "metadata": {},
     "execution_count": 161
    }
   ],
   "source": [
    "filter_min_number_elem(get_ordered_result(get_perc_range(array_3_perc,len(data),lb_perc=2)),min_num_basket=1,min_num_elem_per_basket=2)[0:10]"
   ]
  },
  {
   "source": [
    "## Top 10 sequenze di oggetti con almeno 2 elementi nello stesso basket con elementi diversi\n",
    "\n",
    "Uguale al precedente perchè in ogni basket non ci sono duplicati"
   ],
   "cell_type": "markdown",
   "metadata": {}
  },
  {
   "cell_type": "code",
   "execution_count": 162,
   "metadata": {},
   "outputs": [
    {
     "output_type": "execute_result",
     "data": {
      "text/plain": [
       "[([[\"PAPER CHAIN KIT 50'S CHRISTMAS \", 'PAPER CHAIN KIT VINTAGE CHRISTMAS']],\n",
       "  311,\n",
       "  '7.195742711707543%'),\n",
       " ([['GREEN REGENCY TEACUP AND SAUCER', 'ROSES REGENCY TEACUP AND SAUCER ']],\n",
       "  310,\n",
       "  '7.172605275335493%'),\n",
       " ([['GREEN REGENCY TEACUP AND SAUCER', 'PINK REGENCY TEACUP AND SAUCER']],\n",
       "  282,\n",
       "  '6.5247570569180935%'),\n",
       " ([['HEART OF WICKER LARGE', 'HEART OF WICKER SMALL']],\n",
       "  276,\n",
       "  '6.385932438685794%'),\n",
       " ([['RED HANGING HEART T-LIGHT HOLDER', 'WHITE HANGING HEART T-LIGHT HOLDER']],\n",
       "  273,\n",
       "  '6.316520129569644%'),\n",
       " ([['REGENCY CAKESTAND 3 TIER', 'ROSES REGENCY TEACUP AND SAUCER ']],\n",
       "  262,\n",
       "  '6.062008329477094%'),\n",
       " ([['GARDENERS KNEELING PAD CUP OF TEA ',\n",
       "    'GARDENERS KNEELING PAD KEEP CALM ']],\n",
       "  254,\n",
       "  '5.876908838500694%'),\n",
       " ([['JUMBO BAG PINK POLKADOT', 'JUMBO BAG RED RETROSPOT']],\n",
       "  254,\n",
       "  '5.876908838500694%'),\n",
       " ([['LUNCH BAG PINK POLKADOT', 'LUNCH BAG RED RETROSPOT']],\n",
       "  254,\n",
       "  '5.876908838500694%'),\n",
       " ([['PINK REGENCY TEACUP AND SAUCER', 'ROSES REGENCY TEACUP AND SAUCER ']],\n",
       "  254,\n",
       "  '5.876908838500694%')]"
      ]
     },
     "metadata": {},
     "execution_count": 162
    }
   ],
   "source": [
    "filter_min_number_elem(get_ordered_result(get_perc_range(array_3_perc,len(data),lb_perc=2)),min_num_basket=1,min_num_elem_per_basket=2, different_elem=True)[0:10]"
   ]
  },
  {
   "source": [
    "## Top 10 sequenze di oggetti con almeno 2 basket e 2 elementi nello stesso basket"
   ],
   "cell_type": "markdown",
   "metadata": {}
  },
  {
   "cell_type": "code",
   "execution_count": 163,
   "metadata": {},
   "outputs": [
    {
     "output_type": "execute_result",
     "data": {
      "text/plain": [
       "[([['LUNCH BAG PINK POLKADOT', 'LUNCH BAG RED RETROSPOT'],\n",
       "   ['LUNCH BAG RED RETROSPOT']],\n",
       "  152,\n",
       "  '3.5168903285515967%'),\n",
       " ([['LUNCH BAG  BLACK SKULL.', 'LUNCH BAG RED RETROSPOT'],\n",
       "   ['LUNCH BAG RED RETROSPOT']],\n",
       "  150,\n",
       "  '3.4706154558074966%'),\n",
       " ([['JUMBO BAG PINK POLKADOT', 'JUMBO BAG RED RETROSPOT'],\n",
       "   ['JUMBO BAG RED RETROSPOT']],\n",
       "  148,\n",
       "  '3.4243405830633966%'),\n",
       " ([['LUNCH BAG  BLACK SKULL.', 'LUNCH BAG RED RETROSPOT'],\n",
       "   ['LUNCH BAG  BLACK SKULL.']],\n",
       "  147,\n",
       "  '3.4012031466913464%'),\n",
       " ([['LUNCH BAG CARS BLUE', 'LUNCH BAG RED RETROSPOT'],\n",
       "   ['LUNCH BAG RED RETROSPOT']],\n",
       "  144,\n",
       "  '3.3317908375751966%'),\n",
       " ([['JUMBO BAG RED RETROSPOT', 'LUNCH BAG RED RETROSPOT'],\n",
       "   ['JUMBO BAG RED RETROSPOT']],\n",
       "  139,\n",
       "  '3.2161036557149467%'),\n",
       " ([['LUNCH BAG RED RETROSPOT', 'LUNCH BAG SPACEBOY DESIGN '],\n",
       "   ['LUNCH BAG RED RETROSPOT']],\n",
       "  139,\n",
       "  '3.2161036557149467%'),\n",
       " ([['LUNCH BAG PINK POLKADOT', 'LUNCH BAG RED RETROSPOT'],\n",
       "   ['LUNCH BAG PINK POLKADOT']],\n",
       "  138,\n",
       "  '3.192966219342897%'),\n",
       " ([['ALARM CLOCK BAKELIKE GREEN', 'ALARM CLOCK BAKELIKE RED '],\n",
       "   ['ALARM CLOCK BAKELIKE RED ']],\n",
       "  137,\n",
       "  '3.1698287829708467%'),\n",
       " ([['LUNCH BAG RED RETROSPOT', 'LUNCH BAG WOODLAND'],\n",
       "   ['LUNCH BAG RED RETROSPOT']],\n",
       "  137,\n",
       "  '3.1698287829708467%')]"
      ]
     },
     "metadata": {},
     "execution_count": 163
    }
   ],
   "source": [
    "filter_min_number_elem(get_ordered_result(get_perc_range(array_3_perc,len(data),lb_perc=2)),min_num_basket=2,min_num_elem_per_basket=2)[0:10]\n",
    "\n",
    "[['LUNCH BAG BLACK SKULL.', 'LUNCH BAG RED RETROSPOT'],\n",
    "   ['LUNCH BAG  BLACK SKULL.']]"
   ]
  },
  {
   "source": [
    "## Get longest sequence"
   ],
   "cell_type": "markdown",
   "metadata": {}
  },
  {
   "cell_type": "code",
   "execution_count": 166,
   "metadata": {},
   "outputs": [
    {
     "output_type": "execute_result",
     "data": {
      "text/plain": [
       "[([['WHITE HANGING HEART T-LIGHT HOLDER'],\n",
       "   ['WHITE HANGING HEART T-LIGHT HOLDER'],\n",
       "   ['WHITE HANGING HEART T-LIGHT HOLDER'],\n",
       "   ['WHITE HANGING HEART T-LIGHT HOLDER']],\n",
       "  137,\n",
       "  '3.1698287829708467%',\n",
       "  4),\n",
       " ([['WHITE HANGING HEART T-LIGHT HOLDER'],\n",
       "   ['WHITE HANGING HEART T-LIGHT HOLDER'],\n",
       "   ['WHITE HANGING HEART T-LIGHT HOLDER']],\n",
       "  221,\n",
       "  '5.113373438223045%',\n",
       "  3),\n",
       " ([['JUMBO BAG RED RETROSPOT'],\n",
       "   ['JUMBO BAG RED RETROSPOT'],\n",
       "   ['JUMBO BAG RED RETROSPOT']],\n",
       "  183,\n",
       "  '4.2341508560851455%',\n",
       "  3),\n",
       " ([['LUNCH BAG RED RETROSPOT'],\n",
       "   ['LUNCH BAG RED RETROSPOT'],\n",
       "   ['LUNCH BAG RED RETROSPOT']],\n",
       "  157,\n",
       "  '3.6325775104118465%',\n",
       "  3),\n",
       " ([['ASSORTED COLOUR BIRD ORNAMENT'],\n",
       "   ['ASSORTED COLOUR BIRD ORNAMENT'],\n",
       "   ['ASSORTED COLOUR BIRD ORNAMENT']],\n",
       "  156,\n",
       "  '3.6094400740397963%',\n",
       "  3),\n",
       " ([['REGENCY CAKESTAND 3 TIER'],\n",
       "   ['REGENCY CAKESTAND 3 TIER'],\n",
       "   ['REGENCY CAKESTAND 3 TIER']],\n",
       "  155,\n",
       "  '3.5863026376677465%',\n",
       "  3),\n",
       " ([['LUNCH BAG PINK POLKADOT', 'LUNCH BAG RED RETROSPOT'],\n",
       "   ['LUNCH BAG RED RETROSPOT']],\n",
       "  152,\n",
       "  '3.5168903285515967%',\n",
       "  3),\n",
       " ([['LUNCH BAG  BLACK SKULL.', 'LUNCH BAG RED RETROSPOT'],\n",
       "   ['LUNCH BAG RED RETROSPOT']],\n",
       "  150,\n",
       "  '3.4706154558074966%',\n",
       "  3),\n",
       " ([['JUMBO BAG PINK POLKADOT', 'JUMBO BAG RED RETROSPOT'],\n",
       "   ['JUMBO BAG RED RETROSPOT']],\n",
       "  148,\n",
       "  '3.4243405830633966%',\n",
       "  3),\n",
       " ([['LUNCH BAG  BLACK SKULL.', 'LUNCH BAG RED RETROSPOT'],\n",
       "   ['LUNCH BAG  BLACK SKULL.']],\n",
       "  147,\n",
       "  '3.4012031466913464%',\n",
       "  3)]"
      ]
     },
     "metadata": {},
     "execution_count": 166
    }
   ],
   "source": [
    "get_longest_sequences(get_ordered_result(get_perc_range(array_3_perc,len(data),lb_perc=2)))[0:10]"
   ]
  },
  {
   "cell_type": "code",
   "execution_count": null,
   "metadata": {},
   "outputs": [],
   "source": []
  }
 ]
}