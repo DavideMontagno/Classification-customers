{
 "metadata": {
  "language_info": {
   "codemirror_mode": {
    "name": "ipython",
    "version": 3
   },
   "file_extension": ".py",
   "mimetype": "text/x-python",
   "name": "python",
   "nbconvert_exporter": "python",
   "pygments_lexer": "ipython3",
   "version": "3.7.5-final"
  },
  "orig_nbformat": 2,
  "kernelspec": {
   "name": "python37564bit61209d9bcfea452998e2771b9ee1a7fb",
   "display_name": "Python 3.7.5 64-bit"
  }
 },
 "nbformat": 4,
 "nbformat_minor": 2,
 "cells": [
  {
   "cell_type": "code",
   "execution_count": 21,
   "metadata": {},
   "outputs": [
    {
     "output_type": "stream",
     "name": "stdout",
     "text": [
      "<class 'pandas.core.frame.DataFrame'>\nInt64Index: 471910 entries, 0 to 541909\nData columns (total 8 columns):\nBasketID           471910 non-null object\nBasketDate         471910 non-null object\nSale               471910 non-null float64\nCustomerID         406830 non-null float64\nCustomerCountry    471910 non-null object\nProdID             471910 non-null object\nProdDescr          471157 non-null object\nQta                471910 non-null int64\ndtypes: float64(2), int64(1), object(5)\nmemory usage: 32.4+ MB\n"
     ]
    }
   ],
   "source": [
    "import pandas as pd\n",
    "df = pd.read_csv(\"dataset/TC-dataset.csv\", sep=\"\\t\",index_col=0)\n",
    "df.info()"
   ]
  },
  {
   "source": [
    "## Data Selection\n",
    "\n",
    "In questa sezione a partire dai dati originali si effettua una selezione dei dati in modo tale da eliminare tutti quelli semanticamente errati. Queste eliminazioni provengono da alcune assunzioni effettuate sui dati e sulla loro provenienza\n",
    "\n",
    "### Provenienza dei dati\n",
    "I dati provengono dal dataset https://archive.ics.uci.edu/ml/datasets/Online+Retail Nella fase di data semantics abbiamo già precisato alcune informazioni:\n",
    "Si tratta di un sito e-commerce Inglese. Vende principalmente regali per tutte le occasioni e molti dei clienti sono grossisti. Nella colonna Sale è presente il prezzo per singolo articolo quindi equivale a quantità=1. Il prezzo è in sterline. Secondo la descrizione del dataset quando in basket id abbiamo una C iniziale si tratta di ordini cancellati.\n"
   ],
   "cell_type": "markdown",
   "metadata": {}
  },
  {
   "source": [
    "### Trattamento Ordini cancellati\n",
    "Per quanto ci riguarda gli ordini cancellati non sono significativi per noi per caratterizzare i clienti. Di conseguenza possiamo eliminarli. Tutti gli ordini da cancellare hanno anche quantità<=0"
   ],
   "cell_type": "markdown",
   "metadata": {}
  },
  {
   "cell_type": "code",
   "execution_count": 22,
   "metadata": {},
   "outputs": [
    {
     "output_type": "stream",
     "name": "stdout",
     "text": [
      "Ordini da cancellare con \"C\":  9084\n",
      "Ordini da cancellare con Qta<=0:  9752\n",
      "Record da cancellare con \"C\" con quantità<=0: 9084\n"
     ]
    }
   ],
   "source": [
    "print(\"Ordini da cancellare con \\\"C\\\": \",len(df[df[\"BasketID\"].str.contains(\"C\")]))\n",
    "print(\"Ordini da cancellare con Qta<=0: \",len(df[df[\"Qta\"]<=0]))\n",
    "print(\"Record da cancellare con \\\"C\\\" con quantità<=0: \"+str(len(df[(df[\"Qta\"]<=0) & (df[\"BasketID\"].str.contains(\"C\"))])))"
   ]
  },
  {
   "source": [
    "Ogni ordine cancellato potrebbe averne un corrispondente positivo quindi prima di eliminarli verifichiamo quindi se troviamo degli ordini opposti, prediamo tutti quelli negativi e verifichiamo."
   ],
   "cell_type": "markdown",
   "metadata": {}
  },
  {
   "cell_type": "code",
   "execution_count": 23,
   "metadata": {
    "tags": []
   },
   "outputs": [
    {
     "output_type": "stream",
     "name": "stdout",
     "text": [
      "Record cancellati:  6144\nNuova grandezza del dataset:  465766\n"
     ]
    }
   ],
   "source": [
    "list_baskC=df[df[\"BasketID\"].str.contains(\"C\")]\n",
    "count=0\n",
    "\n",
    "for index, row in list_baskC.iterrows():\n",
    "\n",
    "    local_search=df[(df[\"CustomerID\"]==row['CustomerID'])&(df[\"Sale\"]==row['Sale'])&(df[\"Qta\"]==-row['Qta'])&(df[\"ProdID\"]==row['ProdID'])]\n",
    "\n",
    "    if len(local_search)>0:# In questo caso vuol dire che ci sono due ordini opposti\n",
    "        count+=1\n",
    "        ##print(index)\n",
    "        ##print(df.loc[index])\n",
    "        ##print(local_search.index[0])\n",
    "        ##print(df.loc[local_search.index[0]])\n",
    "        ##print(\"_________________________\")\n",
    "        df.drop([index,local_search.index[0]], inplace=True)\n",
    "        \n",
    "        \n",
    "        \n",
    "print(\"Record cancellati: \",2*count)\n",
    "print(\"Nuova grandezza del dataset: \",len(df))"
   ]
  },
  {
   "source": [
    "Nell'analisi non abbiamo considerato che non per forza un ordine cacellato ha la stessa quantità, potrebbe essere su un ordine di 50 elementi solo 20 per esempio siano stati cancellati. Tuttavia abbiamo semplificato il problema per evitare analisi troppe complicate. Magari con lo sviluppo del progetto potremo valutare di migliorare questa analisi. Vediamo quanti record rimangono:"
   ],
   "cell_type": "markdown",
   "metadata": {}
  },
  {
   "cell_type": "code",
   "execution_count": 24,
   "metadata": {},
   "outputs": [
    {
     "output_type": "stream",
     "name": "stdout",
     "text": [
      "Record ancora da eliminare:  6680\n"
     ]
    }
   ],
   "source": [
    "print(\"Record ancora da eliminare: \",len(df[df[\"BasketID\"].str.contains(\"C\"]))\n"
   ]
  },
  {
   "source": [
    "Possiamo prendere i rimanenti e cercare nel dataset se c'è un altro ordine positivo con una quantità maggiore del valore assoluto in modo tale da elimiare un po' di quantità. Quindi rispetto a prima rimangono da fare i record in cui il valore assoluto della quantità negativa non ha un record >="
   ],
   "cell_type": "markdown",
   "metadata": {}
  },
  {
   "cell_type": "code",
   "execution_count": 25,
   "metadata": {},
   "outputs": [
    {
     "output_type": "stream",
     "name": "stdout",
     "text": [
      "Record eliminati:  4445\n"
     ]
    }
   ],
   "source": [
    "remaining_order=df[df[\"BasketID\"].str.contains(\"C\")]\n",
    "count=0\n",
    "\n",
    "for index,row in remaining_order.iterrows():\n",
    "    transaction_retrived=df[(df[\"CustomerID\"]==row[\"CustomerID\"])&(df[\"ProdID\"]==row[\"ProdID\"])&(df[\"Sale\"]==row[\"Sale\"])&(df[\"Qta\"]>-row[\"Qta\"])].sort_values(by=['BasketDate'])\n",
    "    if len(transaction_retrived)>0:\n",
    "        df.drop([index], inplace=True)\n",
    "        transaction_retrived.Qta.iloc[0]=transaction_retrived.Qta.iloc[0]-row[\"Qta\"]\n",
    "        count+=1\n",
    "print(\"Record eliminati: \",count)"
   ]
  },
  {
   "cell_type": "code",
   "execution_count": 26,
   "metadata": {},
   "outputs": [
    {
     "output_type": "execute_result",
     "data": {
      "text/plain": [
       "1567"
      ]
     },
     "metadata": {},
     "execution_count": 26
    }
   ],
   "source": [
    "len(df[df[\"BasketID\"].str.contains(\"C\")])"
   ]
  },
  {
   "source": [
    "Oltre a quelli opposti verifichiamo che non ci siano altri ordini cancellati. In questo caso li eliminamo comunque perchè potrebbero essere errori, anche se non hanno un corrispettivo positivo. Oppure potrebbero essere ordini cancellati corrispondenti a ordini fatti prima del dicembre 2010."
   ],
   "cell_type": "markdown",
   "metadata": {}
  },
  {
   "cell_type": "code",
   "execution_count": 27,
   "metadata": {},
   "outputs": [
    {
     "output_type": "stream",
     "name": "stdout",
     "text": [
      "Record da eliminare:  1567\n"
     ]
    }
   ],
   "source": [
    "print(\"Record da eliminare: \",len(df[df[\"BasketID\"].str.contains(\"C\")]))\n",
    "df=df[df[\"BasketID\"].str.contains(\"C\") == False]"
   ]
  },
  {
   "source": [
    "### Quantità negative con ordini non cancellati\n",
    "Abbiamo già constatato che gli ordini con la C sono cancellati e abbiamo già deciso di cancellarli. Consideriamo ora quelli con solo le quantità negative."
   ],
   "cell_type": "markdown",
   "metadata": {}
  },
  {
   "cell_type": "code",
   "execution_count": 28,
   "metadata": {},
   "outputs": [
    {
     "output_type": "stream",
     "name": "stdout",
     "text": [
      "Record con quantità <=0:  668\nRecord con quantità <=0 e Sale<=0:  668\n[nan 'check' 'Dotcom sales' 'reverse 21/5/10 adjustment'\n 'mouldy, thrown away.' '?' 'label mix up' 'samples/damages' 'thrown away'\n 'damages' 'showroom' 'wrongly sold as sets' 'dotcom sold sets'\n 'Amazon sold sets' 'wrongly sold sets' '?sold as sets?' 'damages/display'\n 'damaged stock' 'damages?' 're dotcom quick fix.' 'sold in set?'\n 'POSSIBLE DAMAGES OR LOST?' 'damaged' 'Damaged' 'DAMAGED' 'Missing'\n 'wrong code?' 'crushed' 'damages/credits from ASOS.'\n 'Not rcvd in 10/11/2010 delivery' 'Thrown away-rusty' 'damages/dotcom?'\n 'smashed' 'reverse previous adjustment'\n 'incorrectly credited C550456 see 47' 'wet damaged' 'Water damaged'\n 'missing' 'sold as set on dotcom' 'mix up with c' 'ebay'\n 'Sold as 1 on dotcom' 'taig adjust no stock' '?display?' '??'\n 'OOPS ! adjustment' 'Dagamed' 'historic computer difference?....se'\n 'incorrect stock entry.' 'wrongly coded-23343' 'stock check' 'WET/MOULDY'\n 'Wet pallet-thrown away' 're-adjustment' 'wrongly coded 20713'\n 'Unsaleable, destroyed.' 'dotcom sales' 'damages wax' 'wet rusty'\n 'adjustment' 'wet pallet' '???missing' 'wet?' 'lost??' 'CHECK' 'wet'\n 'lost']\n"
     ]
    }
   ],
   "source": [
    "print(\"Record con quantità <=0: \", len(df[df[\"Qta\"]<=0]))\n",
    "print(\"Record con quantità <=0 e Sale<=0: \", len(df[(df[\"Qta\"]<=0) & (df[\"Sale\"]<=0)]))\n",
    "print(df[df[\"Qta\"]<=0].ProdDescr.unique())\n"
   ]
  },
  {
   "source": [
    "Abbiamo solamente 668 transazioni in cui abbiamo la quantità negativa e non appartengono a ordini cancellati. Inoltre in questi 668 tutti hanno sale<=0.  Dalle descrizioni fornite la maggior parte sono quindi articoli persi oppure danneggiati o eventuali errori. \n",
    "Eliminare anche questi record, in futuro possiamo pensare a qualche indicatore che possa tenere conto di questi articoli. In ogni caso sono solo 668 elementi."
   ],
   "cell_type": "markdown",
   "metadata": {}
  },
  {
   "cell_type": "code",
   "execution_count": 29,
   "metadata": {},
   "outputs": [],
   "source": [
    "df=df[df[\"Qta\"]>0]"
   ]
  },
  {
   "source": [
    "### Sale <=0 e quantità >=0\n",
    "Abbiamo trattato le quantità <=0. Altri valori particolari sono quelli relativi al Sale. In particolare ci sono alcuni sale che sono <=0."
   ],
   "cell_type": "markdown",
   "metadata": {}
  },
  {
   "cell_type": "code",
   "execution_count": 30,
   "metadata": {},
   "outputs": [
    {
     "output_type": "stream",
     "name": "stdout",
     "text": [
      "Sale<=0:  613\nSale<0:  2  record\n        BasketID           BasketDate      Sale  CustomerID CustomerCountry  \\\n299983  A563186  2011-08-12 14:51:00 -11062.06         NaN  United Kingdom   \n299984  A563187  2011-08-12 14:52:00 -11062.06         NaN  United Kingdom   \n\n       ProdID        ProdDescr  Qta  \n299983      B  Adjust bad debt    1  \n299984      B  Adjust bad debt    1  \n"
     ]
    }
   ],
   "source": [
    "print(\"Sale<=0: \",len((df[df[\"Sale\"]<=0])))\n",
    "print(\"Sale<0: \",len((df[df[\"Sale\"]<0])),\" record\\n\", df[df[\"Sale\"]<0])"
   ]
  },
  {
   "source": [
    "Esistono solo 2 record con sale < 0 che eliminati in quanto non rappresentano una informazione relativa ai customer ma sono relativi all'azienda.\n",
    "\n",
    "611 Record hanno sia il sale > 0 e la quantità > 0, essendo il nostro clustering fatto sui clienti e non sui prodotti potrebbe fuoriviante avere alcuni record con sale = 0.\n",
    "Potrebbero essere omaggi per esempio e non avrebbe senso considerarli.\n",
    "Alcuni con il sale = 0 hanno quantità molto alte anche di 300 unità, in questo caso sarebbe anche difficile considerarli omaggi a meno che non siano per grossisti.\n",
    "\n",
    "Dato che stiamo performando una analisi sui customer trovo poco significativo considerare gli ordini \"omaggio\" che sono una registrazione che viene fatta dall'azienda per tenerne traccia\n",
    "\n",
    "Altra possibilità fare il clustering con questi e vedere se effettivamente ci deviano il clustering, sono comunque pochi record."
   ],
   "cell_type": "markdown",
   "metadata": {}
  },
  {
   "cell_type": "code",
   "execution_count": 31,
   "metadata": {},
   "outputs": [],
   "source": [
    "df=df[df[\"Sale\"]>=0]"
   ]
  },
  {
   "cell_type": "code",
   "execution_count": null,
   "metadata": {},
   "outputs": [],
   "source": []
  }
 ]
}