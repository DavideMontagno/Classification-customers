{
 "metadata": {
  "language_info": {
   "codemirror_mode": {
    "name": "ipython",
    "version": 3
   },
   "file_extension": ".py",
   "mimetype": "text/x-python",
   "name": "python",
   "nbconvert_exporter": "python",
   "pygments_lexer": "ipython3",
   "version": "3.7.5-final"
  },
  "orig_nbformat": 2,
  "kernelspec": {
   "name": "Python 3.7.5 64-bit",
   "display_name": "Python 3.7.5 64-bit",
   "metadata": {
    "interpreter": {
     "hash": "a23959b220aae94b277b2feb28a92f00653f030ef1fcf8b66d10e2db8b9e2607"
    }
   }
  }
 },
 "nbformat": 4,
 "nbformat_minor": 2,
 "cells": [
  {
   "cell_type": "code",
   "execution_count": 15,
   "metadata": {},
   "outputs": [],
   "source": [
    "import numpy as np\n",
    "import pandas as pd"
   ]
  },
  {
   "cell_type": "code",
   "execution_count": 16,
   "metadata": {},
   "outputs": [
    {
     "output_type": "stream",
     "name": "stdout",
     "text": [
      "<class 'pandas.core.frame.DataFrame'>\nInt64Index: 471910 entries, 0 to 541909\nData columns (total 8 columns):\nBasketID           471910 non-null object\nBasketDate         471910 non-null object\nSale               471910 non-null float64\nCustomerID         406830 non-null float64\nCustomerCountry    471910 non-null object\nProdID             471910 non-null object\nProdDescr          471157 non-null object\nQta                471910 non-null int64\ndtypes: float64(2), int64(1), object(5)\nmemory usage: 32.4+ MB\n"
     ]
    }
   ],
   "source": [
    "df = pd.read_csv(\"dataset/TC-dataset.csv\", sep=\"\\t\",index_col=0)\n",
    "df.info()"
   ]
  },
  {
   "source": [
    "## Gestione Customer Country"
   ],
   "cell_type": "markdown",
   "metadata": {}
  },
  {
   "cell_type": "code",
   "execution_count": 17,
   "metadata": {},
   "outputs": [
    {
     "output_type": "stream",
     "name": "stdout",
     "text": [
      "['United Kingdom' 'France' 'Australia' 'Netherlands' 'Germany' 'Norway'\n",
      " 'EIRE' 'Switzerland' 'Spain' 'Poland' 'Portugal' 'Italy' 'Belgium'\n",
      " 'Lithuania' 'Japan' 'Iceland' 'Channel Islands' 'Denmark' 'Cyprus'\n",
      " 'Sweden' 'Austria' 'Israel' 'Finland' 'Bahrain' 'Greece' 'Hong Kong'\n",
      " 'Singapore' 'Lebanon' 'United Arab Emirates' 'Saudi Arabia'\n",
      " 'Czech Republic' 'Canada' 'Unspecified' 'Brazil' 'USA'\n",
      " 'European Community' 'Malta' 'RSA']\n",
      "340\n",
      "61\n",
      "96\n"
     ]
    }
   ],
   "source": [
    "print(df.CustomerCountry.unique())\n",
    "#Numero di righe con country Unspecified\n",
    "print(len(df[df[\"CustomerCountry\"].str.contains(\"Unspecified\")]))\n",
    "\n",
    "#Numero di righe con country European Community\n",
    "print(len(df[df[\"CustomerCountry\"].str.contains(\"European Community\")]))\n",
    "\n",
    "#Numero di righe con CustomerCountry Unspecified e CustomerID null\n",
    "print(len(df[(df[\"CustomerCountry\"].str.contains(\"Unspecified\")) & (df[\"CustomerID\"].isnull())]))"
   ]
  },
  {
   "cell_type": "code",
   "execution_count": 18,
   "metadata": {},
   "outputs": [
    {
     "output_type": "stream",
     "name": "stdout",
     "text": [
      "13\n",
      "\n",
      "[12363. 16320.    nan 14265. 12743.]\n",
      "5\n",
      "\n",
      "Empty DataFrame\n",
      "Columns: [BasketID, BasketDate, Sale, CustomerID, CustomerCountry, ProdID, ProdDescr, Qta]\n",
      "Index: []\n",
      "\n",
      "            Sale  CustomerID  Qta\n",
      "BasketID                         \n",
      "549687     36.50    197808.0  282\n",
      "552695     96.81    767040.0  654\n",
      "557499     42.10    146880.0   78\n",
      "559929     51.91    213975.0  271\n",
      "561658    283.06   1057669.0  205\n",
      "561661    124.11    649893.0  114\n",
      "563947     16.67     86541.0  126\n",
      "564051    129.84    228240.0   59\n",
      "Numero Elementi:8\n",
      "\n",
      "           Sale  CustomerID  Qta\n",
      "BasketID                        \n",
      "553857    27.17         0.0   95\n",
      "559521    58.56         0.0  207\n",
      "565303    46.57         0.0  157\n",
      "576646    27.80         0.0   88\n",
      "578539    27.59         0.0  176\n",
      "Numero Elementi:5\n",
      "\n",
      "United Kingdom\n"
     ]
    }
   ],
   "source": [
    "count = 0\n",
    "\n",
    "#Numero di carrelli il cui CustomerCountry risulta unspecified\n",
    "print(len(df[df[\"CustomerCountry\"].str.contains(\"Unspecified\")].BasketID.unique()))\n",
    "\n",
    "print()\n",
    "\n",
    "                \n",
    "#CustomerID che contengono una nazionalità unspecified\n",
    "print(df[df[\"CustomerCountry\"].str.contains(\"Unspecified\")].CustomerID.unique())\n",
    "print(len(df[df[\"CustomerCountry\"].str.contains(\"Unspecified\")].CustomerID.unique()))\n",
    "\n",
    "print()\n",
    "\n",
    "#Provo a vedere se tutti i record con quegli specifici CustomerID hanno la nazione per poterla recuperare\n",
    "print(df[(df[\"CustomerID\"].astype(str).str.contains('12743')) & (~df[\"CustomerCountry\"].str.contains(\"Unspecified\"))])\n",
    "\n",
    "print()\n",
    "\n",
    "#Record con Country Unspecified che non hanno il customer id a null raggruppati per numero di carrello\n",
    "result = df[(df[\"CustomerCountry\"].str.contains(\"Unspecified\")) & (df[\"CustomerID\"].notnull())]\n",
    "result = result.groupby(\"BasketID\").sum()\n",
    "print(result)\n",
    "print(\"Numero Elementi:\" + str(len(result)))\n",
    "\n",
    "print()\n",
    "\n",
    "#Record con Country Unspecified che hanno il customer id a null raggruppati per numero di carrello\n",
    "result = df[(df[\"CustomerCountry\"].str.contains(\"Unspecified\")) & (df[\"CustomerID\"].isnull())]\n",
    "result = result.groupby(\"BasketID\").sum()\n",
    "print(result)\n",
    "print(\"Numero Elementi:\" + str(len(result)))\n",
    "\n",
    "\n",
    "print()\n",
    "print(df['CustomerCountry'].mode()[0])\n",
    "\n"
   ]
  },
  {
   "source": [
    "### Considerazioni\n",
    "Ci sono solo 4 customer con country unspecified e in totale hanno 244 record\n",
    "Poi ci sono dei customerID null che hanno country unspecified e hanno 96 record\n",
    "\n",
    "Dei 4 customer country ho controllato se fosse possibile recupere il Country in uno dei loro record, ma sono tutti Unspecified\n",
    "\n",
    "Calcolando la moda dei dati è risultato che sia United Kingdom\n",
    "\n",
    "Decisione: trasformare i 340 Unspecified in United Kingdom"
   ],
   "cell_type": "markdown",
   "metadata": {}
  },
  {
   "source": [
    "## Record con CustomerID nulli "
   ],
   "cell_type": "markdown",
   "metadata": {}
  },
  {
   "cell_type": "code",
   "execution_count": 7,
   "metadata": {},
   "outputs": [
    {
     "output_type": "execute_result",
     "data": {
      "text/plain": [
       "65080"
      ]
     },
     "metadata": {},
     "execution_count": 7
    }
   ],
   "source": [
    "len(df[df[\"CustomerID\"].isnull()])"
   ]
  },
  {
   "source": [
    "Generiamo i nuovi customer ID"
   ],
   "cell_type": "markdown",
   "metadata": {}
  },
  {
   "cell_type": "code",
   "execution_count": 8,
   "metadata": {},
   "outputs": [],
   "source": [
    "import random\n",
    "\n",
    "basket_list_customer_null=df[df[\"CustomerID\"].isnull()].BasketID.unique()\n",
    "new_customer_per_basket_list=random.sample(range(1, 100000), len(basket_list_customer_null))\n",
    "\n",
    "\n",
    "for i, elem in enumerate(basket_list_customer_null):\n",
    "    df[\"CustomerID\"][df.BasketID==elem]=str(new_customer_per_basket_list[i])+\"N\""
   ]
  },
  {
   "cell_type": "code",
   "execution_count": 9,
   "metadata": {},
   "outputs": [
    {
     "output_type": "execute_result",
     "data": {
      "text/plain": [
       "Empty DataFrame\n",
       "Columns: [BasketID, BasketDate, Sale, CustomerID, CustomerCountry, ProdID, ProdDescr, Qta]\n",
       "Index: []"
      ],
      "text/html": "<div>\n<style scoped>\n    .dataframe tbody tr th:only-of-type {\n        vertical-align: middle;\n    }\n\n    .dataframe tbody tr th {\n        vertical-align: top;\n    }\n\n    .dataframe thead th {\n        text-align: right;\n    }\n</style>\n<table border=\"1\" class=\"dataframe\">\n  <thead>\n    <tr style=\"text-align: right;\">\n      <th></th>\n      <th>BasketID</th>\n      <th>BasketDate</th>\n      <th>Sale</th>\n      <th>CustomerID</th>\n      <th>CustomerCountry</th>\n      <th>ProdID</th>\n      <th>ProdDescr</th>\n      <th>Qta</th>\n    </tr>\n  </thead>\n  <tbody>\n  </tbody>\n</table>\n</div>"
     },
     "metadata": {},
     "execution_count": 9
    }
   ],
   "source": [
    "df[df[\"CustomerID\"].isnull()]"
   ]
  },
  {
   "cell_type": "code",
   "execution_count": 10,
   "metadata": {},
   "outputs": [
    {
     "output_type": "execute_result",
     "data": {
      "text/plain": [
       "65080"
      ]
     },
     "metadata": {},
     "execution_count": 10
    }
   ],
   "source": [
    "len(df[df[\"CustomerID\"].astype(str).str.contains('N')])"
   ]
  },
  {
   "source": [
    "Sono stati generati nuovi CustomerId per non buttare transazioni mancanti"
   ],
   "cell_type": "markdown",
   "metadata": {}
  },
  {
   "source": [
    "## Quantità negative con ordini non cancellati\n",
    "Abbiamo già constatato che gli ordini con la C sono cancellati e abbiamo già deciso di cancellarli. Consideriamo ora quelli con solo le quantità negative. "
   ],
   "cell_type": "markdown",
   "metadata": {}
  },
  {
   "cell_type": "code",
   "execution_count": 19,
   "metadata": {},
   "outputs": [
    {
     "output_type": "stream",
     "name": "stdout",
     "text": [
      "9752\n",
      "Record già da cancellare: 9084\n",
      "668\n",
      "668\n",
      "I record problematici sono 668, tutti quanti hanno anche Sale <=0\n",
      "\n"
     ]
    }
   ],
   "source": [
    "print(len(df[df[\"Qta\"]<=0]))\n",
    "print(\"Record già da cancellare: \"+str(len(df[(df[\"Qta\"]<=0) & (df[\"BasketID\"].str.contains(\"C\"))])))\n",
    "\n",
    "print(len(df[(df[\"Qta\"]<=0) & (df[\"BasketID\"].str.contains(\"C\")==False)]))\n",
    "\n",
    "print(len(df[(df[\"Qta\"]<=0) & (df[\"Sale\"]<=0)&(df[\"BasketID\"].str.contains(\"C\")==False)]))\n",
    "\n",
    "print(\"I record problematici sono 668, tutti quanti hanno anche Sale <=0\\n\")\n"
   ]
  },
  {
   "source": [
    "Controlliamo la descrizione di questi prodotti:"
   ],
   "cell_type": "markdown",
   "metadata": {}
  },
  {
   "cell_type": "code",
   "execution_count": 20,
   "metadata": {},
   "outputs": [
    {
     "output_type": "stream",
     "name": "stdout",
     "text": [
      "[nan 'check' 'Dotcom sales' 'reverse 21/5/10 adjustment'\n 'mouldy, thrown away.' '?' 'label mix up' 'samples/damages' 'thrown away'\n 'damages' 'showroom' 'wrongly sold as sets' 'dotcom sold sets'\n 'Amazon sold sets' 'wrongly sold sets' '?sold as sets?' 'damages/display'\n 'damaged stock' 'damages?' 're dotcom quick fix.' 'sold in set?'\n 'POSSIBLE DAMAGES OR LOST?' 'damaged' 'Damaged' 'DAMAGED' 'Missing'\n 'wrong code?' 'crushed' 'damages/credits from ASOS.'\n 'Not rcvd in 10/11/2010 delivery' 'Thrown away-rusty' 'damages/dotcom?'\n 'smashed' 'reverse previous adjustment'\n 'incorrectly credited C550456 see 47' 'wet damaged' 'Water damaged'\n 'missing' 'sold as set on dotcom' 'mix up with c' 'ebay'\n 'Sold as 1 on dotcom' 'taig adjust no stock' '?display?' '??'\n 'OOPS ! adjustment' 'Dagamed' 'historic computer difference?....se'\n 'incorrect stock entry.' 'wrongly coded-23343' 'stock check' 'WET/MOULDY'\n 'Wet pallet-thrown away' 're-adjustment' 'wrongly coded 20713'\n 'Unsaleable, destroyed.' 'dotcom sales' 'damages wax' 'wet rusty'\n 'adjustment' 'wet pallet' '???missing' 'wet?' 'lost??' 'CHECK' 'wet'\n 'lost']\n"
     ]
    }
   ],
   "source": [
    "print(df[(df[\"Qta\"]<=0) & (df[\"BasketID\"].str.contains(\"C\")==False)].ProdDescr.unique())"
   ]
  },
  {
   "source": [
    "Abbiamo solamente 668 transazioni in cui abbiamo la quantità negativa e non appartengono a ordini cancellati. Inoltre in questi 668 tutti hanno sale<=0.  Dalle descrizioni fornite la maggior parte sono quindi articoli persi oppure danneggiati o eventuali errori.\n",
    "Verifichiamo però che non ci sia una trasazione speculare ma positiva. Proviamo con alcuni prodID"
   ],
   "cell_type": "markdown",
   "metadata": {}
  },
  {
   "cell_type": "code",
   "execution_count": 21,
   "metadata": {},
   "outputs": [
    {
     "output_type": "execute_result",
     "data": {
      "text/plain": [
       "       BasketID           BasketDate  Sale  CustomerID CustomerCountry ProdID  \\\n",
       "7192     537000  2010-12-03 15:32:00   0.0         NaN  United Kingdom  21414   \n",
       "98375    544677  2011-02-22 16:13:00   2.1     18196.0  United Kingdom  21414   \n",
       "147790   549136  2011-04-06 15:23:00   0.0         NaN  United Kingdom  21414   \n",
       "\n",
       "                      ProdDescr  Qta  \n",
       "7192                        NaN  -22  \n",
       "98375   SCALLOP SHELL SOAP DISH    1  \n",
       "147790                      NaN   -3  "
      ],
      "text/html": "<div>\n<style scoped>\n    .dataframe tbody tr th:only-of-type {\n        vertical-align: middle;\n    }\n\n    .dataframe tbody tr th {\n        vertical-align: top;\n    }\n\n    .dataframe thead th {\n        text-align: right;\n    }\n</style>\n<table border=\"1\" class=\"dataframe\">\n  <thead>\n    <tr style=\"text-align: right;\">\n      <th></th>\n      <th>BasketID</th>\n      <th>BasketDate</th>\n      <th>Sale</th>\n      <th>CustomerID</th>\n      <th>CustomerCountry</th>\n      <th>ProdID</th>\n      <th>ProdDescr</th>\n      <th>Qta</th>\n    </tr>\n  </thead>\n  <tbody>\n    <tr>\n      <th>7192</th>\n      <td>537000</td>\n      <td>2010-12-03 15:32:00</td>\n      <td>0.0</td>\n      <td>NaN</td>\n      <td>United Kingdom</td>\n      <td>21414</td>\n      <td>NaN</td>\n      <td>-22</td>\n    </tr>\n    <tr>\n      <th>98375</th>\n      <td>544677</td>\n      <td>2011-02-22 16:13:00</td>\n      <td>2.1</td>\n      <td>18196.0</td>\n      <td>United Kingdom</td>\n      <td>21414</td>\n      <td>SCALLOP SHELL SOAP DISH</td>\n      <td>1</td>\n    </tr>\n    <tr>\n      <th>147790</th>\n      <td>549136</td>\n      <td>2011-04-06 15:23:00</td>\n      <td>0.0</td>\n      <td>NaN</td>\n      <td>United Kingdom</td>\n      <td>21414</td>\n      <td>NaN</td>\n      <td>-3</td>\n    </tr>\n  </tbody>\n</table>\n</div>"
     },
     "metadata": {},
     "execution_count": 21
    }
   ],
   "source": [
    "df[df[\"ProdID\"]==\"21414\"]"
   ]
  },
  {
   "source": [
    "Non si rileva nessun particolare pattern che fa presumere la presenza di un corrispettivo ordine positivo.\n",
    "\n",
    "*Decisione finale*: Eliminare anche questi sample a meno che non ci viene in mente qualche indicatore che possa tenere conto di questi articoli. In ogni caso sono solo 668 elementi."
   ],
   "cell_type": "markdown",
   "metadata": {}
  },
  {
   "source": [
    "## Sale <= 0 e quantità >0"
   ],
   "cell_type": "markdown",
   "metadata": {}
  },
  {
   "cell_type": "code",
   "execution_count": 24,
   "metadata": {},
   "outputs": [
    {
     "output_type": "stream",
     "name": "stdout",
     "text": [
      "1281\n",
      "\n",
      "       BasketID           BasketDate      Sale  CustomerID CustomerCountry  \\\n",
      "299983  A563186  2011-08-12 14:51:00 -11062.06         NaN  United Kingdom   \n",
      "299984  A563187  2011-08-12 14:52:00 -11062.06         NaN  United Kingdom   \n",
      "\n",
      "       ProdID        ProdDescr  Qta  \n",
      "299983      B  Adjust bad debt    1  \n",
      "299984      B  Adjust bad debt    1  \n",
      "['WHITE HANGING HEART T-LIGHT HOLDER' 'WHITE METAL LANTERN'\n",
      " 'CREAM CUPID HEARTS COAT HANGER' ...\n",
      " 'SET 10 CHRISTMAS CARDS HOHOHO 16956'\n",
      " 'CREAM HANGING HEART T-LIGHT HOLDER' 'PAPER CRAFT , LITTLE BIRDIE']\n"
     ]
    }
   ],
   "source": [
    "#Numero di ordini con Sale < 0\n",
    "print(len((df[df[\"Sale\"]<=0])))\n",
    "print()\n",
    "print((df[df[\"Sale\"]<0]))\n",
    "\n",
    "a = df[(df[\"Qta\"]>0) & (df[\"BasketID\"].str.contains(\"C\")==False)].ProdDescr.unique()\n",
    "print(a)"
   ]
  },
  {
   "cell_type": "code",
   "execution_count": 31,
   "metadata": {},
   "outputs": [
    {
     "output_type": "stream",
     "name": "stdout",
     "text": [
      "1279\n0\n611\n668\n571\n"
     ]
    }
   ],
   "source": [
    "#Numero di ordini con Sale = 0\n",
    "\n",
    "print(len((df[df[\"Sale\"]==0])))\n",
    "print(len(df[(df[\"Sale\"]==0) &(df[\"Qta\"]==0)]))\n",
    "print(len(df[(df[\"Sale\"]==0) &(df[\"Qta\"]>0)])) #Quantità positiva\n",
    "print(len(df[(df[\"Sale\"]==0) &(df[\"Qta\"]<=0)])) #Quantità negativa\n",
    "print(len(df[(df[\"Sale\"]==0) &(df[\"Qta\"]>0) & (df[\"CustomerID\"].isnull())])) ##Customer null"
   ]
  },
  {
   "source": [
    "### Considerazione sui Sale\n",
    "Esistono solo 2 record con sale < 0 a parer mio vanno assolutamente eliminati in quanto non rappresentano una informazione relativa ai customer ma sono relativi all'azienda\n",
    "611 Record hanno sia il sale = 0 e la quantità > 0, essendo il nostro clustering fatto sui clienti e non sui prodotti credo che sia fuoriviante avere alcuni record con sale = 0\n",
    "Pur giustificandoli come omaggi penso che la cosa più giusta sia eliminarli\n",
    "\n",
    "Alcuni con il sale = 0 hanno quantità molto alte anche di 300 unità, in questo caso sarebbe anche difficile considerarli omaggi a meno che non siano per grossisti\n",
    "\n",
    "Dato che stiamo performando una analisi sui customer trovo poco significativo considerare gli ordini \"omaggio\" che sono una registrazione che viene fatta dall'azienda per tenerne traccia (potrebbe deviare il clustering?)\n",
    "\n",
    "Altra possibilità fare il clustering con queste Qta > 0 e vedere se effettivamente ci deviano il clustering, sono comunque pochi record."
   ],
   "cell_type": "markdown",
   "metadata": {}
  }
 ]
}