{
 "metadata": {
  "language_info": {
   "codemirror_mode": {
    "name": "ipython",
    "version": 3
   },
   "file_extension": ".py",
   "mimetype": "text/x-python",
   "name": "python",
   "nbconvert_exporter": "python",
   "pygments_lexer": "ipython3",
   "version": "3.7.8-final"
  },
  "orig_nbformat": 2,
  "kernelspec": {
   "name": "python3",
   "display_name": "Python 3.7.8 64-bit",
   "metadata": {
    "interpreter": {
     "hash": "57baa5815c940fdaff4d14510622de9616cae602444507ba5d0b6727c008cbd6"
    }
   }
  }
 },
 "nbformat": 4,
 "nbformat_minor": 2,
 "cells": [
  {
   "source": [
    "# SVM"
   ],
   "cell_type": "markdown",
   "metadata": {}
  },
  {
   "cell_type": "code",
   "execution_count": 17,
   "metadata": {},
   "outputs": [],
   "source": [
    "import pandas as pd\n",
    "import numpy as np\n",
    "import matplotlib.pyplot as plt\n",
    "df = pd.read_csv(\"dataset/CL_Normalized-dataset.csv\",sep='\\t',decimal=\",\",index_col=0)"
   ]
  },
  {
   "cell_type": "code",
   "execution_count": 18,
   "metadata": {},
   "outputs": [
    {
     "output_type": "execute_result",
     "data": {
      "text/plain": [
       "       Imax         E       PIL        Mt       TsM       TsW      NbxM  \\\n",
       "0  0.002292  0.275864  0.167672  0.000697  0.000373  0.000373  0.000000   \n",
       "1  0.002292  0.697919  0.167672  0.000107  0.002323  0.002323  0.015464   \n",
       "2  0.004793  0.294794  0.167672  0.000623  0.000386  0.000386  0.000000   \n",
       "3  0.001042  0.383909  0.167672  0.000137  0.000214  0.000214  0.010309   \n",
       "4  0.009794  0.686301  0.167672  0.000349  0.007160  0.007160  0.051546   \n",
       "\n",
       "       NbxW     MeanD     Etrim    Emonth  Eday_of_week     Ehour  class  \n",
       "0  0.000000  0.000000  0.000000  0.000000      0.000000  0.000000      0  \n",
       "1  0.015464  0.304110  0.678523  0.441490      0.613803  0.477344      0  \n",
       "2  0.000000  0.000000  0.000000  0.000000      0.000000  0.000000      0  \n",
       "3  0.010309  0.001826  0.000000  0.000000      0.138115  0.107410      0  \n",
       "4  0.051546  0.133998  0.789065  0.813654      0.734281  0.724191      0  "
      ],
      "text/html": "<div>\n<style scoped>\n    .dataframe tbody tr th:only-of-type {\n        vertical-align: middle;\n    }\n\n    .dataframe tbody tr th {\n        vertical-align: top;\n    }\n\n    .dataframe thead th {\n        text-align: right;\n    }\n</style>\n<table border=\"1\" class=\"dataframe\">\n  <thead>\n    <tr style=\"text-align: right;\">\n      <th></th>\n      <th>Imax</th>\n      <th>E</th>\n      <th>PIL</th>\n      <th>Mt</th>\n      <th>TsM</th>\n      <th>TsW</th>\n      <th>NbxM</th>\n      <th>NbxW</th>\n      <th>MeanD</th>\n      <th>Etrim</th>\n      <th>Emonth</th>\n      <th>Eday_of_week</th>\n      <th>Ehour</th>\n      <th>class</th>\n    </tr>\n  </thead>\n  <tbody>\n    <tr>\n      <th>0</th>\n      <td>0.002292</td>\n      <td>0.275864</td>\n      <td>0.167672</td>\n      <td>0.000697</td>\n      <td>0.000373</td>\n      <td>0.000373</td>\n      <td>0.000000</td>\n      <td>0.000000</td>\n      <td>0.000000</td>\n      <td>0.000000</td>\n      <td>0.000000</td>\n      <td>0.000000</td>\n      <td>0.000000</td>\n      <td>0</td>\n    </tr>\n    <tr>\n      <th>1</th>\n      <td>0.002292</td>\n      <td>0.697919</td>\n      <td>0.167672</td>\n      <td>0.000107</td>\n      <td>0.002323</td>\n      <td>0.002323</td>\n      <td>0.015464</td>\n      <td>0.015464</td>\n      <td>0.304110</td>\n      <td>0.678523</td>\n      <td>0.441490</td>\n      <td>0.613803</td>\n      <td>0.477344</td>\n      <td>0</td>\n    </tr>\n    <tr>\n      <th>2</th>\n      <td>0.004793</td>\n      <td>0.294794</td>\n      <td>0.167672</td>\n      <td>0.000623</td>\n      <td>0.000386</td>\n      <td>0.000386</td>\n      <td>0.000000</td>\n      <td>0.000000</td>\n      <td>0.000000</td>\n      <td>0.000000</td>\n      <td>0.000000</td>\n      <td>0.000000</td>\n      <td>0.000000</td>\n      <td>0</td>\n    </tr>\n    <tr>\n      <th>3</th>\n      <td>0.001042</td>\n      <td>0.383909</td>\n      <td>0.167672</td>\n      <td>0.000137</td>\n      <td>0.000214</td>\n      <td>0.000214</td>\n      <td>0.010309</td>\n      <td>0.010309</td>\n      <td>0.001826</td>\n      <td>0.000000</td>\n      <td>0.000000</td>\n      <td>0.138115</td>\n      <td>0.107410</td>\n      <td>0</td>\n    </tr>\n    <tr>\n      <th>4</th>\n      <td>0.009794</td>\n      <td>0.686301</td>\n      <td>0.167672</td>\n      <td>0.000349</td>\n      <td>0.007160</td>\n      <td>0.007160</td>\n      <td>0.051546</td>\n      <td>0.051546</td>\n      <td>0.133998</td>\n      <td>0.789065</td>\n      <td>0.813654</td>\n      <td>0.734281</td>\n      <td>0.724191</td>\n      <td>0</td>\n    </tr>\n  </tbody>\n</table>\n</div>"
     },
     "metadata": {},
     "execution_count": 18
    }
   ],
   "source": [
    "df.head()"
   ]
  },
  {
   "cell_type": "code",
   "execution_count": 19,
   "metadata": {},
   "outputs": [],
   "source": [
    "from sklearn.model_selection import train_test_split\n",
    "\n",
    "label = df.pop('class')\n",
    "train_set, test_set, train_label, test_label = train_test_split(df, label, stratify =label, test_size=0.30)"
   ]
  },
  {
   "cell_type": "code",
   "execution_count": 20,
   "metadata": {},
   "outputs": [],
   "source": [
    "from sklearn import datasets\n",
    "from sklearn.model_selection import train_test_split\n",
    "from sklearn.model_selection import GridSearchCV\n",
    "from sklearn.metrics import classification_report\n",
    "from sklearn.svm import SVC"
   ]
  },
  {
   "source": [
    "## Grid Search"
   ],
   "cell_type": "markdown",
   "metadata": {}
  },
  {
   "cell_type": "code",
   "execution_count": 21,
   "metadata": {},
   "outputs": [
    {
     "output_type": "stream",
     "name": "stdout",
     "text": [
      "Fitting 5 folds for each of 4 candidates, totalling 20 fits\n",
      "[Parallel(n_jobs=3)]: Using backend LokyBackend with 3 concurrent workers.\n",
      "[Parallel(n_jobs=3)]: Done  20 out of  20 | elapsed:    3.5s finished\n",
      "Best parameters: {'C': 100, 'gamma': 0.001, 'kernel': 'rbf'}\n",
      "Best Score:  0.5268006913128985\n",
      "Complete Grid search:\n",
      "0.356 (+/-0.044) for {'C': 1, 'gamma': 0.001, 'kernel': 'rbf'}\n",
      "0.355 (+/-0.044) for {'C': 1, 'gamma': 0.0001, 'kernel': 'rbf'}\n",
      "0.527 (+/-0.048) for {'C': 100, 'gamma': 0.001, 'kernel': 'rbf'}\n",
      "0.391 (+/-0.027) for {'C': 100, 'gamma': 0.0001, 'kernel': 'rbf'}\n"
     ]
    }
   ],
   "source": [
    "\n",
    "\n",
    "# Set the parameters by cross-validation\n",
    "tuned_parameters = [{'kernel': ['rbf'], 'gamma': [1e-3, 1e-4],\n",
    "                     'C': [1, 100]}]\n",
    "\n",
    "clf = GridSearchCV( SVC(), tuned_parameters,n_jobs=3,verbose=2,scoring='accuracy')\n",
    "clf.fit(train_set, train_label)\n",
    "\n",
    "print(\"Best parameters:\",clf.best_params_)\n",
    "print(\"Best Score: \",clf.best_score_)\n",
    "\n",
    "print(\"Complete Grid search:\")\n",
    "means = clf.cv_results_['mean_test_score']\n",
    "stds = clf.cv_results_['std_test_score']\n",
    "for mean, std, params in zip(means, stds, clf.cv_results_['params']):\n",
    "    print(\"%0.3f (+/-%0.03f) for %r\"% (mean, std * 2, params))\n",
    "    "
   ]
  },
  {
   "source": [
    "## Modello Finale"
   ],
   "cell_type": "markdown",
   "metadata": {}
  },
  {
   "cell_type": "code",
   "execution_count": 22,
   "metadata": {},
   "outputs": [
    {
     "output_type": "execute_result",
     "data": {
      "text/plain": [
       "SVC(C=100, gamma=0.001, probability=True)"
      ]
     },
     "metadata": {},
     "execution_count": 22
    }
   ],
   "source": [
    "from sklearn.svm import SVC\n",
    "svm = SVC(kernel='rbf', C=100, gamma=0.001,probability=True)\n",
    "svm.fit(train_set, train_label)"
   ]
  },
  {
   "cell_type": "code",
   "execution_count": 23,
   "metadata": {},
   "outputs": [
    {
     "output_type": "stream",
     "name": "stdout",
     "text": [
      "              precision    recall  f1-score   support\n\n           0       0.57      0.57      0.57       507\n           1       0.50      0.33      0.39       507\n           2       0.55      0.74      0.63       507\n\n    accuracy                           0.54      1521\n   macro avg       0.54      0.54      0.53      1521\nweighted avg       0.54      0.54      0.53      1521\n\n"
     ]
    }
   ],
   "source": [
    "\n",
    "from sklearn.metrics import classification_report\n",
    "test_pred_proba_svm = svm.predict_proba(test_set)\n",
    "test_pred_svm = svm.predict(test_set)\n",
    "print(classification_report(test_label, \n",
    "                            test_pred_svm))"
   ]
  },
  {
   "cell_type": "code",
   "execution_count": 24,
   "metadata": {},
   "outputs": [
    {
     "output_type": "error",
     "ename": "ModuleNotFoundError",
     "evalue": "No module named 'scikitplot'",
     "traceback": [
      "\u001b[1;31m---------------------------------------------------------------------------\u001b[0m",
      "\u001b[1;31mModuleNotFoundError\u001b[0m                       Traceback (most recent call last)",
      "\u001b[1;32m<ipython-input-24-31e3113626e0>\u001b[0m in \u001b[0;36m<module>\u001b[1;34m\u001b[0m\n\u001b[1;32m----> 1\u001b[1;33m \u001b[1;32mimport\u001b[0m \u001b[0mscikitplot\u001b[0m \u001b[1;32mas\u001b[0m \u001b[0mskplt\u001b[0m\u001b[1;33m\u001b[0m\u001b[1;33m\u001b[0m\u001b[0m\n\u001b[0m\u001b[0;32m      2\u001b[0m \u001b[1;32mimport\u001b[0m \u001b[0mmatplotlib\u001b[0m\u001b[1;33m.\u001b[0m\u001b[0mpyplot\u001b[0m \u001b[1;32mas\u001b[0m \u001b[0mplt\u001b[0m\u001b[1;33m\u001b[0m\u001b[1;33m\u001b[0m\u001b[0m\n\u001b[0;32m      3\u001b[0m \u001b[1;33m\u001b[0m\u001b[0m\n\u001b[0;32m      4\u001b[0m \u001b[0mskplt\u001b[0m\u001b[1;33m.\u001b[0m\u001b[0mmetrics\u001b[0m\u001b[1;33m.\u001b[0m\u001b[0mplot_roc_curve\u001b[0m\u001b[1;33m(\u001b[0m\u001b[0mtest_label\u001b[0m\u001b[1;33m.\u001b[0m\u001b[0mvalues\u001b[0m\u001b[1;33m,\u001b[0m \u001b[0mtest_pred_proba_svm\u001b[0m\u001b[1;33m)\u001b[0m\u001b[1;33m\u001b[0m\u001b[1;33m\u001b[0m\u001b[0m\n\u001b[0;32m      5\u001b[0m \u001b[0mplt\u001b[0m\u001b[1;33m.\u001b[0m\u001b[0mshow\u001b[0m\u001b[1;33m(\u001b[0m\u001b[1;33m)\u001b[0m\u001b[1;33m\u001b[0m\u001b[1;33m\u001b[0m\u001b[0m\n",
      "\u001b[1;31mModuleNotFoundError\u001b[0m: No module named 'scikitplot'"
     ]
    }
   ],
   "source": [
    "import scikitplot as skplt\n",
    "import matplotlib.pyplot as plt\n",
    "\n",
    "skplt.metrics.plot_roc_curve(test_label.values, test_pred_proba_svm)\n",
    "plt.show()"
   ]
  },
  {
   "cell_type": "code",
   "execution_count": null,
   "metadata": {},
   "outputs": [],
   "source": []
  }
 ]
}