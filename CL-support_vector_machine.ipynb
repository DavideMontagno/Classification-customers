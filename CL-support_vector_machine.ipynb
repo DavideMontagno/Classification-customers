{
 "metadata": {
  "language_info": {
   "codemirror_mode": {
    "name": "ipython",
    "version": 3
   },
   "file_extension": ".py",
   "mimetype": "text/x-python",
   "name": "python",
   "nbconvert_exporter": "python",
   "pygments_lexer": "ipython3",
   "version": "3.7.8-final"
  },
  "orig_nbformat": 2,
  "kernelspec": {
   "name": "python3",
   "display_name": "Python 3.7.8 64-bit",
   "metadata": {
    "interpreter": {
     "hash": "57baa5815c940fdaff4d14510622de9616cae602444507ba5d0b6727c008cbd6"
    }
   }
  }
 },
 "nbformat": 4,
 "nbformat_minor": 2,
 "cells": [
  {
   "source": [
    "# SVM"
   ],
   "cell_type": "markdown",
   "metadata": {}
  },
  {
   "cell_type": "code",
   "execution_count": 25,
   "metadata": {},
   "outputs": [],
   "source": [
    "import pandas as pd\n",
    "import numpy as np\n",
    "import matplotlib.pyplot as plt\n",
    "df = pd.read_csv(\"dataset/CL_over_Normalized-dataset.csv\",sep='\\t',decimal=\",\",index_col=0)"
   ]
  },
  {
   "cell_type": "code",
   "execution_count": 26,
   "metadata": {},
   "outputs": [
    {
     "output_type": "execute_result",
     "data": {
      "text/plain": [
       "       Imax         E       PIL        Mt       TsW      NbxW     MeanD  \\\n",
       "0  0.002292  0.418977  0.167672  0.000846  0.019121  0.162562  0.000000   \n",
       "1  0.006460  0.628431  0.167672  0.000885  0.011490  0.039409  0.191781   \n",
       "2  0.074807  0.628612  0.179798  0.001379  0.023824  0.068966  0.132968   \n",
       "3  0.016462  0.434346  0.167672  0.001636  0.003391  0.019704  0.303562   \n",
       "4  0.006460  0.000000  0.167672  0.014668  0.003132  0.009852  0.071233   \n",
       "\n",
       "   Eday_of_week  class  \n",
       "0      0.330587      0  \n",
       "1      0.759352      1  \n",
       "2      0.936665      1  \n",
       "3      0.460422      0  \n",
       "4      0.358927      1  "
      ],
      "text/html": "<div>\n<style scoped>\n    .dataframe tbody tr th:only-of-type {\n        vertical-align: middle;\n    }\n\n    .dataframe tbody tr th {\n        vertical-align: top;\n    }\n\n    .dataframe thead th {\n        text-align: right;\n    }\n</style>\n<table border=\"1\" class=\"dataframe\">\n  <thead>\n    <tr style=\"text-align: right;\">\n      <th></th>\n      <th>Imax</th>\n      <th>E</th>\n      <th>PIL</th>\n      <th>Mt</th>\n      <th>TsW</th>\n      <th>NbxW</th>\n      <th>MeanD</th>\n      <th>Eday_of_week</th>\n      <th>class</th>\n    </tr>\n  </thead>\n  <tbody>\n    <tr>\n      <th>0</th>\n      <td>0.002292</td>\n      <td>0.418977</td>\n      <td>0.167672</td>\n      <td>0.000846</td>\n      <td>0.019121</td>\n      <td>0.162562</td>\n      <td>0.000000</td>\n      <td>0.330587</td>\n      <td>0</td>\n    </tr>\n    <tr>\n      <th>1</th>\n      <td>0.006460</td>\n      <td>0.628431</td>\n      <td>0.167672</td>\n      <td>0.000885</td>\n      <td>0.011490</td>\n      <td>0.039409</td>\n      <td>0.191781</td>\n      <td>0.759352</td>\n      <td>1</td>\n    </tr>\n    <tr>\n      <th>2</th>\n      <td>0.074807</td>\n      <td>0.628612</td>\n      <td>0.179798</td>\n      <td>0.001379</td>\n      <td>0.023824</td>\n      <td>0.068966</td>\n      <td>0.132968</td>\n      <td>0.936665</td>\n      <td>1</td>\n    </tr>\n    <tr>\n      <th>3</th>\n      <td>0.016462</td>\n      <td>0.434346</td>\n      <td>0.167672</td>\n      <td>0.001636</td>\n      <td>0.003391</td>\n      <td>0.019704</td>\n      <td>0.303562</td>\n      <td>0.460422</td>\n      <td>0</td>\n    </tr>\n    <tr>\n      <th>4</th>\n      <td>0.006460</td>\n      <td>0.000000</td>\n      <td>0.167672</td>\n      <td>0.014668</td>\n      <td>0.003132</td>\n      <td>0.009852</td>\n      <td>0.071233</td>\n      <td>0.358927</td>\n      <td>1</td>\n    </tr>\n  </tbody>\n</table>\n</div>"
     },
     "metadata": {},
     "execution_count": 26
    }
   ],
   "source": [
    "df.head()"
   ]
  },
  {
   "cell_type": "code",
   "execution_count": 27,
   "metadata": {},
   "outputs": [],
   "source": [
    "from sklearn.model_selection import train_test_split\n",
    "\n",
    "label = df.pop('class')\n",
    "train_set, test_set, train_label, test_label = train_test_split(df, label, stratify =label, test_size=0.20)"
   ]
  },
  {
   "cell_type": "code",
   "execution_count": 28,
   "metadata": {},
   "outputs": [],
   "source": [
    "from sklearn import datasets\n",
    "from sklearn.model_selection import train_test_split\n",
    "from sklearn.model_selection import GridSearchCV\n",
    "from sklearn.metrics import classification_report\n",
    "from sklearn.svm import SVC"
   ]
  },
  {
   "source": [
    "## Grid Search"
   ],
   "cell_type": "markdown",
   "metadata": {}
  },
  {
   "cell_type": "code",
   "execution_count": 29,
   "metadata": {},
   "outputs": [
    {
     "output_type": "stream",
     "name": "stdout",
     "text": [
      "Fitting 5 folds for each of 4 candidates, totalling 20 fits\n",
      "[Parallel(n_jobs=3)]: Using backend LokyBackend with 3 concurrent workers.\n",
      "[Parallel(n_jobs=3)]: Done  20 out of  20 | elapsed:    1.9s finished\n",
      "Best parameters: {'C': 100, 'gamma': 0.001, 'kernel': 'rbf'}\n",
      "Best Score:  0.5249683143219265\n",
      "Complete Grid search:\n",
      "0.404 (+/-0.036) for {'C': 1, 'gamma': 0.001, 'kernel': 'rbf'}\n",
      "0.403 (+/-0.036) for {'C': 1, 'gamma': 0.0001, 'kernel': 'rbf'}\n",
      "0.525 (+/-0.038) for {'C': 100, 'gamma': 0.001, 'kernel': 'rbf'}\n",
      "0.419 (+/-0.018) for {'C': 100, 'gamma': 0.0001, 'kernel': 'rbf'}\n"
     ]
    }
   ],
   "source": [
    "\n",
    "\n",
    "# Set the parameters by cross-validation\n",
    "tuned_parameters = [{'kernel': ['rbf'], 'gamma': [1e-3, 1e-4],\n",
    "                     'C': [1, 100]}]\n",
    "\n",
    "clf = GridSearchCV( SVC(), tuned_parameters,n_jobs=3,verbose=2,scoring='accuracy')\n",
    "clf.fit(train_set, train_label)\n",
    "\n",
    "print(\"Best parameters:\",clf.best_params_)\n",
    "print(\"Best Score: \",clf.best_score_)\n",
    "\n",
    "print(\"Complete Grid search:\")\n",
    "means = clf.cv_results_['mean_test_score']\n",
    "stds = clf.cv_results_['std_test_score']\n",
    "for mean, std, params in zip(means, stds, clf.cv_results_['params']):\n",
    "    print(\"%0.3f (+/-%0.03f) for %r\"% (mean, std * 2, params))\n",
    "    "
   ]
  },
  {
   "source": [
    "## Modello Finale"
   ],
   "cell_type": "markdown",
   "metadata": {}
  },
  {
   "cell_type": "code",
   "execution_count": 30,
   "metadata": {},
   "outputs": [
    {
     "output_type": "execute_result",
     "data": {
      "text/plain": [
       "SVC(C=100, gamma=0.001, probability=True)"
      ]
     },
     "metadata": {},
     "execution_count": 30
    }
   ],
   "source": [
    "from sklearn.svm import SVC\n",
    "svm = SVC(kernel='rbf', C=100, gamma=0.001,probability=True)\n",
    "svm.fit(train_set, train_label)"
   ]
  },
  {
   "cell_type": "code",
   "execution_count": 31,
   "metadata": {},
   "outputs": [
    {
     "output_type": "stream",
     "name": "stdout",
     "text": [
      "              precision    recall  f1-score   support\n",
      "\n",
      "           0       0.54      0.57      0.56       564\n",
      "           1       0.44      0.33      0.38       564\n",
      "           2       0.53      0.63      0.58       564\n",
      "\n",
      "    accuracy                           0.51      1692\n",
      "   macro avg       0.51      0.51      0.50      1692\n",
      "weighted avg       0.51      0.51      0.50      1692\n",
      "\n"
     ]
    }
   ],
   "source": [
    "\n",
    "from sklearn.metrics import classification_report\n",
    "test_pred_proba_svm = svm.predict_proba(test_set)\n",
    "test_pred_svm = svm.predict(test_set)\n",
    "print(classification_report(test_label, \n",
    "                            test_pred_svm))"
   ]
  },
  {
   "cell_type": "code",
   "execution_count": 32,
   "metadata": {},
   "outputs": [
    {
     "output_type": "error",
     "ename": "ModuleNotFoundError",
     "evalue": "No module named 'scikitplot'",
     "traceback": [
      "\u001b[1;31m---------------------------------------------------------------------------\u001b[0m",
      "\u001b[1;31mModuleNotFoundError\u001b[0m                       Traceback (most recent call last)",
      "\u001b[1;32m<ipython-input-32-31e3113626e0>\u001b[0m in \u001b[0;36m<module>\u001b[1;34m\u001b[0m\n\u001b[1;32m----> 1\u001b[1;33m \u001b[1;32mimport\u001b[0m \u001b[0mscikitplot\u001b[0m \u001b[1;32mas\u001b[0m \u001b[0mskplt\u001b[0m\u001b[1;33m\u001b[0m\u001b[1;33m\u001b[0m\u001b[0m\n\u001b[0m\u001b[0;32m      2\u001b[0m \u001b[1;32mimport\u001b[0m \u001b[0mmatplotlib\u001b[0m\u001b[1;33m.\u001b[0m\u001b[0mpyplot\u001b[0m \u001b[1;32mas\u001b[0m \u001b[0mplt\u001b[0m\u001b[1;33m\u001b[0m\u001b[1;33m\u001b[0m\u001b[0m\n\u001b[0;32m      3\u001b[0m \u001b[1;33m\u001b[0m\u001b[0m\n\u001b[0;32m      4\u001b[0m \u001b[0mskplt\u001b[0m\u001b[1;33m.\u001b[0m\u001b[0mmetrics\u001b[0m\u001b[1;33m.\u001b[0m\u001b[0mplot_roc_curve\u001b[0m\u001b[1;33m(\u001b[0m\u001b[0mtest_label\u001b[0m\u001b[1;33m.\u001b[0m\u001b[0mvalues\u001b[0m\u001b[1;33m,\u001b[0m \u001b[0mtest_pred_proba_svm\u001b[0m\u001b[1;33m)\u001b[0m\u001b[1;33m\u001b[0m\u001b[1;33m\u001b[0m\u001b[0m\n\u001b[0;32m      5\u001b[0m \u001b[0mplt\u001b[0m\u001b[1;33m.\u001b[0m\u001b[0mshow\u001b[0m\u001b[1;33m(\u001b[0m\u001b[1;33m)\u001b[0m\u001b[1;33m\u001b[0m\u001b[1;33m\u001b[0m\u001b[0m\n",
      "\u001b[1;31mModuleNotFoundError\u001b[0m: No module named 'scikitplot'"
     ]
    }
   ],
   "source": [
    "import scikitplot as skplt\n",
    "import matplotlib.pyplot as plt\n",
    "\n",
    "skplt.metrics.plot_roc_curve(test_label.values, test_pred_proba_svm)\n",
    "plt.show()"
   ]
  },
  {
   "cell_type": "code",
   "execution_count": null,
   "metadata": {},
   "outputs": [],
   "source": []
  }
 ]
}