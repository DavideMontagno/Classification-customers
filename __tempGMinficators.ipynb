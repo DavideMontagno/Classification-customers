{
 "metadata": {
  "language_info": {
   "codemirror_mode": {
    "name": "ipython",
    "version": 3
   },
   "file_extension": ".py",
   "mimetype": "text/x-python",
   "name": "python",
   "nbconvert_exporter": "python",
   "pygments_lexer": "ipython3",
   "version": "3.7.5-final"
  },
  "orig_nbformat": 2,
  "kernelspec": {
   "name": "python3",
   "display_name": "Python 3.7.5 64-bit",
   "metadata": {
    "interpreter": {
     "hash": "a23959b220aae94b277b2feb28a92f00653f030ef1fcf8b66d10e2db8b9e2607"
    }
   }
  }
 },
 "nbformat": 4,
 "nbformat_minor": 2,
 "cells": [
  {
   "source": [
    "# Data preparation\n",
    "In questa sezione estrarremo i dati rilevanti per il clustering dei clienti.\n",
    "\n",
    "## Import dataset"
   ],
   "cell_type": "markdown",
   "metadata": {}
  },
  {
   "cell_type": "code",
   "execution_count": 1,
   "metadata": {},
   "outputs": [],
   "source": [
    "import numpy as np\n",
    "import pandas as pd\n",
    "import matplotlib.pyplot as plt"
   ]
  },
  {
   "cell_type": "code",
   "execution_count": 2,
   "metadata": {},
   "outputs": [
    {
     "output_type": "stream",
     "name": "stdout",
     "text": [
      "<class 'pandas.core.frame.DataFrame'>\nInt64Index: 456644 entries, 0 to 541908\nData columns (total 8 columns):\nBasketID           456644 non-null int64\nBasketDate         456644 non-null object\nSale               456644 non-null float64\nCustomerID         456644 non-null object\nCustomerCountry    456644 non-null object\nProdID             456644 non-null object\nProdDescr          456644 non-null object\nQta                456644 non-null int64\ndtypes: float64(1), int64(2), object(5)\nmemory usage: 31.4+ MB\n"
     ]
    }
   ],
   "source": [
    "df = pd.read_csv(\"dataset/DQ-dataset.csv\", sep=\"\\t\",index_col=0, decimal=\",\")\n",
    "df.info()"
   ]
  },
  {
   "source": [
    "## Estrazione nuove features\n",
    "\n",
    "Estraiamo le feature per ogni utente:\n",
    "* I: the total number of items purchased by a customer during the period of\n",
    "observation.(Si intende la somma delle quantità)\n",
    "\n",
    "* Iu: the number of distinct items bought by a customer in the period of\n",
    "observation.\n",
    "\n",
    "* Imax: the maximum number of items purchased by a customer during a\n",
    "shopping session (Si intende la quantità massima)\n",
    "\n",
    "* E: the Shannon entropy on the purchasing behaviour of the customer"
   ],
   "cell_type": "markdown",
   "metadata": {}
  },
  {
   "source": [
    "Utilizzeremo la shanno entropy indicata nella seguente formula:\n",
    "$H(X)=-\\sum_{i=1}^{n} \\frac{m_{i}}{m} \\log _{2} \\frac{m_{i}}{m}$\n"
   ],
   "cell_type": "markdown",
   "metadata": {}
  },
  {
   "cell_type": "code",
   "execution_count": 3,
   "metadata": {},
   "outputs": [],
   "source": [
    "import numpy as np\n",
    "def entropy(labels, base=None):\n",
    "\n",
    "  m = len(labels)\n",
    "  ent = 0.\n",
    "  base = e if base is None else base\n",
    "\n",
    "  if m <= 1:\n",
    "    return 0\n",
    "\n",
    "  _,mi = np.unique(labels, return_counts=True)\n",
    "  probs = mi / m\n",
    "\n",
    "  n_classes = np.count_nonzero(probs)\n",
    "  if n_classes <= 1:\n",
    "    return 0\n",
    "\n",
    "  \n",
    "  for p in probs:\n",
    "    ent -= p * np.math.log(p, base)\n",
    "\n",
    "  return ent"
   ]
  },
  {
   "source": [
    "## Gestione Pil"
   ],
   "cell_type": "markdown",
   "metadata": {}
  },
  {
   "cell_type": "code",
   "execution_count": 4,
   "metadata": {},
   "outputs": [],
   "source": [
    "df_pil = pd.read_csv(\"dataset/Country_PIL.csv\", sep=\";\",index_col=0)"
   ]
  },
  {
   "cell_type": "code",
   "execution_count": 5,
   "metadata": {},
   "outputs": [],
   "source": [
    "dict_pil={}\n",
    "for index, row in df_pil.iterrows():\n",
    "    dict_pil[row[\"Country\"]]=row[\"PIL\"]"
   ]
  },
  {
   "source": [
    "## Gestione spesa media Clienti"
   ],
   "cell_type": "markdown",
   "metadata": {}
  },
  {
   "cell_type": "code",
   "execution_count": 6,
   "metadata": {},
   "outputs": [],
   "source": [
    "temp = df\n",
    "temp[\"Total\"] = temp[\"Sale\"]*temp[\"Qta\"]\n",
    "temp = temp.drop([\"Sale\"],axis=1)\n",
    "temp = temp.drop([\"Qta\"],axis=1)\n",
    "sum_single_basket=pd.DataFrame(temp.groupby([\"CustomerID\",\"BasketID\"])[\"Total\"].sum())\n",
    "mean_of_basket=sum_single_basket.groupby([\"CustomerID\"])[\"Total\"].mean().reset_index()"
   ]
  },
  {
   "source": [
    "## Gestione Saldi totali spesi clienti"
   ],
   "cell_type": "markdown",
   "metadata": {}
  },
  {
   "cell_type": "code",
   "execution_count": 7,
   "metadata": {},
   "outputs": [],
   "source": [
    "temp = df\n",
    "temp[\"Total\"] = temp[\"Sale\"]*temp[\"Qta\"]\n",
    "temp = temp.drop([\"Sale\"],axis=1)\n",
    "temp = temp.drop([\"Qta\"],axis=1)\n",
    "total_sum=temp.groupby([\"CustomerID\"])[\"Total\"].sum().reset_index()"
   ]
  },
  {
   "source": [
    "## Gestione distanza acquisti"
   ],
   "cell_type": "markdown",
   "metadata": {}
  },
  {
   "cell_type": "code",
   "execution_count": 8,
   "metadata": {},
   "outputs": [],
   "source": [
    "temp=df.copy()\n",
    "\n",
    "single_basket_date=[]\n",
    "for elem in temp.BasketID.unique():\n",
    "    data=temp[temp[\"BasketID\"]==elem].BasketDate.iloc[0]\n",
    "    cust=temp[temp[\"BasketID\"]==elem].CustomerID.iloc[0]\n",
    "    single_basket_date.append([elem,cust,data])\n",
    "\n",
    "single_basket_date = pd.DataFrame(single_basket_date, columns=[\"BasketID\",\"CustomerID\",\"BasketDate\"])"
   ]
  },
  {
   "cell_type": "code",
   "execution_count": 9,
   "metadata": {},
   "outputs": [],
   "source": [
    "single_basket_date=single_basket_date.sort_values([\"BasketID\",\"CustomerID\",\"BasketDate\"])\n",
    "single_basket_date[\"BasketDate\"]=pd.to_datetime(single_basket_date.BasketDate)\n",
    "single_basket_date[\"time_diff\"]=single_basket_date.groupby(\"CustomerID\")[\"BasketDate\"].diff()\n",
    "single_basket_date[\"time_diff\"]=single_basket_date[\"time_diff\"].apply(lambda x: x.days)"
   ]
  },
  {
   "cell_type": "code",
   "execution_count": 10,
   "metadata": {},
   "outputs": [],
   "source": [
    "single_basket_date[\"time_diff\"] = single_basket_date[\"time_diff\"].fillna(0)"
   ]
  },
  {
   "cell_type": "code",
   "execution_count": 11,
   "metadata": {},
   "outputs": [
    {
     "output_type": "execute_result",
     "data": {
      "text/plain": [
       "       BasketID CustomerID          BasketDate  time_diff\n",
       "0        536365    17850.0 2010-12-01 08:26:00        0.0\n",
       "1        536366    17850.0 2010-12-01 08:28:00        0.0\n",
       "3        536367    13047.0 2010-12-01 08:34:00        0.0\n",
       "2        536368    13047.0 2010-12-01 08:34:00        0.0\n",
       "4        536369    13047.0 2010-12-01 08:35:00        0.0\n",
       "...         ...        ...                 ...        ...\n",
       "19513    581583    13777.0 2011-12-09 12:23:00        8.0\n",
       "19514    581584    13777.0 2011-12-09 12:25:00        0.0\n",
       "19515    581585    15804.0 2011-12-09 12:31:00       10.0\n",
       "19516    581586    13113.0 2011-12-09 12:49:00       14.0\n",
       "19517    581587    12680.0 2011-12-09 12:50:00       72.0\n",
       "\n",
       "[19518 rows x 4 columns]"
      ],
      "text/html": "<div>\n<style scoped>\n    .dataframe tbody tr th:only-of-type {\n        vertical-align: middle;\n    }\n\n    .dataframe tbody tr th {\n        vertical-align: top;\n    }\n\n    .dataframe thead th {\n        text-align: right;\n    }\n</style>\n<table border=\"1\" class=\"dataframe\">\n  <thead>\n    <tr style=\"text-align: right;\">\n      <th></th>\n      <th>BasketID</th>\n      <th>CustomerID</th>\n      <th>BasketDate</th>\n      <th>time_diff</th>\n    </tr>\n  </thead>\n  <tbody>\n    <tr>\n      <th>0</th>\n      <td>536365</td>\n      <td>17850.0</td>\n      <td>2010-12-01 08:26:00</td>\n      <td>0.0</td>\n    </tr>\n    <tr>\n      <th>1</th>\n      <td>536366</td>\n      <td>17850.0</td>\n      <td>2010-12-01 08:28:00</td>\n      <td>0.0</td>\n    </tr>\n    <tr>\n      <th>3</th>\n      <td>536367</td>\n      <td>13047.0</td>\n      <td>2010-12-01 08:34:00</td>\n      <td>0.0</td>\n    </tr>\n    <tr>\n      <th>2</th>\n      <td>536368</td>\n      <td>13047.0</td>\n      <td>2010-12-01 08:34:00</td>\n      <td>0.0</td>\n    </tr>\n    <tr>\n      <th>4</th>\n      <td>536369</td>\n      <td>13047.0</td>\n      <td>2010-12-01 08:35:00</td>\n      <td>0.0</td>\n    </tr>\n    <tr>\n      <th>...</th>\n      <td>...</td>\n      <td>...</td>\n      <td>...</td>\n      <td>...</td>\n    </tr>\n    <tr>\n      <th>19513</th>\n      <td>581583</td>\n      <td>13777.0</td>\n      <td>2011-12-09 12:23:00</td>\n      <td>8.0</td>\n    </tr>\n    <tr>\n      <th>19514</th>\n      <td>581584</td>\n      <td>13777.0</td>\n      <td>2011-12-09 12:25:00</td>\n      <td>0.0</td>\n    </tr>\n    <tr>\n      <th>19515</th>\n      <td>581585</td>\n      <td>15804.0</td>\n      <td>2011-12-09 12:31:00</td>\n      <td>10.0</td>\n    </tr>\n    <tr>\n      <th>19516</th>\n      <td>581586</td>\n      <td>13113.0</td>\n      <td>2011-12-09 12:49:00</td>\n      <td>14.0</td>\n    </tr>\n    <tr>\n      <th>19517</th>\n      <td>581587</td>\n      <td>12680.0</td>\n      <td>2011-12-09 12:50:00</td>\n      <td>72.0</td>\n    </tr>\n  </tbody>\n</table>\n<p>19518 rows × 4 columns</p>\n</div>"
     },
     "metadata": {},
     "execution_count": 11
    }
   ],
   "source": [
    "single_basket_date"
   ]
  },
  {
   "source": [
    "## Entropia orari"
   ],
   "cell_type": "markdown",
   "metadata": {}
  },
  {
   "cell_type": "code",
   "execution_count": 12,
   "metadata": {},
   "outputs": [],
   "source": [
    "df[\"hour\"] = pd.to_datetime(df['BasketDate']).dt.hour"
   ]
  },
  {
   "source": [
    "## Entropia settimana"
   ],
   "cell_type": "markdown",
   "metadata": {}
  },
  {
   "source": [
    "\n",
    "df[\"BasketDate\"] = pd.to_datetime(df['BasketDate']).dt.date\n",
    "df[\"BasketDate\"] = pd.to_datetime(df[\"BasketDate\"] - pd.to_timedelta(0,unit=\"d\"))\n",
    "df[\"day_of_week\"]=df[\"BasketDate\"].dt.dayofweek#Monday=0, Sunday=6."
   ],
   "cell_type": "code",
   "metadata": {},
   "execution_count": 13,
   "outputs": []
  },
  {
   "source": [
    "## Entropia mesi"
   ],
   "cell_type": "markdown",
   "metadata": {}
  },
  {
   "cell_type": "code",
   "execution_count": 14,
   "metadata": {},
   "outputs": [],
   "source": [
    "\n",
    "df[\"BasketDate\"] = pd.to_datetime(df['BasketDate']).dt.date\n",
    "df[\"BasketDate\"] = pd.to_datetime(df[\"BasketDate\"] - pd.to_timedelta(0,unit=\"d\"))\n",
    "df[\"month\"]=df[\"BasketDate\"].dt.month# January=1, December=12."
   ]
  },
  {
   "source": [
    "## Entropia trimestre"
   ],
   "cell_type": "markdown",
   "metadata": {}
  },
  {
   "cell_type": "code",
   "execution_count": 15,
   "metadata": {},
   "outputs": [],
   "source": [
    "df[\"BasketDate\"] = pd.to_datetime(df['BasketDate']).dt.date\n",
    "df[\"BasketDate\"] = pd.to_datetime(df[\"BasketDate\"] - pd.to_timedelta(0,unit=\"d\"))\n",
    "df[\"trim\"]=pd.PeriodIndex(df.BasketDate, freq='Q')"
   ]
  },
  {
   "source": [
    "## Creazione nuovo dataset"
   ],
   "cell_type": "markdown",
   "metadata": {}
  },
  {
   "cell_type": "code",
   "execution_count": 16,
   "metadata": {
    "tags": []
   },
   "outputs": [],
   "source": [
    "new_data=[]\n",
    "for elem in df.CustomerID.unique():\n",
    "    I=df[df[\"CustomerID\"]==elem].Qta.sum()\n",
    "    Iu=len(df[df[\"CustomerID\"]==elem].ProdID.unique())\n",
    "    Imax=df[df[\"CustomerID\"]==elem].Qta.max()\n",
    "    E=entropy(df[df[\"CustomerID\"]==elem].ProdID,2)\n",
    "    \n",
    "    #Pil Indicator\n",
    "    country=df[df[\"CustomerID\"]==elem].CustomerCountry.iloc[0]\n",
    "    PIL = dict_pil[country]\n",
    "\n",
    "    # Basket Mean\n",
    "    Mb=mean_of_basket[mean_of_basket[\"CustomerID\"]==elem].Total.iloc[0]\n",
    "\n",
    "    # Total Sale\n",
    "    Ts=total_sum[total_sum[\"CustomerID\"]==elem].Total.iloc[0]\n",
    "\n",
    "    # Mean difference dates\n",
    "    MeanD=single_basket_date[single_basket_date[\"CustomerID\"]==elem].time_diff.mean()\n",
    "    #Min difference dates\n",
    "    MinD=single_basket_date[single_basket_date[\"CustomerID\"]==elem].time_diff.min()\n",
    "    #Max difference days\n",
    "    MaxD=single_basket_date[single_basket_date[\"CustomerID\"]==elem].time_diff.max()\n",
    "\n",
    "    #Entropia trimestri\n",
    "    Etrim=entropy(df[df[\"CustomerID\"]==elem].trim,2)\n",
    "\n",
    "    #Entropia month\n",
    "    Emonth=entropy(df[df[\"CustomerID\"]==elem].month,2)\n",
    "\n",
    "    #Entropia day_week\n",
    "    Eday_of_week=entropy(df[df[\"CustomerID\"]==elem].day_of_week,2)\n",
    "\n",
    "    #Entropia hour\n",
    "    Ehour=entropy(df[df[\"CustomerID\"]==elem].hour,2)\n",
    "\n",
    "    new_data.append([elem, I, Iu,Imax,E, PIL,Mb, Ts, MeanD, MaxD, MinD, Etrim, Emonth, Eday_of_week, Ehour])\n",
    "\n",
    "\n",
    "new_df = pd.DataFrame(new_data, columns=['CustomerID', 'I', 'Iu', 'Imax','E','PIL', 'Mb', 'Ts','MeanD', 'MaxD','MinD', 'Etrim','Emonth','Eday_of_week','Ehour'])\n"
   ]
  },
  {
   "cell_type": "code",
   "execution_count": 17,
   "metadata": {},
   "outputs": [],
   "source": [
    "new_df.to_csv('dataset/CL_Raw-dataset.csv', sep='\\t', index=True, decimal=\",\")"
   ]
  },
  {
   "cell_type": "code",
   "execution_count": null,
   "metadata": {},
   "outputs": [],
   "source": []
  }
 ]
}