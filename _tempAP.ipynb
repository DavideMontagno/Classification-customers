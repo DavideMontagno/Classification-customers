{
 "metadata": {
  "language_info": {
   "codemirror_mode": {
    "name": "ipython",
    "version": 3
   },
   "file_extension": ".py",
   "mimetype": "text/x-python",
   "name": "python",
   "nbconvert_exporter": "python",
   "pygments_lexer": "ipython3",
   "version": "3.7.8-final"
  },
  "orig_nbformat": 2,
  "kernelspec": {
   "name": "Python 3.7.8 64-bit",
   "display_name": "Python 3.7.8 64-bit",
   "metadata": {
    "interpreter": {
     "hash": "57baa5815c940fdaff4d14510622de9616cae602444507ba5d0b6727c008cbd6"
    }
   }
  }
 },
 "nbformat": 4,
 "nbformat_minor": 2,
 "cells": [
  {
   "cell_type": "code",
   "execution_count": 15,
   "metadata": {},
   "outputs": [],
   "source": [
    "import numpy as np\n",
    "import pandas as pd\n",
    "import random as random"
   ]
  },
  {
   "cell_type": "code",
   "execution_count": 16,
   "metadata": {},
   "outputs": [],
   "source": [
    "df = pd.read_csv(\"dataset/TC-dataset.csv\", sep=\"\\t\",index_col=0)"
   ]
  },
  {
   "source": [
    "## Country Missing Values"
   ],
   "cell_type": "markdown",
   "metadata": {}
  },
  {
   "cell_type": "code",
   "execution_count": 17,
   "metadata": {},
   "outputs": [
    {
     "output_type": "stream",
     "name": "stdout",
     "text": [
      "Numero di Unspecified: 340\nNumero di European Community: 61\n"
     ]
    }
   ],
   "source": [
    "#Numero di righe con country Unspecified\n",
    "print(\"Numero di Unspecified: \" + str(len(df[df[\"CustomerCountry\"].str.contains(\"Unspecified\")])))\n",
    "\n",
    "#Numero di righe con country European Community\n",
    "print(\"Numero di European Community: \" + str(len(df[df[\"CustomerCountry\"].str.contains(\"European Community\")])))"
   ]
  },
  {
   "cell_type": "code",
   "execution_count": 18,
   "metadata": {},
   "outputs": [
    {
     "output_type": "stream",
     "name": "stdout",
     "text": [
      "Moda: United Kingdom\n",
      "Numero di Unspecified: 0\n",
      "Numero di European Community: 0\n"
     ]
    }
   ],
   "source": [
    "#Moda di CustomerCountry\n",
    "moda = df['CustomerCountry'].mode()[0]\n",
    "print(\"Moda: \" + str(moda))\n",
    "\n",
    "\n",
    "df[\"CustomerCountry\"].replace({\"Unspecified\": moda}, inplace=True)\n",
    "df[\"CustomerCountry\"].replace({\"European Community\": moda}, inplace=True)\n",
    "\n",
    "print(\"Numero di Unspecified: \" + str(len(df[df[\"CustomerCountry\"].str.contains(\"Unspecified\")])))\n",
    "print(\"Numero di European Community: \" + str(len(df[df[\"CustomerCountry\"].str.contains(\"European Community\")])))"
   ]
  },
  {
   "source": [],
   "cell_type": "markdown",
   "metadata": {}
  },
  {
   "source": [
    "## Missing Values CustomerID"
   ],
   "cell_type": "markdown",
   "metadata": {}
  },
  {
   "cell_type": "code",
   "execution_count": 19,
   "metadata": {},
   "outputs": [
    {
     "output_type": "stream",
     "name": "stdout",
     "text": [
      "Numero di European Community: 65080\n"
     ]
    }
   ],
   "source": [
    "print(\"Numero di European Community: \" + str(len(df[df[\"CustomerID\"].isnull()])))"
   ]
  },
  {
   "cell_type": "code",
   "execution_count": 20,
   "metadata": {},
   "outputs": [],
   "source": [
    "\n",
    "#Generazione dei nuovi CustomerID\n",
    "basket_list_customer_null=df[df[\"CustomerID\"].isnull()].BasketID.unique()\n",
    "new_customer_per_basket_list=random.sample(range(1, 100000), len(basket_list_customer_null))\n",
    "\n",
    "#Inserimento dei customer id con il contrassegno N per il riconoscimento\n",
    "for i, elem in enumerate(basket_list_customer_null):\n",
    "    df[\"CustomerID\"][df.BasketID==elem]=str(new_customer_per_basket_list[i])+\"N\""
   ]
  },
  {
   "cell_type": "code",
   "execution_count": 21,
   "metadata": {},
   "outputs": [
    {
     "output_type": "stream",
     "name": "stdout",
     "text": [
      "Numero di European Community: 0\n"
     ]
    }
   ],
   "source": [
    "print(\"Numero di European Community: \" + str(len(df[df[\"CustomerID\"].isnull()])))"
   ]
  },
  {
   "source": [
    "## Salvataggio DataFrame senza Missing Values"
   ],
   "cell_type": "markdown",
   "metadata": {}
  },
  {
   "cell_type": "code",
   "execution_count": null,
   "metadata": {},
   "outputs": [],
   "source": [
    "#df.to_csv('dataset/TC-dataset.csv', sep='\\t',decimal=\",\")"
   ]
  }
 ]
}