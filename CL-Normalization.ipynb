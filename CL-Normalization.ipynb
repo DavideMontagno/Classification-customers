{
 "metadata": {
  "language_info": {
   "codemirror_mode": {
    "name": "ipython",
    "version": 3
   },
   "file_extension": ".py",
   "mimetype": "text/x-python",
   "name": "python",
   "nbconvert_exporter": "python",
   "pygments_lexer": "ipython3",
   "version": "3.7.8-final"
  },
  "orig_nbformat": 2,
  "kernelspec": {
   "name": "python3",
   "display_name": "Python 3.7.8 64-bit",
   "metadata": {
    "interpreter": {
     "hash": "57baa5815c940fdaff4d14510622de9616cae602444507ba5d0b6727c008cbd6"
    }
   }
  }
 },
 "nbformat": 4,
 "nbformat_minor": 2,
 "cells": [
  {
   "cell_type": "code",
   "execution_count": 23,
   "metadata": {},
   "outputs": [
    {
     "output_type": "execute_result",
     "data": {
      "text/plain": [
       "   Imax         E    PIL       MeanD     EDate  class\n",
       "0    48  5.121928  2.567  111.000000  0.848548      0\n",
       "1    25  6.125617  2.567   60.333333  1.468334      0\n",
       "2    24  4.310443  2.567   15.500000  0.000000      0\n",
       "3    72  4.700440  2.567   77.000000  0.995727      0\n",
       "4    48  5.831955  2.567   37.200000  1.494785      0"
      ],
      "text/html": "<div>\n<style scoped>\n    .dataframe tbody tr th:only-of-type {\n        vertical-align: middle;\n    }\n\n    .dataframe tbody tr th {\n        vertical-align: top;\n    }\n\n    .dataframe thead th {\n        text-align: right;\n    }\n</style>\n<table border=\"1\" class=\"dataframe\">\n  <thead>\n    <tr style=\"text-align: right;\">\n      <th></th>\n      <th>Imax</th>\n      <th>E</th>\n      <th>PIL</th>\n      <th>MeanD</th>\n      <th>EDate</th>\n      <th>class</th>\n    </tr>\n  </thead>\n  <tbody>\n    <tr>\n      <th>0</th>\n      <td>48</td>\n      <td>5.121928</td>\n      <td>2.567</td>\n      <td>111.000000</td>\n      <td>0.848548</td>\n      <td>0</td>\n    </tr>\n    <tr>\n      <th>1</th>\n      <td>25</td>\n      <td>6.125617</td>\n      <td>2.567</td>\n      <td>60.333333</td>\n      <td>1.468334</td>\n      <td>0</td>\n    </tr>\n    <tr>\n      <th>2</th>\n      <td>24</td>\n      <td>4.310443</td>\n      <td>2.567</td>\n      <td>15.500000</td>\n      <td>0.000000</td>\n      <td>0</td>\n    </tr>\n    <tr>\n      <th>3</th>\n      <td>72</td>\n      <td>4.700440</td>\n      <td>2.567</td>\n      <td>77.000000</td>\n      <td>0.995727</td>\n      <td>0</td>\n    </tr>\n    <tr>\n      <th>4</th>\n      <td>48</td>\n      <td>5.831955</td>\n      <td>2.567</td>\n      <td>37.200000</td>\n      <td>1.494785</td>\n      <td>0</td>\n    </tr>\n  </tbody>\n</table>\n</div>"
     },
     "metadata": {},
     "execution_count": 23
    }
   ],
   "source": [
    "import numpy as np\n",
    "import pandas as pd\n",
    "import matplotlib.pyplot as plt\n",
    "from sklearn.preprocessing import StandardScaler, MinMaxScaler\n",
    "\n",
    "\n",
    "df = pd.read_csv(\"dataset/CL-dataset.csv\",sep='\\t',decimal=\",\",index_col=0)\n",
    "df.head()"
   ]
  },
  {
   "source": [
    "## Normalizzazione con MinMaxScalar"
   ],
   "cell_type": "markdown",
   "metadata": {}
  },
  {
   "cell_type": "code",
   "execution_count": 24,
   "metadata": {},
   "outputs": [
    {
     "output_type": "stream",
     "name": "stdout",
     "text": [
      "[[0.00979371 0.49495998 0.16767174 0.60821918 0.36663664]\n [0.00500104 0.59195195 0.16767174 0.33059361 0.63443059]\n [0.00479267 0.41654173 0.16767174 0.08493151 0.        ]\n [0.01479475 0.45422925 0.16767174 0.42191781 0.43022915]\n [0.00979371 0.56357376 0.16767174 0.20383562 0.64585952]]\n"
     ]
    }
   ],
   "source": [
    "col_names = [\"Imax\", \"E\", \"PIL\", \"MeanD\", \"EDate\"]\n",
    "features = df[col_names]\n",
    "\n",
    "scaler = MinMaxScaler()\n",
    "X = scaler.fit_transform(features.values)# Contiene i valori su cui effettuare il clustering\n",
    "\n",
    "X_complete=df.copy()# Contiene oltre agli attributi per il clustering anche il custemerID\n",
    "X_complete[col_names] = X\n",
    "print(X[:5])"
   ]
  },
  {
   "cell_type": "code",
   "execution_count": 25,
   "metadata": {},
   "outputs": [],
   "source": [
    "X_complete.to_csv('dataset/CL_Normalized-dataset.csv', sep='\\t', index=True, decimal=\",\")"
   ]
  },
  {
   "cell_type": "code",
   "execution_count": 26,
   "metadata": {},
   "outputs": [
    {
     "output_type": "stream",
     "name": "stdout",
     "text": [
      "          Imax         E       PIL     MeanD     EDate  class\n0     0.009794  0.494960  0.167672  0.608219  0.366637      0\n1     0.005001  0.591952  0.167672  0.330594  0.634431      0\n2     0.004793  0.416542  0.167672  0.084932  0.000000      0\n3     0.014795  0.454229  0.167672  0.421918  0.430229      0\n4     0.009794  0.563574  0.167672  0.203836  0.645860      0\n...        ...       ...       ...       ...       ...    ...\n5062  0.124818  0.394994  0.167672  0.253881  0.430996      2\n5063  0.004793  0.367926  0.167672  0.000000  0.000000      2\n5064  0.162534  0.637743  0.198221  0.150667  0.842525      2\n5065  0.007293  0.694300  0.167672  0.201342  0.486838      2\n5066  0.010419  0.517591  0.167672  0.769278  0.384111      2\n\n[5067 rows x 6 columns]\n"
     ]
    }
   ],
   "source": [
    "print(X_complete)"
   ]
  },
  {
   "cell_type": "code",
   "execution_count": null,
   "metadata": {},
   "outputs": [],
   "source": []
  }
 ]
}