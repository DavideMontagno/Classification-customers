{
 "metadata": {
  "language_info": {
   "codemirror_mode": {
    "name": "ipython",
    "version": 3
   },
   "file_extension": ".py",
   "mimetype": "text/x-python",
   "name": "python",
   "nbconvert_exporter": "python",
   "pygments_lexer": "ipython3",
   "version": "3.7.8-final"
  },
  "orig_nbformat": 2,
  "kernelspec": {
   "name": "python3",
   "display_name": "Python 3.7.8 64-bit",
   "metadata": {
    "interpreter": {
     "hash": "57baa5815c940fdaff4d14510622de9616cae602444507ba5d0b6727c008cbd6"
    }
   }
  }
 },
 "nbformat": 4,
 "nbformat_minor": 2,
 "cells": [
  {
   "cell_type": "code",
   "execution_count": 8,
   "metadata": {},
   "outputs": [
    {
     "output_type": "execute_result",
     "data": {
      "text/plain": [
       "  CustomerID     I   Iu  Imax         E    PIL          Mb       Ts  \\\n",
       "0    17850.0  1707   21    12  4.335643  2.567  156.860294  5333.25   \n",
       "1    13047.0  1386  105    32  6.503112  2.567  356.232222  3206.09   \n",
       "2    12583.0  4992  113   360  6.504979  2.752  442.969333  6644.54   \n",
       "3    13748.0   439   24    80  4.494680  2.567  189.650000   948.25   \n",
       "4    15100.0    80    1    32  0.000000  2.567  292.000000   876.00   \n",
       "\n",
       "       MeanD   MaxD  MinD     EDate  \n",
       "0   0.000000    0.0   0.0  0.000000  \n",
       "1  35.000000   70.0   0.0  2.226424  \n",
       "2  24.266667   72.0   0.0  2.235084  \n",
       "3  55.400000  136.0   0.0  1.177965  \n",
       "4  13.000000   32.0   0.0  0.918296  "
      ],
      "text/html": "<div>\n<style scoped>\n    .dataframe tbody tr th:only-of-type {\n        vertical-align: middle;\n    }\n\n    .dataframe tbody tr th {\n        vertical-align: top;\n    }\n\n    .dataframe thead th {\n        text-align: right;\n    }\n</style>\n<table border=\"1\" class=\"dataframe\">\n  <thead>\n    <tr style=\"text-align: right;\">\n      <th></th>\n      <th>CustomerID</th>\n      <th>I</th>\n      <th>Iu</th>\n      <th>Imax</th>\n      <th>E</th>\n      <th>PIL</th>\n      <th>Mb</th>\n      <th>Ts</th>\n      <th>MeanD</th>\n      <th>MaxD</th>\n      <th>MinD</th>\n      <th>EDate</th>\n    </tr>\n  </thead>\n  <tbody>\n    <tr>\n      <th>0</th>\n      <td>17850.0</td>\n      <td>1707</td>\n      <td>21</td>\n      <td>12</td>\n      <td>4.335643</td>\n      <td>2.567</td>\n      <td>156.860294</td>\n      <td>5333.25</td>\n      <td>0.000000</td>\n      <td>0.0</td>\n      <td>0.0</td>\n      <td>0.000000</td>\n    </tr>\n    <tr>\n      <th>1</th>\n      <td>13047.0</td>\n      <td>1386</td>\n      <td>105</td>\n      <td>32</td>\n      <td>6.503112</td>\n      <td>2.567</td>\n      <td>356.232222</td>\n      <td>3206.09</td>\n      <td>35.000000</td>\n      <td>70.0</td>\n      <td>0.0</td>\n      <td>2.226424</td>\n    </tr>\n    <tr>\n      <th>2</th>\n      <td>12583.0</td>\n      <td>4992</td>\n      <td>113</td>\n      <td>360</td>\n      <td>6.504979</td>\n      <td>2.752</td>\n      <td>442.969333</td>\n      <td>6644.54</td>\n      <td>24.266667</td>\n      <td>72.0</td>\n      <td>0.0</td>\n      <td>2.235084</td>\n    </tr>\n    <tr>\n      <th>3</th>\n      <td>13748.0</td>\n      <td>439</td>\n      <td>24</td>\n      <td>80</td>\n      <td>4.494680</td>\n      <td>2.567</td>\n      <td>189.650000</td>\n      <td>948.25</td>\n      <td>55.400000</td>\n      <td>136.0</td>\n      <td>0.0</td>\n      <td>1.177965</td>\n    </tr>\n    <tr>\n      <th>4</th>\n      <td>15100.0</td>\n      <td>80</td>\n      <td>1</td>\n      <td>32</td>\n      <td>0.000000</td>\n      <td>2.567</td>\n      <td>292.000000</td>\n      <td>876.00</td>\n      <td>13.000000</td>\n      <td>32.0</td>\n      <td>0.0</td>\n      <td>0.918296</td>\n    </tr>\n  </tbody>\n</table>\n</div>"
     },
     "metadata": {},
     "execution_count": 8
    }
   ],
   "source": [
    "import numpy as np\n",
    "import pandas as pd\n",
    "import matplotlib.pyplot as plt\n",
    "from sklearn.preprocessing import StandardScaler, MinMaxScaler\n",
    "\n",
    "##Da eseguire su CL1\n",
    "df = pd.read_csv(\"dataset/CS1-dataset.csv\",sep='\\t',decimal=\",\",index_col=0)\n",
    "df.head()"
   ]
  },
  {
   "source": [
    "## Normalizzazione con StandardScalar (Zscore)"
   ],
   "cell_type": "markdown",
   "metadata": {}
  },
  {
   "cell_type": "code",
   "execution_count": 14,
   "metadata": {},
   "outputs": [
    {
     "output_type": "stream",
     "name": "stdout",
     "text": [
      "[[-0.28529211 -0.21101002  0.11414136 -0.33429947 -0.70882417 -0.7989526 ]\n [-0.18371344  0.90077361  0.11414136 -0.08542777  0.34135838  2.17136605]\n [ 1.48217668  0.90173136  0.4664659   0.0228443   0.0193024   2.18291935]\n [ 0.06007535 -0.12943339  0.11414136 -0.29336878  0.95346479  0.77259569]\n [-0.18371344 -2.43493992  0.11414136 -0.16560748 -0.31875636  0.42616517]]\n"
     ]
    }
   ],
   "source": [
    "\n",
    "\n",
    "col_names = [\"Imax\", \"E\", \"PIL\", \"Mb\", \"MeanD\", \"EDate\"]\n",
    "features = df[col_names]\n",
    "\n",
    "scaler = StandardScaler()\n",
    "X = scaler.fit_transform(features.values)# Contiene i valori su cui effettuare il clustering\n",
    "\n",
    "X_complete=df.copy()# Contiene oltre agli attributi per il clustering anche il custemerID\n",
    "X_complete[col_names] = X\n",
    "print(X[:5])"
   ]
  },
  {
   "source": [
    "## Normalizzazione con MinMaxScalar"
   ],
   "cell_type": "markdown",
   "metadata": {}
  },
  {
   "cell_type": "code",
   "execution_count": 15,
   "metadata": {},
   "outputs": [
    {
     "output_type": "stream",
     "name": "stdout",
     "text": [
      "[[0.00229214 0.41897698 0.16767174 0.00578416 0.         0.        ]\n [0.00645968 0.6284313  0.16767174 0.01315424 0.19178082 0.9619825 ]\n [0.07480725 0.62861174 0.17979811 0.01636061 0.13296804 0.96572421]\n [0.01646176 0.43434559 0.16767174 0.00699628 0.30356164 0.50896962]\n [0.00645968 0.         0.16767174 0.0107798  0.07123288 0.39677287]]\n"
     ]
    }
   ],
   "source": [
    "col_names = [\"Imax\", \"E\", \"PIL\", \"Mb\", \"MeanD\", \"EDate\"]\n",
    "features = df[col_names]\n",
    "\n",
    "scaler = MinMaxScaler()\n",
    "X = scaler.fit_transform(features.values)# Contiene i valori su cui effettuare il clustering\n",
    "\n",
    "X_complete=df.copy()# Contiene oltre agli attributi per il clustering anche il custemerID\n",
    "X_complete[col_names] = X\n",
    "print(X[:5])"
   ]
  },
  {
   "source": [
    "## Considerazioni\n",
    "### MinMaxScalar\n",
    "Il metodo scala in un range da 0 a 1 ma può essere sensibile agli outliers\n",
    "\n",
    "### Standard Scaler\n",
    "Si calcolano la media e la deviazione standard che sono sensibili agli outliers, non garantisce un range e se i dati in input non hanno una distribuzione gaussiana non mantiene la stessa distribuzione dei dati in output\n",
    "\n",
    "### Tanh estimator\n",
    "Alcuni link dicono che sia molto buono"
   ],
   "cell_type": "markdown",
   "metadata": {}
  },
  {
   "cell_type": "code",
   "execution_count": null,
   "metadata": {},
   "outputs": [],
   "source": []
  }
 ]
}