{
 "metadata": {
  "language_info": {
   "codemirror_mode": {
    "name": "ipython",
    "version": 3
   },
   "file_extension": ".py",
   "mimetype": "text/x-python",
   "name": "python",
   "nbconvert_exporter": "python",
   "pygments_lexer": "ipython3",
   "version": "3.7.8-final"
  },
  "orig_nbformat": 2,
  "kernelspec": {
   "name": "python3",
   "display_name": "Python 3.7.8 64-bit",
   "metadata": {
    "interpreter": {
     "hash": "57baa5815c940fdaff4d14510622de9616cae602444507ba5d0b6727c008cbd6"
    }
   }
  }
 },
 "nbformat": 4,
 "nbformat_minor": 2,
 "cells": [
  {
   "cell_type": "code",
   "execution_count": 5,
   "metadata": {},
   "outputs": [
    {
     "output_type": "execute_result",
     "data": {
      "text/plain": [
       "   Imax         E    PIL         Mt         TsM        TsW      NbxM  \\\n",
       "0    12  2.807355  2.567  15.261429    8.217692   2.015660  0.076923   \n",
       "1    12  7.102441  2.567   3.573791   50.033077  12.272264  0.307692   \n",
       "2    24  3.000000  2.567  13.797500    8.490769   2.082642  0.076923   \n",
       "3     6  3.906891  2.567   4.162000    4.802308   1.177925  0.230769   \n",
       "4    48  6.984210  2.567   8.364100  153.770769  37.717358  0.846154   \n",
       "\n",
       "       NbxW      MeanD     Etrim    Emonth  Eday_of_week     Ehour  class  \n",
       "0  0.018868   0.000000  0.000000  0.000000      0.000000  0.000000      0  \n",
       "1  0.075472  55.500000  1.570383  1.570383      1.570383  1.570383      0  \n",
       "2  0.018868   0.000000  0.000000  0.000000      0.000000  0.000000      0  \n",
       "3  0.056604   0.333333  0.000000  0.000000      0.353359  0.353359      0  \n",
       "4  0.207547  24.454545  1.826220  2.894170      1.878620  2.382467      0  "
      ],
      "text/html": "<div>\n<style scoped>\n    .dataframe tbody tr th:only-of-type {\n        vertical-align: middle;\n    }\n\n    .dataframe tbody tr th {\n        vertical-align: top;\n    }\n\n    .dataframe thead th {\n        text-align: right;\n    }\n</style>\n<table border=\"1\" class=\"dataframe\">\n  <thead>\n    <tr style=\"text-align: right;\">\n      <th></th>\n      <th>Imax</th>\n      <th>E</th>\n      <th>PIL</th>\n      <th>Mt</th>\n      <th>TsM</th>\n      <th>TsW</th>\n      <th>NbxM</th>\n      <th>NbxW</th>\n      <th>MeanD</th>\n      <th>Etrim</th>\n      <th>Emonth</th>\n      <th>Eday_of_week</th>\n      <th>Ehour</th>\n      <th>class</th>\n    </tr>\n  </thead>\n  <tbody>\n    <tr>\n      <th>0</th>\n      <td>12</td>\n      <td>2.807355</td>\n      <td>2.567</td>\n      <td>15.261429</td>\n      <td>8.217692</td>\n      <td>2.015660</td>\n      <td>0.076923</td>\n      <td>0.018868</td>\n      <td>0.000000</td>\n      <td>0.000000</td>\n      <td>0.000000</td>\n      <td>0.000000</td>\n      <td>0.000000</td>\n      <td>0</td>\n    </tr>\n    <tr>\n      <th>1</th>\n      <td>12</td>\n      <td>7.102441</td>\n      <td>2.567</td>\n      <td>3.573791</td>\n      <td>50.033077</td>\n      <td>12.272264</td>\n      <td>0.307692</td>\n      <td>0.075472</td>\n      <td>55.500000</td>\n      <td>1.570383</td>\n      <td>1.570383</td>\n      <td>1.570383</td>\n      <td>1.570383</td>\n      <td>0</td>\n    </tr>\n    <tr>\n      <th>2</th>\n      <td>24</td>\n      <td>3.000000</td>\n      <td>2.567</td>\n      <td>13.797500</td>\n      <td>8.490769</td>\n      <td>2.082642</td>\n      <td>0.076923</td>\n      <td>0.018868</td>\n      <td>0.000000</td>\n      <td>0.000000</td>\n      <td>0.000000</td>\n      <td>0.000000</td>\n      <td>0.000000</td>\n      <td>0</td>\n    </tr>\n    <tr>\n      <th>3</th>\n      <td>6</td>\n      <td>3.906891</td>\n      <td>2.567</td>\n      <td>4.162000</td>\n      <td>4.802308</td>\n      <td>1.177925</td>\n      <td>0.230769</td>\n      <td>0.056604</td>\n      <td>0.333333</td>\n      <td>0.000000</td>\n      <td>0.000000</td>\n      <td>0.353359</td>\n      <td>0.353359</td>\n      <td>0</td>\n    </tr>\n    <tr>\n      <th>4</th>\n      <td>48</td>\n      <td>6.984210</td>\n      <td>2.567</td>\n      <td>8.364100</td>\n      <td>153.770769</td>\n      <td>37.717358</td>\n      <td>0.846154</td>\n      <td>0.207547</td>\n      <td>24.454545</td>\n      <td>1.826220</td>\n      <td>2.894170</td>\n      <td>1.878620</td>\n      <td>2.382467</td>\n      <td>0</td>\n    </tr>\n  </tbody>\n</table>\n</div>"
     },
     "metadata": {},
     "execution_count": 5
    }
   ],
   "source": [
    "import numpy as np\n",
    "import pandas as pd\n",
    "import matplotlib.pyplot as plt\n",
    "from sklearn.preprocessing import StandardScaler, MinMaxScaler\n",
    "\n",
    "\n",
    "df = pd.read_csv(\"dataset/CL-dataset.csv\",sep='\\t',decimal=\",\",index_col=0)\n",
    "df.head()"
   ]
  },
  {
   "source": [
    "## Normalizzazione con MinMaxScalar"
   ],
   "cell_type": "markdown",
   "metadata": {}
  },
  {
   "cell_type": "code",
   "execution_count": 6,
   "metadata": {},
   "outputs": [
    {
     "output_type": "stream",
     "name": "stdout",
     "text": [
      "[[2.29214420e-03 2.75863881e-01 1.67671736e-01 6.97254614e-04\n  3.72809453e-04 3.72809453e-04 0.00000000e+00 0.00000000e+00\n  0.00000000e+00 0.00000000e+00 0.00000000e+00 0.00000000e+00\n  0.00000000e+00]\n [2.29214420e-03 6.97919172e-01 1.67671736e-01 1.07217238e-04\n  2.32276826e-03 2.32276826e-03 1.54639175e-02 1.54639175e-02\n  3.04109589e-01 6.78523448e-01 4.41490213e-01 6.13802621e-01\n  4.77344358e-01]\n [4.79266514e-03 2.94794091e-01 1.67671736e-01 6.23349808e-04\n  3.85543731e-04 3.85543731e-04 0.00000000e+00 0.00000000e+00\n  0.00000000e+00 0.00000000e+00 0.00000000e+00 0.00000000e+00\n  0.00000000e+00]\n [1.04188373e-03 3.83909421e-01 1.67671736e-01 1.36912304e-04\n  2.13541295e-04 2.13541295e-04 1.03092784e-02 1.03092784e-02\n  1.82648402e-03 0.00000000e+00 0.00000000e+00 1.38114667e-01\n  1.07409540e-01]\n [9.79370702e-03 6.86301262e-01 1.67671736e-01 3.49050672e-04\n  7.16032335e-03 7.16032335e-03 5.15463918e-02 5.15463918e-02\n  1.33997509e-01 7.89064553e-01 8.13653668e-01 7.34280928e-01\n  7.24191121e-01]]\n"
     ]
    }
   ],
   "source": [
    "col_names = ['Imax','E','PIL', 'Mt', 'TsM','TsW','NbxM', 'NbxW','MeanD','Etrim','Emonth','Eday_of_week','Ehour']\n",
    "features = df[col_names]\n",
    "#'Imax','E','PIL','MbPIL', 'Mt', 'TsM','TsW','NbxM', 'NbxW','MeanD','Etrim','Emonth','Eday_of_week','Ehour'\n",
    "scaler = MinMaxScaler()\n",
    "X = scaler.fit_transform(features.values)# Contiene i valori su cui effettuare il clustering\n",
    "\n",
    "X_complete=df.copy()# Contiene oltre agli attributi per il clustering anche il custemerID\n",
    "X_complete[col_names] = X\n",
    "print(X[:5])"
   ]
  },
  {
   "cell_type": "code",
   "execution_count": 7,
   "metadata": {},
   "outputs": [],
   "source": [
    "X_complete.to_csv('dataset/CL_Normalized-dataset.csv', sep='\\t', index=True, decimal=\",\")"
   ]
  },
  {
   "cell_type": "code",
   "execution_count": 8,
   "metadata": {},
   "outputs": [
    {
     "output_type": "stream",
     "name": "stdout",
     "text": [
      "          Imax         E       PIL        Mt       TsM       TsW      NbxM  \\\n0     0.002292  0.275864  0.167672  0.000697  0.000373  0.000373  0.000000   \n1     0.002292  0.697919  0.167672  0.000107  0.002323  0.002323  0.015464   \n2     0.004793  0.294794  0.167672  0.000623  0.000386  0.000386  0.000000   \n3     0.001042  0.383909  0.167672  0.000137  0.000214  0.000214  0.010309   \n4     0.009794  0.686301  0.167672  0.000349  0.007160  0.007160  0.051546   \n...        ...       ...       ...       ...       ...       ...       ...   \n5062  0.008752  0.561521  0.158451  0.001513  0.005757  0.005757  0.000000   \n5063  0.015837  0.772989  0.167672  0.000318  0.011107  0.011107  0.018415   \n5064  0.007293  0.668506  0.167672  0.000823  0.009022  0.009022  0.015464   \n5065  0.011044  0.192608  0.167672  0.009412  0.002058  0.002058  0.000000   \n5066  0.010419  0.698892  0.167672  0.000475  0.011591  0.011591  0.025773   \n\n          NbxW     MeanD     Etrim    Emonth  Eday_of_week     Ehour  class  \n0     0.000000  0.000000  0.000000  0.000000      0.000000  0.000000      0  \n1     0.015464  0.304110  0.678523  0.441490      0.613803  0.477344      0  \n2     0.000000  0.000000  0.000000  0.000000      0.000000  0.000000      0  \n3     0.010309  0.001826  0.000000  0.000000      0.138115  0.107410      0  \n4     0.051546  0.133998  0.789065  0.813654      0.734281  0.724191      0  \n...        ...       ...       ...       ...           ...       ...    ...  \n5062  0.000000  0.000000  0.000000  0.000000      0.000000  0.000000      2  \n5063  0.018415  0.348505  0.787310  0.557698      0.498877  0.407350      2  \n5064  0.015464  0.360274  0.746476  0.485704      0.578432  0.525149      2  \n5065  0.000000  0.000000  0.000000  0.000000      0.000000  0.000000      2  \n5066  0.025773  0.192089  0.577339  0.608771      0.026021  0.399318      2  \n\n[5067 rows x 14 columns]\n"
     ]
    }
   ],
   "source": [
    "print(X_complete)"
   ]
  },
  {
   "cell_type": "code",
   "execution_count": null,
   "metadata": {},
   "outputs": [],
   "source": []
  }
 ]
}