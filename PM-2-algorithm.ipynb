{
 "metadata": {
  "language_info": {
   "codemirror_mode": {
    "name": "ipython",
    "version": 3
   },
   "file_extension": ".py",
   "mimetype": "text/x-python",
   "name": "python",
   "nbconvert_exporter": "python",
   "pygments_lexer": "ipython3",
   "version": "3.7.5-final"
  },
  "orig_nbformat": 2,
  "kernelspec": {
   "name": "python37564bit61209d9bcfea452998e2771b9ee1a7fb",
   "display_name": "Python 3.7.5 64-bit",
   "language": "python"
  }
 },
 "nbformat": 4,
 "nbformat_minor": 2,
 "cells": [
  {
   "source": [
    "# Algoritmo gsp\n",
    "Importiamo il dataset e eliminiamo il time stamp"
   ],
   "cell_type": "markdown",
   "metadata": {}
  },
  {
   "cell_type": "code",
   "execution_count": 22,
   "metadata": {},
   "outputs": [],
   "source": [
    "import pickle\n",
    "from utility.gsp import *\n",
    "\n",
    "file_to_read = open(\"./dataset/PM-dataset.pickle\", \"rb\")\n",
    "loaded_object = pickle.load(file_to_read)\n",
    "file_to_read.close()\n",
    "\n",
    "# to delete timestamp\n",
    "data=[[basket[1] for basket in customer] for customer in loaded_object]"
   ]
  },
  {
   "source": [
    "Proviamo vari minsup in modo tale da avere i pattern più frequenti"
   ],
   "cell_type": "markdown",
   "metadata": {}
  },
  {
   "cell_type": "code",
   "execution_count": 23,
   "metadata": {},
   "outputs": [
    {
     "output_type": "stream",
     "name": "stdout",
     "text": [
      "Dimensione dataset:  4322\n{20: 864.4, 10: 432.2, 8: 345.76, 5: 216.1, 3: 129.66, 2: 86.44}\n"
     ]
    }
   ],
   "source": [
    "print(\"Dimensione dataset: \",len(data))\n",
    "\n",
    "min_sup_perc=[20,10,8,5,3,2]\n",
    "dict_min_sup={elem:(len(data)*elem)/100 for elem in min_sup_perc}\n",
    "print(dict_min_sup)"
   ]
  },
  {
   "cell_type": "code",
   "execution_count": 18,
   "metadata": {},
   "outputs": [],
   "source": [
    "result_set = apriori(data, dict_min_sup[20], verbose=False)\n",
    "print(result_set)"
   ]
  },
  {
   "cell_type": "code",
   "execution_count": 20,
   "metadata": {},
   "outputs": [
    {
     "output_type": "stream",
     "name": "stdout",
     "text": [
      "[([['ASSORTED COLOUR BIRD ORNAMENT']], 677), ([['BAKING SET 9 PIECE RETROSPOT ']], 577), ([['HEART OF WICKER LARGE']], 485), ([['HEART OF WICKER SMALL']], 573), ([['HOT WATER BOTTLE KEEP CALM']], 473), ([['JAM MAKING SET PRINTED']], 536), ([['JAM MAKING SET WITH JARS']], 566), ([['JUMBO BAG RED RETROSPOT']], 633), ([['LUNCH BAG  BLACK SKULL.']], 457), ([['LUNCH BAG CARS BLUE']], 476), ([['LUNCH BAG PINK POLKADOT']], 443), ([['LUNCH BAG RED RETROSPOT']], 530), ([['LUNCH BAG SPACEBOY DESIGN ']], 490), ([['NATURAL SLATE HEART CHALKBOARD ']], 586), ([['PACK OF 72 RETROSPOT CAKE CASES']], 632), ([[\"PAPER CHAIN KIT 50'S CHRISTMAS \"]], 611), ([['PAPER CHAIN KIT VINTAGE CHRISTMAS']], 468), ([['PARTY BUNTING']], 708), ([['RABBIT NIGHT LIGHT']], 449), ([['RECIPE BOX PANTRY YELLOW DESIGN']], 470), ([['REGENCY CAKESTAND 3 TIER']], 872), ([['RETROSPOT TEA SET CERAMIC 11 PC ']], 485), ([['REX CASH+CARRY JUMBO SHOPPER']], 479), ([['SET OF 3 CAKE TINS PANTRY DESIGN ']], 635), ([['SET OF 3 REGENCY CAKE TINS']], 470), ([['SPOTTY BUNTING']], 571), ([['VINTAGE SNAP CARDS']], 449), ([['WHITE HANGING HEART T-LIGHT HOLDER']], 854)]\n"
     ]
    }
   ],
   "source": [
    "result_set = apriori(data, dict_min_sup[10], verbose=False)\n",
    "print(\"Risultati\")\n",
    "print(result_set)\n",
    "print(\"Risutati con almeno 2 elementi\")\n",
    "filtered=[elem for elem in result_set if len(elem[0])>1]\n",
    "print(filtered)"
   ]
  },
  {
   "cell_type": "code",
   "execution_count": 24,
   "metadata": {},
   "outputs": [
    {
     "output_type": "stream",
     "name": "stdout",
     "text": [
      "Risultati\n[([['6 RIBBONS RUSTIC CHARM']], 411), ([['60 TEATIME FAIRY CAKE CASES']], 411), ([['ALARM CLOCK BAKELIKE RED ']], 388), ([['ANTIQUE SILVER T-LIGHT GLASS']], 346), ([['ASSORTED COLOUR BIRD ORNAMENT']], 677), ([['BAKING SET 9 PIECE RETROSPOT ']], 577), ([['CHOCOLATE HOT WATER BOTTLE']], 382), ([['CLOTHES PEGS RETROSPOT PACK 24 ']], 361), ([['DOORMAT KEEP CALM AND COME IN']], 375), ([['GARDENERS KNEELING PAD CUP OF TEA ']], 351), ([['GARDENERS KNEELING PAD KEEP CALM ']], 404), ([['GINGERBREAD MAN COOKIE CUTTER']], 387), ([['GREEN REGENCY TEACUP AND SAUCER']], 386), ([['HAND WARMER OWL DESIGN']], 374), ([['HEART OF WICKER LARGE']], 485), ([['HEART OF WICKER SMALL']], 573), ([['HOME BUILDING BLOCK WORD']], 359), ([['HOMEMADE JAM SCENTED CANDLES']], 428), ([['HOT WATER BOTTLE KEEP CALM']], 473), ([['IVORY KITCHEN SCALES']], 375), ([['JAM MAKING SET PRINTED']], 536), ([['JAM MAKING SET WITH JARS']], 566), ([[\"JUMBO BAG 50'S CHRISTMAS \"]], 389), ([['JUMBO BAG ALPHABET']], 395), ([['JUMBO BAG PINK POLKADOT']], 370), ([['JUMBO BAG RED RETROSPOT']], 633), ([['JUMBO BAG VINTAGE DOILY ']], 362), ([['JUMBO BAG VINTAGE LEAF']], 376), ([['JUMBO SHOPPER VINTAGE RED PAISLEY']], 374), ([['LARGE WHITE HEART OF WICKER']], 350), ([['LUNCH BAG  BLACK SKULL.']], 457), ([['LUNCH BAG ALPHABET DESIGN']], 376), ([['LUNCH BAG APPLE DESIGN']], 400), ([['LUNCH BAG CARS BLUE']], 476), ([['LUNCH BAG PINK POLKADOT']], 443), ([['LUNCH BAG RED RETROSPOT']], 530), ([['LUNCH BAG SPACEBOY DESIGN ']], 490), ([['LUNCH BAG SUKI DESIGN ']], 398), ([['LUNCH BAG WOODLAND']], 370), ([['NATURAL SLATE HEART CHALKBOARD ']], 586), ([['PACK OF 20 NAPKINS PANTRY DESIGN']], 357), ([['PACK OF 60 PINK PAISLEY CAKE CASES']], 409), ([['PACK OF 72 RETROSPOT CAKE CASES']], 632), ([[\"PAPER CHAIN KIT 50'S CHRISTMAS \"]], 611), ([['PAPER CHAIN KIT VINTAGE CHRISTMAS']], 468), ([['PARTY BUNTING']], 708), ([['PLASTERS IN TIN WOODLAND ANIMALS']], 351), ([['PLEASE ONE PERSON METAL SIGN']], 360), ([['RABBIT NIGHT LIGHT']], 449), ([['RECIPE BOX PANTRY YELLOW DESIGN']], 470), ([['RED  HARMONICA IN BOX ']], 348), ([['RED HANGING HEART T-LIGHT HOLDER']], 384), ([['REGENCY CAKESTAND 3 TIER']], 872), ([['RETROSPOT HEART HOT WATER BOTTLE']], 370), ([['RETROSPOT TEA SET CERAMIC 11 PC ']], 485), ([['REX CASH+CARRY JUMBO SHOPPER']], 479), ([['ROSES REGENCY TEACUP AND SAUCER ']], 421), ([['SCOTTIE DOG HOT WATER BOTTLE']], 424), ([['SET OF 20 VINTAGE CHRISTMAS NAPKINS']], 367), ([['SET OF 3 CAKE TINS PANTRY DESIGN ']], 635), ([['SET OF 3 HEART COOKIE CUTTERS']], 375), ([['SET OF 3 REGENCY CAKE TINS']], 470), ([['SET OF 4 PANTRY JELLY MOULDS']], 429), ([['SET OF 6 SPICE TINS PANTRY DESIGN']], 390), ([['SET OF 60 PANTRY DESIGN CAKE CASES ']], 366), ([['SET/20 RED RETROSPOT PAPER NAPKINS ']], 426), ([['SET/5 RED RETROSPOT LID GLASS BOWLS']], 356), ([['SMALL WHITE HEART OF WICKER']], 378), ([['SPOTTY BUNTING']], 571), ([['TRADITIONAL KNITTING NANCY']], 366), ([['VICTORIAN GLASS HANGING T-LIGHT']], 401), ([['VINTAGE SNAP CARDS']], 449), ([['WHITE HANGING HEART T-LIGHT HOLDER']], 854), ([['WOODEN FRAME ANTIQUE WHITE ']], 391), ([['WOODEN PICTURE FRAME WHITE FINISH']], 407), ([['WHITE HANGING HEART T-LIGHT HOLDER'], ['WHITE HANGING HEART T-LIGHT HOLDER']], 403)]\nRisutati con almeno 2 elementi\n[([['WHITE HANGING HEART T-LIGHT HOLDER'], ['WHITE HANGING HEART T-LIGHT HOLDER']], 403)]\n"
     ]
    }
   ],
   "source": [
    "result_set = apriori(data, dict_min_sup[8], verbose=False)\n",
    "print(\"Risultati\")\n",
    "print(result_set)\n",
    "print(\"Risutati con almeno 2 elementi\")\n",
    "filtered=[elem for elem in result_set if len(elem[0])>1]\n",
    "print(filtered)"
   ]
  },
  {
   "cell_type": "code",
   "execution_count": 25,
   "metadata": {},
   "outputs": [
    {
     "output_type": "stream",
     "name": "stdout",
     "text": [
      "Risultati\n[([['12 PENCILS SMALL TUBE RED RETROSPOT']], 229), ([['3 STRIPEY MICE FELTCRAFT']], 287), ([['4 TRADITIONAL SPINNING TOPS']], 260), ([[\"6 GIFT TAGS 50'S CHRISTMAS \"]], 234), ([['6 GIFT TAGS VINTAGE CHRISTMAS ']], 226), ([['6 RIBBONS RUSTIC CHARM']], 411), ([['60 CAKE CASES DOLLY GIRL DESIGN']], 233), ([['60 CAKE CASES VINTAGE CHRISTMAS']], 341), ([['60 TEATIME FAIRY CAKE CASES']], 411), ([['72 SWEETHEART FAIRY CAKE CASES']], 324), ([['ALARM CLOCK BAKELIKE GREEN']], 322), ([['ALARM CLOCK BAKELIKE IVORY']], 239), ([['ALARM CLOCK BAKELIKE PINK']], 289), ([['ALARM CLOCK BAKELIKE RED ']], 388), ([['ANTIQUE SILVER T-LIGHT GLASS']], 346), ([['ASSORTED COLOUR BIRD ORNAMENT']], 677), ([['ASSORTED COLOUR MINI CASES']], 238), ([['BAKING SET 9 PIECE RETROSPOT ']], 577), ([['BAKING SET SPACEBOY DESIGN']], 293), ([[\"BISCUIT TIN 50'S CHRISTMAS\"]], 229), ([['BLUE HAPPY BIRTHDAY BUNTING']], 227), ([['BLUE HARMONICA IN BOX ']], 306), ([[\"BOX OF 6 MINI 50'S CRACKERS\"]], 299), ([['BOX OF 6 MINI VINTAGE CRACKERS']], 269), ([['BUNDLE OF 3 ALPHABET EXERCISE BOOKS']], 224), ([['CANDLEHOLDER PINK HANGING HEART']], 222), ([['CARD BILLBOARD FONT']], 222), ([['CHARLOTTE BAG PINK POLKADOT']], 217), ([['CHARLOTTE BAG SUKI DESIGN']], 247), ([['CHILDRENS APRON SPACEBOY DESIGN']], 297), ([['CHILDRENS CUTLERY SPACEBOY ']], 224), ([['CHOCOLATE HOT WATER BOTTLE']], 382), ([['CHOCOLATE THIS WAY METAL SIGN']], 219), ([['CHRISTMAS CRAFT LITTLE FRIENDS']], 318), ([['CHRISTMAS CRAFT TREE TOP ANGEL']], 256), ([['CHRISTMAS CRAFT WHITE FAIRY ']], 259), ([['CLOTHES PEGS RETROSPOT PACK 24 ']], 361), ([['COLOUR GLASS T-LIGHT HOLDER HANGING']], 316), ([['COOK WITH WINE METAL SIGN ']], 287), ([['CREAM HEART CARD HOLDER']], 273), ([['CREAM SWEETHEART MINI CHEST']], 286), ([['DOLLY GIRL LUNCH BOX']], 287), ([['DOORMAT ENGLISH ROSE ']], 224), ([['DOORMAT HEARTS']], 285), ([['DOORMAT KEEP CALM AND COME IN']], 375), ([['DOORMAT NEW ENGLAND']], 313), ([['DOORMAT RED RETROSPOT']], 327), ([['DOORMAT SPOTTY HOME SWEET HOME']], 249), ([['DOORMAT UNION FLAG']], 310), ([['DOORMAT WELCOME TO OUR HOME']], 230), ([['ENAMEL FLOWER JUG CREAM']], 309), ([['ENAMEL MEASURING JUG CREAM']], 226), ([['FAWN BLUE HOT WATER BOTTLE']], 251), ([['FELTCRAFT 6 FLOWER FRIENDS']], 336), ([['FELTCRAFT BUTTERFLY HEARTS']], 286), ([['FELTCRAFT CHRISTMAS FAIRY']], 240), ([['FELTCRAFT CUSHION OWL']], 244), ([['FELTCRAFT PRINCESS CHARLOTTE DOLL']], 275), ([['FELTCRAFT PRINCESS LOLA DOLL']], 246), ([['GARDENERS KNEELING PAD CUP OF TEA ']], 351), ([['GARDENERS KNEELING PAD KEEP CALM ']], 404), ([[\"GIANT 50'S CHRISTMAS CRACKER\"]], 260), ([['GIN + TONIC DIET METAL SIGN']], 330), ([['GINGERBREAD MAN COOKIE CUTTER']], 387), ([['GINGHAM HEART DECORATION']], 251), ([['GREEN REGENCY TEACUP AND SAUCER']], 386), ([['GREY HEART HOT WATER BOTTLE']], 337), ([['GUMBALL COAT RACK']], 261), ([['HAND OVER THE CHOCOLATE   SIGN ']], 270), ([['HAND WARMER BIRD DESIGN']], 332), ([['HAND WARMER OWL DESIGN']], 374), ([['HAND WARMER RED LOVE HEART']], 268), ([['HAND WARMER RED RETROSPOT']], 258), ([['HAND WARMER SCOTTY DOG DESIGN']], 328), ([['HAND WARMER UNION JACK']], 300), ([['HANGING HEART JAR T-LIGHT HOLDER']], 303), ([['HANGING HEART ZINC T-LIGHT HOLDER']], 271), ([['HEART OF WICKER LARGE']], 485), ([['HEART OF WICKER SMALL']], 573), ([['HOME BUILDING BLOCK WORD']], 359), ([['HOMEMADE JAM SCENTED CANDLES']], 428), ([['HOT WATER BOTTLE I AM SO POORLY']], 315), ([['HOT WATER BOTTLE KEEP CALM']], 473), ([['HOT WATER BOTTLE TEA AND SYMPATHY']], 324), ([['IVORY DINER WALL CLOCK']], 236), ([['IVORY KITCHEN SCALES']], 375), ([['JAM MAKING SET PRINTED']], 536), ([['JAM MAKING SET WITH JARS']], 566), ([['JINGLE BELL HEART DECORATION']], 222), ([['JUMBO  BAG BAROQUE BLACK WHITE']], 305), ([[\"JUMBO BAG 50'S CHRISTMAS \"]], 389), ([['JUMBO BAG ALPHABET']], 395), ([['JUMBO BAG APPLES']], 344), ([['JUMBO BAG DOILEY PATTERNS']], 298), ([['JUMBO BAG PAISLEY PARK']], 229), ([['JUMBO BAG PEARS']], 261), ([['JUMBO BAG PINK POLKADOT']], 370), ([['JUMBO BAG PINK VINTAGE PAISLEY']], 308), ([['JUMBO BAG RED RETROSPOT']], 633), ([['JUMBO BAG SCANDINAVIAN BLUE PAISLEY']], 232), ([['JUMBO BAG SPACEBOY DESIGN']], 247), ([['JUMBO BAG STRAWBERRY']], 315), ([['JUMBO BAG VINTAGE CHRISTMAS ']], 283), ([['JUMBO BAG VINTAGE DOILY ']], 362), ([['JUMBO BAG VINTAGE LEAF']], 376), ([['JUMBO BAG WOODLAND ANIMALS']], 246), ([['JUMBO SHOPPER VINTAGE RED PAISLEY']], 374), ([['JUMBO STORAGE BAG SKULLS']], 220), ([['JUMBO STORAGE BAG SUKI']], 332), ([['LARGE WHITE HEART OF WICKER']], 350), ([['LOVE BUILDING BLOCK WORD']], 336), ([['LOVE HOT WATER BOTTLE']], 316), ([['LUNCH BAG  BLACK SKULL.']], 457), ([['LUNCH BAG ALPHABET DESIGN']], 376), ([['LUNCH BAG APPLE DESIGN']], 400), ([['LUNCH BAG CARS BLUE']], 476), ([['LUNCH BAG DOILEY PATTERN ']], 290), ([['LUNCH BAG DOLLY GIRL DESIGN']], 309), ([['LUNCH BAG PAISLEY PARK  ']], 232), ([['LUNCH BAG PINK POLKADOT']], 443), ([['LUNCH BAG RED RETROSPOT']], 530), ([['LUNCH BAG SPACEBOY DESIGN ']], 490), ([['LUNCH BAG SUKI DESIGN ']], 398), ([['LUNCH BAG VINTAGE DOILY ']], 318), ([['LUNCH BAG VINTAGE LEAF DESIGN']], 305), ([['LUNCH BAG WOODLAND']], 370), ([['MEMO BOARD RETROSPOT  DESIGN']], 230), ([['METAL SIGN TAKE IT OR LEAVE IT ']], 226), ([['NATURAL SLATE HEART CHALKBOARD ']], 586), ([['OPEN CLOSED METAL SIGN']], 263), ([['PACK OF 12 HEARTS DESIGN TISSUES ']], 262), ([['PACK OF 12 TRADITIONAL CRAYONS']], 232), ([['PACK OF 20 NAPKINS PANTRY DESIGN']], 357), ([['PACK OF 6 BIRDY GIFT TAGS']], 239), ([['PACK OF 60 DINOSAUR CAKE CASES']], 287), ([['PACK OF 60 PINK PAISLEY CAKE CASES']], 409), ([['PACK OF 60 SPACEBOY CAKE CASES']], 269), ([['PACK OF 72 RETROSPOT CAKE CASES']], 632), ([['PACK OF 72 SKULL CAKE CASES']], 295), ([['PAINTED METAL PEARS ASSORTED']], 258), ([['PANTRY MAGNETIC  SHOPPING LIST']], 258), ([['PANTRY WASHING UP BRUSH']], 224), ([['PAPER BUNTING RETROSPOT']], 323), ([[\"PAPER CHAIN KIT 50'S CHRISTMAS \"]], 611), ([['PAPER CHAIN KIT EMPIRE']], 277), ([['PAPER CHAIN KIT RETROSPOT']], 294), ([['PAPER CHAIN KIT VINTAGE CHRISTMAS']], 468), ([['PARTY BUNTING']], 708), ([['PARTY METAL SIGN ']], 235), ([['PHOTO FRAME CORNICE']], 277), ([['PINK BLUE FELT CRAFT TRINKET BOX']], 276), ([['PINK CREAM FELT CRAFT TRINKET BOX ']], 311), ([['PINK FAIRY CAKE CHILDRENS APRON']], 250), ([['PINK HAPPY BIRTHDAY BUNTING']], 237), ([['PINK REGENCY TEACUP AND SAUCER']], 319), ([['PLASTERS IN TIN CIRCUS PARADE ']], 305), ([['PLASTERS IN TIN SKULLS']], 279), ([['PLASTERS IN TIN SPACEBOY']], 338), ([['PLASTERS IN TIN STRONGMAN']], 294), ([['PLASTERS IN TIN VINTAGE PAISLEY ']], 315), ([['PLASTERS IN TIN WOODLAND ANIMALS']], 351), ([['PLAYING CARDS KEEP CALM & CARRY ON']], 284), ([['PLEASE ONE PERSON METAL SIGN']], 360), ([['POPCORN HOLDER']], 295), ([[\"POPPY'S PLAYHOUSE KITCHEN\"]], 231), ([['POTTERING IN THE SHED METAL SIGN']], 225), ([['RABBIT NIGHT LIGHT']], 449), ([['RECIPE BOX PANTRY YELLOW DESIGN']], 470), ([['RECIPE BOX RETROSPOT ']], 231), ([['RED  HARMONICA IN BOX ']], 348), ([['RED HANGING HEART T-LIGHT HOLDER']], 384), ([['RED KITCHEN SCALES']], 289), ([['RED RETROSPOT CAKE STAND']], 254), ([['RED RETROSPOT CHARLOTTE BAG']], 335), ([['RED RETROSPOT MINI CASES']], 233), ([['RED RETROSPOT PICNIC BAG']], 223), ([['RED RETROSPOT SHOPPER BAG']], 235), ([['RED RETROSPOT WRAP ']], 236), ([['RED TOADSTOOL LED NIGHT LIGHT']], 265), ([['RED WOOLLY HOTTIE WHITE HEART.']], 227), ([['REGENCY CAKESTAND 3 TIER']], 872), ([['REGENCY TEA PLATE ROSES ']], 223), ([['REGENCY TEAPOT ROSES ']], 247), ([['RETROSPOT HEART HOT WATER BOTTLE']], 370), ([['RETROSPOT TEA SET CERAMIC 11 PC ']], 485), ([['REX CASH+CARRY JUMBO SHOPPER']], 479), ([['RIBBON REEL STRIPES DESIGN ']], 248), ([[\"ROLL WRAP 50'S CHRISTMAS\"]], 241), ([['ROSES REGENCY TEACUP AND SAUCER ']], 421), ([['ROUND SNACK BOXES SET OF 4 FRUITS ']], 226), ([['ROUND SNACK BOXES SET OF4 WOODLAND ']], 278), ([['SCANDINAVIAN PAISLEY PICNIC BAG']], 217), ([['SCANDINAVIAN REDS RIBBONS']], 248), ([['SCOTTIE DOG HOT WATER BOTTLE']], 424), ([['SET 2 PANTRY DESIGN TEA TOWELS']], 239), ([['SET OF 10 LED DOLLY LIGHTS']], 268), ([['SET OF 12 FAIRY CAKE BAKING CASES']], 321), ([['SET OF 12 MINI LOAF BAKING CASES']], 250), ([['SET OF 20 KIDS COOKIE CUTTERS']], 290), ([['SET OF 20 VINTAGE CHRISTMAS NAPKINS']], 367), ([['SET OF 3 BUTTERFLY COOKIE CUTTERS']], 324), ([['SET OF 3 CAKE TINS PANTRY DESIGN ']], 635), ([['SET OF 3 HEART COOKIE CUTTERS']], 375), ([['SET OF 3 NOTEBOOKS IN PARCEL']], 252), ([['SET OF 3 REGENCY CAKE TINS']], 470), ([['SET OF 3 WOODEN HEART DECORATIONS']], 267), ([['SET OF 4 KNICK KNACK TINS DOILY ']], 230), ([['SET OF 4 PANTRY JELLY MOULDS']], 429), ([['SET OF 6 RIBBONS VINTAGE CHRISTMAS']], 276), ([['SET OF 6 SOLDIER SKITTLES']], 249), ([['SET OF 6 SPICE TINS PANTRY DESIGN']], 390), ([['SET OF 6 TEA TIME BAKING CASES']], 242), ([['SET OF 60 PANTRY DESIGN CAKE CASES ']], 366), ([['SET OF 72 RETROSPOT PAPER  DOILIES']], 240), ([['SET OF TEA COFFEE SUGAR TINS PANTRY']], 272), ([['SET/10 RED POLKADOT PARTY CANDLES']], 236), ([['SET/20 RED RETROSPOT PAPER NAPKINS ']], 426), ([['SET/5 RED RETROSPOT LID GLASS BOWLS']], 356), ([['SINGLE HEART ZINC T-LIGHT HOLDER']], 233), ([['SMALL POPCORN HOLDER']], 227), ([['SMALL WHITE HEART OF WICKER']], 378), ([['SPACEBOY BIRTHDAY CARD']], 233), ([['SPACEBOY LUNCH BOX ']], 322), ([['SPOTTY BUNTING']], 571), ([['STRAWBERRY CERAMIC TRINKET BOX']], 293), ([['STRAWBERRY CHARLOTTE BAG']], 229), ([['STRAWBERRY LUNCH BOX WITH CUTLERY']], 233), ([['SWEETHEART CAKESTAND 3 TIER']], 247), ([['TRADITIONAL KNITTING NANCY']], 366), ([['TRADITIONAL MODELLING CLAY']], 229), ([['TRADITIONAL WOODEN CATCH CUP GAME ']], 234), ([['TRADITIONAL WOODEN SKIPPING ROPE']], 262), ([['TRAVEL SEWING KIT']], 262), ([['VICTORIAN GLASS HANGING T-LIGHT']], 401), ([['VINTAGE CHRISTMAS BUNTING']], 252), ([['VINTAGE CHRISTMAS STOCKING ']], 245), ([['VINTAGE DOILY TRAVEL SEWING KIT']], 282), ([['VINTAGE HEADS AND TAILS CARD GAME ']], 339), ([['VINTAGE SNAP CARDS']], 449), ([['VINTAGE UNION JACK BUNTING']], 265), ([['WHITE HANGING HEART T-LIGHT HOLDER']], 854), ([['WHITE SKULL HOT WATER BOTTLE ']], 252), ([['WHITE WOOD GARDEN PLANT LADDER']], 271), ([['WICKER STAR ']], 227), ([['WOOD 2 DRAWER CABINET WHITE FINISH']], 238), ([['WOOD BLACK BOARD ANT WHITE FINISH']], 284), ([['WOODEN BOX OF DOMINOES']], 336), ([['WOODEN FRAME ANTIQUE WHITE ']], 391), ([['WOODEN HEART CHRISTMAS SCANDINAVIAN']], 343), ([['WOODEN PICTURE FRAME WHITE FINISH']], 407), ([['WOODEN ROUNDERS GARDEN SET ']], 224), ([['WOODEN SCHOOL COLOURING SET']], 287), ([['WOODEN STAR CHRISTMAS SCANDINAVIAN']], 332), ([['WOODEN TREE CHRISTMAS SCANDINAVIAN']], 226), ([['WOODEN UNION JACK BUNTING']], 217), ([['WOODLAND CHARLOTTE BAG']], 237), ([['WORLD WAR 2 GLIDERS ASSTD DESIGNS']], 305), ([['ZINC FOLKART SLEIGH BELLS']], 268), ([['ZINC METAL HEART DECORATION']], 310), ([['60 TEATIME FAIRY CAKE CASES', 'PACK OF 72 RETROSPOT CAKE CASES']], 227), ([['ALARM CLOCK BAKELIKE GREEN', 'ALARM CLOCK BAKELIKE RED ']], 240), ([['BAKING SET 9 PIECE RETROSPOT ', 'BAKING SET SPACEBOY DESIGN']], 230), ([['DOLLY GIRL LUNCH BOX', 'SPACEBOY LUNCH BOX ']], 217), ([['GARDENERS KNEELING PAD CUP OF TEA ', 'GARDENERS KNEELING PAD KEEP CALM ']], 254), ([['GREEN REGENCY TEACUP AND SAUCER', 'PINK REGENCY TEACUP AND SAUCER']], 282), ([['GREEN REGENCY TEACUP AND SAUCER', 'REGENCY CAKESTAND 3 TIER']], 243), ([['GREEN REGENCY TEACUP AND SAUCER', 'ROSES REGENCY TEACUP AND SAUCER ']], 310), ([['HEART OF WICKER LARGE', 'HEART OF WICKER SMALL']], 276), ([['JAM MAKING SET PRINTED', 'JAM MAKING SET WITH JARS']], 221), ([['JUMBO BAG PINK POLKADOT', 'JUMBO BAG RED RETROSPOT']], 254), ([['LUNCH BAG  BLACK SKULL.', 'LUNCH BAG PINK POLKADOT']], 236), ([['LUNCH BAG  BLACK SKULL.', 'LUNCH BAG RED RETROSPOT']], 250), ([['LUNCH BAG  BLACK SKULL.', 'LUNCH BAG SPACEBOY DESIGN ']], 217), ([['LUNCH BAG CARS BLUE', 'LUNCH BAG PINK POLKADOT']], 239), ([['LUNCH BAG CARS BLUE', 'LUNCH BAG RED RETROSPOT']], 249), ([['LUNCH BAG CARS BLUE', 'LUNCH BAG SPACEBOY DESIGN ']], 223), ([['LUNCH BAG CARS BLUE', 'LUNCH BAG SUKI DESIGN ']], 223), ([['LUNCH BAG PINK POLKADOT', 'LUNCH BAG RED RETROSPOT']], 254), ([['LUNCH BAG RED RETROSPOT', 'LUNCH BAG SPACEBOY DESIGN ']], 242), ([['LUNCH BAG RED RETROSPOT', 'LUNCH BAG SUKI DESIGN ']], 226), ([['LUNCH BAG SPACEBOY DESIGN ', 'LUNCH BAG WOODLAND']], 222), ([['PACK OF 60 PINK PAISLEY CAKE CASES', 'PACK OF 72 RETROSPOT CAKE CASES']], 241), ([[\"PAPER CHAIN KIT 50'S CHRISTMAS \", 'PAPER CHAIN KIT VINTAGE CHRISTMAS']], 311), ([['PARTY BUNTING', 'SPOTTY BUNTING']], 244), ([['PINK REGENCY TEACUP AND SAUCER', 'ROSES REGENCY TEACUP AND SAUCER ']], 254), ([['RED HANGING HEART T-LIGHT HOLDER', 'WHITE HANGING HEART T-LIGHT HOLDER']], 273), ([['REGENCY CAKESTAND 3 TIER', 'ROSES REGENCY TEACUP AND SAUCER ']], 262), ([['SET OF 3 CAKE TINS PANTRY DESIGN ', 'SET OF 6 SPICE TINS PANTRY DESIGN']], 218), ([['WOODEN FRAME ANTIQUE WHITE ', 'WOODEN PICTURE FRAME WHITE FINISH']], 241), ([['WOODEN HEART CHRISTMAS SCANDINAVIAN', 'WOODEN STAR CHRISTMAS SCANDINAVIAN']], 246), ([['ASSORTED COLOUR BIRD ORNAMENT'], ['ASSORTED COLOUR BIRD ORNAMENT']], 291), ([['JUMBO BAG RED RETROSPOT'], ['JUMBO BAG RED RETROSPOT']], 312), ([['LUNCH BAG  BLACK SKULL.'], ['LUNCH BAG  BLACK SKULL.']], 228), ([['LUNCH BAG RED RETROSPOT'], ['LUNCH BAG RED RETROSPOT']], 274), ([['PARTY BUNTING'], ['PARTY BUNTING']], 277), ([['REGENCY CAKESTAND 3 TIER'], ['REGENCY CAKESTAND 3 TIER']], 321), ([['SET OF 3 CAKE TINS PANTRY DESIGN '], ['SET OF 3 CAKE TINS PANTRY DESIGN ']], 224), ([['WHITE HANGING HEART T-LIGHT HOLDER'], ['WHITE HANGING HEART T-LIGHT HOLDER']], 403), ([['WHITE HANGING HEART T-LIGHT HOLDER'], ['WHITE HANGING HEART T-LIGHT HOLDER'], ['WHITE HANGING HEART T-LIGHT HOLDER']], 221)]\nRisutati con almeno 2 elementi\n[([['ASSORTED COLOUR BIRD ORNAMENT'], ['ASSORTED COLOUR BIRD ORNAMENT']], 291), ([['JUMBO BAG RED RETROSPOT'], ['JUMBO BAG RED RETROSPOT']], 312), ([['LUNCH BAG  BLACK SKULL.'], ['LUNCH BAG  BLACK SKULL.']], 228), ([['LUNCH BAG RED RETROSPOT'], ['LUNCH BAG RED RETROSPOT']], 274), ([['PARTY BUNTING'], ['PARTY BUNTING']], 277), ([['REGENCY CAKESTAND 3 TIER'], ['REGENCY CAKESTAND 3 TIER']], 321), ([['SET OF 3 CAKE TINS PANTRY DESIGN '], ['SET OF 3 CAKE TINS PANTRY DESIGN ']], 224), ([['WHITE HANGING HEART T-LIGHT HOLDER'], ['WHITE HANGING HEART T-LIGHT HOLDER']], 403), ([['WHITE HANGING HEART T-LIGHT HOLDER'], ['WHITE HANGING HEART T-LIGHT HOLDER'], ['WHITE HANGING HEART T-LIGHT HOLDER']], 221)]\n"
     ]
    }
   ],
   "source": [
    "result_set = apriori(data, dict_min_sup[5], verbose=False)\n",
    "print(\"Risultati\")\n",
    "print(result_set)\n",
    "print(\"Risutati con almeno 2 elementi\")\n",
    "filtered=[elem for elem in result_set if len(elem[0])>1]\n",
    "print(filtered)"
   ]
  },
  {
   "cell_type": "code",
   "execution_count": 26,
   "metadata": {},
   "outputs": [
    {
     "output_type": "error",
     "ename": "KeyboardInterrupt",
     "evalue": "",
     "traceback": [
      "\u001b[1;31m---------------------------------------------------------------------------\u001b[0m",
      "\u001b[1;31mKeyboardInterrupt\u001b[0m                         Traceback (most recent call last)",
      "\u001b[1;32m<ipython-input-26-6d5ed3f45947>\u001b[0m in \u001b[0;36m<module>\u001b[1;34m\u001b[0m\n\u001b[1;32m----> 1\u001b[1;33m \u001b[0mresult_set\u001b[0m \u001b[1;33m=\u001b[0m \u001b[0mapriori\u001b[0m\u001b[1;33m(\u001b[0m\u001b[0mdata\u001b[0m\u001b[1;33m,\u001b[0m \u001b[0mdict_min_sup\u001b[0m\u001b[1;33m[\u001b[0m\u001b[1;36m3\u001b[0m\u001b[1;33m]\u001b[0m\u001b[1;33m,\u001b[0m \u001b[0mverbose\u001b[0m\u001b[1;33m=\u001b[0m\u001b[1;32mFalse\u001b[0m\u001b[1;33m)\u001b[0m\u001b[1;33m\u001b[0m\u001b[1;33m\u001b[0m\u001b[0m\n\u001b[0m\u001b[0;32m      2\u001b[0m \u001b[0mprint\u001b[0m\u001b[1;33m(\u001b[0m\u001b[1;34m\"Risultati\"\u001b[0m\u001b[1;33m)\u001b[0m\u001b[1;33m\u001b[0m\u001b[1;33m\u001b[0m\u001b[0m\n\u001b[0;32m      3\u001b[0m \u001b[0mprint\u001b[0m\u001b[1;33m(\u001b[0m\u001b[0mresult_set\u001b[0m\u001b[1;33m)\u001b[0m\u001b[1;33m\u001b[0m\u001b[1;33m\u001b[0m\u001b[0m\n\u001b[0;32m      4\u001b[0m \u001b[0mprint\u001b[0m\u001b[1;33m(\u001b[0m\u001b[1;34m\"Risutati con almeno 2 elementi\"\u001b[0m\u001b[1;33m)\u001b[0m\u001b[1;33m\u001b[0m\u001b[1;33m\u001b[0m\u001b[0m\n\u001b[0;32m      5\u001b[0m \u001b[0mfiltered\u001b[0m\u001b[1;33m=\u001b[0m\u001b[1;33m[\u001b[0m\u001b[0melem\u001b[0m \u001b[1;32mfor\u001b[0m \u001b[0melem\u001b[0m \u001b[1;32min\u001b[0m \u001b[0mresult_set\u001b[0m \u001b[1;32mif\u001b[0m \u001b[0mlen\u001b[0m\u001b[1;33m(\u001b[0m\u001b[0melem\u001b[0m\u001b[1;33m[\u001b[0m\u001b[1;36m0\u001b[0m\u001b[1;33m]\u001b[0m\u001b[1;33m)\u001b[0m\u001b[1;33m>\u001b[0m\u001b[1;36m1\u001b[0m\u001b[1;33m]\u001b[0m\u001b[1;33m\u001b[0m\u001b[1;33m\u001b[0m\u001b[0m\n",
      "\u001b[1;32mc:\\Users\\mgabr\\Desktop\\DM_project\\ProgettoDataMining\\utility\\gsp.py\u001b[0m in \u001b[0;36mapriori\u001b[1;34m(dataset, minSupport, verbose)\u001b[0m\n\u001b[0;32m    202\u001b[0m                             all(x in candidatesLastLevel for x in generateDirectSubsequences(cand))]\n\u001b[0;32m    203\u001b[0m         \u001b[1;31m# 3. Candidate checking\u001b[0m\u001b[1;33m\u001b[0m\u001b[1;33m\u001b[0m\u001b[1;33m\u001b[0m\u001b[0m\n\u001b[1;32m--> 204\u001b[1;33m         \u001b[0mcandidatesCounts\u001b[0m \u001b[1;33m=\u001b[0m \u001b[1;33m[\u001b[0m\u001b[1;33m(\u001b[0m\u001b[0mi\u001b[0m\u001b[1;33m,\u001b[0m \u001b[0mcountSupport\u001b[0m\u001b[1;33m(\u001b[0m\u001b[0mdataset\u001b[0m\u001b[1;33m,\u001b[0m \u001b[0mi\u001b[0m\u001b[1;33m)\u001b[0m\u001b[1;33m)\u001b[0m \u001b[1;32mfor\u001b[0m \u001b[0mi\u001b[0m \u001b[1;32min\u001b[0m \u001b[0mcandidatesPruned\u001b[0m\u001b[1;33m]\u001b[0m\u001b[1;33m\u001b[0m\u001b[1;33m\u001b[0m\u001b[0m\n\u001b[0m\u001b[0;32m    205\u001b[0m         \u001b[0mresultLvl\u001b[0m \u001b[1;33m=\u001b[0m \u001b[1;33m[\u001b[0m\u001b[1;33m(\u001b[0m\u001b[0mi\u001b[0m\u001b[1;33m,\u001b[0m \u001b[0mcount\u001b[0m\u001b[1;33m)\u001b[0m \u001b[1;32mfor\u001b[0m \u001b[1;33m(\u001b[0m\u001b[0mi\u001b[0m\u001b[1;33m,\u001b[0m \u001b[0mcount\u001b[0m\u001b[1;33m)\u001b[0m \u001b[1;32min\u001b[0m \u001b[0mcandidatesCounts\u001b[0m \u001b[1;32mif\u001b[0m \u001b[1;33m(\u001b[0m\u001b[0mcount\u001b[0m \u001b[1;33m>=\u001b[0m \u001b[0mminSupport\u001b[0m\u001b[1;33m)\u001b[0m\u001b[1;33m]\u001b[0m\u001b[1;33m\u001b[0m\u001b[1;33m\u001b[0m\u001b[0m\n\u001b[0;32m    206\u001b[0m         \u001b[1;32mif\u001b[0m \u001b[0mverbose\u001b[0m\u001b[1;33m:\u001b[0m\u001b[1;33m\u001b[0m\u001b[1;33m\u001b[0m\u001b[0m\n",
      "\u001b[1;32mc:\\Users\\mgabr\\Desktop\\DM_project\\ProgettoDataMining\\utility\\gsp.py\u001b[0m in \u001b[0;36m<listcomp>\u001b[1;34m(.0)\u001b[0m\n\u001b[0;32m    202\u001b[0m                             all(x in candidatesLastLevel for x in generateDirectSubsequences(cand))]\n\u001b[0;32m    203\u001b[0m         \u001b[1;31m# 3. Candidate checking\u001b[0m\u001b[1;33m\u001b[0m\u001b[1;33m\u001b[0m\u001b[1;33m\u001b[0m\u001b[0m\n\u001b[1;32m--> 204\u001b[1;33m         \u001b[0mcandidatesCounts\u001b[0m \u001b[1;33m=\u001b[0m \u001b[1;33m[\u001b[0m\u001b[1;33m(\u001b[0m\u001b[0mi\u001b[0m\u001b[1;33m,\u001b[0m \u001b[0mcountSupport\u001b[0m\u001b[1;33m(\u001b[0m\u001b[0mdataset\u001b[0m\u001b[1;33m,\u001b[0m \u001b[0mi\u001b[0m\u001b[1;33m)\u001b[0m\u001b[1;33m)\u001b[0m \u001b[1;32mfor\u001b[0m \u001b[0mi\u001b[0m \u001b[1;32min\u001b[0m \u001b[0mcandidatesPruned\u001b[0m\u001b[1;33m]\u001b[0m\u001b[1;33m\u001b[0m\u001b[1;33m\u001b[0m\u001b[0m\n\u001b[0m\u001b[0;32m    205\u001b[0m         \u001b[0mresultLvl\u001b[0m \u001b[1;33m=\u001b[0m \u001b[1;33m[\u001b[0m\u001b[1;33m(\u001b[0m\u001b[0mi\u001b[0m\u001b[1;33m,\u001b[0m \u001b[0mcount\u001b[0m\u001b[1;33m)\u001b[0m \u001b[1;32mfor\u001b[0m \u001b[1;33m(\u001b[0m\u001b[0mi\u001b[0m\u001b[1;33m,\u001b[0m \u001b[0mcount\u001b[0m\u001b[1;33m)\u001b[0m \u001b[1;32min\u001b[0m \u001b[0mcandidatesCounts\u001b[0m \u001b[1;32mif\u001b[0m \u001b[1;33m(\u001b[0m\u001b[0mcount\u001b[0m \u001b[1;33m>=\u001b[0m \u001b[0mminSupport\u001b[0m\u001b[1;33m)\u001b[0m\u001b[1;33m]\u001b[0m\u001b[1;33m\u001b[0m\u001b[1;33m\u001b[0m\u001b[0m\n\u001b[0;32m    206\u001b[0m         \u001b[1;32mif\u001b[0m \u001b[0mverbose\u001b[0m\u001b[1;33m:\u001b[0m\u001b[1;33m\u001b[0m\u001b[1;33m\u001b[0m\u001b[0m\n",
      "\u001b[1;32mc:\\Users\\mgabr\\Desktop\\DM_project\\ProgettoDataMining\\utility\\gsp.py\u001b[0m in \u001b[0;36mcountSupport\u001b[1;34m(dataset, candidateSequence)\u001b[0m\n\u001b[0;32m     71\u001b[0m \u001b[1;33m\u001b[0m\u001b[0m\n\u001b[0;32m     72\u001b[0m \u001b[1;32mdef\u001b[0m \u001b[0mcountSupport\u001b[0m\u001b[1;33m(\u001b[0m\u001b[0mdataset\u001b[0m\u001b[1;33m,\u001b[0m \u001b[0mcandidateSequence\u001b[0m\u001b[1;33m)\u001b[0m\u001b[1;33m:\u001b[0m\u001b[1;33m\u001b[0m\u001b[1;33m\u001b[0m\u001b[0m\n\u001b[1;32m---> 73\u001b[1;33m     \u001b[1;32mreturn\u001b[0m \u001b[0msum\u001b[0m\u001b[1;33m(\u001b[0m\u001b[1;36m1\u001b[0m \u001b[1;32mfor\u001b[0m \u001b[0mseq\u001b[0m \u001b[1;32min\u001b[0m \u001b[0mdataset\u001b[0m \u001b[1;32mif\u001b[0m \u001b[0misSubsequence\u001b[0m\u001b[1;33m(\u001b[0m\u001b[0mseq\u001b[0m\u001b[1;33m,\u001b[0m \u001b[0mcandidateSequence\u001b[0m\u001b[1;33m)\u001b[0m\u001b[1;33m)\u001b[0m\u001b[1;33m\u001b[0m\u001b[1;33m\u001b[0m\u001b[0m\n\u001b[0m\u001b[0;32m     74\u001b[0m \u001b[1;33m\u001b[0m\u001b[0m\n\u001b[0;32m     75\u001b[0m \u001b[1;33m\u001b[0m\u001b[0m\n",
      "\u001b[1;32mc:\\Users\\mgabr\\Desktop\\DM_project\\ProgettoDataMining\\utility\\gsp.py\u001b[0m in \u001b[0;36m<genexpr>\u001b[1;34m(.0)\u001b[0m\n\u001b[0;32m     71\u001b[0m \u001b[1;33m\u001b[0m\u001b[0m\n\u001b[0;32m     72\u001b[0m \u001b[1;32mdef\u001b[0m \u001b[0mcountSupport\u001b[0m\u001b[1;33m(\u001b[0m\u001b[0mdataset\u001b[0m\u001b[1;33m,\u001b[0m \u001b[0mcandidateSequence\u001b[0m\u001b[1;33m)\u001b[0m\u001b[1;33m:\u001b[0m\u001b[1;33m\u001b[0m\u001b[1;33m\u001b[0m\u001b[0m\n\u001b[1;32m---> 73\u001b[1;33m     \u001b[1;32mreturn\u001b[0m \u001b[0msum\u001b[0m\u001b[1;33m(\u001b[0m\u001b[1;36m1\u001b[0m \u001b[1;32mfor\u001b[0m \u001b[0mseq\u001b[0m \u001b[1;32min\u001b[0m \u001b[0mdataset\u001b[0m \u001b[1;32mif\u001b[0m \u001b[0misSubsequence\u001b[0m\u001b[1;33m(\u001b[0m\u001b[0mseq\u001b[0m\u001b[1;33m,\u001b[0m \u001b[0mcandidateSequence\u001b[0m\u001b[1;33m)\u001b[0m\u001b[1;33m)\u001b[0m\u001b[1;33m\u001b[0m\u001b[1;33m\u001b[0m\u001b[0m\n\u001b[0m\u001b[0;32m     74\u001b[0m \u001b[1;33m\u001b[0m\u001b[0m\n\u001b[0;32m     75\u001b[0m \u001b[1;33m\u001b[0m\u001b[0m\n",
      "\u001b[1;32mc:\\Users\\mgabr\\Desktop\\DM_project\\ProgettoDataMining\\utility\\gsp.py\u001b[0m in \u001b[0;36misSubsequence\u001b[1;34m(mainSequence, subSequence)\u001b[0m\n\u001b[0;32m     32\u001b[0m \u001b[1;32mdef\u001b[0m \u001b[0misSubsequence\u001b[0m\u001b[1;33m(\u001b[0m\u001b[0mmainSequence\u001b[0m\u001b[1;33m,\u001b[0m \u001b[0msubSequence\u001b[0m\u001b[1;33m)\u001b[0m\u001b[1;33m:\u001b[0m\u001b[1;33m\u001b[0m\u001b[1;33m\u001b[0m\u001b[0m\n\u001b[0;32m     33\u001b[0m     \u001b[0msubSequenceClone\u001b[0m \u001b[1;33m=\u001b[0m \u001b[0mlist\u001b[0m\u001b[1;33m(\u001b[0m\u001b[0msubSequence\u001b[0m\u001b[1;33m)\u001b[0m  \u001b[1;31m# clone the sequence, because we will alter it\u001b[0m\u001b[1;33m\u001b[0m\u001b[1;33m\u001b[0m\u001b[0m\n\u001b[1;32m---> 34\u001b[1;33m     \u001b[1;32mreturn\u001b[0m \u001b[0misSubsequenceRecursive\u001b[0m\u001b[1;33m(\u001b[0m\u001b[0mmainSequence\u001b[0m\u001b[1;33m,\u001b[0m \u001b[0msubSequenceClone\u001b[0m\u001b[1;33m)\u001b[0m  \u001b[1;31m# start recursion\u001b[0m\u001b[1;33m\u001b[0m\u001b[1;33m\u001b[0m\u001b[0m\n\u001b[0m\u001b[0;32m     35\u001b[0m \u001b[1;33m\u001b[0m\u001b[0m\n\u001b[0;32m     36\u001b[0m \u001b[1;33m\u001b[0m\u001b[0m\n",
      "\u001b[1;32mc:\\Users\\mgabr\\Desktop\\DM_project\\ProgettoDataMining\\utility\\gsp.py\u001b[0m in \u001b[0;36misSubsequenceRecursive\u001b[1;34m(mainSequence, subSequenceClone, start)\u001b[0m\n\u001b[0;32m     48\u001b[0m     \u001b[1;31m# Search for the first itemset...\u001b[0m\u001b[1;33m\u001b[0m\u001b[1;33m\u001b[0m\u001b[1;33m\u001b[0m\u001b[0m\n\u001b[0;32m     49\u001b[0m     \u001b[1;32mfor\u001b[0m \u001b[0mi\u001b[0m \u001b[1;32min\u001b[0m \u001b[0mrange\u001b[0m\u001b[1;33m(\u001b[0m\u001b[0mstart\u001b[0m\u001b[1;33m,\u001b[0m \u001b[0mlen\u001b[0m\u001b[1;33m(\u001b[0m\u001b[0mmainSequence\u001b[0m\u001b[1;33m)\u001b[0m\u001b[1;33m)\u001b[0m\u001b[1;33m:\u001b[0m\u001b[1;33m\u001b[0m\u001b[1;33m\u001b[0m\u001b[0m\n\u001b[1;32m---> 50\u001b[1;33m         \u001b[1;32mif\u001b[0m \u001b[1;33m(\u001b[0m\u001b[0mset\u001b[0m\u001b[1;33m(\u001b[0m\u001b[0mmainSequence\u001b[0m\u001b[1;33m[\u001b[0m\u001b[0mi\u001b[0m\u001b[1;33m]\u001b[0m\u001b[1;33m)\u001b[0m\u001b[1;33m.\u001b[0m\u001b[0missuperset\u001b[0m\u001b[1;33m(\u001b[0m\u001b[0mfirstElem\u001b[0m\u001b[1;33m)\u001b[0m\u001b[1;33m)\u001b[0m\u001b[1;33m:\u001b[0m\u001b[1;33m\u001b[0m\u001b[1;33m\u001b[0m\u001b[0m\n\u001b[0m\u001b[0;32m     51\u001b[0m             \u001b[1;31m# and recurse\u001b[0m\u001b[1;33m\u001b[0m\u001b[1;33m\u001b[0m\u001b[1;33m\u001b[0m\u001b[0m\n\u001b[0;32m     52\u001b[0m             \u001b[1;32mreturn\u001b[0m \u001b[0misSubsequenceRecursive\u001b[0m\u001b[1;33m(\u001b[0m\u001b[0mmainSequence\u001b[0m\u001b[1;33m,\u001b[0m \u001b[0msubSequenceClone\u001b[0m\u001b[1;33m,\u001b[0m \u001b[0mi\u001b[0m \u001b[1;33m+\u001b[0m \u001b[1;36m1\u001b[0m\u001b[1;33m)\u001b[0m\u001b[1;33m\u001b[0m\u001b[1;33m\u001b[0m\u001b[0m\n",
      "\u001b[1;31mKeyboardInterrupt\u001b[0m: "
     ]
    }
   ],
   "source": [
    "result_set = apriori(data, dict_min_sup[3], verbose=False)\n",
    "print(\"Risultati\")\n",
    "print(result_set)\n",
    "print(\"Risutati con almeno 2 elementi\")\n",
    "filtered=[elem for elem in result_set if len(elem[0])>1]\n",
    "print(filtered)"
   ]
  },
  {
   "cell_type": "code",
   "execution_count": null,
   "metadata": {},
   "outputs": [],
   "source": [
    "result_set = apriori(data, dict_min_sup[2], verbose=False)\n",
    "print(\"Risultati\")\n",
    "print(result_set)\n",
    "print(\"Risutati con almeno 2 elementi\")\n",
    "filtered=[elem for elem in result_set if len(elem[0])>1]\n",
    "print(filtered)"
   ]
  },
  {
   "cell_type": "code",
   "execution_count": null,
   "metadata": {},
   "outputs": [],
   "source": []
  }
 ]
}