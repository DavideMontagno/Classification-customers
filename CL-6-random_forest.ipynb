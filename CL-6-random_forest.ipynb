{
 "metadata": {
  "language_info": {
   "codemirror_mode": {
    "name": "ipython",
    "version": 3
   },
   "file_extension": ".py",
   "mimetype": "text/x-python",
   "name": "python",
   "nbconvert_exporter": "python",
   "pygments_lexer": "ipython3",
   "version": "3.7.8-final"
  },
  "orig_nbformat": 2,
  "kernelspec": {
   "name": "python3",
   "display_name": "Python 3.7.8 64-bit",
   "metadata": {
    "interpreter": {
     "hash": "57baa5815c940fdaff4d14510622de9616cae602444507ba5d0b6727c008cbd6"
    }
   }
  }
 },
 "nbformat": 4,
 "nbformat_minor": 2,
 "cells": [
  {
   "source": [
    "# Random Forest"
   ],
   "cell_type": "markdown",
   "metadata": {}
  },
  {
   "cell_type": "code",
   "execution_count": 17,
   "metadata": {},
   "outputs": [],
   "source": [
    "import pandas as pd\n",
    "import numpy as np\n",
    "import matplotlib.pyplot as plt\n",
    "df = pd.read_csv(\"dataset/CL_over-dataset.csv\",sep='\\t',decimal=\",\",index_col=0)"
   ]
  },
  {
   "cell_type": "code",
   "execution_count": 18,
   "metadata": {},
   "outputs": [
    {
     "output_type": "execute_result",
     "data": {
      "text/plain": [
       "   Imax         E    PIL          Mt         TsW      NbxW      MeanD  \\\n",
       "0    12  4.335643  2.567   18.202218  100.627358  0.641509   0.000000   \n",
       "1    32  6.503112  2.567   18.970947   60.492264  0.169811  35.000000   \n",
       "2   360  6.504979  2.752   28.764242  125.368679  0.283019  24.266667   \n",
       "3    80  4.494680  2.567   33.866071   17.891509  0.094340  55.400000   \n",
       "4    32  0.000000  2.567  292.000000   16.528302  0.056604  13.000000   \n",
       "\n",
       "   Eday_of_week  class  \n",
       "0      0.845790      0  \n",
       "1      1.942764      1  \n",
       "2      2.396410      1  \n",
       "3      1.177965      0  \n",
       "4      0.918296      1  "
      ],
      "text/html": "<div>\n<style scoped>\n    .dataframe tbody tr th:only-of-type {\n        vertical-align: middle;\n    }\n\n    .dataframe tbody tr th {\n        vertical-align: top;\n    }\n\n    .dataframe thead th {\n        text-align: right;\n    }\n</style>\n<table border=\"1\" class=\"dataframe\">\n  <thead>\n    <tr style=\"text-align: right;\">\n      <th></th>\n      <th>Imax</th>\n      <th>E</th>\n      <th>PIL</th>\n      <th>Mt</th>\n      <th>TsW</th>\n      <th>NbxW</th>\n      <th>MeanD</th>\n      <th>Eday_of_week</th>\n      <th>class</th>\n    </tr>\n  </thead>\n  <tbody>\n    <tr>\n      <th>0</th>\n      <td>12</td>\n      <td>4.335643</td>\n      <td>2.567</td>\n      <td>18.202218</td>\n      <td>100.627358</td>\n      <td>0.641509</td>\n      <td>0.000000</td>\n      <td>0.845790</td>\n      <td>0</td>\n    </tr>\n    <tr>\n      <th>1</th>\n      <td>32</td>\n      <td>6.503112</td>\n      <td>2.567</td>\n      <td>18.970947</td>\n      <td>60.492264</td>\n      <td>0.169811</td>\n      <td>35.000000</td>\n      <td>1.942764</td>\n      <td>1</td>\n    </tr>\n    <tr>\n      <th>2</th>\n      <td>360</td>\n      <td>6.504979</td>\n      <td>2.752</td>\n      <td>28.764242</td>\n      <td>125.368679</td>\n      <td>0.283019</td>\n      <td>24.266667</td>\n      <td>2.396410</td>\n      <td>1</td>\n    </tr>\n    <tr>\n      <th>3</th>\n      <td>80</td>\n      <td>4.494680</td>\n      <td>2.567</td>\n      <td>33.866071</td>\n      <td>17.891509</td>\n      <td>0.094340</td>\n      <td>55.400000</td>\n      <td>1.177965</td>\n      <td>0</td>\n    </tr>\n    <tr>\n      <th>4</th>\n      <td>32</td>\n      <td>0.000000</td>\n      <td>2.567</td>\n      <td>292.000000</td>\n      <td>16.528302</td>\n      <td>0.056604</td>\n      <td>13.000000</td>\n      <td>0.918296</td>\n      <td>1</td>\n    </tr>\n  </tbody>\n</table>\n</div>"
     },
     "metadata": {},
     "execution_count": 18
    }
   ],
   "source": [
    "df.head()"
   ]
  },
  {
   "cell_type": "code",
   "execution_count": 19,
   "metadata": {},
   "outputs": [],
   "source": [
    "from sklearn.model_selection import train_test_split\n",
    "label = df.pop('class')\n",
    "train_set, test_set, train_label, test_label = train_test_split(df, label, stratify =label, test_size=0.20)"
   ]
  },
  {
   "cell_type": "code",
   "execution_count": 20,
   "metadata": {},
   "outputs": [],
   "source": [
    "from sklearn.model_selection import RandomizedSearchCV\n",
    "from sklearn.ensemble import RandomForestClassifier\n",
    "from sklearn.model_selection import GridSearchCV\n",
    "from scipy.stats import randint as sp_randint\n",
    "from sklearn.metrics import make_scorer\n",
    "from sklearn.metrics import accuracy_score\n",
    "from sklearn.metrics import classification_report\n"
   ]
  },
  {
   "source": [
    "## Grid search"
   ],
   "cell_type": "markdown",
   "metadata": {}
  },
  {
   "cell_type": "code",
   "execution_count": 21,
   "metadata": {
    "tags": [
     "outputPrepend"
    ]
   },
   "outputs": [
    {
     "output_type": "stream",
     "name": "stdout",
     "text": [
      "leaf': 10, 'min_samples_split': 10}\n0.613 (+/-0.049) for {'bootstrap': True, 'class_weight': {0: 0.3, 1: 0.7}, 'criterion': 'gini', 'max_depth': 2, 'max_features': 5, 'min_samples_leaf': 10, 'min_samples_split': 50}\n0.618 (+/-0.072) for {'bootstrap': True, 'class_weight': {0: 0.3, 1: 0.7}, 'criterion': 'gini', 'max_depth': 2, 'max_features': 5, 'min_samples_leaf': 50, 'min_samples_split': 10}\n0.608 (+/-0.060) for {'bootstrap': True, 'class_weight': {0: 0.3, 1: 0.7}, 'criterion': 'gini', 'max_depth': 2, 'max_features': 5, 'min_samples_leaf': 50, 'min_samples_split': 50}\n0.729 (+/-0.023) for {'bootstrap': True, 'class_weight': {0: 0.3, 1: 0.7}, 'criterion': 'gini', 'max_depth': 3, 'max_features': 5, 'min_samples_leaf': 10, 'min_samples_split': 10}\n0.724 (+/-0.008) for {'bootstrap': True, 'class_weight': {0: 0.3, 1: 0.7}, 'criterion': 'gini', 'max_depth': 3, 'max_features': 5, 'min_samples_leaf': 10, 'min_samples_split': 50}\n0.731 (+/-0.023) for {'bootstrap': True, 'class_weight': {0: 0.3, 1: 0.7}, 'criterion': 'gini', 'max_depth': 3, 'max_features': 5, 'min_samples_leaf': 50, 'min_samples_split': 10}\n0.730 (+/-0.021) for {'bootstrap': True, 'class_weight': {0: 0.3, 1: 0.7}, 'criterion': 'gini', 'max_depth': 3, 'max_features': 5, 'min_samples_leaf': 50, 'min_samples_split': 50}\n0.952 (+/-0.016) for {'bootstrap': True, 'class_weight': {0: 0.3, 1: 0.7}, 'criterion': 'gini', 'max_depth': 12, 'max_features': 5, 'min_samples_leaf': 10, 'min_samples_split': 10}\n0.934 (+/-0.027) for {'bootstrap': True, 'class_weight': {0: 0.3, 1: 0.7}, 'criterion': 'gini', 'max_depth': 12, 'max_features': 5, 'min_samples_leaf': 10, 'min_samples_split': 50}\n0.890 (+/-0.023) for {'bootstrap': True, 'class_weight': {0: 0.3, 1: 0.7}, 'criterion': 'gini', 'max_depth': 12, 'max_features': 5, 'min_samples_leaf': 50, 'min_samples_split': 10}\n0.889 (+/-0.030) for {'bootstrap': True, 'class_weight': {0: 0.3, 1: 0.7}, 'criterion': 'gini', 'max_depth': 12, 'max_features': 5, 'min_samples_leaf': 50, 'min_samples_split': 50}\n0.950 (+/-0.017) for {'bootstrap': True, 'class_weight': {0: 0.3, 1: 0.7}, 'criterion': 'gini', 'max_depth': None, 'max_features': 5, 'min_samples_leaf': 10, 'min_samples_split': 10}\n0.926 (+/-0.025) for {'bootstrap': True, 'class_weight': {0: 0.3, 1: 0.7}, 'criterion': 'gini', 'max_depth': None, 'max_features': 5, 'min_samples_leaf': 10, 'min_samples_split': 50}\n0.886 (+/-0.032) for {'bootstrap': True, 'class_weight': {0: 0.3, 1: 0.7}, 'criterion': 'gini', 'max_depth': None, 'max_features': 5, 'min_samples_leaf': 50, 'min_samples_split': 10}\n0.884 (+/-0.021) for {'bootstrap': True, 'class_weight': {0: 0.3, 1: 0.7}, 'criterion': 'gini', 'max_depth': None, 'max_features': 5, 'min_samples_leaf': 50, 'min_samples_split': 50}\n0.662 (+/-0.030) for {'bootstrap': False, 'class_weight': 'balanced', 'criterion': 'entropy', 'max_depth': 2, 'max_features': 5, 'min_samples_leaf': 10, 'min_samples_split': 10}\n0.658 (+/-0.038) for {'bootstrap': False, 'class_weight': 'balanced', 'criterion': 'entropy', 'max_depth': 2, 'max_features': 5, 'min_samples_leaf': 10, 'min_samples_split': 50}\n0.661 (+/-0.036) for {'bootstrap': False, 'class_weight': 'balanced', 'criterion': 'entropy', 'max_depth': 2, 'max_features': 5, 'min_samples_leaf': 50, 'min_samples_split': 10}\n0.664 (+/-0.065) for {'bootstrap': False, 'class_weight': 'balanced', 'criterion': 'entropy', 'max_depth': 2, 'max_features': 5, 'min_samples_leaf': 50, 'min_samples_split': 50}\n0.752 (+/-0.022) for {'bootstrap': False, 'class_weight': 'balanced', 'criterion': 'entropy', 'max_depth': 3, 'max_features': 5, 'min_samples_leaf': 10, 'min_samples_split': 10}\n0.746 (+/-0.013) for {'bootstrap': False, 'class_weight': 'balanced', 'criterion': 'entropy', 'max_depth': 3, 'max_features': 5, 'min_samples_leaf': 10, 'min_samples_split': 50}\n0.746 (+/-0.015) for {'bootstrap': False, 'class_weight': 'balanced', 'criterion': 'entropy', 'max_depth': 3, 'max_features': 5, 'min_samples_leaf': 50, 'min_samples_split': 10}\n0.750 (+/-0.010) for {'bootstrap': False, 'class_weight': 'balanced', 'criterion': 'entropy', 'max_depth': 3, 'max_features': 5, 'min_samples_leaf': 50, 'min_samples_split': 50}\n0.970 (+/-0.015) for {'bootstrap': False, 'class_weight': 'balanced', 'criterion': 'entropy', 'max_depth': 12, 'max_features': 5, 'min_samples_leaf': 10, 'min_samples_split': 10}\n0.966 (+/-0.004) for {'bootstrap': False, 'class_weight': 'balanced', 'criterion': 'entropy', 'max_depth': 12, 'max_features': 5, 'min_samples_leaf': 10, 'min_samples_split': 50}\n0.946 (+/-0.019) for {'bootstrap': False, 'class_weight': 'balanced', 'criterion': 'entropy', 'max_depth': 12, 'max_features': 5, 'min_samples_leaf': 50, 'min_samples_split': 10}\n0.944 (+/-0.006) for {'bootstrap': False, 'class_weight': 'balanced', 'criterion': 'entropy', 'max_depth': 12, 'max_features': 5, 'min_samples_leaf': 50, 'min_samples_split': 50}\n0.973 (+/-0.012) for {'bootstrap': False, 'class_weight': 'balanced', 'criterion': 'entropy', 'max_depth': None, 'max_features': 5, 'min_samples_leaf': 10, 'min_samples_split': 10}\n0.965 (+/-0.007) for {'bootstrap': False, 'class_weight': 'balanced', 'criterion': 'entropy', 'max_depth': None, 'max_features': 5, 'min_samples_leaf': 10, 'min_samples_split': 50}\n0.945 (+/-0.015) for {'bootstrap': False, 'class_weight': 'balanced', 'criterion': 'entropy', 'max_depth': None, 'max_features': 5, 'min_samples_leaf': 50, 'min_samples_split': 10}\n0.948 (+/-0.012) for {'bootstrap': False, 'class_weight': 'balanced', 'criterion': 'entropy', 'max_depth': None, 'max_features': 5, 'min_samples_leaf': 50, 'min_samples_split': 50}\n0.609 (+/-0.019) for {'bootstrap': False, 'class_weight': 'balanced', 'criterion': 'gini', 'max_depth': 2, 'max_features': 5, 'min_samples_leaf': 10, 'min_samples_split': 10}\n0.603 (+/-0.026) for {'bootstrap': False, 'class_weight': 'balanced', 'criterion': 'gini', 'max_depth': 2, 'max_features': 5, 'min_samples_leaf': 10, 'min_samples_split': 50}\n0.605 (+/-0.027) for {'bootstrap': False, 'class_weight': 'balanced', 'criterion': 'gini', 'max_depth': 2, 'max_features': 5, 'min_samples_leaf': 50, 'min_samples_split': 10}\n0.612 (+/-0.029) for {'bootstrap': False, 'class_weight': 'balanced', 'criterion': 'gini', 'max_depth': 2, 'max_features': 5, 'min_samples_leaf': 50, 'min_samples_split': 50}\n0.708 (+/-0.029) for {'bootstrap': False, 'class_weight': 'balanced', 'criterion': 'gini', 'max_depth': 3, 'max_features': 5, 'min_samples_leaf': 10, 'min_samples_split': 10}\n0.705 (+/-0.023) for {'bootstrap': False, 'class_weight': 'balanced', 'criterion': 'gini', 'max_depth': 3, 'max_features': 5, 'min_samples_leaf': 10, 'min_samples_split': 50}\n0.696 (+/-0.027) for {'bootstrap': False, 'class_weight': 'balanced', 'criterion': 'gini', 'max_depth': 3, 'max_features': 5, 'min_samples_leaf': 50, 'min_samples_split': 10}\n0.695 (+/-0.025) for {'bootstrap': False, 'class_weight': 'balanced', 'criterion': 'gini', 'max_depth': 3, 'max_features': 5, 'min_samples_leaf': 50, 'min_samples_split': 50}\n0.966 (+/-0.013) for {'bootstrap': False, 'class_weight': 'balanced', 'criterion': 'gini', 'max_depth': 12, 'max_features': 5, 'min_samples_leaf': 10, 'min_samples_split': 10}\n0.957 (+/-0.009) for {'bootstrap': False, 'class_weight': 'balanced', 'criterion': 'gini', 'max_depth': 12, 'max_features': 5, 'min_samples_leaf': 10, 'min_samples_split': 50}\n0.938 (+/-0.019) for {'bootstrap': False, 'class_weight': 'balanced', 'criterion': 'gini', 'max_depth': 12, 'max_features': 5, 'min_samples_leaf': 50, 'min_samples_split': 10}\n0.934 (+/-0.022) for {'bootstrap': False, 'class_weight': 'balanced', 'criterion': 'gini', 'max_depth': 12, 'max_features': 5, 'min_samples_leaf': 50, 'min_samples_split': 50}\n0.968 (+/-0.011) for {'bootstrap': False, 'class_weight': 'balanced', 'criterion': 'gini', 'max_depth': None, 'max_features': 5, 'min_samples_leaf': 10, 'min_samples_split': 10}\n0.964 (+/-0.009) for {'bootstrap': False, 'class_weight': 'balanced', 'criterion': 'gini', 'max_depth': None, 'max_features': 5, 'min_samples_leaf': 10, 'min_samples_split': 50}\n0.941 (+/-0.013) for {'bootstrap': False, 'class_weight': 'balanced', 'criterion': 'gini', 'max_depth': None, 'max_features': 5, 'min_samples_leaf': 50, 'min_samples_split': 10}\n0.938 (+/-0.016) for {'bootstrap': False, 'class_weight': 'balanced', 'criterion': 'gini', 'max_depth': None, 'max_features': 5, 'min_samples_leaf': 50, 'min_samples_split': 50}\n0.649 (+/-0.020) for {'bootstrap': False, 'class_weight': None, 'criterion': 'entropy', 'max_depth': 2, 'max_features': 5, 'min_samples_leaf': 10, 'min_samples_split': 10}\n0.646 (+/-0.067) for {'bootstrap': False, 'class_weight': None, 'criterion': 'entropy', 'max_depth': 2, 'max_features': 5, 'min_samples_leaf': 10, 'min_samples_split': 50}\n0.666 (+/-0.057) for {'bootstrap': False, 'class_weight': None, 'criterion': 'entropy', 'max_depth': 2, 'max_features': 5, 'min_samples_leaf': 50, 'min_samples_split': 10}\n0.659 (+/-0.087) for {'bootstrap': False, 'class_weight': None, 'criterion': 'entropy', 'max_depth': 2, 'max_features': 5, 'min_samples_leaf': 50, 'min_samples_split': 50}\n0.748 (+/-0.010) for {'bootstrap': False, 'class_weight': None, 'criterion': 'entropy', 'max_depth': 3, 'max_features': 5, 'min_samples_leaf': 10, 'min_samples_split': 10}\n0.745 (+/-0.028) for {'bootstrap': False, 'class_weight': None, 'criterion': 'entropy', 'max_depth': 3, 'max_features': 5, 'min_samples_leaf': 10, 'min_samples_split': 50}\n0.745 (+/-0.008) for {'bootstrap': False, 'class_weight': None, 'criterion': 'entropy', 'max_depth': 3, 'max_features': 5, 'min_samples_leaf': 50, 'min_samples_split': 10}\n0.749 (+/-0.022) for {'bootstrap': False, 'class_weight': None, 'criterion': 'entropy', 'max_depth': 3, 'max_features': 5, 'min_samples_leaf': 50, 'min_samples_split': 50}\n0.970 (+/-0.008) for {'bootstrap': False, 'class_weight': None, 'criterion': 'entropy', 'max_depth': 12, 'max_features': 5, 'min_samples_leaf': 10, 'min_samples_split': 10}\n0.967 (+/-0.008) for {'bootstrap': False, 'class_weight': None, 'criterion': 'entropy', 'max_depth': 12, 'max_features': 5, 'min_samples_leaf': 10, 'min_samples_split': 50}\n0.943 (+/-0.018) for {'bootstrap': False, 'class_weight': None, 'criterion': 'entropy', 'max_depth': 12, 'max_features': 5, 'min_samples_leaf': 50, 'min_samples_split': 10}\n0.948 (+/-0.020) for {'bootstrap': False, 'class_weight': None, 'criterion': 'entropy', 'max_depth': 12, 'max_features': 5, 'min_samples_leaf': 50, 'min_samples_split': 50}\n0.971 (+/-0.007) for {'bootstrap': False, 'class_weight': None, 'criterion': 'entropy', 'max_depth': None, 'max_features': 5, 'min_samples_leaf': 10, 'min_samples_split': 10}\n0.966 (+/-0.006) for {'bootstrap': False, 'class_weight': None, 'criterion': 'entropy', 'max_depth': None, 'max_features': 5, 'min_samples_leaf': 10, 'min_samples_split': 50}\n0.943 (+/-0.013) for {'bootstrap': False, 'class_weight': None, 'criterion': 'entropy', 'max_depth': None, 'max_features': 5, 'min_samples_leaf': 50, 'min_samples_split': 10}\n0.942 (+/-0.012) for {'bootstrap': False, 'class_weight': None, 'criterion': 'entropy', 'max_depth': None, 'max_features': 5, 'min_samples_leaf': 50, 'min_samples_split': 50}\n0.613 (+/-0.024) for {'bootstrap': False, 'class_weight': None, 'criterion': 'gini', 'max_depth': 2, 'max_features': 5, 'min_samples_leaf': 10, 'min_samples_split': 10}\n0.608 (+/-0.025) for {'bootstrap': False, 'class_weight': None, 'criterion': 'gini', 'max_depth': 2, 'max_features': 5, 'min_samples_leaf': 10, 'min_samples_split': 50}\n0.604 (+/-0.016) for {'bootstrap': False, 'class_weight': None, 'criterion': 'gini', 'max_depth': 2, 'max_features': 5, 'min_samples_leaf': 50, 'min_samples_split': 10}\n0.610 (+/-0.016) for {'bootstrap': False, 'class_weight': None, 'criterion': 'gini', 'max_depth': 2, 'max_features': 5, 'min_samples_leaf': 50, 'min_samples_split': 50}\n0.705 (+/-0.024) for {'bootstrap': False, 'class_weight': None, 'criterion': 'gini', 'max_depth': 3, 'max_features': 5, 'min_samples_leaf': 10, 'min_samples_split': 10}\n0.703 (+/-0.035) for {'bootstrap': False, 'class_weight': None, 'criterion': 'gini', 'max_depth': 3, 'max_features': 5, 'min_samples_leaf': 10, 'min_samples_split': 50}\n0.705 (+/-0.020) for {'bootstrap': False, 'class_weight': None, 'criterion': 'gini', 'max_depth': 3, 'max_features': 5, 'min_samples_leaf': 50, 'min_samples_split': 10}\n0.702 (+/-0.039) for {'bootstrap': False, 'class_weight': None, 'criterion': 'gini', 'max_depth': 3, 'max_features': 5, 'min_samples_leaf': 50, 'min_samples_split': 50}\n0.970 (+/-0.011) for {'bootstrap': False, 'class_weight': None, 'criterion': 'gini', 'max_depth': 12, 'max_features': 5, 'min_samples_leaf': 10, 'min_samples_split': 10}\n0.955 (+/-0.012) for {'bootstrap': False, 'class_weight': None, 'criterion': 'gini', 'max_depth': 12, 'max_features': 5, 'min_samples_leaf': 10, 'min_samples_split': 50}\n0.936 (+/-0.013) for {'bootstrap': False, 'class_weight': None, 'criterion': 'gini', 'max_depth': 12, 'max_features': 5, 'min_samples_leaf': 50, 'min_samples_split': 10}\n0.940 (+/-0.016) for {'bootstrap': False, 'class_weight': None, 'criterion': 'gini', 'max_depth': 12, 'max_features': 5, 'min_samples_leaf': 50, 'min_samples_split': 50}\n0.969 (+/-0.019) for {'bootstrap': False, 'class_weight': None, 'criterion': 'gini', 'max_depth': None, 'max_features': 5, 'min_samples_leaf': 10, 'min_samples_split': 10}\n0.958 (+/-0.011) for {'bootstrap': False, 'class_weight': None, 'criterion': 'gini', 'max_depth': None, 'max_features': 5, 'min_samples_leaf': 10, 'min_samples_split': 50}\n0.940 (+/-0.012) for {'bootstrap': False, 'class_weight': None, 'criterion': 'gini', 'max_depth': None, 'max_features': 5, 'min_samples_leaf': 50, 'min_samples_split': 10}\n0.938 (+/-0.019) for {'bootstrap': False, 'class_weight': None, 'criterion': 'gini', 'max_depth': None, 'max_features': 5, 'min_samples_leaf': 50, 'min_samples_split': 50}\n0.630 (+/-0.053) for {'bootstrap': False, 'class_weight': {0: 0.3, 1: 0.7}, 'criterion': 'entropy', 'max_depth': 2, 'max_features': 5, 'min_samples_leaf': 10, 'min_samples_split': 10}\n0.619 (+/-0.058) for {'bootstrap': False, 'class_weight': {0: 0.3, 1: 0.7}, 'criterion': 'entropy', 'max_depth': 2, 'max_features': 5, 'min_samples_leaf': 10, 'min_samples_split': 50}\n0.597 (+/-0.026) for {'bootstrap': False, 'class_weight': {0: 0.3, 1: 0.7}, 'criterion': 'entropy', 'max_depth': 2, 'max_features': 5, 'min_samples_leaf': 50, 'min_samples_split': 10}\n0.601 (+/-0.037) for {'bootstrap': False, 'class_weight': {0: 0.3, 1: 0.7}, 'criterion': 'entropy', 'max_depth': 2, 'max_features': 5, 'min_samples_leaf': 50, 'min_samples_split': 50}\n0.735 (+/-0.016) for {'bootstrap': False, 'class_weight': {0: 0.3, 1: 0.7}, 'criterion': 'entropy', 'max_depth': 3, 'max_features': 5, 'min_samples_leaf': 10, 'min_samples_split': 10}\n0.735 (+/-0.014) for {'bootstrap': False, 'class_weight': {0: 0.3, 1: 0.7}, 'criterion': 'entropy', 'max_depth': 3, 'max_features': 5, 'min_samples_leaf': 10, 'min_samples_split': 50}\n0.733 (+/-0.009) for {'bootstrap': False, 'class_weight': {0: 0.3, 1: 0.7}, 'criterion': 'entropy', 'max_depth': 3, 'max_features': 5, 'min_samples_leaf': 50, 'min_samples_split': 10}\n0.733 (+/-0.018) for {'bootstrap': False, 'class_weight': {0: 0.3, 1: 0.7}, 'criterion': 'entropy', 'max_depth': 3, 'max_features': 5, 'min_samples_leaf': 50, 'min_samples_split': 50}\n0.966 (+/-0.010) for {'bootstrap': False, 'class_weight': {0: 0.3, 1: 0.7}, 'criterion': 'entropy', 'max_depth': 12, 'max_features': 5, 'min_samples_leaf': 10, 'min_samples_split': 10}\n0.953 (+/-0.009) for {'bootstrap': False, 'class_weight': {0: 0.3, 1: 0.7}, 'criterion': 'entropy', 'max_depth': 12, 'max_features': 5, 'min_samples_leaf': 10, 'min_samples_split': 50}\n0.921 (+/-0.010) for {'bootstrap': False, 'class_weight': {0: 0.3, 1: 0.7}, 'criterion': 'entropy', 'max_depth': 12, 'max_features': 5, 'min_samples_leaf': 50, 'min_samples_split': 10}\n0.922 (+/-0.024) for {'bootstrap': False, 'class_weight': {0: 0.3, 1: 0.7}, 'criterion': 'entropy', 'max_depth': 12, 'max_features': 5, 'min_samples_leaf': 50, 'min_samples_split': 50}\n0.968 (+/-0.011) for {'bootstrap': False, 'class_weight': {0: 0.3, 1: 0.7}, 'criterion': 'entropy', 'max_depth': None, 'max_features': 5, 'min_samples_leaf': 10, 'min_samples_split': 10}\n0.956 (+/-0.011) for {'bootstrap': False, 'class_weight': {0: 0.3, 1: 0.7}, 'criterion': 'entropy', 'max_depth': None, 'max_features': 5, 'min_samples_leaf': 10, 'min_samples_split': 50}\n0.917 (+/-0.009) for {'bootstrap': False, 'class_weight': {0: 0.3, 1: 0.7}, 'criterion': 'entropy', 'max_depth': None, 'max_features': 5, 'min_samples_leaf': 50, 'min_samples_split': 10}\n0.915 (+/-0.020) for {'bootstrap': False, 'class_weight': {0: 0.3, 1: 0.7}, 'criterion': 'entropy', 'max_depth': None, 'max_features': 5, 'min_samples_leaf': 50, 'min_samples_split': 50}\n0.609 (+/-0.056) for {'bootstrap': False, 'class_weight': {0: 0.3, 1: 0.7}, 'criterion': 'gini', 'max_depth': 2, 'max_features': 5, 'min_samples_leaf': 10, 'min_samples_split': 10}\n0.625 (+/-0.054) for {'bootstrap': False, 'class_weight': {0: 0.3, 1: 0.7}, 'criterion': 'gini', 'max_depth': 2, 'max_features': 5, 'min_samples_leaf': 10, 'min_samples_split': 50}\n0.615 (+/-0.053) for {'bootstrap': False, 'class_weight': {0: 0.3, 1: 0.7}, 'criterion': 'gini', 'max_depth': 2, 'max_features': 5, 'min_samples_leaf': 50, 'min_samples_split': 10}\n0.630 (+/-0.070) for {'bootstrap': False, 'class_weight': {0: 0.3, 1: 0.7}, 'criterion': 'gini', 'max_depth': 2, 'max_features': 5, 'min_samples_leaf': 50, 'min_samples_split': 50}\n0.730 (+/-0.020) for {'bootstrap': False, 'class_weight': {0: 0.3, 1: 0.7}, 'criterion': 'gini', 'max_depth': 3, 'max_features': 5, 'min_samples_leaf': 10, 'min_samples_split': 10}\n0.732 (+/-0.019) for {'bootstrap': False, 'class_weight': {0: 0.3, 1: 0.7}, 'criterion': 'gini', 'max_depth': 3, 'max_features': 5, 'min_samples_leaf': 10, 'min_samples_split': 50}\n0.732 (+/-0.018) for {'bootstrap': False, 'class_weight': {0: 0.3, 1: 0.7}, 'criterion': 'gini', 'max_depth': 3, 'max_features': 5, 'min_samples_leaf': 50, 'min_samples_split': 10}\n0.725 (+/-0.024) for {'bootstrap': False, 'class_weight': {0: 0.3, 1: 0.7}, 'criterion': 'gini', 'max_depth': 3, 'max_features': 5, 'min_samples_leaf': 50, 'min_samples_split': 50}\n0.960 (+/-0.013) for {'bootstrap': False, 'class_weight': {0: 0.3, 1: 0.7}, 'criterion': 'gini', 'max_depth': 12, 'max_features': 5, 'min_samples_leaf': 10, 'min_samples_split': 10}\n0.946 (+/-0.024) for {'bootstrap': False, 'class_weight': {0: 0.3, 1: 0.7}, 'criterion': 'gini', 'max_depth': 12, 'max_features': 5, 'min_samples_leaf': 10, 'min_samples_split': 50}\n0.903 (+/-0.019) for {'bootstrap': False, 'class_weight': {0: 0.3, 1: 0.7}, 'criterion': 'gini', 'max_depth': 12, 'max_features': 5, 'min_samples_leaf': 50, 'min_samples_split': 10}\n0.902 (+/-0.026) for {'bootstrap': False, 'class_weight': {0: 0.3, 1: 0.7}, 'criterion': 'gini', 'max_depth': 12, 'max_features': 5, 'min_samples_leaf': 50, 'min_samples_split': 50}\n0.961 (+/-0.009) for {'bootstrap': False, 'class_weight': {0: 0.3, 1: 0.7}, 'criterion': 'gini', 'max_depth': None, 'max_features': 5, 'min_samples_leaf': 10, 'min_samples_split': 10}\n0.951 (+/-0.013) for {'bootstrap': False, 'class_weight': {0: 0.3, 1: 0.7}, 'criterion': 'gini', 'max_depth': None, 'max_features': 5, 'min_samples_leaf': 10, 'min_samples_split': 50}\n0.904 (+/-0.023) for {'bootstrap': False, 'class_weight': {0: 0.3, 1: 0.7}, 'criterion': 'gini', 'max_depth': None, 'max_features': 5, 'min_samples_leaf': 50, 'min_samples_split': 10}\n0.906 (+/-0.029) for {'bootstrap': False, 'class_weight': {0: 0.3, 1: 0.7}, 'criterion': 'gini', 'max_depth': None, 'max_features': 5, 'min_samples_leaf': 50, 'min_samples_split': 50}\nBest parameters: {'bootstrap': False, 'class_weight': 'balanced', 'criterion': 'entropy', 'max_depth': None, 'max_features': 5, 'min_samples_leaf': 10, 'min_samples_split': 10}\nBest Score:  0.973384030418251\n"
     ]
    }
   ],
   "source": [
    "\n",
    "\n",
    "param_dist = [{\"max_depth\": [2,3,12,None],\n",
    "              \"max_features\": [5],# Al massimo 6 non di più\n",
    "              \"min_samples_split\": [10,50],\n",
    "              \"min_samples_leaf\": [10,50],\n",
    "              \"bootstrap\": [True, False],\n",
    "              \"criterion\": [\"entropy\", \"gini\"],\n",
    "              \"class_weight\":['balanced', None, {0: 0.3, 1: 0.7}]}]\n",
    "\n",
    "clf = RandomForestClassifier(n_estimators=30)\n",
    "grid_search = GridSearchCV(clf, param_dist,  \n",
    "                            n_jobs=3, \n",
    "                            scoring='accuracy')\n",
    "\n",
    "grid_search.fit(train_set, train_label)\n",
    "\n",
    "print(\"Complete Grid search:\")\n",
    "means = grid_search.cv_results_['mean_test_score']\n",
    "stds = grid_search.cv_results_['std_test_score']\n",
    "for mean, std, params in zip(means, stds, grid_search.cv_results_['params']):\n",
    "    print(\"%0.3f (+/-%0.03f) for %r\"% (mean, std * 2, params))\n",
    "\n",
    "print(\"Best parameters:\",grid_search.best_params_)\n",
    "print(\"Best Score: \",grid_search.best_score_)\n"
   ]
  },
  {
   "source": [
    "## Modello Finale"
   ],
   "cell_type": "markdown",
   "metadata": {}
  },
  {
   "cell_type": "code",
   "execution_count": 22,
   "metadata": {},
   "outputs": [],
   "source": [
    "rf = RandomForestClassifier(n_estimators=30, \n",
    "                             criterion='entropy',\n",
    "                             class_weight=None,\n",
    "                             max_features=5,\n",
    "                             max_depth=12, \n",
    "                             min_samples_split=50,\n",
    "                             min_samples_leaf=10,\n",
    "                             bootstrap=True) \n",
    "rf = rf.fit(train_set, train_label)"
   ]
  },
  {
   "cell_type": "code",
   "execution_count": 23,
   "metadata": {},
   "outputs": [],
   "source": [
    "#prediction on the test test\n",
    "test_pred_rf = rf.predict(test_set)"
   ]
  },
  {
   "cell_type": "code",
   "execution_count": 24,
   "metadata": {},
   "outputs": [
    {
     "output_type": "stream",
     "name": "stdout",
     "text": [
      "              precision    recall  f1-score   support\n\n           0       0.98      0.96      0.97       564\n           1       0.96      0.95      0.95       564\n           2       0.97      0.99      0.98       564\n\n    accuracy                           0.97      1692\n   macro avg       0.97      0.97      0.97      1692\nweighted avg       0.97      0.97      0.97      1692\n\n"
     ]
    }
   ],
   "source": [
    "#compute the performance of the model\n",
    "print(classification_report(test_label, \n",
    "                            test_pred_rf))"
   ]
  },
  {
   "cell_type": "code",
   "execution_count": null,
   "metadata": {},
   "outputs": [],
   "source": []
  }
 ]
}