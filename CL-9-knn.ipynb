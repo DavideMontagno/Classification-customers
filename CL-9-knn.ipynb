{
 "metadata": {
  "language_info": {
   "codemirror_mode": {
    "name": "ipython",
    "version": 3
   },
   "file_extension": ".py",
   "mimetype": "text/x-python",
   "name": "python",
   "nbconvert_exporter": "python",
   "pygments_lexer": "ipython3",
   "version": "3.7.5-final"
  },
  "orig_nbformat": 2,
  "kernelspec": {
   "name": "python3",
   "display_name": "Python 3.7.5 64-bit",
   "metadata": {
    "interpreter": {
     "hash": "a23959b220aae94b277b2feb28a92f00653f030ef1fcf8b66d10e2db8b9e2607"
    }
   }
  }
 },
 "nbformat": 4,
 "nbformat_minor": 2,
 "cells": [
  {
   "source": [
    "# Knn"
   ],
   "cell_type": "markdown",
   "metadata": {}
  },
  {
   "cell_type": "code",
   "execution_count": 87,
   "metadata": {},
   "outputs": [],
   "source": [
    "import pandas as pd\n",
    "import numpy as np\n",
    "import matplotlib.pyplot as plt\n",
    "from sklearn.preprocessing import StandardScaler, MinMaxScaler,MaxAbsScaler,RobustScaler,PowerTransformer,QuantileTransformer,Normalizer \n",
    "df = pd.read_csv(\"dataset/CL_underover-dataset.csv\",sep='\\t',decimal=\",\",index_col=0)"
   ]
  },
  {
   "cell_type": "code",
   "execution_count": 88,
   "metadata": {},
   "outputs": [],
   "source": [
    "col_names = ['Imax','E','PIL', 'Mt', 'TsW', 'NbxW','MeanD','Eday_of_week']\n",
    "features = df[col_names]\n",
    "scaler = PowerTransformer()\n",
    "X = scaler.fit_transform(features.values)\n",
    "\n",
    "X_complete=df.copy()# Contiene oltre agli attributi per il clustering anche il custemerID\n",
    "X_complete[col_names] = X\n",
    "df=X_complete"
   ]
  },
  {
   "cell_type": "code",
   "execution_count": 89,
   "metadata": {},
   "outputs": [
    {
     "output_type": "execute_result",
     "data": {
      "text/plain": [
       "       Imax         E      PIL        Mt       TsW      NbxW     MeanD  \\\n",
       "0  0.763700  0.086062  0.12206 -0.046714  0.309153  0.834429  0.584471   \n",
       "1 -1.890600 -1.288535  0.12206 -0.206633 -1.658318 -1.037838 -1.246122   \n",
       "2 -0.565636 -0.772488  0.12206 -0.395414 -1.135137 -1.037838 -1.246122   \n",
       "3 -0.565636  0.715159  0.12206 -0.137365  0.726504  1.688155  0.601997   \n",
       "4 -0.812476 -0.594662  0.12206  0.060708 -0.344451  0.516536  0.809086   \n",
       "\n",
       "   Eday_of_week  class  \n",
       "0      1.266380      0  \n",
       "1     -1.128287      0  \n",
       "2     -1.128287      0  \n",
       "3      1.170115      0  \n",
       "4      1.306169      0  "
      ],
      "text/html": "<div>\n<style scoped>\n    .dataframe tbody tr th:only-of-type {\n        vertical-align: middle;\n    }\n\n    .dataframe tbody tr th {\n        vertical-align: top;\n    }\n\n    .dataframe thead th {\n        text-align: right;\n    }\n</style>\n<table border=\"1\" class=\"dataframe\">\n  <thead>\n    <tr style=\"text-align: right;\">\n      <th></th>\n      <th>Imax</th>\n      <th>E</th>\n      <th>PIL</th>\n      <th>Mt</th>\n      <th>TsW</th>\n      <th>NbxW</th>\n      <th>MeanD</th>\n      <th>Eday_of_week</th>\n      <th>class</th>\n    </tr>\n  </thead>\n  <tbody>\n    <tr>\n      <th>0</th>\n      <td>0.763700</td>\n      <td>0.086062</td>\n      <td>0.12206</td>\n      <td>-0.046714</td>\n      <td>0.309153</td>\n      <td>0.834429</td>\n      <td>0.584471</td>\n      <td>1.266380</td>\n      <td>0</td>\n    </tr>\n    <tr>\n      <th>1</th>\n      <td>-1.890600</td>\n      <td>-1.288535</td>\n      <td>0.12206</td>\n      <td>-0.206633</td>\n      <td>-1.658318</td>\n      <td>-1.037838</td>\n      <td>-1.246122</td>\n      <td>-1.128287</td>\n      <td>0</td>\n    </tr>\n    <tr>\n      <th>2</th>\n      <td>-0.565636</td>\n      <td>-0.772488</td>\n      <td>0.12206</td>\n      <td>-0.395414</td>\n      <td>-1.135137</td>\n      <td>-1.037838</td>\n      <td>-1.246122</td>\n      <td>-1.128287</td>\n      <td>0</td>\n    </tr>\n    <tr>\n      <th>3</th>\n      <td>-0.565636</td>\n      <td>0.715159</td>\n      <td>0.12206</td>\n      <td>-0.137365</td>\n      <td>0.726504</td>\n      <td>1.688155</td>\n      <td>0.601997</td>\n      <td>1.170115</td>\n      <td>0</td>\n    </tr>\n    <tr>\n      <th>4</th>\n      <td>-0.812476</td>\n      <td>-0.594662</td>\n      <td>0.12206</td>\n      <td>0.060708</td>\n      <td>-0.344451</td>\n      <td>0.516536</td>\n      <td>0.809086</td>\n      <td>1.306169</td>\n      <td>0</td>\n    </tr>\n  </tbody>\n</table>\n</div>"
     },
     "metadata": {},
     "execution_count": 89
    }
   ],
   "source": [
    "df.head()"
   ]
  },
  {
   "cell_type": "code",
   "execution_count": 90,
   "metadata": {},
   "outputs": [],
   "source": [
    "from sklearn.model_selection import train_test_split\n",
    "from sklearn.metrics import classification_report\n",
    "\n",
    "label = df.pop('class')\n",
    "train_set, test_set, train_label, test_label = train_test_split(df, label, stratify =label, test_size=0.20)"
   ]
  },
  {
   "cell_type": "code",
   "execution_count": 91,
   "metadata": {},
   "outputs": [],
   "source": [
    "from sklearn.neighbors import KNeighborsClassifier"
   ]
  },
  {
   "source": [
    "## Grid search"
   ],
   "cell_type": "markdown",
   "metadata": {}
  },
  {
   "cell_type": "code",
   "execution_count": 92,
   "metadata": {},
   "outputs": [
    {
     "output_type": "stream",
     "name": "stdout",
     "text": [
      "Fitting 5 folds for each of 80 candidates, totalling 400 fits\n",
      "[Parallel(n_jobs=3)]: Using backend LokyBackend with 3 concurrent workers.\n",
      "[Parallel(n_jobs=3)]: Done  44 tasks      | elapsed:    6.2s\n",
      "[Parallel(n_jobs=3)]: Done 311 tasks      | elapsed:   31.7s\n",
      "Best Score:  0.8860102601574036\n",
      "Best Params:  {'algorithm': 'auto', 'metric': 'minkowski', 'n_neighbors': 15, 'p': 1, 'weights': 'distance'}\n",
      "Complete Grid search:\n",
      "0.862 (+/-0.022) for {'algorithm': 'auto', 'metric': 'minkowski', 'n_neighbors': 3, 'p': 1, 'weights': 'uniform'}\n",
      "0.872 (+/-0.022) for {'algorithm': 'auto', 'metric': 'minkowski', 'n_neighbors': 3, 'p': 1, 'weights': 'distance'}\n",
      "0.849 (+/-0.028) for {'algorithm': 'auto', 'metric': 'minkowski', 'n_neighbors': 3, 'p': 2, 'weights': 'uniform'}\n",
      "0.860 (+/-0.021) for {'algorithm': 'auto', 'metric': 'minkowski', 'n_neighbors': 3, 'p': 2, 'weights': 'distance'}\n",
      "0.838 (+/-0.017) for {'algorithm': 'auto', 'metric': 'minkowski', 'n_neighbors': 3, 'p': 5, 'weights': 'uniform'}\n",
      "0.848 (+/-0.016) for {'algorithm': 'auto', 'metric': 'minkowski', 'n_neighbors': 3, 'p': 5, 'weights': 'distance'}\n",
      "0.836 (+/-0.013) for {'algorithm': 'auto', 'metric': 'minkowski', 'n_neighbors': 3, 'p': 10, 'weights': 'uniform'}\n",
      "0.845 (+/-0.017) for {'algorithm': 'auto', 'metric': 'minkowski', 'n_neighbors': 3, 'p': 10, 'weights': 'distance'}\n",
      "0.833 (+/-0.015) for {'algorithm': 'auto', 'metric': 'minkowski', 'n_neighbors': 3, 'p': 20, 'weights': 'uniform'}\n",
      "0.843 (+/-0.018) for {'algorithm': 'auto', 'metric': 'minkowski', 'n_neighbors': 3, 'p': 20, 'weights': 'distance'}\n",
      "0.874 (+/-0.015) for {'algorithm': 'auto', 'metric': 'minkowski', 'n_neighbors': 5, 'p': 1, 'weights': 'uniform'}\n",
      "0.882 (+/-0.011) for {'algorithm': 'auto', 'metric': 'minkowski', 'n_neighbors': 5, 'p': 1, 'weights': 'distance'}\n",
      "0.857 (+/-0.024) for {'algorithm': 'auto', 'metric': 'minkowski', 'n_neighbors': 5, 'p': 2, 'weights': 'uniform'}\n",
      "0.866 (+/-0.023) for {'algorithm': 'auto', 'metric': 'minkowski', 'n_neighbors': 5, 'p': 2, 'weights': 'distance'}\n",
      "0.849 (+/-0.029) for {'algorithm': 'auto', 'metric': 'minkowski', 'n_neighbors': 5, 'p': 5, 'weights': 'uniform'}\n",
      "0.857 (+/-0.028) for {'algorithm': 'auto', 'metric': 'minkowski', 'n_neighbors': 5, 'p': 5, 'weights': 'distance'}\n",
      "0.840 (+/-0.029) for {'algorithm': 'auto', 'metric': 'minkowski', 'n_neighbors': 5, 'p': 10, 'weights': 'uniform'}\n",
      "0.849 (+/-0.031) for {'algorithm': 'auto', 'metric': 'minkowski', 'n_neighbors': 5, 'p': 10, 'weights': 'distance'}\n",
      "0.836 (+/-0.025) for {'algorithm': 'auto', 'metric': 'minkowski', 'n_neighbors': 5, 'p': 20, 'weights': 'uniform'}\n",
      "0.846 (+/-0.029) for {'algorithm': 'auto', 'metric': 'minkowski', 'n_neighbors': 5, 'p': 20, 'weights': 'distance'}\n",
      "0.868 (+/-0.013) for {'algorithm': 'auto', 'metric': 'minkowski', 'n_neighbors': 10, 'p': 1, 'weights': 'uniform'}\n",
      "0.883 (+/-0.020) for {'algorithm': 'auto', 'metric': 'minkowski', 'n_neighbors': 10, 'p': 1, 'weights': 'distance'}\n",
      "0.855 (+/-0.024) for {'algorithm': 'auto', 'metric': 'minkowski', 'n_neighbors': 10, 'p': 2, 'weights': 'uniform'}\n",
      "0.865 (+/-0.028) for {'algorithm': 'auto', 'metric': 'minkowski', 'n_neighbors': 10, 'p': 2, 'weights': 'distance'}\n",
      "0.837 (+/-0.028) for {'algorithm': 'auto', 'metric': 'minkowski', 'n_neighbors': 10, 'p': 5, 'weights': 'uniform'}\n",
      "0.852 (+/-0.027) for {'algorithm': 'auto', 'metric': 'minkowski', 'n_neighbors': 10, 'p': 5, 'weights': 'distance'}\n",
      "0.835 (+/-0.025) for {'algorithm': 'auto', 'metric': 'minkowski', 'n_neighbors': 10, 'p': 10, 'weights': 'uniform'}\n",
      "0.850 (+/-0.030) for {'algorithm': 'auto', 'metric': 'minkowski', 'n_neighbors': 10, 'p': 10, 'weights': 'distance'}\n",
      "0.830 (+/-0.025) for {'algorithm': 'auto', 'metric': 'minkowski', 'n_neighbors': 10, 'p': 20, 'weights': 'uniform'}\n",
      "0.843 (+/-0.029) for {'algorithm': 'auto', 'metric': 'minkowski', 'n_neighbors': 10, 'p': 20, 'weights': 'distance'}\n",
      "0.870 (+/-0.014) for {'algorithm': 'auto', 'metric': 'minkowski', 'n_neighbors': 15, 'p': 1, 'weights': 'uniform'}\n",
      "0.886 (+/-0.018) for {'algorithm': 'auto', 'metric': 'minkowski', 'n_neighbors': 15, 'p': 1, 'weights': 'distance'}\n",
      "0.843 (+/-0.022) for {'algorithm': 'auto', 'metric': 'minkowski', 'n_neighbors': 15, 'p': 2, 'weights': 'uniform'}\n",
      "0.864 (+/-0.028) for {'algorithm': 'auto', 'metric': 'minkowski', 'n_neighbors': 15, 'p': 2, 'weights': 'distance'}\n",
      "0.831 (+/-0.024) for {'algorithm': 'auto', 'metric': 'minkowski', 'n_neighbors': 15, 'p': 5, 'weights': 'uniform'}\n",
      "0.849 (+/-0.032) for {'algorithm': 'auto', 'metric': 'minkowski', 'n_neighbors': 15, 'p': 5, 'weights': 'distance'}\n",
      "0.829 (+/-0.026) for {'algorithm': 'auto', 'metric': 'minkowski', 'n_neighbors': 15, 'p': 10, 'weights': 'uniform'}\n",
      "0.848 (+/-0.031) for {'algorithm': 'auto', 'metric': 'minkowski', 'n_neighbors': 15, 'p': 10, 'weights': 'distance'}\n",
      "0.828 (+/-0.031) for {'algorithm': 'auto', 'metric': 'minkowski', 'n_neighbors': 15, 'p': 20, 'weights': 'uniform'}\n",
      "0.844 (+/-0.032) for {'algorithm': 'auto', 'metric': 'minkowski', 'n_neighbors': 15, 'p': 20, 'weights': 'distance'}\n",
      "0.869 (+/-0.021) for {'algorithm': 'auto', 'metric': 'minkowski', 'n_neighbors': 20, 'p': 1, 'weights': 'uniform'}\n",
      "0.883 (+/-0.024) for {'algorithm': 'auto', 'metric': 'minkowski', 'n_neighbors': 20, 'p': 1, 'weights': 'distance'}\n",
      "0.845 (+/-0.021) for {'algorithm': 'auto', 'metric': 'minkowski', 'n_neighbors': 20, 'p': 2, 'weights': 'uniform'}\n",
      "0.863 (+/-0.022) for {'algorithm': 'auto', 'metric': 'minkowski', 'n_neighbors': 20, 'p': 2, 'weights': 'distance'}\n",
      "0.827 (+/-0.027) for {'algorithm': 'auto', 'metric': 'minkowski', 'n_neighbors': 20, 'p': 5, 'weights': 'uniform'}\n",
      "0.843 (+/-0.032) for {'algorithm': 'auto', 'metric': 'minkowski', 'n_neighbors': 20, 'p': 5, 'weights': 'distance'}\n",
      "0.821 (+/-0.028) for {'algorithm': 'auto', 'metric': 'minkowski', 'n_neighbors': 20, 'p': 10, 'weights': 'uniform'}\n",
      "0.843 (+/-0.032) for {'algorithm': 'auto', 'metric': 'minkowski', 'n_neighbors': 20, 'p': 10, 'weights': 'distance'}\n",
      "0.820 (+/-0.027) for {'algorithm': 'auto', 'metric': 'minkowski', 'n_neighbors': 20, 'p': 20, 'weights': 'uniform'}\n",
      "0.838 (+/-0.034) for {'algorithm': 'auto', 'metric': 'minkowski', 'n_neighbors': 20, 'p': 20, 'weights': 'distance'}\n",
      "0.852 (+/-0.027) for {'algorithm': 'auto', 'metric': 'minkowski', 'n_neighbors': 50, 'p': 1, 'weights': 'uniform'}\n",
      "0.869 (+/-0.023) for {'algorithm': 'auto', 'metric': 'minkowski', 'n_neighbors': 50, 'p': 1, 'weights': 'distance'}\n",
      "0.827 (+/-0.020) for {'algorithm': 'auto', 'metric': 'minkowski', 'n_neighbors': 50, 'p': 2, 'weights': 'uniform'}\n",
      "0.850 (+/-0.026) for {'algorithm': 'auto', 'metric': 'minkowski', 'n_neighbors': 50, 'p': 2, 'weights': 'distance'}\n",
      "0.802 (+/-0.025) for {'algorithm': 'auto', 'metric': 'minkowski', 'n_neighbors': 50, 'p': 5, 'weights': 'uniform'}\n",
      "0.830 (+/-0.026) for {'algorithm': 'auto', 'metric': 'minkowski', 'n_neighbors': 50, 'p': 5, 'weights': 'distance'}\n",
      "0.799 (+/-0.026) for {'algorithm': 'auto', 'metric': 'minkowski', 'n_neighbors': 50, 'p': 10, 'weights': 'uniform'}\n",
      "0.824 (+/-0.025) for {'algorithm': 'auto', 'metric': 'minkowski', 'n_neighbors': 50, 'p': 10, 'weights': 'distance'}\n",
      "0.799 (+/-0.028) for {'algorithm': 'auto', 'metric': 'minkowski', 'n_neighbors': 50, 'p': 20, 'weights': 'uniform'}\n",
      "0.824 (+/-0.032) for {'algorithm': 'auto', 'metric': 'minkowski', 'n_neighbors': 50, 'p': 20, 'weights': 'distance'}\n",
      "0.834 (+/-0.029) for {'algorithm': 'auto', 'metric': 'minkowski', 'n_neighbors': 100, 'p': 1, 'weights': 'uniform'}\n",
      "0.863 (+/-0.024) for {'algorithm': 'auto', 'metric': 'minkowski', 'n_neighbors': 100, 'p': 1, 'weights': 'distance'}\n",
      "0.814 (+/-0.029) for {'algorithm': 'auto', 'metric': 'minkowski', 'n_neighbors': 100, 'p': 2, 'weights': 'uniform'}\n",
      "0.839 (+/-0.028) for {'algorithm': 'auto', 'metric': 'minkowski', 'n_neighbors': 100, 'p': 2, 'weights': 'distance'}\n",
      "0.791 (+/-0.021) for {'algorithm': 'auto', 'metric': 'minkowski', 'n_neighbors': 100, 'p': 5, 'weights': 'uniform'}\n",
      "0.823 (+/-0.024) for {'algorithm': 'auto', 'metric': 'minkowski', 'n_neighbors': 100, 'p': 5, 'weights': 'distance'}\n",
      "0.783 (+/-0.024) for {'algorithm': 'auto', 'metric': 'minkowski', 'n_neighbors': 100, 'p': 10, 'weights': 'uniform'}\n",
      "0.818 (+/-0.027) for {'algorithm': 'auto', 'metric': 'minkowski', 'n_neighbors': 100, 'p': 10, 'weights': 'distance'}\n",
      "0.780 (+/-0.022) for {'algorithm': 'auto', 'metric': 'minkowski', 'n_neighbors': 100, 'p': 20, 'weights': 'uniform'}\n",
      "0.816 (+/-0.026) for {'algorithm': 'auto', 'metric': 'minkowski', 'n_neighbors': 100, 'p': 20, 'weights': 'distance'}\n",
      "0.807 (+/-0.029) for {'algorithm': 'auto', 'metric': 'minkowski', 'n_neighbors': 200, 'p': 1, 'weights': 'uniform'}\n",
      "0.844 (+/-0.021) for {'algorithm': 'auto', 'metric': 'minkowski', 'n_neighbors': 200, 'p': 1, 'weights': 'distance'}\n",
      "0.782 (+/-0.032) for {'algorithm': 'auto', 'metric': 'minkowski', 'n_neighbors': 200, 'p': 2, 'weights': 'uniform'}\n",
      "0.819 (+/-0.023) for {'algorithm': 'auto', 'metric': 'minkowski', 'n_neighbors': 200, 'p': 2, 'weights': 'distance'}\n",
      "0.766 (+/-0.032) for {'algorithm': 'auto', 'metric': 'minkowski', 'n_neighbors': 200, 'p': 5, 'weights': 'uniform'}\n",
      "0.807 (+/-0.024) for {'algorithm': 'auto', 'metric': 'minkowski', 'n_neighbors': 200, 'p': 5, 'weights': 'distance'}\n",
      "0.758 (+/-0.030) for {'algorithm': 'auto', 'metric': 'minkowski', 'n_neighbors': 200, 'p': 10, 'weights': 'uniform'}\n",
      "0.797 (+/-0.030) for {'algorithm': 'auto', 'metric': 'minkowski', 'n_neighbors': 200, 'p': 10, 'weights': 'distance'}\n",
      "0.754 (+/-0.024) for {'algorithm': 'auto', 'metric': 'minkowski', 'n_neighbors': 200, 'p': 20, 'weights': 'uniform'}\n",
      "0.797 (+/-0.027) for {'algorithm': 'auto', 'metric': 'minkowski', 'n_neighbors': 200, 'p': 20, 'weights': 'distance'}\n",
      "[Parallel(n_jobs=3)]: Done 400 out of 400 | elapsed:   48.3s finished\n"
     ]
    }
   ],
   "source": [
    "from sklearn.model_selection import GridSearchCV\n",
    "grid_params={\n",
    "    'n_neighbors':[3,5,10,15,20,50,100,200],\n",
    "    'p':[1,2,5,10,20],\n",
    "    'weights':['uniform','distance'],\n",
    "    'algorithm':['auto'],\n",
    "    'metric':['minkowski']\n",
    "}\n",
    "\n",
    "gs=GridSearchCV(KNeighborsClassifier(),grid_params,verbose=1,n_jobs=3,scoring='accuracy')\n",
    "gs.fit(train_set,train_label)\n",
    "print(\"Best Score: \",gs.best_score_)\n",
    "print(\"Best Params: \",gs.best_params_)\n",
    "\n",
    "print(\"Complete Grid search:\")\n",
    "means = gs.cv_results_['mean_test_score']\n",
    "stds = gs.cv_results_['std_test_score']\n",
    "for mean, std, params in zip(means, stds, gs.cv_results_['params']):\n",
    "    print(\"%0.3f (+/-%0.03f) for %r\"% (mean, std * 2, params))\n"
   ]
  },
  {
   "source": [
    "## Modello finale"
   ],
   "cell_type": "markdown",
   "metadata": {}
  },
  {
   "cell_type": "code",
   "execution_count": 93,
   "metadata": {},
   "outputs": [],
   "source": [
    "knn = KNeighborsClassifier(n_neighbors=15, weights='distance', metric='minkowski',p=1,algorithm='auto').fit(train_set, train_label)"
   ]
  },
  {
   "cell_type": "code",
   "execution_count": 94,
   "metadata": {},
   "outputs": [],
   "source": [
    "#prediction on the test test\n",
    "test_pred_knn = knn.predict(test_set)"
   ]
  },
  {
   "cell_type": "code",
   "execution_count": 95,
   "metadata": {},
   "outputs": [
    {
     "output_type": "stream",
     "name": "stdout",
     "text": [
      "              precision    recall  f1-score   support\n\n           0       0.96      0.88      0.92       338\n           1       0.86      0.88      0.87       338\n           2       0.92      0.96      0.94       338\n\n    accuracy                           0.91      1014\n   macro avg       0.91      0.91      0.91      1014\nweighted avg       0.91      0.91      0.91      1014\n\n"
     ]
    }
   ],
   "source": [
    "#compute the performance of the model\n",
    "print(classification_report(test_label, test_pred_knn))"
   ]
  },
  {
   "cell_type": "code",
   "execution_count": null,
   "metadata": {},
   "outputs": [],
   "source": []
  }
 ]
}