{
 "metadata": {
  "language_info": {
   "codemirror_mode": {
    "name": "ipython",
    "version": 3
   },
   "file_extension": ".py",
   "mimetype": "text/x-python",
   "name": "python",
   "nbconvert_exporter": "python",
   "pygments_lexer": "ipython3",
   "version": "3.7.5-final"
  },
  "orig_nbformat": 2,
  "kernelspec": {
   "name": "Python 3.7.5 64-bit",
   "display_name": "Python 3.7.5 64-bit",
   "metadata": {
    "interpreter": {
     "hash": "a23959b220aae94b277b2feb28a92f00653f030ef1fcf8b66d10e2db8b9e2607"
    }
   }
  }
 },
 "nbformat": 4,
 "nbformat_minor": 2,
 "cells": [
  {
   "source": [
    "# Assessing Data Quality"
   ],
   "cell_type": "markdown",
   "metadata": {}
  },
  {
   "source": [
    "Import librerie"
   ],
   "cell_type": "markdown",
   "metadata": {}
  },
  {
   "cell_type": "code",
   "execution_count": 1,
   "metadata": {},
   "outputs": [],
   "source": [
    "import numpy as np\n",
    "import pandas as pd\n",
    "import matplotlib.pyplot as plt"
   ]
  },
  {
   "source": [
    "Lettura del dataset"
   ],
   "cell_type": "markdown",
   "metadata": {}
  },
  {
   "cell_type": "code",
   "execution_count": 2,
   "metadata": {},
   "outputs": [
    {
     "output_type": "stream",
     "name": "stdout",
     "text": [
      "<class 'pandas.core.frame.DataFrame'>\nInt64Index: 471910 entries, 0 to 541909\nData columns (total 8 columns):\nBasketID           471910 non-null object\nBasketDate         471910 non-null object\nSale               471910 non-null object\nCustomerID         406830 non-null float64\nCustomerCountry    471910 non-null object\nProdID             471910 non-null object\nProdDescr          471157 non-null object\nQta                471910 non-null int64\ndtypes: float64(1), int64(1), object(6)\nmemory usage: 32.4+ MB\n"
     ]
    }
   ],
   "source": [
    "df = pd.read_csv(\"dataset/customer_supermarket.csv\", sep=\"\\t\",index_col=0)\n",
    "df.info()"
   ]
  },
  {
   "cell_type": "code",
   "execution_count": 3,
   "metadata": {},
   "outputs": [
    {
     "output_type": "execute_result",
     "data": {
      "text/plain": [
       "  BasketID      BasketDate  Sale  CustomerID CustomerCountry  ProdID  \\\n",
       "0   536365  01/12/10 08:26  2,55     17850.0  United Kingdom  85123A   \n",
       "1   536365  01/12/10 08:26  3,39     17850.0  United Kingdom   71053   \n",
       "2   536365  01/12/10 08:26  2,75     17850.0  United Kingdom  84406B   \n",
       "3   536365  01/12/10 08:26  3,39     17850.0  United Kingdom  84029G   \n",
       "4   536365  01/12/10 08:26  3,39     17850.0  United Kingdom  84029E   \n",
       "\n",
       "                             ProdDescr  Qta  \n",
       "0   WHITE HANGING HEART T-LIGHT HOLDER    6  \n",
       "1                  WHITE METAL LANTERN    6  \n",
       "2       CREAM CUPID HEARTS COAT HANGER    8  \n",
       "3  KNITTED UNION FLAG HOT WATER BOTTLE    6  \n",
       "4       RED WOOLLY HOTTIE WHITE HEART.    6  "
      ],
      "text/html": "<div>\n<style scoped>\n    .dataframe tbody tr th:only-of-type {\n        vertical-align: middle;\n    }\n\n    .dataframe tbody tr th {\n        vertical-align: top;\n    }\n\n    .dataframe thead th {\n        text-align: right;\n    }\n</style>\n<table border=\"1\" class=\"dataframe\">\n  <thead>\n    <tr style=\"text-align: right;\">\n      <th></th>\n      <th>BasketID</th>\n      <th>BasketDate</th>\n      <th>Sale</th>\n      <th>CustomerID</th>\n      <th>CustomerCountry</th>\n      <th>ProdID</th>\n      <th>ProdDescr</th>\n      <th>Qta</th>\n    </tr>\n  </thead>\n  <tbody>\n    <tr>\n      <th>0</th>\n      <td>536365</td>\n      <td>01/12/10 08:26</td>\n      <td>2,55</td>\n      <td>17850.0</td>\n      <td>United Kingdom</td>\n      <td>85123A</td>\n      <td>WHITE HANGING HEART T-LIGHT HOLDER</td>\n      <td>6</td>\n    </tr>\n    <tr>\n      <th>1</th>\n      <td>536365</td>\n      <td>01/12/10 08:26</td>\n      <td>3,39</td>\n      <td>17850.0</td>\n      <td>United Kingdom</td>\n      <td>71053</td>\n      <td>WHITE METAL LANTERN</td>\n      <td>6</td>\n    </tr>\n    <tr>\n      <th>2</th>\n      <td>536365</td>\n      <td>01/12/10 08:26</td>\n      <td>2,75</td>\n      <td>17850.0</td>\n      <td>United Kingdom</td>\n      <td>84406B</td>\n      <td>CREAM CUPID HEARTS COAT HANGER</td>\n      <td>8</td>\n    </tr>\n    <tr>\n      <th>3</th>\n      <td>536365</td>\n      <td>01/12/10 08:26</td>\n      <td>3,39</td>\n      <td>17850.0</td>\n      <td>United Kingdom</td>\n      <td>84029G</td>\n      <td>KNITTED UNION FLAG HOT WATER BOTTLE</td>\n      <td>6</td>\n    </tr>\n    <tr>\n      <th>4</th>\n      <td>536365</td>\n      <td>01/12/10 08:26</td>\n      <td>3,39</td>\n      <td>17850.0</td>\n      <td>United Kingdom</td>\n      <td>84029E</td>\n      <td>RED WOOLLY HOTTIE WHITE HEART.</td>\n      <td>6</td>\n    </tr>\n  </tbody>\n</table>\n</div>"
     },
     "metadata": {},
     "execution_count": 3
    }
   ],
   "source": [
    "df.head()"
   ]
  },
  {
   "source": [
    "## Missing values"
   ],
   "cell_type": "markdown",
   "metadata": {}
  },
  {
   "source": [
    "Verififichiamo la presenza di missing values all'interno del dataset. In questa fase rileviamo i problemi, in seguito modificheremo e sostituiremo gli attributi mancanti"
   ],
   "cell_type": "markdown",
   "metadata": {}
  },
  {
   "cell_type": "code",
   "execution_count": 4,
   "metadata": {},
   "outputs": [
    {
     "output_type": "execute_result",
     "data": {
      "text/plain": [
       "BasketID           False\n",
       "BasketDate         False\n",
       "Sale               False\n",
       "CustomerID          True\n",
       "CustomerCountry    False\n",
       "ProdID             False\n",
       "ProdDescr           True\n",
       "Qta                False\n",
       "dtype: bool"
      ]
     },
     "metadata": {},
     "execution_count": 4
    }
   ],
   "source": [
    "df.isnull().any()"
   ]
  },
  {
   "source": [
    "Possiamo osservare che ci sono missing values per gli attributi CustomerID e ProdDesc. Verifichiamo quanti sample sono affetti da questa mancanza"
   ],
   "cell_type": "markdown",
   "metadata": {}
  },
  {
   "source": [
    "### CostumerID"
   ],
   "cell_type": "markdown",
   "metadata": {}
  },
  {
   "cell_type": "code",
   "execution_count": 5,
   "metadata": {},
   "outputs": [
    {
     "output_type": "execute_result",
     "data": {
      "text/plain": [
       "       BasketID      BasketDate     Sale  CustomerID CustomerCountry  ProdID  \\\n",
       "1444     536544  01/12/10 14:32     2,51         NaN  United Kingdom   21774   \n",
       "1446     536544  01/12/10 14:32     1,66         NaN  United Kingdom   21787   \n",
       "1447     536544  01/12/10 14:32     1,66         NaN  United Kingdom   21790   \n",
       "1448     536544  01/12/10 14:32     2,51         NaN  United Kingdom   21791   \n",
       "1450     536544  01/12/10 14:32     0,43         NaN  United Kingdom   21802   \n",
       "...         ...             ...      ...         ...             ...     ...   \n",
       "541532   581498  09/12/11 10:26     4,13         NaN  United Kingdom   85038   \n",
       "541534   581498  09/12/11 10:26     3,29         NaN  United Kingdom  85049a   \n",
       "541538   581498  09/12/11 10:26     4,96         NaN  United Kingdom   85150   \n",
       "541539   581498  09/12/11 10:26    10,79         NaN  United Kingdom   85174   \n",
       "541540   581498  09/12/11 10:26  1714,17         NaN  United Kingdom     DOT   \n",
       "\n",
       "                                 ProdDescr  Qta  \n",
       "1444       DECORATIVE CATS BATHROOM BOTTLE    2  \n",
       "1446                 RAIN PONCHO RETROSPOT    2  \n",
       "1447                    VINTAGE SNAP CARDS    9  \n",
       "1448    VINTAGE HEADS AND TAILS CARD GAME     2  \n",
       "1450       CHRISTMAS TREE HEART DECORATION    9  \n",
       "...                                    ...  ...  \n",
       "541532     6 CHOCOLATE LOVE HEART T-LIGHTS    1  \n",
       "541534       TRADITIONAL CHRISTMAS RIBBONS    5  \n",
       "541538       LADIES & GENTLEMEN METAL SIGN    1  \n",
       "541539                   S/4 CACTI CANDLES    1  \n",
       "541540                      DOTCOM POSTAGE    1  \n",
       "\n",
       "[65080 rows x 8 columns]"
      ],
      "text/html": "<div>\n<style scoped>\n    .dataframe tbody tr th:only-of-type {\n        vertical-align: middle;\n    }\n\n    .dataframe tbody tr th {\n        vertical-align: top;\n    }\n\n    .dataframe thead th {\n        text-align: right;\n    }\n</style>\n<table border=\"1\" class=\"dataframe\">\n  <thead>\n    <tr style=\"text-align: right;\">\n      <th></th>\n      <th>BasketID</th>\n      <th>BasketDate</th>\n      <th>Sale</th>\n      <th>CustomerID</th>\n      <th>CustomerCountry</th>\n      <th>ProdID</th>\n      <th>ProdDescr</th>\n      <th>Qta</th>\n    </tr>\n  </thead>\n  <tbody>\n    <tr>\n      <th>1444</th>\n      <td>536544</td>\n      <td>01/12/10 14:32</td>\n      <td>2,51</td>\n      <td>NaN</td>\n      <td>United Kingdom</td>\n      <td>21774</td>\n      <td>DECORATIVE CATS BATHROOM BOTTLE</td>\n      <td>2</td>\n    </tr>\n    <tr>\n      <th>1446</th>\n      <td>536544</td>\n      <td>01/12/10 14:32</td>\n      <td>1,66</td>\n      <td>NaN</td>\n      <td>United Kingdom</td>\n      <td>21787</td>\n      <td>RAIN PONCHO RETROSPOT</td>\n      <td>2</td>\n    </tr>\n    <tr>\n      <th>1447</th>\n      <td>536544</td>\n      <td>01/12/10 14:32</td>\n      <td>1,66</td>\n      <td>NaN</td>\n      <td>United Kingdom</td>\n      <td>21790</td>\n      <td>VINTAGE SNAP CARDS</td>\n      <td>9</td>\n    </tr>\n    <tr>\n      <th>1448</th>\n      <td>536544</td>\n      <td>01/12/10 14:32</td>\n      <td>2,51</td>\n      <td>NaN</td>\n      <td>United Kingdom</td>\n      <td>21791</td>\n      <td>VINTAGE HEADS AND TAILS CARD GAME</td>\n      <td>2</td>\n    </tr>\n    <tr>\n      <th>1450</th>\n      <td>536544</td>\n      <td>01/12/10 14:32</td>\n      <td>0,43</td>\n      <td>NaN</td>\n      <td>United Kingdom</td>\n      <td>21802</td>\n      <td>CHRISTMAS TREE HEART DECORATION</td>\n      <td>9</td>\n    </tr>\n    <tr>\n      <th>...</th>\n      <td>...</td>\n      <td>...</td>\n      <td>...</td>\n      <td>...</td>\n      <td>...</td>\n      <td>...</td>\n      <td>...</td>\n      <td>...</td>\n    </tr>\n    <tr>\n      <th>541532</th>\n      <td>581498</td>\n      <td>09/12/11 10:26</td>\n      <td>4,13</td>\n      <td>NaN</td>\n      <td>United Kingdom</td>\n      <td>85038</td>\n      <td>6 CHOCOLATE LOVE HEART T-LIGHTS</td>\n      <td>1</td>\n    </tr>\n    <tr>\n      <th>541534</th>\n      <td>581498</td>\n      <td>09/12/11 10:26</td>\n      <td>3,29</td>\n      <td>NaN</td>\n      <td>United Kingdom</td>\n      <td>85049a</td>\n      <td>TRADITIONAL CHRISTMAS RIBBONS</td>\n      <td>5</td>\n    </tr>\n    <tr>\n      <th>541538</th>\n      <td>581498</td>\n      <td>09/12/11 10:26</td>\n      <td>4,96</td>\n      <td>NaN</td>\n      <td>United Kingdom</td>\n      <td>85150</td>\n      <td>LADIES &amp; GENTLEMEN METAL SIGN</td>\n      <td>1</td>\n    </tr>\n    <tr>\n      <th>541539</th>\n      <td>581498</td>\n      <td>09/12/11 10:26</td>\n      <td>10,79</td>\n      <td>NaN</td>\n      <td>United Kingdom</td>\n      <td>85174</td>\n      <td>S/4 CACTI CANDLES</td>\n      <td>1</td>\n    </tr>\n    <tr>\n      <th>541540</th>\n      <td>581498</td>\n      <td>09/12/11 10:26</td>\n      <td>1714,17</td>\n      <td>NaN</td>\n      <td>United Kingdom</td>\n      <td>DOT</td>\n      <td>DOTCOM POSTAGE</td>\n      <td>1</td>\n    </tr>\n  </tbody>\n</table>\n<p>65080 rows × 8 columns</p>\n</div>"
     },
     "metadata": {},
     "execution_count": 5
    }
   ],
   "source": [
    "df[df['CustomerID'].isnull()]"
   ]
  },
  {
   "cell_type": "code",
   "execution_count": 6,
   "metadata": {},
   "outputs": [
    {
     "output_type": "execute_result",
     "data": {
      "text/plain": [
       "65080"
      ]
     },
     "metadata": {},
     "execution_count": 6
    }
   ],
   "source": [
    "len(df[df['CustomerID'].isnull()])"
   ]
  },
  {
   "source": [
    "Il numero totale di missin customerId è 65080, però questa mancanza è replicata varie volte. Per diversi sample con lo stesso basketid manca anche il customerID, quindi ci si riferisce sempre alla stessa persona. Vediamo quante sono i BaskedID singoli"
   ],
   "cell_type": "markdown",
   "metadata": {}
  },
  {
   "cell_type": "code",
   "execution_count": 7,
   "metadata": {},
   "outputs": [
    {
     "output_type": "execute_result",
     "data": {
      "text/plain": [
       "2437"
      ]
     },
     "metadata": {},
     "execution_count": 7
    }
   ],
   "source": [
    "len(df[df['CustomerID'].isnull()].BasketID.unique())"
   ]
  },
  {
   "cell_type": "code",
   "execution_count": 8,
   "metadata": {},
   "outputs": [
    {
     "output_type": "execute_result",
     "data": {
      "text/plain": [
       "24627"
      ]
     },
     "metadata": {},
     "execution_count": 8
    }
   ],
   "source": [
    "len(df.BasketID.unique())"
   ]
  },
  {
   "source": [
    "I singoli basketId sono 2437 sul totale di 24627"
   ],
   "cell_type": "markdown",
   "metadata": {}
  },
  {
   "source": [
    "La mancanza del costumerID è importante, perchè non ci permette di identificare lo stesso cliente. Per recuperalo potremo controllare se nei sample con gli stessi BasketID di quelli mancanti ci sono i dati, creare degli ID nuovi se non si riescono a recuperare oppure eliminare i sample\n"
   ],
   "cell_type": "markdown",
   "metadata": {}
  },
  {
   "source": [
    "Vediamo se in alcuni casi il CustomerID è recuperabile"
   ],
   "cell_type": "markdown",
   "metadata": {}
  },
  {
   "cell_type": "code",
   "execution_count": 9,
   "metadata": {
    "tags": []
   },
   "outputs": [
    {
     "output_type": "stream",
     "name": "stdout",
     "text": [
      "Totale elementi: 0\n"
     ]
    }
   ],
   "source": [
    "\n",
    "count=0\n",
    "for elem in df[df['CustomerID'].isnull()].BasketID.unique():\n",
    "    #Prendiamo dal dataset tutti gli elementi con lo stesso BasketID\n",
    "    df_loc_equal_basketID=df[df['BasketID']==elem]\n",
    "    #Controlliamo se qualcuno di questi elementi abbia il CustomerID\n",
    "    if len(df_loc_equal_basketID[df_loc_equal_basketID['CustomerID'].notnull()])>0:\n",
    "        print(\"BasketId:\"+elem+\"_____Numero di elementi:\"+str(len(df_loc_equal_basketID)))\n",
    "        print(\"Numero di elementi non null: \"+len(df_loc_equal_basketID[df_loc_equal_basketID['CustomerID'].notnull()]))\n",
    "        count+=1\n",
    "print(\"Totale elementi: \"+str(count))"
   ]
  },
  {
   "source": [
    "Di conseguenza non è possibile recuperare nessun CostumerId pertanto si dovranno creare degli ID aggregando anche i BasketID oppure eliminare i sample"
   ],
   "cell_type": "markdown",
   "metadata": {}
  },
  {
   "source": [
    "### ProdDesc"
   ],
   "cell_type": "markdown",
   "metadata": {}
  },
  {
   "cell_type": "code",
   "execution_count": 10,
   "metadata": {},
   "outputs": [
    {
     "output_type": "execute_result",
     "data": {
      "text/plain": [
       "       BasketID      BasketDate Sale  CustomerID CustomerCountry  ProdID  \\\n",
       "1986     536546  01/12/10 14:33    0         NaN  United Kingdom   22145   \n",
       "2024     536550  01/12/10 14:34    0         NaN  United Kingdom   85044   \n",
       "2025     536553  01/12/10 14:35    0         NaN  United Kingdom   37461   \n",
       "4347     536764  02/12/10 14:42    0         NaN  United Kingdom  84952C   \n",
       "4348     536765  02/12/10 14:43    0         NaN  United Kingdom  84952C   \n",
       "...         ...             ...  ...         ...             ...     ...   \n",
       "522162   580381  02/12/11 17:58    0         NaN  United Kingdom   21758   \n",
       "535322   581199  07/12/11 18:26    0         NaN  United Kingdom   84581   \n",
       "535326   581203  07/12/11 18:31    0         NaN  United Kingdom   23406   \n",
       "535332   581209  07/12/11 18:35    0         NaN  United Kingdom   21620   \n",
       "536981   581234  08/12/11 10:33    0         NaN  United Kingdom   72817   \n",
       "\n",
       "       ProdDescr  Qta  \n",
       "1986         NaN    1  \n",
       "2024         NaN    1  \n",
       "2025         NaN    3  \n",
       "4347         NaN  -38  \n",
       "4348         NaN   19  \n",
       "...          ...  ...  \n",
       "522162       NaN   -9  \n",
       "535322       NaN   -2  \n",
       "535326       NaN   15  \n",
       "535332       NaN    6  \n",
       "536981       NaN   27  \n",
       "\n",
       "[753 rows x 8 columns]"
      ],
      "text/html": "<div>\n<style scoped>\n    .dataframe tbody tr th:only-of-type {\n        vertical-align: middle;\n    }\n\n    .dataframe tbody tr th {\n        vertical-align: top;\n    }\n\n    .dataframe thead th {\n        text-align: right;\n    }\n</style>\n<table border=\"1\" class=\"dataframe\">\n  <thead>\n    <tr style=\"text-align: right;\">\n      <th></th>\n      <th>BasketID</th>\n      <th>BasketDate</th>\n      <th>Sale</th>\n      <th>CustomerID</th>\n      <th>CustomerCountry</th>\n      <th>ProdID</th>\n      <th>ProdDescr</th>\n      <th>Qta</th>\n    </tr>\n  </thead>\n  <tbody>\n    <tr>\n      <th>1986</th>\n      <td>536546</td>\n      <td>01/12/10 14:33</td>\n      <td>0</td>\n      <td>NaN</td>\n      <td>United Kingdom</td>\n      <td>22145</td>\n      <td>NaN</td>\n      <td>1</td>\n    </tr>\n    <tr>\n      <th>2024</th>\n      <td>536550</td>\n      <td>01/12/10 14:34</td>\n      <td>0</td>\n      <td>NaN</td>\n      <td>United Kingdom</td>\n      <td>85044</td>\n      <td>NaN</td>\n      <td>1</td>\n    </tr>\n    <tr>\n      <th>2025</th>\n      <td>536553</td>\n      <td>01/12/10 14:35</td>\n      <td>0</td>\n      <td>NaN</td>\n      <td>United Kingdom</td>\n      <td>37461</td>\n      <td>NaN</td>\n      <td>3</td>\n    </tr>\n    <tr>\n      <th>4347</th>\n      <td>536764</td>\n      <td>02/12/10 14:42</td>\n      <td>0</td>\n      <td>NaN</td>\n      <td>United Kingdom</td>\n      <td>84952C</td>\n      <td>NaN</td>\n      <td>-38</td>\n    </tr>\n    <tr>\n      <th>4348</th>\n      <td>536765</td>\n      <td>02/12/10 14:43</td>\n      <td>0</td>\n      <td>NaN</td>\n      <td>United Kingdom</td>\n      <td>84952C</td>\n      <td>NaN</td>\n      <td>19</td>\n    </tr>\n    <tr>\n      <th>...</th>\n      <td>...</td>\n      <td>...</td>\n      <td>...</td>\n      <td>...</td>\n      <td>...</td>\n      <td>...</td>\n      <td>...</td>\n      <td>...</td>\n    </tr>\n    <tr>\n      <th>522162</th>\n      <td>580381</td>\n      <td>02/12/11 17:58</td>\n      <td>0</td>\n      <td>NaN</td>\n      <td>United Kingdom</td>\n      <td>21758</td>\n      <td>NaN</td>\n      <td>-9</td>\n    </tr>\n    <tr>\n      <th>535322</th>\n      <td>581199</td>\n      <td>07/12/11 18:26</td>\n      <td>0</td>\n      <td>NaN</td>\n      <td>United Kingdom</td>\n      <td>84581</td>\n      <td>NaN</td>\n      <td>-2</td>\n    </tr>\n    <tr>\n      <th>535326</th>\n      <td>581203</td>\n      <td>07/12/11 18:31</td>\n      <td>0</td>\n      <td>NaN</td>\n      <td>United Kingdom</td>\n      <td>23406</td>\n      <td>NaN</td>\n      <td>15</td>\n    </tr>\n    <tr>\n      <th>535332</th>\n      <td>581209</td>\n      <td>07/12/11 18:35</td>\n      <td>0</td>\n      <td>NaN</td>\n      <td>United Kingdom</td>\n      <td>21620</td>\n      <td>NaN</td>\n      <td>6</td>\n    </tr>\n    <tr>\n      <th>536981</th>\n      <td>581234</td>\n      <td>08/12/11 10:33</td>\n      <td>0</td>\n      <td>NaN</td>\n      <td>United Kingdom</td>\n      <td>72817</td>\n      <td>NaN</td>\n      <td>27</td>\n    </tr>\n  </tbody>\n</table>\n<p>753 rows × 8 columns</p>\n</div>"
     },
     "metadata": {},
     "execution_count": 10
    }
   ],
   "source": [
    "df[df['ProdDescr'].isnull()]"
   ]
  },
  {
   "cell_type": "code",
   "execution_count": 11,
   "metadata": {},
   "outputs": [
    {
     "output_type": "execute_result",
     "data": {
      "text/plain": [
       "753"
      ]
     },
     "metadata": {},
     "execution_count": 11
    }
   ],
   "source": [
    "len(df[df['ProdDescr'].isnull()])"
   ]
  },
  {
   "source": [
    "La mancanza di valori per la descrizione del prodotto non ci interessa più di tanto, l'identificativo del prodotto è più rilevante, sono due attributi doppi. Per recuperalo potremo controllare se nei sample con gli stessi Productid di quelli mancanti ci sono i dati"
   ],
   "cell_type": "markdown",
   "metadata": {}
  },
  {
   "source": [
    "Cerchiamo di recuperare la descrizione dei prodotti."
   ],
   "cell_type": "markdown",
   "metadata": {}
  },
  {
   "cell_type": "code",
   "execution_count": 14,
   "metadata": {
    "tags": []
   },
   "outputs": [
    {
     "output_type": "stream",
     "name": "stdout",
     "text": [
      "Totale elementi sostituibili: 541\nErrori trovati: 76\n"
     ]
    }
   ],
   "source": [
    "retrievable_count=0\n",
    "error_count=0\n",
    "for elem in df[df['ProdDescr'].isnull()].ProdID.unique():\n",
    "    df_loc_equal_ProdID=df[df['ProdID']==elem]\n",
    "    \n",
    "    if len(df_loc_equal_ProdID[df_loc_equal_ProdID['ProdDescr'].notnull()])>0:\n",
    "        # Recupero descrizione a partire dal primo prodotto della lista\n",
    "        retrived_ProdDescr=df_loc_equal_ProdID[df_loc_equal_ProdID['ProdDescr'].notnull()].iloc[0].ProdDescr\n",
    "\n",
    "        #Vediamo se le descrizioni sono tutte uguali saranno nan oppure una descrizione del prodotto\n",
    "        if(len(df_loc_equal_ProdID['ProdDescr'].unique())>2):\n",
    "            error_count+=1\n",
    "\n",
    "        #DEBUG\n",
    "        #print(\"ProdId: \"+elem+\" ProdDescr: \"+retrived_ProdDescr)\n",
    "        \n",
    "        retrievable_count+=1\n",
    "print(\"Totale elementi sostituibili: \"+str(retrievable_count))\n",
    "print(\"Errori trovati: \"+str(error_count))"
   ]
  },
  {
   "source": [
    "Del dataframe creato si possono sostituire 541 elementi su 753 ma di questi 76 non sono coerenti tra di loro (stesso ProdID ma diversa ProdDescr). In ogni caso la descrizione nel prodotto è inutile quindi possiamo evitare di processarla e droppare la colonna nella data transformation"
   ],
   "cell_type": "markdown",
   "metadata": {}
  },
  {
   "source": [
    "## Outliers"
   ],
   "cell_type": "markdown",
   "metadata": {}
  },
  {
   "source": [
    "In questa sezione ci occupiamo del rilevamento degli outliers"
   ],
   "cell_type": "markdown",
   "metadata": {}
  },
  {
   "cell_type": "code",
   "execution_count": 41,
   "metadata": {},
   "outputs": [
    {
     "output_type": "stream",
     "name": "stdout",
     "text": [
      "<class 'pandas.core.frame.DataFrame'>\nInt64Index: 471910 entries, 0 to 541909\nData columns (total 8 columns):\nBasketID           471910 non-null object\nBasketDate         471910 non-null object\nSale               471910 non-null object\nCustomerID         406830 non-null float64\nCustomerCountry    471910 non-null object\nProdID             471910 non-null object\nProdDescr          471157 non-null object\nQta                471910 non-null int64\ndtypes: float64(1), int64(1), object(6)\nmemory usage: 52.4+ MB\n"
     ]
    }
   ],
   "source": [
    "df.info()"
   ]
  },
  {
   "source": [
    "### BasketID ✔️ \n",
    "Il basketID è un nominale vediamo da che caratteri ed è composto da lettere maiuscole e numeri (Vedi DU-data_distribution). In questo caso *NON* abbiamo sample da eliminare "
   ],
   "cell_type": "markdown",
   "metadata": {}
  },
  {
   "source": [
    "### BasketDate ✔️ \n",
    "Indica una data non abbiamo valori particolari da eliminare (Vedi DU-data_distribution)"
   ],
   "cell_type": "markdown",
   "metadata": {}
  },
  {
   "source": [
    "### ProID ✔️ \n",
    "è nominale, verifichiamo da che caratteri è composto solo da numeri e lettere maiuscole. Non ci sono problemi con questo attributo"
   ],
   "cell_type": "markdown",
   "metadata": {}
  },
  {
   "source": [
    "### ProdDescr ✔️ \n",
    "Abbiamo giuà visto che alcuni valori sono null, si può verificare se ci sono descrizioni diverse con lo stesso productID ma è un attributo poco significativo come abbiamo detto quindi non è significativo per ora tenerlo in considerazione."
   ],
   "cell_type": "markdown",
   "metadata": {}
  },
  {
   "source": [
    "### Sale ⚠️\n",
    "è un object ma dovrebbe essere float, In questo caso abbiamo dei prezzi negativi che sono stati inseriti per dei debiti. Da verificare se devono venire inseriti, eliminati o se ci sono altri dati ambigui. _Da verificare_"
   ],
   "cell_type": "markdown",
   "metadata": {}
  },
  {
   "source": [
    "### CustomerID ⚠️\n",
    "Abbiamo già visto che alcuni valori sono null, in questo caso possiamo o rimuoverli o creare degli id. Non possono essere recuperati questi valori perchp negli stessi basket id non ci sono i nomi."
   ],
   "cell_type": "markdown",
   "metadata": {}
  },
  {
   "source": [
    "### CustomerCountry ⚠️\n",
    "è categorico, ci sono dei valori unspecified, ma non è significativo toglierli. _Da verificare_"
   ],
   "cell_type": "markdown",
   "metadata": {}
  },
  {
   "source": [
    "### Quantità ⚠️\n",
    "Nell'intervallo si vede che ci sono dei valori negativi e vanno sistemati._Da verificare_\n"
   ],
   "cell_type": "markdown",
   "metadata": {}
  }
 ]
}