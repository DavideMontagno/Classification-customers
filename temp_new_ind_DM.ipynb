{
 "metadata": {
  "language_info": {
   "codemirror_mode": {
    "name": "ipython",
    "version": 3
   },
   "file_extension": ".py",
   "mimetype": "text/x-python",
   "name": "python",
   "nbconvert_exporter": "python",
   "pygments_lexer": "ipython3",
   "version": "3.8.1-final"
  },
  "orig_nbformat": 2,
  "kernelspec": {
   "name": "python3",
   "display_name": "Python 3"
  }
 },
 "nbformat": 4,
 "nbformat_minor": 2,
 "cells": [
  {
   "cell_type": "code",
   "execution_count": 35,
   "metadata": {},
   "outputs": [],
   "source": [
    "import numpy as np\n",
    "import pandas as pd\n",
    "import matplotlib.pyplot as plt"
   ]
  },
  {
   "cell_type": "code",
   "execution_count": 36,
   "metadata": {},
   "outputs": [
    {
     "output_type": "stream",
     "name": "stdout",
     "text": [
      "<class 'pandas.core.frame.DataFrame'>\nInt64Index: 456644 entries, 0 to 541908\nData columns (total 8 columns):\n #   Column           Non-Null Count   Dtype  \n---  ------           --------------   -----  \n 0   BasketID         456644 non-null  int64  \n 1   BasketDate       456644 non-null  object \n 2   Sale             456644 non-null  float64\n 3   CustomerID       456644 non-null  object \n 4   CustomerCountry  456644 non-null  object \n 5   ProdID           456644 non-null  object \n 6   ProdDescr        456644 non-null  object \n 7   Qta              456644 non-null  int64  \ndtypes: float64(1), int64(2), object(5)\nmemory usage: 31.4+ MB\n"
     ]
    }
   ],
   "source": [
    "df = pd.read_csv(\"dataset/DQ-dataset.csv\", sep=\"\\t\",index_col=0, decimal=\",\")\n",
    "df.info()"
   ]
  },
  {
   "source": [
    "# Working on month"
   ],
   "cell_type": "markdown",
   "metadata": {}
  },
  {
   "cell_type": "code",
   "execution_count": 37,
   "metadata": {},
   "outputs": [
    {
     "output_type": "stream",
     "name": "stdout",
     "text": [
      "<class 'pandas.core.frame.DataFrame'>\nInt64Index: 456644 entries, 0 to 541908\nData columns (total 10 columns):\n #   Column           Non-Null Count   Dtype  \n---  ------           --------------   -----  \n 0   BasketID         456644 non-null  int64  \n 1   BasketDate       456644 non-null  object \n 2   Sale             456644 non-null  float64\n 3   CustomerID       456644 non-null  object \n 4   CustomerCountry  456644 non-null  object \n 5   ProdID           456644 non-null  object \n 6   ProdDescr        456644 non-null  object \n 7   Qta              456644 non-null  int64  \n 8   Month            456644 non-null  int64  \n 9   Total_Spent      456644 non-null  float64\ndtypes: float64(2), int64(3), object(5)\nmemory usage: 38.3+ MB\n"
     ]
    }
   ],
   "source": [
    "month = pd.DatetimeIndex(df['BasketDate']).month\n",
    "df[\"Month\"] = month\n",
    "df[\"Total_Spent\"] = df[\"Qta\"]*df[\"Sale\"]\n",
    "df.info()"
   ]
  },
  {
   "source": [
    "## Quantità media per mese"
   ],
   "cell_type": "markdown",
   "metadata": {}
  },
  {
   "cell_type": "code",
   "execution_count": 38,
   "metadata": {},
   "outputs": [
    {
     "output_type": "stream",
     "name": "stdout",
     "text": [
      "CustomerID  Month\n10023N      8        15.760000\n10202N      7         1.000000\n10353N      4         1.708333\n10370N      12        2.433099\n10374N      10        1.959184\n                       ...    \n99606N      10        6.833333\n99733N      8         1.000000\n9983N       4         8.000000\n99958N      1         1.750000\n99983N      9         2.072727\nName: Qta, Length: 14003, dtype: float64\n"
     ]
    }
   ],
   "source": [
    "print(df.groupby([\"CustomerID\",\"Month\"])[\"Qta\"].mean())"
   ]
  },
  {
   "source": [
    "## Total spent per month"
   ],
   "cell_type": "markdown",
   "metadata": {}
  },
  {
   "cell_type": "code",
   "execution_count": 39,
   "metadata": {},
   "outputs": [
    {
     "output_type": "stream",
     "name": "stdout",
     "text": [
      "CustomerID  Month\n10023N      8        62.100000\n10202N      7        12.750000\n10353N      4         7.724583\n10370N      12        9.789754\n10374N      10        6.314490\n                       ...    \n99606N      10       37.026667\n99733N      8         3.106667\n9983N       4        20.000000\n99958N      1         9.345417\n99983N      9         5.998273\nName: Total_Spent, Length: 14003, dtype: float64\n"
     ]
    }
   ],
   "source": [
    "print(df.groupby([\"CustomerID\",\"Month\"])[\"Total_Spent\"].mean())"
   ]
  },
  {
   "source": [
    "### Test"
   ],
   "cell_type": "markdown",
   "metadata": {}
  },
  {
   "cell_type": "code",
   "execution_count": 40,
   "metadata": {},
   "outputs": [
    {
     "output_type": "stream",
     "name": "stdout",
     "text": [
      "CustomerID == 16875\n",
      "Month\n",
      "1      6.363636\n",
      "2     10.458333\n",
      "7      7.461538\n",
      "10    10.962264\n",
      "Name: Qta, dtype: float64\n",
      "Month\n",
      "1     16.763636\n",
      "2     18.178750\n",
      "7     25.623846\n",
      "10    18.062830\n",
      "Name: Total_Spent, dtype: float64\n"
     ]
    }
   ],
   "source": [
    "print(\"CustomerID == 16875\")\n",
    "print(df[df[\"CustomerID\"]==\"16875.0\"].groupby(\"Month\")[\"Qta\"].mean())\n",
    "print(df[df[\"CustomerID\"]==\"16875.0\"].groupby(\"Month\")[\"Total_Spent\"].mean())"
   ]
  },
  {
   "cell_type": "code",
   "execution_count": 41,
   "metadata": {
    "tags": [
     "outputPrepend"
    ]
   },
   "outputs": [
    {
     "output_type": "stream",
     "name": "stdout",
     "text": [
      "onth\n10    1.188772\ndtype: float64, Month\n10    1.859771\ndtype: float64, Month\n10    2.524286\n11    2.410714\n12    2.513250\ndtype: float64, Month\n10    1.01067\ndtype: float64, Month\n10    1.563151\ndtype: float64, Month\n10    2.927647\ndtype: float64, Month\n10    1.193005\n11    1.926438\ndtype: float64, Month\n10    1.704293\n11    1.689665\n12    2.228681\ndtype: float64, Month\n10    1.517297\n11    1.536552\ndtype: float64, Month\n10    0.650013\ndtype: float64, Month\n10    1.968199\ndtype: float64, Month\n10    2.30\n11    1.95\ndtype: float64, Month\n10    1.978571\ndtype: float64, Month\n10    0.936760\n12    1.474054\ndtype: float64, Month\n10    2.096984\ndtype: float64, Month\n10    2.444091\ndtype: float64, Month\n10    1.785937\n11    1.880000\ndtype: float64, Month\n10    2.337966\ndtype: float64, Month\n10    1.123187\ndtype: float64, Month\n10    1.918969\ndtype: float64, Month\n10    2.974878\ndtype: float64, Month\n10    3.457357\ndtype: float64, Month\n10    1.2555\ndtype: float64, Month\n10    2.475\ndtype: float64, Month\n10    3.739059\ndtype: float64, Month\n10    6.25\ndtype: float64, Month\n10    4.983581\ndtype: float64, Month\n10    2.031734\ndtype: float64, Month\n10    5.474328\ndtype: float64, Month\n10    2.727939\ndtype: float64, Month\n10    3.363462\ndtype: float64, Month\n10    4.959127\ndtype: float64, Month\n10    4.811304\ndtype: float64, Month\n10    1.147194\n11    0.990227\ndtype: float64, Month\n11    0.854802\ndtype: float64, Month\n11    2.1796\ndtype: float64, Month\n11    1.598263\n12    0.800476\ndtype: float64, Month\n11    1.234508\ndtype: float64, Month\n11    2.283933\n12    1.961646\ndtype: float64, Month\n11    1.644961\ndtype: float64, Month\n11    2.334507\ndtype: float64, Month\n11    1.093836\n12    1.790000\ndtype: float64, Month\n11    0.430693\ndtype: float64, Month\n11    5.220968\n12    2.998387\ndtype: float64, Month\n11    4.96125\ndtype: float64, Month\n11    1.459091\ndtype: float64, Month\n11    1.648133\ndtype: float64, Month\n11    1.34325\ndtype: float64, Month\n11    1.353285\ndtype: float64, Month\n11    2.771549\n12    4.130704\ndtype: float64, Month\n11    1.235221\ndtype: float64, Month\n11    1.769585\n12    1.424603\ndtype: float64, Month\n11    2.328391\ndtype: float64, Month\n11    2.466957\ndtype: float64, Month\n11    2.172011\ndtype: float64, Month\n11    2.599773\ndtype: float64, Month\n11    1.051667\ndtype: float64, Month\n11    1.721364\n12    2.639062\ndtype: float64, Month\n11    2.084641\ndtype: float64, Month\n11    0.969073\ndtype: float64, Month\n11    3.697082\ndtype: float64, Month\n11    2.989182\ndtype: float64, Month\n11    1.697773\ndtype: float64, Month\n11    1.310144\ndtype: float64, Month\n11    1.766957\ndtype: float64, Month\n11    1.736207\ndtype: float64, Month\n11    1.416827\ndtype: float64, Month\n11    2.000275\ndtype: float64, Month\n11    2.514589\ndtype: float64, Month\n11    1.658671\ndtype: float64, Month\n11    1.775667\n12    1.024054\ndtype: float64, Month\n11    2.407009\ndtype: float64, Month\n11    1.72281\ndtype: float64, Month\n11    1.58358\ndtype: float64, Month\n11    3.19562\ndtype: float64, Month\n11    2.363433\ndtype: float64, Month\n11    1.619921\ndtype: float64, Month\n11    1.855668\ndtype: float64, Month\n11    1.150261\n12    1.172543\ndtype: float64, Month\n11    0.480639\ndtype: float64, Month\n11    1.933459\ndtype: float64, Month\n11    5.071023\ndtype: float64, Month\n11    4.016667\ndtype: float64, Month\n11    0.77\ndtype: float64, Month\n11    1.679022\ndtype: float64, Month\n11    0.907758\ndtype: float64, Month\n11    1.648995\ndtype: float64, Month\n11    1.417468\ndtype: float64, Month\n11    1.163333\ndtype: float64, Month\n11    8.25\ndtype: float64, Month\n11    1.457099\ndtype: float64, Month\n11    1.241274\ndtype: float64, Month\n11    1.023714\ndtype: float64, Month\n11    1.624312\ndtype: float64, Month\n11    0.85\ndtype: float64, Month\n11    2.794796\ndtype: float64, Month\n11    3.732278\ndtype: float64, Month\n11    1.993333\ndtype: float64, Month\n11    5.947317\ndtype: float64, Month\n11    1.446697\ndtype: float64, Month\n11    2.058519\ndtype: float64, Month\n11    1.63031\ndtype: float64, Month\n11    2.076667\ndtype: float64, Month\n11    1.185821\n12    1.956505\ndtype: float64, Month\n11    2.216446\ndtype: float64, Month\n11    0.833707\ndtype: float64, Month\n11    0.893002\ndtype: float64, Month\n11    1.430426\ndtype: float64, Month\n11    1.654348\ndtype: float64, Month\n11    1.815868\n12    1.987979\ndtype: float64, Month\n11    1.996667\n12    1.673642\ndtype: float64, Month\n11    1.368863\ndtype: float64, Month\n11    6.185\ndtype: float64, Month\n11    2.95\ndtype: float64, Month\n11    1.994762\ndtype: float64, Month\n11    2.292345\ndtype: float64, Month\n11    1.25\ndtype: float64, Month\n11    1.790905\ndtype: float64, Month\n11    1.056985\ndtype: float64, Month\n11    0.95\ndtype: float64, Month\n11    1.988868\ndtype: float64, Month\n11    5.458018\ndtype: float64, Month\n11    3.335462\ndtype: float64, Month\n11    1.090156\ndtype: float64, Month\n11    0.817871\ndtype: float64, Month\n11    1.864661\ndtype: float64, Month\n11    1.346563\ndtype: float64, Month\n11    1.646176\ndtype: float64, Month\n11    4.029057\ndtype: float64, Month\n11    1.025455\ndtype: float64, Month\n11    2.850202\ndtype: float64, Month\n11    1.904574\ndtype: float64, Month\n11    4.428403\ndtype: float64, Month\n11    1.02134\n12    1.34034\ndtype: float64, Month\n11    1.283483\ndtype: float64, Month\n11    1.35\ndtype: float64, Month\n11    2.032654\ndtype: float64, Month\n11    4.15\ndtype: float64, Month\n11    0.992323\ndtype: float64, Month\n11    4.15\ndtype: float64, Month\n11    1.79\ndtype: float64, Month\n11    2.402\ndtype: float64, Month\n11    6.343176\ndtype: float64, Month\n11    1.661084\ndtype: float64, Month\n11    2.40875\ndtype: float64, Month\n11    0.657407\ndtype: float64, Month\n11    1.662879\ndtype: float64, Month\n11    2.684848\ndtype: float64, Month\n11    3.386561\ndtype: float64, Month\n11    1.419831\n12    1.181338\ndtype: float64, Month\n11    1.711659\ndtype: float64, Month\n11    1.959792\ndtype: float64, Month\n11    2.276667\ndtype: float64, Month\n11    1.456452\ndtype: float64, Month\n11    2.078344\ndtype: float64, Month\n11    4.014286\ndtype: float64, Month\n11    1.162126\ndtype: float64, Month\n11    1.25\ndtype: float64, Month\n11    1.753448\ndtype: float64, Month\n11    2.859091\ndtype: float64, Month\n11    0.627313\ndtype: float64, Month\n11    1.2\ndtype: float64, Month\n11    0.975333\n12    0.632000\ndtype: float64, Month\n11    1.801154\ndtype: float64, Month\n11    2.08\ndtype: float64, Month\n11    3.245008\ndtype: float64, Month\n11    1.143191\ndtype: float64, Month\n11    1.812274\n12    1.830679\ndtype: float64, Month\n11    66.941176\ndtype: float64, Month\n11    5.303717\ndtype: float64, Month\n11    1.300769\ndtype: float64, Month\n11    0.708462\ndtype: float64, Month\n11    0.94801\ndtype: float64, Month\n11    2.306522\ndtype: float64, Month\n11    2.8125\ndtype: float64, Month\n11    1.19\ndtype: float64, Month\n11    0.842515\ndtype: float64, Month\n11    3.649167\ndtype: float64, Month\n11    1.669155\ndtype: float64, Month\n11    2.020909\ndtype: float64, Month\n11    4.25\ndtype: float64, Month\n11    1.42458\ndtype: float64, Month\n11    1.464228\ndtype: float64, Month\n11    1.832713\ndtype: float64, Month\n11    1.25\ndtype: float64, Month\n11    1.905497\ndtype: float64, Month\n11    4.599167\ndtype: float64, Month\n11    1.703793\ndtype: float64, Month\n11    2.797509\ndtype: float64, Month\n11    4.669546\ndtype: float64, Month\n11    0.514444\ndtype: float64, Month\n11    1.116667\ndtype: float64, Month\n11    2.398276\ndtype: float64, Month\n11    1.013343\n12    0.700867\ndtype: float64, Month\n11    2.162785\ndtype: float64, Month\n11    3.014753\ndtype: float64, Month\n11    1.738302\ndtype: float64, Month\n11    1.384348\ndtype: float64, Month\n11    1.585249\ndtype: float64, Month\n11    2.439355\n12    1.433456\ndtype: float64, Month\n11    0.973333\ndtype: float64, Month\n11    2.365224\ndtype: float64, Month\n11    0.987671\ndtype: float64, Month\n11    1.3\ndtype: float64, Month\n11    0.742103\ndtype: float64, Month\n11    1.666667\ndtype: float64, Month\n11    3.160956\ndtype: float64, Month\n11    1.05\ndtype: float64, Month\n11    4.694111\ndtype: float64, Month\n11    3.084286\ndtype: float64, Month\n11    0.789184\ndtype: float64, Month\n11    1.870424\ndtype: float64, Month\n11    3.95\ndtype: float64, Month\n11    1.942168\ndtype: float64, Month\n11    1.486429\ndtype: float64, Month\n11    1.909067\n12    1.363991\ndtype: float64, Month\n11    1.002073\ndtype: float64, Month\n11    0.50612\ndtype: float64, Month\n11    0.852967\ndtype: float64, Month\n11    0.669410\n12    0.451494\ndtype: float64, Month\n11    1.516957\ndtype: float64, Month\n11    1.525963\ndtype: float64, Month\n11    1.518382\ndtype: float64, Month\n11    0.815286\ndtype: float64, Month\n11    2.049231\ndtype: float64, Month\n11    0.734478\ndtype: float64, Month\n11    1.132641\ndtype: float64, Month\n11    0.51778\ndtype: float64, Month\n11    1.036154\ndtype: float64, Month\n11    1.418699\n12    2.154646\ndtype: float64, Month\n11    2.817\ndtype: float64, Month\n11    2.101503\n12    1.262833\ndtype: float64, Month\n11    1.392414\ndtype: float64, Month\n11    1.881905\ndtype: float64, Month\n11    1.288089\ndtype: float64, Month\n11    0.924389\ndtype: float64, Month\n11    3.323169\ndtype: float64, Month\n11    1.837552\ndtype: float64, Month\n11    1.965389\ndtype: float64, Month\n11    3.204823\ndtype: float64, Month\n11    1.50487\ndtype: float64, Month\n11    0.590696\ndtype: float64, Month\n11    1.441495\ndtype: float64, Month\n11    4.465104\ndtype: float64, Month\n11    4.367021\ndtype: float64, Month\n11    110.0\ndtype: float64, Month\n11    1.210927\ndtype: float64, Month\n11    1.160968\ndtype: float64, Month\n11    0.69952\ndtype: float64, Month\n11    2.055577\ndtype: float64, Month\n11    1.900000\n12    1.259375\ndtype: float64, Month\n11    2.130712\ndtype: float64, Month\n11    2.621918\ndtype: float64, Month\n11    1.185466\ndtype: float64, Month\n11    2.536863\ndtype: float64, Month\n11    2.773263\ndtype: float64, Month\n11    2.990016\ndtype: float64, Month\n11    1.468996\ndtype: float64, Month\n11    1.314775\ndtype: float64, Month\n11    15.723077\ndtype: float64, Month\n11    5.04662\ndtype: float64, Month\n11    1.911364\ndtype: float64, Month\n11    1.271132\ndtype: float64, Month\n11    1.588733\ndtype: float64, Month\n11    1.920833\ndtype: float64, Month\n11    2.152404\ndtype: float64, Month\n11    1.75632\ndtype: float64, Month\n11    0.89\ndtype: float64, Month\n11    3.20375\ndtype: float64, Month\n11    4.95\ndtype: float64, Month\n11    2.932134\ndtype: float64, Month\n11    3.437146\ndtype: float64, Month\n11    0.835689\n12    1.756000\ndtype: float64, Month\n11    2.633692\ndtype: float64, Month\n11    2.021273\ndtype: float64, Month\n11    1.25\ndtype: float64, Month\n11    2.997048\ndtype: float64, Month\n11    1.639286\ndtype: float64, Month\n11    0.95879\ndtype: float64, Month\n11    2.741772\ndtype: float64, Month\n11    3.469672\ndtype: float64, Month\n11    1.612\ndtype: float64, Month\n11    3.138898\ndtype: float64, Month\n11    0.673601\ndtype: float64, Month\n11    2.76463\ndtype: float64, Month\n11    1.29\ndtype: float64, Month\n11    5.653424\ndtype: float64, Month\n11    1.227333\ndtype: float64, Month\n11    10.95\ndtype: float64, Month\n11    1.445368\ndtype: float64, Month\n11    2.35\ndtype: float64, Month\n11    2.808140\n12    1.865188\ndtype: float64, Month\n11    1.5363\ndtype: float64, Month\n11    0.753797\ndtype: float64, Month\n11    1.304407\ndtype: float64, Month\n11    3.042381\ndtype: float64, Month\n11    1.326376\ndtype: float64, Month\n11    1.943217\ndtype: float64, Month\n11    2.516374\ndtype: float64, Month\n11    1.1072\ndtype: float64, Month\n11    3.171356\ndtype: float64, Month\n11    3.865385\ndtype: float64, Month\n11    0.808228\ndtype: float64, Month\n11    1.5675\ndtype: float64, Month\n11    4.483333\ndtype: float64, Month\n11    2.532135\ndtype: float64, Month\n11    2.6125\ndtype: float64, Month\n11    1.148082\ndtype: float64, Month\n11    0.873094\ndtype: float64, Month\n11    0.748555\ndtype: float64, Month\n11    2.729412\ndtype: float64, Month\n11    6.361546\ndtype: float64, Month\n11    0.510644\ndtype: float64, Month\n11    0.734138\ndtype: float64, Month\n11    1.569011\ndtype: float64, Month\n11    1.864286\ndtype: float64, Month\n11    1.190271\ndtype: float64, Month\n11    1.278516\ndtype: float64, Month\n11    1.35\ndtype: float64, Month\n11    2.313571\ndtype: float64, Month\n11    1.993849\ndtype: float64, Month\n11    4.97625\ndtype: float64, Month\n11    0.834126\ndtype: float64, Month\n11    2.398392\ndtype: float64, Month\n11    1.336639\ndtype: float64, Month\n11    0.964286\ndtype: float64, Month\n11    3.75\ndtype: float64, Month\n11    4.145581\ndtype: float64, Month\n11    4.016667\ndtype: float64, Month\n11    1.518506\ndtype: float64, Month\n11    1.018541\n12    1.374298\ndtype: float64, Month\n11    1.655593\ndtype: float64, Month\n11    2.166306\ndtype: float64, Month\n11    3.178986\ndtype: float64, Month\n11    1.25\ndtype: float64, Month\n11    1.214675\ndtype: float64, Month\n11    2.86\ndtype: float64, Month\n11    2.740265\ndtype: float64, Month\n11    1.704545\ndtype: float64, Month\n11    2.708246\ndtype: float64, Month\n11    1.122708\ndtype: float64, Month\n11    5.543192\ndtype: float64, Month\n11    1.384343\n12    2.796056\ndtype: float64, Month\n11    6.71\ndtype: float64, Month\n11    0.34\ndtype: float64, Month\n11    1.704957\ndtype: float64, Month\n11    1.966866\ndtype: float64, Month\n11    0.745256\ndtype: float64, Month\n11    1.273101\ndtype: float64, Month\n11    0.744844\ndtype: float64, Month\n11    2.742481\ndtype: float64, Month\n11    3.146305\ndtype: float64, Month\n11    0.84\ndtype: float64, Month\n11    2.492911\ndtype: float64, Month\n11    2.460101\ndtype: float64, Month\n11    1.328647\n12    3.080286\ndtype: float64, Month\n11    0.800941\n12    2.765476\ndtype: float64, Month\n11    1.925801\ndtype: float64, Month\n11    6.730476\ndtype: float64, Month\n11    0.63871\ndtype: float64, Month\n11    1.77346\ndtype: float64, Month\n11    0.29\ndtype: float64, Month\n11    1.279094\n12    1.345391\ndtype: float64, Month\n11    1.899897\ndtype: float64, Month\n11    2.5\ndtype: float64, Month\n11    3.652982\ndtype: float64, Month\n11    3.291417\ndtype: float64, Month\n11    1.31871\ndtype: float64, Month\n11    0.63763\ndtype: float64, Month\n11    1.739664\ndtype: float64, Month\n11    1.861765\ndtype: float64, Month\n11    0.921429\ndtype: float64, Month\n11    1.127881\n12    1.011188\ndtype: float64, Month\n11    2.11875\ndtype: float64, Month\n11    1.878959\ndtype: float64, Month\n11    1.267273\ndtype: float64, Month\n11    2.66217\ndtype: float64, Month\n11    0.83\ndtype: float64, Month\n11    0.919412\ndtype: float64, Month\n11    1.631534\ndtype: float64, Month\n11    1.776346\ndtype: float64, Month\n11    2.95\ndtype: float64, Month\n11    1.738634\ndtype: float64, Month\n11    1.299055\ndtype: float64, Month\n11    2.782667\ndtype: float64, Month\n11    5.037189\ndtype: float64, Month\n11    1.7025\ndtype: float64, Month\n11    3.115\ndtype: float64, Month\n11    1.023102\ndtype: float64, Month\n11    1.891273\n12    2.295484\ndtype: float64, Month\n11    1.181034\ndtype: float64, Month\n11    1.960335\ndtype: float64, Month\n11    4.586364\ndtype: float64, Month\n11    3.566436\ndtype: float64, Month\n11    4.125\ndtype: float64, Month\n11    5.371146\ndtype: float64, Month\n11    1.452\ndtype: float64, Month\n11    3.426197\ndtype: float64, Month\n11    3.75\ndtype: float64, Month\n11    1.923364\n12    1.486667\ndtype: float64, Month\n11    5.104169\ndtype: float64, Month\n11    0.650688\ndtype: float64, Month\n11    2.647008\ndtype: float64, Month\n11    1.138862\ndtype: float64, Month\n11    1.090764\ndtype: float64, Month\n11    1.549249\ndtype: float64, Month\n11    1.239804\ndtype: float64, Month\n11    2.157358\ndtype: float64, Month\n11    1.845\ndtype: float64, Month\n11    1.802381\ndtype: float64, Month\n11    1.238251\ndtype: float64, Month\n11    1.0665\ndtype: float64, Month\n11    0.610347\ndtype: float64, Month\n11    2.224981\ndtype: float64, Month\n11    0.751087\ndtype: float64, Month\n11    0.794161\ndtype: float64, Month\n11    4.584\ndtype: float64, Month\n11    3.230146\ndtype: float64, Month\n11    1.951399\ndtype: float64, Month\n11    0.880893\ndtype: float64, Month\n11    2.473529\ndtype: float64, Month\n11    1.611176\ndtype: float64, Month\n11    1.273571\ndtype: float64, Month\n11    1.161792\ndtype: float64, Month\n11    3.151207\ndtype: float64, Month\n11    1.45\ndtype: float64, Month\n11    5.691468\ndtype: float64, Month\n11    6.443491\ndtype: float64, Month\n11    1.723077\ndtype: float64, Month\n11    4.083333\ndtype: float64, Month\n11    1.424338\n12    1.250000\ndtype: float64, Month\n11    2.949314\ndtype: float64, Month\n11    1.400449\ndtype: float64, Month\n11    8.25\ndtype: float64, Month\n11    1.937281\ndtype: float64, Month\n11    5.254656\ndtype: float64, Month\n11    1.599333\n12    1.454810\ndtype: float64, Month\n11    1.552326\ndtype: float64, Month\n11    3.088179\ndtype: float64, Month\n11    2.913545\ndtype: float64, Month\n11    1.933636\ndtype: float64, Month\n11    3.926786\ndtype: float64, Month\n11    2.925\ndtype: float64, Month\n11    1.066728\ndtype: float64, Month\n11    4.388825\ndtype: float64, Month\n11    2.135733\ndtype: float64, Month\n11    1.183527\n12    0.790952\ndtype: float64, Month\n11    6.068279\ndtype: float64, Month\n11    2.52\ndtype: float64, Month\n11    1.977213\ndtype: float64, Month\n11    6.301636\ndtype: float64, Month\n11    1.642287\ndtype: float64, Month\n11    3.132352\ndtype: float64, Month\n11    5.59338\ndtype: float64, Month\n12    3.543333\ndtype: float64, Month\n12    2.919587\ndtype: float64, Month\n12    1.960476\ndtype: float64, Month\n12    2.525\ndtype: float64, Month\n12    3.128315\ndtype: float64, Month\n12    1.929429\ndtype: float64, Month\n12    5.26139\ndtype: float64, Month\n12    4.499167\ndtype: float64, Month\n12    3.29\ndtype: float64, Month\n12    2.039474\ndtype: float64, Month\n12    2.08\ndtype: float64, Month\n12    2.724531\ndtype: float64, Month\n12    1.313317\ndtype: float64, Month\n12    4.25\ndtype: float64, Month\n12    2.409756\ndtype: float64, Month\n12    3.024674\ndtype: float64, Month\n12    1.723333\ndtype: float64, Month\n12    2.08\ndtype: float64, Month\n12    1.163206\ndtype: float64, Month\n12    2.043987\ndtype: float64, Month\n12    1.487939\ndtype: float64, Month\n12    2.082857\ndtype: float64, Month\n12    4.934816\ndtype: float64, Month\n12    7.95\ndtype: float64, Month\n12    1.667837\ndtype: float64, Month\n12    2.933023\ndtype: float64, Month\n12    1.497\ndtype: float64, Month\n12    6.261332\ndtype: float64, Month\n12    5.900492\ndtype: float64, Month\n12    1.459294\ndtype: float64, Month\n12    0.494\ndtype: float64, Month\n12    0.764522\ndtype: float64, Month\n12    4.15\ndtype: float64, Month\n12    0.489348\ndtype: float64, Month\n12    0.46631\ndtype: float64, Month\n12    3.75\ndtype: float64, Month\n12    1.153077\ndtype: float64, Month\n12    3.35\ndtype: float64, Month\n12    0.877326\ndtype: float64, Month\n12    2.27\ndtype: float64, Month\n12    3.417324\ndtype: float64, Month\n12    3.166021\ndtype: float64, Month\n12    1.3286\ndtype: float64, Month\n12    8.95\ndtype: float64, Month\n12    1.05\ndtype: float64, Month\n12    2.343305\ndtype: float64, Month\n12    4.948837\ndtype: float64, Month\n12    2.47\ndtype: float64, Month\n12    0.486947\ndtype: float64, Month\n12    0.711268\ndtype: float64, Month\n12    1.429298\ndtype: float64, Month\n12    0.795912\ndtype: float64, Month\n12    1.335484\ndtype: float64, Month\n12    3.294288\ndtype: float64, Month\n12    0.96976\ndtype: float64, Month\n12    0.702625\ndtype: float64, Month\n12    5.296164\ndtype: float64, Month\n12    2.425382\ndtype: float64, Month\n12    2.75\ndtype: float64, Month\n12    0.774582\ndtype: float64, Month\n12    1.96378\ndtype: float64, Month\n12    1.764962\ndtype: float64, Month\n12    1.87\ndtype: float64, Month\n12    3.613167\ndtype: float64, Month\n12    3.119717\ndtype: float64, Month\n12    2.590658\ndtype: float64, Month\n12    5.22447\ndtype: float64, Month\n12    1.093949\ndtype: float64, Month\n12    3.916456\ndtype: float64, Month\n12    3.75\ndtype: float64, Month\n12    2.878354\ndtype: float64, Month\n12    1.25\ndtype: float64, Month\n12    3.233783\ndtype: float64, Month\n12    3.325748\ndtype: float64, Month\n12    7.47599\ndtype: float64, Month\n12    5.063138\ndtype: float64, Month\n12    1.573366\ndtype: float64]\n"
     ]
    }
   ],
   "source": [
    "result = []\n",
    "for customer in df.CustomerID.unique():\n",
    "    result.append(df[df[\"CustomerID\"]==customer].groupby(\"Month\")[\"Total_Spent\"].sum()/df[df[\"CustomerID\"]==customer].groupby(\"Month\")[\"Qta\"].sum())\n",
    "print(result)"
   ]
  },
  {
   "source": [
    "# Working on week"
   ],
   "cell_type": "markdown",
   "metadata": {}
  },
  {
   "cell_type": "code",
   "execution_count": 42,
   "metadata": {},
   "outputs": [
    {
     "output_type": "execute_result",
     "data": {
      "text/plain": [
       "   BasketID           BasketDate  Sale CustomerID CustomerCountry  ProdID  \\\n",
       "0    536365  2010-12-01 08:26:00  2.55    17850.0  United Kingdom  85123A   \n",
       "1    536365  2010-12-01 08:26:00  3.39    17850.0  United Kingdom   71053   \n",
       "2    536365  2010-12-01 08:26:00  2.75    17850.0  United Kingdom  84406B   \n",
       "3    536365  2010-12-01 08:26:00  3.39    17850.0  United Kingdom  84029G   \n",
       "4    536365  2010-12-01 08:26:00  3.39    17850.0  United Kingdom  84029E   \n",
       "\n",
       "                             ProdDescr  Qta  Month  Total_Spent  Week  \n",
       "0   WHITE HANGING HEART T-LIGHT HOLDER    6     12        15.30    48  \n",
       "1                  WHITE METAL LANTERN    6     12        20.34    48  \n",
       "2       CREAM CUPID HEARTS COAT HANGER    8     12        22.00    48  \n",
       "3  KNITTED UNION FLAG HOT WATER BOTTLE    6     12        20.34    48  \n",
       "4       RED WOOLLY HOTTIE WHITE HEART.    6     12        20.34    48  "
      ],
      "text/html": "<div>\n<style scoped>\n    .dataframe tbody tr th:only-of-type {\n        vertical-align: middle;\n    }\n\n    .dataframe tbody tr th {\n        vertical-align: top;\n    }\n\n    .dataframe thead th {\n        text-align: right;\n    }\n</style>\n<table border=\"1\" class=\"dataframe\">\n  <thead>\n    <tr style=\"text-align: right;\">\n      <th></th>\n      <th>BasketID</th>\n      <th>BasketDate</th>\n      <th>Sale</th>\n      <th>CustomerID</th>\n      <th>CustomerCountry</th>\n      <th>ProdID</th>\n      <th>ProdDescr</th>\n      <th>Qta</th>\n      <th>Month</th>\n      <th>Total_Spent</th>\n      <th>Week</th>\n    </tr>\n  </thead>\n  <tbody>\n    <tr>\n      <th>0</th>\n      <td>536365</td>\n      <td>2010-12-01 08:26:00</td>\n      <td>2.55</td>\n      <td>17850.0</td>\n      <td>United Kingdom</td>\n      <td>85123A</td>\n      <td>WHITE HANGING HEART T-LIGHT HOLDER</td>\n      <td>6</td>\n      <td>12</td>\n      <td>15.30</td>\n      <td>48</td>\n    </tr>\n    <tr>\n      <th>1</th>\n      <td>536365</td>\n      <td>2010-12-01 08:26:00</td>\n      <td>3.39</td>\n      <td>17850.0</td>\n      <td>United Kingdom</td>\n      <td>71053</td>\n      <td>WHITE METAL LANTERN</td>\n      <td>6</td>\n      <td>12</td>\n      <td>20.34</td>\n      <td>48</td>\n    </tr>\n    <tr>\n      <th>2</th>\n      <td>536365</td>\n      <td>2010-12-01 08:26:00</td>\n      <td>2.75</td>\n      <td>17850.0</td>\n      <td>United Kingdom</td>\n      <td>84406B</td>\n      <td>CREAM CUPID HEARTS COAT HANGER</td>\n      <td>8</td>\n      <td>12</td>\n      <td>22.00</td>\n      <td>48</td>\n    </tr>\n    <tr>\n      <th>3</th>\n      <td>536365</td>\n      <td>2010-12-01 08:26:00</td>\n      <td>3.39</td>\n      <td>17850.0</td>\n      <td>United Kingdom</td>\n      <td>84029G</td>\n      <td>KNITTED UNION FLAG HOT WATER BOTTLE</td>\n      <td>6</td>\n      <td>12</td>\n      <td>20.34</td>\n      <td>48</td>\n    </tr>\n    <tr>\n      <th>4</th>\n      <td>536365</td>\n      <td>2010-12-01 08:26:00</td>\n      <td>3.39</td>\n      <td>17850.0</td>\n      <td>United Kingdom</td>\n      <td>84029E</td>\n      <td>RED WOOLLY HOTTIE WHITE HEART.</td>\n      <td>6</td>\n      <td>12</td>\n      <td>20.34</td>\n      <td>48</td>\n    </tr>\n  </tbody>\n</table>\n</div>"
     },
     "metadata": {},
     "execution_count": 42
    }
   ],
   "source": [
    "week = pd.DatetimeIndex(df['BasketDate']).week\n",
    "df[\"Week\"] = week\n",
    "df.head()"
   ]
  },
  {
   "source": [
    "## Average Qta per week"
   ],
   "cell_type": "markdown",
   "metadata": {}
  },
  {
   "cell_type": "code",
   "execution_count": 43,
   "metadata": {},
   "outputs": [
    {
     "output_type": "stream",
     "name": "stdout",
     "text": [
      "CustomerID  Week\n10023N      34      15.760000\n10202N      29       1.000000\n10353N      16       1.708333\n10370N      49       2.433099\n10374N      41       1.959184\n                      ...    \n99606N      43       6.833333\n99733N      33       1.000000\n9983N       13       8.000000\n99958N      1        1.750000\n99983N      39       2.072727\nName: Qta, Length: 16869, dtype: float64\n"
     ]
    }
   ],
   "source": [
    "print(df.groupby([\"CustomerID\",\"Week\"])[\"Qta\"].mean())"
   ]
  },
  {
   "source": [
    "## Average Total_Spent per week"
   ],
   "cell_type": "markdown",
   "metadata": {}
  },
  {
   "cell_type": "code",
   "execution_count": 44,
   "metadata": {},
   "outputs": [
    {
     "output_type": "stream",
     "name": "stdout",
     "text": [
      "CustomerID  Week\n10023N      34      62.100000\n10202N      29      12.750000\n10353N      16       7.724583\n10370N      49       9.789754\n10374N      41       6.314490\n                      ...    \n99606N      43      37.026667\n99733N      33       3.106667\n9983N       13      20.000000\n99958N      1        9.345417\n99983N      39       5.998273\nName: Total_Spent, Length: 16869, dtype: float64\n"
     ]
    }
   ],
   "source": [
    "print(df.groupby([\"CustomerID\",\"Week\"])[\"Total_Spent\"].mean())"
   ]
  },
  {
   "source": [
    "### Final Result"
   ],
   "cell_type": "markdown",
   "metadata": {}
  },
  {
   "cell_type": "code",
   "execution_count": 45,
   "metadata": {},
   "outputs": [
    {
     "output_type": "stream",
     "name": "stdout",
     "text": [
      "CustomerID == 16875\n",
      "Week\n",
      "1      6.363636\n",
      "7     10.458333\n",
      "29     7.461538\n",
      "40    10.962264\n",
      "Name: Qta, dtype: float64\n",
      "Week\n",
      "1     16.763636\n",
      "7     18.178750\n",
      "29    25.623846\n",
      "40    18.062830\n",
      "Name: Total_Spent, dtype: float64\n"
     ]
    }
   ],
   "source": [
    "print(\"CustomerID == 16875\")\n",
    "print(df[df[\"CustomerID\"]==\"16875.0\"].groupby(\"Week\")[\"Qta\"].mean())\n",
    "print(df[df[\"CustomerID\"]==\"16875.0\"].groupby(\"Week\")[\"Total_Spent\"].mean())"
   ]
  },
  {
   "cell_type": "code",
   "execution_count": 46,
   "metadata": {
    "tags": [
     "outputPrepend"
    ]
   },
   "outputs": [
    {
     "output_type": "stream",
     "name": "stdout",
     "text": [
      "eek\n43    2.524286\n46    1.943333\n47    2.632105\n48    2.656552\n49    2.135455\ndtype: float64, Week\n43    1.01067\ndtype: float64, Week\n43    1.563151\ndtype: float64, Week\n43    2.927647\ndtype: float64, Week\n43    1.193005\n46    1.493429\n47    2.325263\ndtype: float64, Week\n43    1.704293\n47    1.689665\n49    2.228681\ndtype: float64, Week\n43    1.517297\n47    1.536552\ndtype: float64, Week\n43    0.650013\ndtype: float64, Week\n43    1.968199\ndtype: float64, Week\n43    2.30\n46    1.95\ndtype: float64, Week\n43    1.978571\ndtype: float64, Week\n43    0.936760\n48    1.474054\ndtype: float64, Week\n43    2.096984\ndtype: float64, Week\n43    2.444091\ndtype: float64, Week\n43    1.785937\n48    1.880000\ndtype: float64, Week\n43    2.337966\ndtype: float64, Week\n44    1.123187\ndtype: float64, Week\n44    1.918969\ndtype: float64, Week\n44    2.974878\ndtype: float64, Week\n44    3.457357\ndtype: float64, Week\n44    1.2555\ndtype: float64, Week\n44    2.475\ndtype: float64, Week\n44    3.739059\ndtype: float64, Week\n44    6.25\ndtype: float64, Week\n44    4.983581\ndtype: float64, Week\n44    2.031734\ndtype: float64, Week\n44    5.474328\ndtype: float64, Week\n44    2.727939\ndtype: float64, Week\n44    3.363462\ndtype: float64, Week\n44    4.959127\ndtype: float64, Week\n44    4.811304\ndtype: float64, Week\n44    1.147194\n47    0.990227\ndtype: float64, Week\n44    0.854802\ndtype: float64, Week\n44    2.1796\ndtype: float64, Week\n44    1.598263\n49    0.800476\ndtype: float64, Week\n44    1.234508\ndtype: float64, Week\n44    2.283933\n48    1.961646\ndtype: float64, Week\n44    1.644961\ndtype: float64, Week\n44    2.334507\ndtype: float64, Week\n44    1.093836\n48    1.790000\ndtype: float64, Week\n44    0.430693\ndtype: float64, Week\n44    5.220968\n49    2.998387\ndtype: float64, Week\n44    4.96125\ndtype: float64, Week\n44    1.459091\ndtype: float64, Week\n44    1.423056\n47    1.855897\ndtype: float64, Week\n44    1.34325\ndtype: float64, Week\n44    1.353285\ndtype: float64, Week\n44    1.900000\n47    3.775905\n48    6.404429\n49    1.920139\ndtype: float64, Week\n44    1.235221\ndtype: float64, Week\n44    1.733183\n45    1.682021\n47    2.950000\n49    1.424603\ndtype: float64, Week\n44    2.328391\ndtype: float64, Week\n44    2.466957\ndtype: float64, Week\n44    2.172011\ndtype: float64, Week\n44    2.599773\ndtype: float64, Week\n44    1.051667\ndtype: float64, Week\n44    1.721364\n48    4.249091\n49    1.795714\ndtype: float64, Week\n44    2.084641\ndtype: float64, Week\n44    0.969073\ndtype: float64, Week\n44    3.697082\ndtype: float64, Week\n44    2.989182\ndtype: float64, Week\n44    1.857647\n47    1.603403\ndtype: float64, Week\n44    1.310144\ndtype: float64, Week\n44    1.529478\n47    2.063804\ndtype: float64, Week\n44    1.736207\ndtype: float64, Week\n44    1.416827\ndtype: float64, Week\n44    2.000275\ndtype: float64, Week\n44    2.742531\n48    2.321257\ndtype: float64, Week\n44    1.658671\ndtype: float64, Week\n44    1.775667\n49    1.024054\ndtype: float64, Week\n44    2.407009\ndtype: float64, Week\n44    1.72281\ndtype: float64, Week\n44    1.58358\ndtype: float64, Week\n44    3.19562\ndtype: float64, Week\n44    2.363433\ndtype: float64, Week\n44    2.568560\n48    1.153071\ndtype: float64, Week\n44    1.836761\n48    1.906646\ndtype: float64, Week\n44    1.150261\n48    1.172543\ndtype: float64, Week\n44    0.480639\ndtype: float64, Week\n44    1.873954\n46    2.021830\ndtype: float64, Week\n44    5.071023\ndtype: float64, Week\n44    4.016667\ndtype: float64, Week\n44    0.77\ndtype: float64, Week\n44    1.679022\ndtype: float64, Week\n44    0.907758\ndtype: float64, Week\n44    1.648995\ndtype: float64, Week\n44    1.417468\ndtype: float64, Week\n44    1.163333\ndtype: float64, Week\n44    8.25\ndtype: float64, Week\n44    1.457099\ndtype: float64, Week\n44    1.241274\ndtype: float64, Week\n44    1.023714\ndtype: float64, Week\n44    1.624312\ndtype: float64, Week\n44    0.85\ndtype: float64, Week\n44    2.794796\ndtype: float64, Week\n44    3.756061\n45    3.715217\ndtype: float64, Week\n44    1.993333\ndtype: float64, Week\n44    4.451321\n48    7.080000\ndtype: float64, Week\n44    1.419836\n46    1.468691\ndtype: float64, Week\n44    1.859000\n45    2.628571\ndtype: float64, Week\n44    1.63031\ndtype: float64, Week\n44    2.076667\ndtype: float64, Week\n44    1.185821\n49    1.956505\ndtype: float64, Week\n44    2.216446\ndtype: float64, Week\n44    0.833707\ndtype: float64, Week\n44    0.893002\ndtype: float64, Week\n44    1.430426\ndtype: float64, Week\n44    1.654348\ndtype: float64, Week\n44    1.815868\n48    1.987979\ndtype: float64, Week\n44    1.996667\n49    1.673642\ndtype: float64, Week\n44    1.288212\n46    1.517378\ndtype: float64, Week\n44    6.185\ndtype: float64, Week\n44    2.95\ndtype: float64, Week\n44    1.994762\ndtype: float64, Week\n44    2.292345\ndtype: float64, Week\n44    1.25\ndtype: float64, Week\n45    1.790905\ndtype: float64, Week\n45    1.056985\ndtype: float64, Week\n45    0.95\ndtype: float64, Week\n45    1.988868\ndtype: float64, Week\n45    5.458018\ndtype: float64, Week\n45    3.883636\n47    2.864375\ndtype: float64, Week\n45    1.090156\ndtype: float64, Week\n45    0.817871\ndtype: float64, Week\n45    2.736454\n46    0.802427\ndtype: float64, Week\n45    1.116250\n46    1.516793\ndtype: float64, Week\n45    1.646176\ndtype: float64, Week\n45    4.029057\ndtype: float64, Week\n45    1.025455\ndtype: float64, Week\n45    2.850202\ndtype: float64, Week\n45    1.904574\ndtype: float64, Week\n45    4.428403\ndtype: float64, Week\n45    1.02134\n49    1.34034\ndtype: float64, Week\n45    1.283483\ndtype: float64, Week\n45    1.35\ndtype: float64, Week\n45    2.032654\ndtype: float64, Week\n45    4.15\ndtype: float64, Week\n45    0.825204\n46    1.316634\ndtype: float64, Week\n45    4.15\ndtype: float64, Week\n45    1.79\ndtype: float64, Week\n45    2.402\ndtype: float64, Week\n45    6.343176\ndtype: float64, Week\n45    1.661084\ndtype: float64, Week\n45    2.40875\ndtype: float64, Week\n45    0.657407\ndtype: float64, Week\n45    1.662879\ndtype: float64, Week\n45    2.684848\ndtype: float64, Week\n45    3.386561\ndtype: float64, Week\n45    1.419831\n48    1.181338\ndtype: float64, Week\n45    1.711659\ndtype: float64, Week\n45    1.959792\ndtype: float64, Week\n45    2.395455\n48    1.950000\ndtype: float64, Week\n45    1.456452\ndtype: float64, Week\n45    2.078344\ndtype: float64, Week\n45    4.014286\ndtype: float64, Week\n45    1.162126\ndtype: float64, Week\n45    1.25\ndtype: float64, Week\n45    1.753448\ndtype: float64, Week\n45    2.859091\ndtype: float64, Week\n45    0.627313\ndtype: float64, Week\n45    1.2\ndtype: float64, Week\n45    0.975333\n48    0.632000\ndtype: float64, Week\n45    1.801154\ndtype: float64, Week\n45    2.08\ndtype: float64, Week\n45    3.245008\ndtype: float64, Week\n45    1.143191\ndtype: float64, Week\n45    1.812274\n48    1.830679\ndtype: float64, Week\n45    41.142857\n46    85.000000\n47    85.000000\ndtype: float64, Week\n45    5.303717\ndtype: float64, Week\n45    1.300769\ndtype: float64, Week\n45    0.708462\ndtype: float64, Week\n45    0.879448\n46    1.029945\ndtype: float64, Week\n45    2.306522\ndtype: float64, Week\n45    2.8125\ndtype: float64, Week\n45    1.19\ndtype: float64, Week\n45    0.842515\ndtype: float64, Week\n45    3.649167\ndtype: float64, Week\n45    1.669155\ndtype: float64, Week\n45    2.020909\ndtype: float64, Week\n45    4.25\ndtype: float64, Week\n45    1.42458\ndtype: float64, Week\n45    1.464228\ndtype: float64, Week\n45    2.410638\n47    2.076923\n48    1.473039\ndtype: float64, Week\n45    1.25\ndtype: float64, Week\n45    1.905497\ndtype: float64, Week\n45    4.599167\ndtype: float64, Week\n45    1.703793\ndtype: float64, Week\n45    2.797509\ndtype: float64, Week\n45    4.669546\ndtype: float64, Week\n45    0.514444\ndtype: float64, Week\n45    1.116667\ndtype: float64, Week\n45    2.398276\ndtype: float64, Week\n45    1.013343\n49    0.700867\ndtype: float64, Week\n45    2.162785\ndtype: float64, Week\n45    3.014753\ndtype: float64, Week\n45    1.738302\ndtype: float64, Week\n45    1.384348\ndtype: float64, Week\n45    1.585249\ndtype: float64, Week\n45    2.439355\n49    1.433456\ndtype: float64, Week\n45    0.973333\ndtype: float64, Week\n45    2.365224\ndtype: float64, Week\n45    0.987671\ndtype: float64, Week\n45    1.3\ndtype: float64, Week\n45    0.742103\ndtype: float64, Week\n45    1.666667\ndtype: float64, Week\n45    3.160956\ndtype: float64, Week\n45    1.05\ndtype: float64, Week\n45    4.694111\ndtype: float64, Week\n45    3.084286\ndtype: float64, Week\n45    0.789184\ndtype: float64, Week\n45    1.870424\ndtype: float64, Week\n45    3.95\ndtype: float64, Week\n45    1.808571\n48    2.243219\ndtype: float64, Week\n45    1.486429\ndtype: float64, Week\n45    1.909067\n48    1.363991\ndtype: float64, Week\n45    1.002073\ndtype: float64, Week\n45    0.50612\ndtype: float64, Week\n45    0.852967\ndtype: float64, Week\n46    0.669410\n49    0.451494\ndtype: float64, Week\n46    1.516957\ndtype: float64, Week\n46    1.525963\ndtype: float64, Week\n46    1.518382\ndtype: float64, Week\n46    0.815286\ndtype: float64, Week\n46    2.049231\ndtype: float64, Week\n46    0.734478\ndtype: float64, Week\n46    1.132641\ndtype: float64, Week\n46    0.51778\ndtype: float64, Week\n46    1.036154\ndtype: float64, Week\n46    1.418699\n48    2.154646\ndtype: float64, Week\n46    2.817\ndtype: float64, Week\n46    2.101503\n48    1.262833\ndtype: float64, Week\n46    1.392414\ndtype: float64, Week\n46    1.881905\ndtype: float64, Week\n46    1.288089\ndtype: float64, Week\n46    0.924389\ndtype: float64, Week\n46    3.323169\ndtype: float64, Week\n46    1.837552\ndtype: float64, Week\n46    1.913920\n47    2.114182\ndtype: float64, Week\n46    3.204823\ndtype: float64, Week\n46    1.50487\ndtype: float64, Week\n46    0.590696\ndtype: float64, Week\n46    1.441495\ndtype: float64, Week\n46    4.465104\ndtype: float64, Week\n46    4.367021\ndtype: float64, Week\n46    110.0\ndtype: float64, Week\n46    1.210927\ndtype: float64, Week\n46    1.160968\ndtype: float64, Week\n46    0.69952\ndtype: float64, Week\n46    2.055577\ndtype: float64, Week\n46    1.900000\n48    1.636034\n49    0.720000\ndtype: float64, Week\n46    2.130712\ndtype: float64, Week\n46    2.621918\ndtype: float64, Week\n46    1.185466\ndtype: float64, Week\n46    2.536863\ndtype: float64, Week\n46    2.773263\ndtype: float64, Week\n46    2.990016\ndtype: float64, Week\n46    1.468996\ndtype: float64, Week\n46    1.314775\ndtype: float64, Week\n46    15.723077\ndtype: float64, Week\n46    5.04662\ndtype: float64, Week\n46    1.911364\ndtype: float64, Week\n46    1.021481\n47    1.084848\n48    1.932051\ndtype: float64, Week\n46    1.588733\ndtype: float64, Week\n46    1.920833\ndtype: float64, Week\n46    2.152404\ndtype: float64, Week\n46    1.75632\ndtype: float64, Week\n46    0.89\ndtype: float64, Week\n46    3.20375\ndtype: float64, Week\n46    4.95\ndtype: float64, Week\n46    2.932134\ndtype: float64, Week\n46    3.437146\ndtype: float64, Week\n46    0.682236\n48    1.038197\n49    1.756000\ndtype: float64, Week\n46    2.633692\ndtype: float64, Week\n46    2.021273\ndtype: float64, Week\n46    1.25\ndtype: float64, Week\n46    3.083544\n48    2.734231\ndtype: float64, Week\n46    1.639286\ndtype: float64, Week\n46    0.95879\ndtype: float64, Week\n46    2.741772\ndtype: float64, Week\n46    3.469672\ndtype: float64, Week\n46    1.612\ndtype: float64, Week\n46    3.138898\ndtype: float64, Week\n46    0.673601\ndtype: float64, Week\n46    2.76463\ndtype: float64, Week\n46    1.29\ndtype: float64, Week\n46    5.653424\ndtype: float64, Week\n46    1.227333\ndtype: float64, Week\n46    10.95\ndtype: float64, Week\n46    1.445368\ndtype: float64, Week\n46    2.35\ndtype: float64, Week\n46    2.816400\n48    2.796667\n49    1.865188\ndtype: float64, Week\n46    1.5363\ndtype: float64, Week\n46    0.753797\ndtype: float64, Week\n46    1.304407\ndtype: float64, Week\n46    3.042381\ndtype: float64, Week\n46    1.326376\ndtype: float64, Week\n46    1.943217\ndtype: float64, Week\n46    2.516374\ndtype: float64, Week\n46    1.1072\ndtype: float64, Week\n46    3.171356\ndtype: float64, Week\n46    3.865385\ndtype: float64, Week\n46    0.808228\ndtype: float64, Week\n46    1.5675\ndtype: float64, Week\n46    4.483333\ndtype: float64, Week\n46    2.532135\ndtype: float64, Week\n46    2.6125\ndtype: float64, Week\n46    1.148082\ndtype: float64, Week\n46    0.873094\ndtype: float64, Week\n46    0.647299\n47    0.634658\n48    2.562245\ndtype: float64, Week\n46    2.729412\ndtype: float64, Week\n46    6.361546\ndtype: float64, Week\n46    0.510644\ndtype: float64, Week\n46    0.734138\ndtype: float64, Week\n46    1.569011\ndtype: float64, Week\n46    1.864286\ndtype: float64, Week\n46    1.190271\ndtype: float64, Week\n47    1.278516\ndtype: float64, Week\n47    1.35\ndtype: float64, Week\n47    2.313571\ndtype: float64, Week\n47    1.993849\ndtype: float64, Week\n47    4.97625\ndtype: float64, Week\n47    0.834126\ndtype: float64, Week\n47    2.398392\ndtype: float64, Week\n47    1.336639\ndtype: float64, Week\n47    0.964286\ndtype: float64, Week\n47    3.75\ndtype: float64, Week\n47    4.145581\ndtype: float64, Week\n47    4.016667\ndtype: float64, Week\n47    1.518506\ndtype: float64, Week\n47    1.018541\n49    1.374298\ndtype: float64, Week\n47    1.655593\ndtype: float64, Week\n47    2.166306\ndtype: float64, Week\n47    3.178986\ndtype: float64, Week\n47    1.25\ndtype: float64, Week\n47    1.214675\ndtype: float64, Week\n47    2.86\ndtype: float64, Week\n47    2.740265\ndtype: float64, Week\n47    1.704545\ndtype: float64, Week\n47    2.708246\ndtype: float64, Week\n47    1.122708\ndtype: float64, Week\n47    5.543192\ndtype: float64, Week\n47    1.384343\n49    2.796056\ndtype: float64, Week\n47    6.71\ndtype: float64, Week\n47    0.34\ndtype: float64, Week\n47    1.704957\ndtype: float64, Week\n47    1.966866\ndtype: float64, Week\n47    0.745256\ndtype: float64, Week\n47    1.273101\ndtype: float64, Week\n47    0.744844\ndtype: float64, Week\n47    2.742481\ndtype: float64, Week\n47    3.146305\ndtype: float64, Week\n47    0.84\ndtype: float64, Week\n47    2.492911\ndtype: float64, Week\n47    2.460101\ndtype: float64, Week\n47    1.328647\n48    3.080286\ndtype: float64, Week\n47    0.800941\n49    2.765476\ndtype: float64, Week\n47    1.925801\ndtype: float64, Week\n47    6.730476\ndtype: float64, Week\n47    0.63871\ndtype: float64, Week\n47    1.77346\ndtype: float64, Week\n47    0.29\ndtype: float64, Week\n47    1.279094\n49    1.345391\ndtype: float64, Week\n47    1.899897\ndtype: float64, Week\n47    2.5\ndtype: float64, Week\n47    3.652982\ndtype: float64, Week\n47    3.291417\ndtype: float64, Week\n47    1.31871\ndtype: float64, Week\n47    0.63763\ndtype: float64, Week\n47    1.739664\ndtype: float64, Week\n47    1.861765\ndtype: float64, Week\n47    1.096667\n48    0.790000\ndtype: float64, Week\n47    1.127881\n49    1.011188\ndtype: float64, Week\n47    2.11875\ndtype: float64, Week\n47    1.878959\ndtype: float64, Week\n47    1.267273\ndtype: float64, Week\n47    2.66217\ndtype: float64, Week\n47    0.83\ndtype: float64, Week\n47    0.919412\ndtype: float64, Week\n47    1.631534\ndtype: float64, Week\n47    1.776346\ndtype: float64, Week\n47    2.95\ndtype: float64, Week\n47    1.738634\ndtype: float64, Week\n47    1.299055\ndtype: float64, Week\n47    2.782667\ndtype: float64, Week\n47    5.037189\ndtype: float64, Week\n47    1.7025\ndtype: float64, Week\n47    3.115\ndtype: float64, Week\n47    1.023102\ndtype: float64, Week\n47    1.891273\n49    2.295484\ndtype: float64, Week\n47    1.163043\n48    1.250000\ndtype: float64, Week\n47    1.960335\ndtype: float64, Week\n47    4.586364\ndtype: float64, Week\n47    3.566436\ndtype: float64, Week\n47    4.125\ndtype: float64, Week\n47    5.371146\ndtype: float64, Week\n47    1.452\ndtype: float64, Week\n47    3.426197\ndtype: float64, Week\n47    3.75\ndtype: float64, Week\n47    1.923364\n48    1.486667\ndtype: float64, Week\n47    5.104169\ndtype: float64, Week\n47    0.650688\ndtype: float64, Week\n47    2.647008\ndtype: float64, Week\n47    1.138862\ndtype: float64, Week\n47    1.090764\ndtype: float64, Week\n48    1.549249\ndtype: float64, Week\n48    1.239804\ndtype: float64, Week\n48    2.157358\ndtype: float64, Week\n48    1.845\ndtype: float64, Week\n48    1.802381\ndtype: float64, Week\n48    1.238251\ndtype: float64, Week\n48    1.0665\ndtype: float64, Week\n48    0.610347\ndtype: float64, Week\n48    2.224981\ndtype: float64, Week\n48    0.751087\ndtype: float64, Week\n48    0.794161\ndtype: float64, Week\n48    4.584\ndtype: float64, Week\n48    3.230146\ndtype: float64, Week\n48    1.951399\ndtype: float64, Week\n48    0.880893\ndtype: float64, Week\n48    2.473529\ndtype: float64, Week\n48    1.611176\ndtype: float64, Week\n48    1.273571\ndtype: float64, Week\n48    1.161792\ndtype: float64, Week\n48    3.151207\ndtype: float64, Week\n48    1.45\ndtype: float64, Week\n48    5.691468\ndtype: float64, Week\n48    6.443491\ndtype: float64, Week\n48    1.723077\ndtype: float64, Week\n48    4.083333\ndtype: float64, Week\n48    1.405306\ndtype: float64, Week\n48    2.949314\ndtype: float64, Week\n48    1.400449\ndtype: float64, Week\n48    8.25\ndtype: float64, Week\n48    1.937281\ndtype: float64, Week\n48    5.254656\ndtype: float64, Week\n48    1.673672\n49    1.225633\ndtype: float64, Week\n48    1.552326\ndtype: float64, Week\n48    3.088179\ndtype: float64, Week\n48    2.913545\ndtype: float64, Week\n48    1.933636\ndtype: float64, Week\n48    3.926786\ndtype: float64, Week\n48    2.925\ndtype: float64, Week\n48    1.066728\ndtype: float64, Week\n48    4.388825\ndtype: float64, Week\n48    2.135733\ndtype: float64, Week\n48    1.152061\ndtype: float64, Week\n48    6.068279\ndtype: float64, Week\n48    2.52\ndtype: float64, Week\n48    1.977213\ndtype: float64, Week\n48    6.301636\ndtype: float64, Week\n48    1.642287\ndtype: float64, Week\n48    3.132352\ndtype: float64, Week\n48    5.59338\ndtype: float64, Week\n48    3.543333\ndtype: float64, Week\n48    2.919587\ndtype: float64, Week\n48    1.960476\ndtype: float64, Week\n48    2.525\ndtype: float64, Week\n48    3.128315\ndtype: float64, Week\n48    1.929429\ndtype: float64, Week\n48    5.26139\ndtype: float64, Week\n48    4.499167\ndtype: float64, Week\n48    3.29\ndtype: float64, Week\n48    2.039474\ndtype: float64, Week\n48    2.08\ndtype: float64, Week\n48    2.724531\ndtype: float64, Week\n48    1.313317\ndtype: float64, Week\n48    4.25\ndtype: float64, Week\n48    2.409756\ndtype: float64, Week\n48    3.024674\ndtype: float64, Week\n48    1.723333\ndtype: float64, Week\n48    2.08\ndtype: float64, Week\n48    1.163206\ndtype: float64, Week\n48    2.043987\ndtype: float64, Week\n48    1.487939\ndtype: float64, Week\n48    2.082857\ndtype: float64, Week\n48    4.934816\ndtype: float64, Week\n48    7.95\ndtype: float64, Week\n48    1.667837\ndtype: float64, Week\n48    2.933023\ndtype: float64, Week\n48    1.497\ndtype: float64, Week\n49    6.261332\ndtype: float64, Week\n49    5.900492\ndtype: float64, Week\n49    1.459294\ndtype: float64, Week\n49    0.494\ndtype: float64, Week\n49    0.764522\ndtype: float64, Week\n49    4.15\ndtype: float64, Week\n49    0.489348\ndtype: float64, Week\n49    0.46631\ndtype: float64, Week\n49    3.75\ndtype: float64, Week\n49    1.153077\ndtype: float64, Week\n49    3.35\ndtype: float64, Week\n49    0.877326\ndtype: float64, Week\n49    2.27\ndtype: float64, Week\n49    3.417324\ndtype: float64, Week\n49    3.166021\ndtype: float64, Week\n49    1.3286\ndtype: float64, Week\n49    8.95\ndtype: float64, Week\n49    1.05\ndtype: float64, Week\n49    2.343305\ndtype: float64, Week\n49    4.948837\ndtype: float64, Week\n49    2.47\ndtype: float64, Week\n49    0.486947\ndtype: float64, Week\n49    0.711268\ndtype: float64, Week\n49    1.429298\ndtype: float64, Week\n49    0.795912\ndtype: float64, Week\n49    1.335484\ndtype: float64, Week\n49    3.294288\ndtype: float64, Week\n49    0.96976\ndtype: float64, Week\n49    0.702625\ndtype: float64, Week\n49    5.296164\ndtype: float64, Week\n49    2.425382\ndtype: float64, Week\n49    2.75\ndtype: float64, Week\n49    0.774582\ndtype: float64, Week\n49    1.96378\ndtype: float64, Week\n49    1.764962\ndtype: float64, Week\n49    1.87\ndtype: float64, Week\n49    3.613167\ndtype: float64, Week\n49    3.119717\ndtype: float64, Week\n49    2.590658\ndtype: float64, Week\n49    5.22447\ndtype: float64, Week\n49    1.093949\ndtype: float64, Week\n49    3.916456\ndtype: float64, Week\n49    3.75\ndtype: float64, Week\n49    2.878354\ndtype: float64, Week\n49    1.25\ndtype: float64, Week\n49    3.233783\ndtype: float64, Week\n49    3.325748\ndtype: float64, Week\n49    7.47599\ndtype: float64, Week\n49    5.063138\ndtype: float64, Week\n49    1.573366\ndtype: float64]\n"
     ]
    }
   ],
   "source": [
    "result = []\n",
    "for customer in df.CustomerID.unique():\n",
    "    result.append(df[df[\"CustomerID\"]==customer].groupby(\"Week\")[\"Total_Spent\"].sum()/df[df[\"CustomerID\"]==customer].groupby(\"Week\")[\"Qta\"].sum())\n",
    "print(result)"
   ]
  },
  {
   "cell_type": "code",
   "execution_count": null,
   "metadata": {},
   "outputs": [],
   "source": []
  }
 ]
}