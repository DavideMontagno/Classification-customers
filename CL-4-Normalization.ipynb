{
 "metadata": {
  "language_info": {
   "codemirror_mode": {
    "name": "ipython",
    "version": 3
   },
   "file_extension": ".py",
   "mimetype": "text/x-python",
   "name": "python",
   "nbconvert_exporter": "python",
   "pygments_lexer": "ipython3",
   "version": "3.8.1-final"
  },
  "orig_nbformat": 2,
  "kernelspec": {
   "name": "python3",
   "display_name": "Python 3",
   "language": "python"
  }
 },
 "nbformat": 4,
 "nbformat_minor": 2,
 "cells": [
  {
   "source": [
    "# Normalizzazione\n",
    "In questa sezione il dataset scelto per la classificazione viene normalizzato con MinMax Scaler"
   ],
   "cell_type": "markdown",
   "metadata": {}
  },
  {
   "cell_type": "code",
   "execution_count": 9,
   "metadata": {},
   "outputs": [
    {
     "output_type": "execute_result",
     "data": {
      "text/plain": [
       "   Imax         E    PIL          Mt         TsW      NbxW      MeanD  \\\n",
       "0    12  4.335643  2.567   18.202218  100.627358  0.641509   0.000000   \n",
       "1    32  6.503112  2.567   18.970947   60.492264  0.169811  35.000000   \n",
       "2   360  6.504979  2.752   28.764242  125.368679  0.283019  24.266667   \n",
       "3    80  4.494680  2.567   33.866071   17.891509  0.094340  55.400000   \n",
       "4    32  0.000000  2.567  292.000000   16.528302  0.056604  13.000000   \n",
       "\n",
       "   Eday_of_week  class  \n",
       "0      0.845790      0  \n",
       "1      1.942764      1  \n",
       "2      2.396410      1  \n",
       "3      1.177965      0  \n",
       "4      0.918296      1  "
      ],
      "text/html": "<div>\n<style scoped>\n    .dataframe tbody tr th:only-of-type {\n        vertical-align: middle;\n    }\n\n    .dataframe tbody tr th {\n        vertical-align: top;\n    }\n\n    .dataframe thead th {\n        text-align: right;\n    }\n</style>\n<table border=\"1\" class=\"dataframe\">\n  <thead>\n    <tr style=\"text-align: right;\">\n      <th></th>\n      <th>Imax</th>\n      <th>E</th>\n      <th>PIL</th>\n      <th>Mt</th>\n      <th>TsW</th>\n      <th>NbxW</th>\n      <th>MeanD</th>\n      <th>Eday_of_week</th>\n      <th>class</th>\n    </tr>\n  </thead>\n  <tbody>\n    <tr>\n      <th>0</th>\n      <td>12</td>\n      <td>4.335643</td>\n      <td>2.567</td>\n      <td>18.202218</td>\n      <td>100.627358</td>\n      <td>0.641509</td>\n      <td>0.000000</td>\n      <td>0.845790</td>\n      <td>0</td>\n    </tr>\n    <tr>\n      <th>1</th>\n      <td>32</td>\n      <td>6.503112</td>\n      <td>2.567</td>\n      <td>18.970947</td>\n      <td>60.492264</td>\n      <td>0.169811</td>\n      <td>35.000000</td>\n      <td>1.942764</td>\n      <td>1</td>\n    </tr>\n    <tr>\n      <th>2</th>\n      <td>360</td>\n      <td>6.504979</td>\n      <td>2.752</td>\n      <td>28.764242</td>\n      <td>125.368679</td>\n      <td>0.283019</td>\n      <td>24.266667</td>\n      <td>2.396410</td>\n      <td>1</td>\n    </tr>\n    <tr>\n      <th>3</th>\n      <td>80</td>\n      <td>4.494680</td>\n      <td>2.567</td>\n      <td>33.866071</td>\n      <td>17.891509</td>\n      <td>0.094340</td>\n      <td>55.400000</td>\n      <td>1.177965</td>\n      <td>0</td>\n    </tr>\n    <tr>\n      <th>4</th>\n      <td>32</td>\n      <td>0.000000</td>\n      <td>2.567</td>\n      <td>292.000000</td>\n      <td>16.528302</td>\n      <td>0.056604</td>\n      <td>13.000000</td>\n      <td>0.918296</td>\n      <td>1</td>\n    </tr>\n  </tbody>\n</table>\n</div>"
     },
     "metadata": {},
     "execution_count": 9
    }
   ],
   "source": [
    "import numpy as np\n",
    "import pandas as pd\n",
    "import matplotlib.pyplot as plt\n",
    "from sklearn.preprocessing import StandardScaler, MinMaxScaler\n",
    "\n",
    "\n",
    "df = pd.read_csv(\"dataset/CL_over-dataset.csv\",sep='\\t',decimal=\",\",index_col=0)\n",
    "df.head()"
   ]
  },
  {
   "source": [
    "## Normalizzazione con MinMaxScalar"
   ],
   "cell_type": "markdown",
   "metadata": {}
  },
  {
   "cell_type": "code",
   "execution_count": 10,
   "metadata": {},
   "outputs": [
    {
     "output_type": "stream",
     "name": "stdout",
     "text": [
      "[[2.29214420e-03 4.18976976e-01 1.67671736e-01 8.45717120e-04\n  1.91206088e-02 1.62561576e-01 0.00000000e+00 3.30586860e-01]\n [6.45967910e-03 6.28431304e-01 1.67671736e-01 8.84525514e-04\n  1.14902291e-02 3.94088670e-02 1.91780822e-01 7.59352158e-01]\n [7.48072515e-02 6.28611740e-01 1.79798112e-01 1.37892916e-03\n  2.38243642e-02 6.89655172e-02 1.32968037e-01 9.36665287e-01]\n [1.64617629e-02 4.34345594e-01 1.67671736e-01 1.63648932e-03\n  3.39108454e-03 1.97044335e-02 3.03561644e-01 4.60421648e-01]\n [6.45967910e-03 0.00000000e+00 1.67671736e-01 1.46680937e-02\n  3.13191507e-03 9.85221675e-03 7.12328767e-02 3.58926766e-01]]\n"
     ]
    }
   ],
   "source": [
    "#Imax         E    PIL         Mt        TsW      NbxW  MeanD  Eday_of_week\n",
    "col_names = ['Imax','E','PIL', 'Mt', 'TsW', 'NbxW','MeanD','Eday_of_week']\n",
    "features = df[col_names]\n",
    "scaler = MinMaxScaler()\n",
    "X = scaler.fit_transform(features.values)# Contiene i valori su cui effettuare il clustering\n",
    "\n",
    "X_complete=df.copy()# Contiene oltre agli attributi per il clustering anche il custemerID\n",
    "X_complete[col_names] = X\n",
    "print(X[:5])"
   ]
  },
  {
   "cell_type": "code",
   "execution_count": 11,
   "metadata": {},
   "outputs": [],
   "source": [
    "X_complete.to_csv('dataset/CL_over_Normalized-dataset.csv', sep='\\t', index=True, decimal=\",\")"
   ]
  },
  {
   "cell_type": "code",
   "execution_count": 12,
   "metadata": {},
   "outputs": [
    {
     "output_type": "stream",
     "name": "stdout",
     "text": [
      "          Imax         E       PIL        Mt       TsW      NbxW     MeanD  \\\n0     0.002292  0.418977  0.167672  0.000846  0.019121  0.162562  0.000000   \n1     0.006460  0.628431  0.167672  0.000885  0.011490  0.039409  0.191781   \n2     0.074807  0.628612  0.179798  0.001379  0.023824  0.068966  0.132968   \n3     0.016462  0.434346  0.167672  0.001636  0.003391  0.019704  0.303562   \n4     0.006460  0.000000  0.167672  0.014668  0.003132  0.009852  0.071233   \n...        ...       ...       ...       ...       ...       ...       ...   \n5632  0.034174  0.643514  0.167672  0.003462  0.059438  0.124330  0.071822   \n5633  0.012294  0.641771  0.167672  0.001322  0.010815  0.017108  0.271735   \n5634  0.050010  0.476667  0.167672  0.001762  0.004422  0.004926  0.521144   \n5635  0.011044  0.523249  0.167672  0.000993  0.002822  0.000000  0.000000   \n5636  0.015212  0.693070  0.167672  0.000812  0.009889  0.014778  0.079254   \n\n      Eday_of_week  class  \n0         0.330587      0  \n1         0.759352      1  \n2         0.936665      1  \n3         0.460422      0  \n4         0.358927      1  \n...            ...    ...  \n5632      0.774907      2  \n5633      0.647830      2  \n5634      0.352426      2  \n5635      0.000000      2  \n5636      0.409597      2  \n\n[5637 rows x 9 columns]\n"
     ]
    }
   ],
   "source": [
    "print(X_complete)"
   ]
  },
  {
   "cell_type": "code",
   "execution_count": null,
   "metadata": {},
   "outputs": [],
   "source": []
  }
 ]
}