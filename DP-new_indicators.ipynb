{
 "metadata": {
  "language_info": {
   "codemirror_mode": {
    "name": "ipython",
    "version": 3
   },
   "file_extension": ".py",
   "mimetype": "text/x-python",
   "name": "python",
   "nbconvert_exporter": "python",
   "pygments_lexer": "ipython3",
   "version": "3.7.8-final"
  },
  "orig_nbformat": 2,
  "kernelspec": {
   "name": "Python 3.7.8 64-bit",
   "display_name": "Python 3.7.8 64-bit",
   "metadata": {
    "interpreter": {
     "hash": "57baa5815c940fdaff4d14510622de9616cae602444507ba5d0b6727c008cbd6"
    }
   }
  }
 },
 "nbformat": 4,
 "nbformat_minor": 2,
 "cells": [
  {
   "source": [
    "# Data preparation\n",
    "In questa sezione estrarremo i dati rilevanti per il clustering dei clienti.\n",
    "\n",
    "## Import dataset"
   ],
   "cell_type": "markdown",
   "metadata": {}
  },
  {
   "cell_type": "code",
   "execution_count": 19,
   "metadata": {},
   "outputs": [],
   "source": [
    "import numpy as np\n",
    "import pandas as pd\n",
    "import matplotlib.pyplot as plt"
   ]
  },
  {
   "cell_type": "code",
   "execution_count": 20,
   "metadata": {},
   "outputs": [
    {
     "output_type": "stream",
     "name": "stdout",
     "text": [
      "<class 'pandas.core.frame.DataFrame'>\nInt64Index: 456644 entries, 0 to 541908\nData columns (total 8 columns):\n #   Column           Non-Null Count   Dtype  \n---  ------           --------------   -----  \n 0   BasketID         456644 non-null  int64  \n 1   BasketDate       456644 non-null  object \n 2   Sale             456644 non-null  float64\n 3   CustomerID       456644 non-null  object \n 4   CustomerCountry  456644 non-null  object \n 5   ProdID           456644 non-null  object \n 6   ProdDescr        456644 non-null  object \n 7   Qta              456644 non-null  int64  \ndtypes: float64(1), int64(2), object(5)\nmemory usage: 31.4+ MB\n"
     ]
    }
   ],
   "source": [
    "df = pd.read_csv(\"dataset/DQ-dataset.csv\", sep=\"\\t\",index_col=0, decimal=\",\")\n",
    "df.info()"
   ]
  },
  {
   "source": [
    "## Estrazione nuove features\n",
    "\n",
    "Estraiamo le feature per ogni utente:\n",
    "* I: the total number of items purchased by a customer during the period of\n",
    "observation.\n",
    "\n",
    "⚠️Si intende la somma delle quantità? Si chiarirà anche a lezione\n",
    "\n",
    "* Iu: the number of distinct items bought by a customer in the period of\n",
    "observation.\n",
    "\n",
    "* Imax: the maximum number of items purchased by a customer during a\n",
    "shopping session\n",
    "\n",
    "⚠️Si intende la quantità massima? si chiarirà anche a lezione\n",
    "\n",
    "* E: the Shannon entropy on the purchasing behaviour of the customer"
   ],
   "cell_type": "markdown",
   "metadata": {}
  },
  {
   "source": [
    "Utilizzeremo la shanno entropy indicata nella seguente formula:\n",
    "$H(X)=-\\sum_{i=1}^{n} \\frac{m_{i}}{m} \\log _{2} \\frac{m_{i}}{m}$\n"
   ],
   "cell_type": "markdown",
   "metadata": {}
  },
  {
   "cell_type": "code",
   "execution_count": 21,
   "metadata": {},
   "outputs": [],
   "source": [
    "import numpy as np\n",
    "def entropy(labels, base=None):\n",
    "\n",
    "  m = len(labels)\n",
    "  ent = 0.\n",
    "  base = e if base is None else base\n",
    "\n",
    "  if m <= 1:\n",
    "    return 0\n",
    "\n",
    "  _,mi = np.unique(labels, return_counts=True)\n",
    "  probs = mi / m\n",
    "\n",
    "  n_classes = np.count_nonzero(probs)\n",
    "  if n_classes <= 1:\n",
    "    return 0\n",
    "\n",
    "  \n",
    "  for p in probs:\n",
    "    ent -= p * np.math.log(p, base)\n",
    "\n",
    "  return ent"
   ]
  },
  {
   "source": [
    "Quindi processiamo i dati e creiamo un entrata per ogni utente"
   ],
   "cell_type": "markdown",
   "metadata": {}
  },
  {
   "cell_type": "code",
   "execution_count": 24,
   "metadata": {},
   "outputs": [],
   "source": [
    "df_pil = pd.read_csv(\"dataset/Country_PIL.csv\", sep=\";\",index_col=0)"
   ]
  },
  {
   "cell_type": "code",
   "execution_count": 25,
   "metadata": {},
   "outputs": [],
   "source": [
    "dict_pil={}\n",
    "for index, row in df_pil.iterrows():\n",
    "    dict_pil[row[\"Country\"]]=row[\"PIL\"]"
   ]
  },
  {
   "cell_type": "code",
   "execution_count": 5,
   "metadata": {
    "tags": []
   },
   "outputs": [],
   "source": [
    "new_data=[]\n",
    "for elem in df.CustomerID.unique():\n",
    "    I=df[df[\"CustomerID\"]==elem].Qta.sum()\n",
    "    Iu=len(df[df[\"CustomerID\"]==elem].ProdID.unique())\n",
    "    Imax=df[df[\"CustomerID\"]==elem].Qta.max()\n",
    "    E=entropy(df[df[\"CustomerID\"]==elem].ProdID,2)\n",
    "    \n",
    "    country=df[df[\"CustomerID\"]==elem].CustomerCountry.iloc[0]\n",
    "    PIL = dict_pil[country]\\\n",
    "    new_data.append([elem, I, Iu,Imax,E, PIL])\n",
    "\n",
    "    #print(\"Customer id:\\t\"+str(elem))\n",
    "    #print(\"l:\\t\"+str(i))\n",
    "    #print(\"lu:\\t\"+str(iu))\n",
    "    #print(\"lmax:\\t\"+str(imax))\n",
    "    #print(\"E:\\t\"+str(E))\n",
    "new_df = pd.DataFrame(new_data, columns=['CustomerID', 'I', 'Iu', 'Imax','E','PIL'])\n"
   ]
  },
  {
   "cell_type": "code",
   "execution_count": 27,
   "metadata": {},
   "outputs": [
    {
     "output_type": "error",
     "ename": "NameError",
     "evalue": "name 'new_df' is not defined",
     "traceback": [
      "\u001b[1;31m---------------------------------------------------------------------------\u001b[0m",
      "\u001b[1;31mNameError\u001b[0m                                 Traceback (most recent call last)",
      "\u001b[1;32m<ipython-input-27-00056df4221d>\u001b[0m in \u001b[0;36m<module>\u001b[1;34m\u001b[0m\n\u001b[1;32m----> 1\u001b[1;33m \u001b[0mnew_df\u001b[0m\u001b[1;33m.\u001b[0m\u001b[0mto_csv\u001b[0m\u001b[1;33m(\u001b[0m\u001b[1;34m'dataset/_temp_CS-dataset.csv'\u001b[0m\u001b[1;33m,\u001b[0m \u001b[0msep\u001b[0m\u001b[1;33m=\u001b[0m\u001b[1;34m'\\t'\u001b[0m\u001b[1;33m,\u001b[0m \u001b[0mindex\u001b[0m\u001b[1;33m=\u001b[0m\u001b[1;32mFalse\u001b[0m\u001b[1;33m,\u001b[0m \u001b[0mdecimal\u001b[0m\u001b[1;33m=\u001b[0m\u001b[1;34m\",\"\u001b[0m\u001b[1;33m)\u001b[0m\u001b[1;33m\u001b[0m\u001b[1;33m\u001b[0m\u001b[0m\n\u001b[0m",
      "\u001b[1;31mNameError\u001b[0m: name 'new_df' is not defined"
     ]
    }
   ],
   "source": [
    "new_df.to_csv('dataset/_temp_CS-dataset.csv', sep='\\t', index=False, decimal=\",\")"
   ]
  },
  {
   "source": [
    "## Media Soldi Spesi per ogni basketID\n"
   ],
   "cell_type": "markdown",
   "metadata": {}
  },
  {
   "cell_type": "code",
   "execution_count": 28,
   "metadata": {},
   "outputs": [
    {
     "output_type": "execute_result",
     "data": {
      "text/plain": [
       "              Total\n",
       "BasketID           \n",
       "536365    19.874286\n",
       "536366    11.100000\n",
       "536367    23.227500\n",
       "536368    17.512500\n",
       "536369    17.850000\n",
       "...             ...\n",
       "581583    62.300000\n",
       "581584    70.320000\n",
       "581585    15.669048\n",
       "581586    84.800000\n",
       "581587    16.630000\n",
       "\n",
       "[19518 rows x 1 columns]"
      ],
      "text/html": "<div>\n<style scoped>\n    .dataframe tbody tr th:only-of-type {\n        vertical-align: middle;\n    }\n\n    .dataframe tbody tr th {\n        vertical-align: top;\n    }\n\n    .dataframe thead th {\n        text-align: right;\n    }\n</style>\n<table border=\"1\" class=\"dataframe\">\n  <thead>\n    <tr style=\"text-align: right;\">\n      <th></th>\n      <th>Total</th>\n    </tr>\n    <tr>\n      <th>BasketID</th>\n      <th></th>\n    </tr>\n  </thead>\n  <tbody>\n    <tr>\n      <th>536365</th>\n      <td>19.874286</td>\n    </tr>\n    <tr>\n      <th>536366</th>\n      <td>11.100000</td>\n    </tr>\n    <tr>\n      <th>536367</th>\n      <td>23.227500</td>\n    </tr>\n    <tr>\n      <th>536368</th>\n      <td>17.512500</td>\n    </tr>\n    <tr>\n      <th>536369</th>\n      <td>17.850000</td>\n    </tr>\n    <tr>\n      <th>...</th>\n      <td>...</td>\n    </tr>\n    <tr>\n      <th>581583</th>\n      <td>62.300000</td>\n    </tr>\n    <tr>\n      <th>581584</th>\n      <td>70.320000</td>\n    </tr>\n    <tr>\n      <th>581585</th>\n      <td>15.669048</td>\n    </tr>\n    <tr>\n      <th>581586</th>\n      <td>84.800000</td>\n    </tr>\n    <tr>\n      <th>581587</th>\n      <td>16.630000</td>\n    </tr>\n  </tbody>\n</table>\n<p>19518 rows × 1 columns</p>\n</div>"
     },
     "metadata": {},
     "execution_count": 28
    }
   ],
   "source": [
    "\n",
    "#media soli spesi per ogni basketid\n",
    "temp = df\n",
    "temp[\"Total\"] = temp[\"Sale\"]*temp[\"Qta\"]\n",
    "temp = temp.drop([\"Sale\"],axis=1)\n",
    "temp = temp.drop([\"Qta\"],axis=1)\n",
    "temp.groupby([\"ProdID\",\"BasketID\"])[\"Total\"].mean()\n",
    "temp.groupby([\"BasketID\"]).mean()"
   ]
  },
  {
   "source": [
    "## Media soldi spesi per ogni customer"
   ],
   "cell_type": "markdown",
   "metadata": {}
  },
  {
   "cell_type": "code",
   "execution_count": 29,
   "metadata": {},
   "outputs": [
    {
     "output_type": "execute_result",
     "data": {
      "text/plain": [
       "CustomerID\n",
       "10023N    1552.50\n",
       "10202N      12.75\n",
       "10353N     741.56\n",
       "10370N    2780.29\n",
       "10374N     618.82\n",
       "           ...   \n",
       "99606N     888.64\n",
       "99733N       9.32\n",
       "9983N       60.00\n",
       "99958N     224.29\n",
       "99983N     659.81\n",
       "Name: Total, Length: 5575, dtype: float64"
      ]
     },
     "metadata": {},
     "execution_count": 29
    }
   ],
   "source": [
    "temp = df\n",
    "temp[\"Total\"] = temp[\"Sale\"]*temp[\"Qta\"]\n",
    "temp = temp.drop([\"Sale\"],axis=1)\n",
    "temp = temp.drop([\"Qta\"],axis=1)\n",
    "temp.groupby([\"CustomerID\"])[\"Total\"].sum()"
   ]
  },
  {
   "cell_type": "code",
   "execution_count": null,
   "metadata": {},
   "outputs": [],
   "source": []
  }
 ]
}