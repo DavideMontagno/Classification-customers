{
 "metadata": {
  "language_info": {
   "codemirror_mode": {
    "name": "ipython",
    "version": 3
   },
   "file_extension": ".py",
   "mimetype": "text/x-python",
   "name": "python",
   "nbconvert_exporter": "python",
   "pygments_lexer": "ipython3",
   "version": "3.7.8-final"
  },
  "orig_nbformat": 2,
  "kernelspec": {
   "name": "Python 3.7.8 64-bit",
   "display_name": "Python 3.7.8 64-bit",
   "metadata": {
    "interpreter": {
     "hash": "57baa5815c940fdaff4d14510622de9616cae602444507ba5d0b6727c008cbd6"
    }
   }
  }
 },
 "nbformat": 4,
 "nbformat_minor": 2,
 "cells": [
  {
   "source": [
    "# Data preparation\n",
    "In questa sezione estrarremo i dati rilevanti per il clustering dei clienti.\n",
    "\n",
    "## Import dataset"
   ],
   "cell_type": "markdown",
   "metadata": {}
  },
  {
   "cell_type": "code",
   "execution_count": 91,
   "metadata": {},
   "outputs": [],
   "source": [
    "import numpy as np\n",
    "import pandas as pd\n",
    "import matplotlib.pyplot as plt"
   ]
  },
  {
   "cell_type": "code",
   "execution_count": 92,
   "metadata": {},
   "outputs": [
    {
     "output_type": "stream",
     "name": "stdout",
     "text": [
      "<class 'pandas.core.frame.DataFrame'>\nInt64Index: 456644 entries, 0 to 541908\nData columns (total 8 columns):\n #   Column           Non-Null Count   Dtype \n---  ------           --------------   ----- \n 0   BasketID         456644 non-null  int64 \n 1   BasketDate       456644 non-null  object\n 2   Sale             456644 non-null  object\n 3   CustomerID       456644 non-null  object\n 4   CustomerCountry  456644 non-null  object\n 5   ProdID           456644 non-null  object\n 6   ProdDescr        456644 non-null  object\n 7   Qta              456644 non-null  int64 \ndtypes: int64(2), object(6)\nmemory usage: 31.4+ MB\n"
     ]
    }
   ],
   "source": [
    "df = pd.read_csv(\"dataset/DQ-dataset.csv\", sep=\"\\t\",index_col=0)\n",
    "df.info()"
   ]
  },
  {
   "source": [
    "## Estrazione nuove features\n",
    "\n",
    "Estraiamo le feature per ogni utente:\n",
    "* I: the total number of items purchased by a customer during the period of\n",
    "observation.\n",
    "\n",
    "⚠️Si intende la somma delle quantità? Si chiarirà anche a lezione\n",
    "\n",
    "* Iu: the number of distinct items bought by a customer in the period of\n",
    "observation.\n",
    "\n",
    "* Imax: the maximum number of items purchased by a customer during a\n",
    "shopping session\n",
    "\n",
    "⚠️Si intende la quantità massima? si chiarirà anche a lezione\n",
    "\n",
    "* E: the Shannon entropy on the purchasing behaviour of the customer"
   ],
   "cell_type": "markdown",
   "metadata": {}
  },
  {
   "source": [
    "Utilizzeremo la shanno entropy indicata nella seguente formula:\n",
    "$H(X)=-\\sum_{i=1}^{n} \\frac{m_{i}}{m} \\log _{2} \\frac{m_{i}}{m}$\n"
   ],
   "cell_type": "markdown",
   "metadata": {}
  },
  {
   "cell_type": "code",
   "execution_count": 93,
   "metadata": {},
   "outputs": [],
   "source": [
    "import numpy as np\n",
    "def entropy(labels, base=None):\n",
    "\n",
    "  m = len(labels)\n",
    "  ent = 0.\n",
    "  base = e if base is None else base\n",
    "\n",
    "  if m <= 1:\n",
    "    return 0\n",
    "\n",
    "  _,mi = np.unique(labels, return_counts=True)\n",
    "  probs = mi / m\n",
    "\n",
    "  n_classes = np.count_nonzero(probs)\n",
    "  if n_classes <= 1:\n",
    "    return 0\n",
    "\n",
    "  \n",
    "  for p in probs:\n",
    "    ent -= p * np.math.log(p, base)\n",
    "\n",
    "  return ent"
   ]
  },
  {
   "cell_type": "code",
   "execution_count": 94,
   "metadata": {},
   "outputs": [
    {
     "output_type": "stream",
     "name": "stdout",
     "text": [
      "                 Country     PIL\n1              Australia   1,271\n2                Austria   0,411\n3                Bahrain   0,027\n4                Belgium   0,501\n5                 Brazil   2,412\n6                 Canada   1,701\n7        Channel Islands   0,030\n8                 Cyprus   0,026\n9         Czech Republic   0,217\n10               Denmark   0,333\n11                  EIRE   0,229\n12               Finland   0,262\n13                France   2,752\n14               Germany   3,570\n15                Greece   0,293\n16             Hong Kong   0,238\n17               Iceland   0,014\n18                Israel   0,247\n19                 Italy   2,213\n20                 Japan   5,928\n21               Lebanon   0,039\n22             Lithuania   0,040\n23                 Malta   0,009\n24           Netherlands   0,875\n25                Norway   0,463\n26                Poland   0,504\n27              Portugal   0,241\n28                   RSA   0,395\n29          Saudi Arabia   0,599\n30             Singapore   0,259\n31                 Spain   1,450\n32                Sweden   0,534\n33           Switzerland   0,641\n34                   USA  15,265\n35  United Arab Emirates   0,320\n36        United Kingdom   2,567\n"
     ]
    }
   ],
   "source": [
    "df_pil = pd.read_csv(\"dataset/Country_PIL.csv\", sep=\";\",index_col=0)\n",
    "print(df_pil)"
   ]
  },
  {
   "cell_type": "code",
   "execution_count": 95,
   "metadata": {},
   "outputs": [],
   "source": [
    "dict_pil={}\n",
    "for index, row in df_pil.iterrows():\n",
    "    dict_pil[row[\"Country\"]]=row[\"PIL\"]"
   ]
  },
  {
   "source": [
    "Quindi processiamo i dati e creiamo un entrata per ogni utente"
   ],
   "cell_type": "markdown",
   "metadata": {}
  },
  {
   "source": [
    "## Indicatori"
   ],
   "cell_type": "markdown",
   "metadata": {}
  },
  {
   "cell_type": "code",
   "execution_count": 96,
   "metadata": {
    "tags": []
   },
   "outputs": [],
   "source": [
    "new_data=[]\n",
    "for elem in df.CustomerID.unique():\n",
    "    I=df[df[\"CustomerID\"]==elem].Qta.sum()\n",
    "    Iu=len(df[df[\"CustomerID\"]==elem].ProdID.unique())\n",
    "    Imax=df[df[\"CustomerID\"]==elem].Qta.max()\n",
    "    E=entropy(df[df[\"CustomerID\"]==elem].ProdID,2)\n",
    "\n",
    "    country=df[df[\"CustomerID\"]==elem].CustomerCountry.iloc[0]\n",
    "    PIL = dict_pil[country]\n",
    "    new_data.append([elem, I, Iu,Imax,E, PIL])\n",
    "    #print(\"Customer id:\\t\"+str(elem))\n",
    "    #print(\"l:\\t\"+str(i))\n",
    "    #print(\"lu:\\t\"+str(iu))\n",
    "    #print(\"lmax:\\t\"+str(imax))\n",
    "    #print(\"E:\\t\"+str(E))\n",
    "new_df = pd.DataFrame(new_data, columns=['CustomerID', 'I', 'Iu', 'Imax','E', 'PIL'])"
   ]
  },
  {
   "cell_type": "code",
   "execution_count": 97,
   "metadata": {},
   "outputs": [],
   "source": [
    "new_df.to_csv('dataset/_temp_CS-dataset.csv', sep='\\t', index=False)"
   ]
  },
  {
   "source": [
    "Altre proposte indicatori: \n",
    "* Orario del giorni preferito da ogni utente\n",
    "* Spesa media tra le varie sessioni\n"
   ],
   "cell_type": "markdown",
   "metadata": {}
  },
  {
   "cell_type": "code",
   "execution_count": 98,
   "metadata": {},
   "outputs": [
    {
     "output_type": "stream",
     "name": "stdout",
     "text": [
      "     CustomerID     I   Iu  Imax         E    PIL\n0       17850.0  1707   21    12  4.335643  2,567\n1       13047.0  1386  105    32  6.503112  2,567\n2       12583.0  4992  113   360  6.504979  2,752\n3       13748.0   439   24    80  4.494680  2,567\n4       15100.0    80    1    32  0.000000  2,567\n...         ...   ...  ...   ...       ...    ...\n5570     10660N   801  297    70  8.214319  2,567\n5571     39129N   922  351    19  8.455327  2,567\n5572     11819N   192   27    48  4.754888  2,567\n5573     15094N   325   98    32  6.614710  2,567\n5574    12713.0   505   37    25  5.209453  3,570\n\n[5575 rows x 6 columns]\n"
     ]
    }
   ],
   "source": [
    "print(new_df)"
   ]
  },
  {
   "cell_type": "code",
   "execution_count": null,
   "metadata": {},
   "outputs": [],
   "source": []
  }
 ]
}