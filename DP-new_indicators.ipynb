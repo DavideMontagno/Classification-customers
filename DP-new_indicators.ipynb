{
 "metadata": {
  "language_info": {
   "codemirror_mode": {
    "name": "ipython",
    "version": 3
   },
   "file_extension": ".py",
   "mimetype": "text/x-python",
   "name": "python",
   "nbconvert_exporter": "python",
   "pygments_lexer": "ipython3",
   "version": "3.7.5-final"
  },
  "orig_nbformat": 2,
  "kernelspec": {
   "name": "Python 3.7.5 64-bit",
   "display_name": "Python 3.7.5 64-bit",
   "metadata": {
    "interpreter": {
     "hash": "a23959b220aae94b277b2feb28a92f00653f030ef1fcf8b66d10e2db8b9e2607"
    }
   }
  }
 },
 "nbformat": 4,
 "nbformat_minor": 2,
 "cells": [
  {
   "source": [
    "# Data preparation\n",
    "In questa sezione estrarremo i dati rilevanti per il clustering dei clienti.\n",
    "\n",
    "## Import dataset"
   ],
   "cell_type": "markdown",
   "metadata": {}
  },
  {
   "cell_type": "code",
   "execution_count": 161,
   "metadata": {},
   "outputs": [],
   "source": [
    "import numpy as np\n",
    "import pandas as pd\n",
    "import matplotlib.pyplot as plt"
   ]
  },
  {
   "cell_type": "code",
   "execution_count": 162,
   "metadata": {},
   "outputs": [
    {
     "output_type": "stream",
     "name": "stdout",
     "text": [
      "<class 'pandas.core.frame.DataFrame'>\nInt64Index: 456644 entries, 0 to 541908\nData columns (total 8 columns):\nBasketID           456644 non-null int64\nBasketDate         456644 non-null object\nSale               456644 non-null float64\nCustomerID         456644 non-null object\nCustomerCountry    456644 non-null object\nProdID             456644 non-null object\nProdDescr          456644 non-null object\nQta                456644 non-null int64\ndtypes: float64(1), int64(2), object(5)\nmemory usage: 31.4+ MB\n"
     ]
    }
   ],
   "source": [
    "df = pd.read_csv(\"dataset/DQ-dataset.csv\", sep=\"\\t\",index_col=0, decimal=\",\")\n",
    "df.info()"
   ]
  },
  {
   "source": [
    "## Estrazione nuove features\n",
    "\n",
    "Estraiamo le feature per ogni utente:\n",
    "* I: the total number of items purchased by a customer during the period of\n",
    "observation.(Si intende la somma delle quantità)\n",
    "\n",
    "* Iu: the number of distinct items bought by a customer in the period of\n",
    "observation.\n",
    "\n",
    "* Imax: the maximum number of items purchased by a customer during a\n",
    "shopping session (Si intende la quantità massima)\n",
    "\n",
    "* E: the Shannon entropy on the purchasing behaviour of the customer"
   ],
   "cell_type": "markdown",
   "metadata": {}
  },
  {
   "source": [
    "Utilizzeremo la shanno entropy indicata nella seguente formula:\n",
    "$H(X)=-\\sum_{i=1}^{n} \\frac{m_{i}}{m} \\log _{2} \\frac{m_{i}}{m}$\n"
   ],
   "cell_type": "markdown",
   "metadata": {}
  },
  {
   "cell_type": "code",
   "execution_count": 163,
   "metadata": {},
   "outputs": [],
   "source": [
    "import numpy as np\n",
    "def entropy(labels, base=None):\n",
    "\n",
    "  m = len(labels)\n",
    "  ent = 0.\n",
    "  base = e if base is None else base\n",
    "\n",
    "  if m <= 1:\n",
    "    return 0\n",
    "\n",
    "  _,mi = np.unique(labels, return_counts=True)\n",
    "  probs = mi / m\n",
    "\n",
    "  n_classes = np.count_nonzero(probs)\n",
    "  if n_classes <= 1:\n",
    "    return 0\n",
    "\n",
    "  \n",
    "  for p in probs:\n",
    "    ent -= p * np.math.log(p, base)\n",
    "\n",
    "  return ent"
   ]
  },
  {
   "source": [
    "## Gestione Pil"
   ],
   "cell_type": "markdown",
   "metadata": {}
  },
  {
   "cell_type": "code",
   "execution_count": 164,
   "metadata": {},
   "outputs": [],
   "source": [
    "df_pil = pd.read_csv(\"dataset/Country_PIL.csv\", sep=\";\",index_col=0)"
   ]
  },
  {
   "cell_type": "code",
   "execution_count": 165,
   "metadata": {},
   "outputs": [],
   "source": [
    "dict_pil={}\n",
    "for index, row in df_pil.iterrows():\n",
    "    dict_pil[row[\"Country\"]]=row[\"PIL\"]"
   ]
  },
  {
   "source": [
    "## Gestione spesa media Clienti"
   ],
   "cell_type": "markdown",
   "metadata": {}
  },
  {
   "cell_type": "code",
   "execution_count": 166,
   "metadata": {},
   "outputs": [],
   "source": [
    "temp = df\n",
    "temp[\"Total\"] = temp[\"Sale\"]*temp[\"Qta\"]\n",
    "temp = temp.drop([\"Sale\"],axis=1)\n",
    "temp = temp.drop([\"Qta\"],axis=1)\n",
    "sum_single_basket=pd.DataFrame(temp.groupby([\"CustomerID\",\"BasketID\"])[\"Total\"].sum())\n",
    "mean_of_basket=sum_single_basket.groupby([\"CustomerID\"])[\"Total\"].mean().reset_index()"
   ]
  },
  {
   "source": [
    "## Gestione Saldi totali spesi clienti"
   ],
   "cell_type": "markdown",
   "metadata": {}
  },
  {
   "cell_type": "code",
   "execution_count": 167,
   "metadata": {},
   "outputs": [],
   "source": [
    "temp = df\n",
    "temp[\"Total\"] = temp[\"Sale\"]*temp[\"Qta\"]\n",
    "temp = temp.drop([\"Sale\"],axis=1)\n",
    "temp = temp.drop([\"Qta\"],axis=1)\n",
    "total_sum=temp.groupby([\"CustomerID\"])[\"Total\"].sum().reset_index()"
   ]
  },
  {
   "source": [
    "## Gestione distanza acquisti"
   ],
   "cell_type": "markdown",
   "metadata": {}
  },
  {
   "cell_type": "code",
   "execution_count": 168,
   "metadata": {},
   "outputs": [],
   "source": [
    "temp=df.copy()\n",
    "\n",
    "single_basket_date=[]\n",
    "for elem in temp.BasketID.unique():\n",
    "    data=temp[temp[\"BasketID\"]==elem].BasketDate.iloc[0]\n",
    "    cust=temp[temp[\"BasketID\"]==elem].CustomerID.iloc[0]\n",
    "    single_basket_date.append([elem,cust,data])\n",
    "\n",
    "single_basket_date = pd.DataFrame(single_basket_date, columns=[\"BasketID\",\"CustomerID\",\"BasketDate\"])"
   ]
  },
  {
   "cell_type": "code",
   "execution_count": 169,
   "metadata": {},
   "outputs": [],
   "source": [
    "difference_dataframe=single_basket_date\n",
    "difference_dataframe[\"BasketDate\"]=pd.to_datetime(difference_dataframe[\"BasketDate\"])\n",
    "difference_dataframe[\"previousDate\"]=difference_dataframe.BasketDate.shift()\n",
    "difference_dataframe[\"difference_days\"]=difference_dataframe[\"BasketDate\"]-difference_dataframe[\"previousDate\"]\n",
    "difference_dataframe[\"difference_days\"]=difference_dataframe[\"difference_days\"].apply(lambda x: x.days)"
   ]
  },
  {
   "source": [
    "## Creazione nuovo dataset"
   ],
   "cell_type": "markdown",
   "metadata": {}
  },
  {
   "cell_type": "code",
   "execution_count": 172,
   "metadata": {
    "tags": []
   },
   "outputs": [],
   "source": [
    "new_data=[]\n",
    "for elem in df.CustomerID.unique():\n",
    "    I=df[df[\"CustomerID\"]==elem].Qta.sum()\n",
    "    Iu=len(df[df[\"CustomerID\"]==elem].ProdID.unique())\n",
    "    Imax=df[df[\"CustomerID\"]==elem].Qta.max()\n",
    "    E=entropy(df[df[\"CustomerID\"]==elem].ProdID,2)\n",
    "    \n",
    "    #Pil Indicator\n",
    "    country=df[df[\"CustomerID\"]==elem].CustomerCountry.iloc[0]\n",
    "    PIL = dict_pil[country]\n",
    "\n",
    "    # Basket Mean\n",
    "    Mb=mean_of_basket[mean_of_basket[\"CustomerID\"]==elem].Total.iloc[0]\n",
    "\n",
    "    # Total Sale\n",
    "    Ts=total_sum[total_sum[\"CustomerID\"]==elem].Total.iloc[0]\n",
    "\n",
    "    # Mean difference dates\n",
    "    Md=single_basket_date[difference_dataframe[\"CustomerID\"]==elem].difference_days.mean()\n",
    "\n",
    "\n",
    "    new_data.append([elem, I, Iu,Imax,E, PIL,Mb, Ts, Md])\n",
    "\n",
    "    \n",
    "\n",
    "    #print(\"Customer id:\\t\"+str(elem))\n",
    "    #print(\"l:\\t\"+str(i))\n",
    "    #print(\"lu:\\t\"+str(iu))\n",
    "    #print(\"lmax:\\t\"+str(imax))\n",
    "    #print(\"E:\\t\"+str(E))\n",
    "new_df = pd.DataFrame(new_data, columns=['CustomerID', 'I', 'Iu', 'Imax','E','PIL', 'Mb', 'Ts','Md'])\n"
   ]
  },
  {
   "cell_type": "code",
   "execution_count": 173,
   "metadata": {},
   "outputs": [
    {
     "output_type": "execute_result",
     "data": {
      "text/plain": [
       "     CustomerID      I   Iu  Imax         E    PIL          Mb        Ts  \\\n",
       "18      13408.0  16172  233   192  7.571949  2,567  452.290968  28042.04   \n",
       "89      18229.0   2488   66   100  5.688924  2,567  363.845000   7276.90   \n",
       "181     13798.0  23804  113   432  6.274834  2,567  647.552456  36910.49   \n",
       "234     17819.0   1031   36    50  4.912782  2,567  529.267143   3704.87   \n",
       "253     17243.0   3365  179    96  7.019719  2,567  333.019231   8658.50   \n",
       "254     15465.0   1257   43   120  4.963964  2,567  408.590000   7354.62   \n",
       "265     16839.0   8874  107   144  6.328929  2,567  482.136471  16392.64   \n",
       "275     14810.0   1016  106    14  6.406077  2,567  189.807273   2087.88   \n",
       "276     16353.0   2006   51    96  5.062961  2,567  290.248261   6675.71   \n",
       "338     12708.0   1292   85    25  6.166405  3,570  244.291000   2442.91   \n",
       "368     16722.0   4991   96   200  6.140309  2,567  362.639231   4714.31   \n",
       "402     17616.0    224    1   128  0.000000  2,567  190.400000    571.20   \n",
       "668     16923.0   3373  312   192  7.722473  2,567  394.222778   7096.01   \n",
       "691     17937.0   1754   19    80  4.082673  2,567  614.460000   4301.22   \n",
       "759     16899.0    522   80    48  6.149471  2,567  213.593333   1281.56   \n",
       "840     16746.0   4665  234   144  7.553481  2,567  372.092222   6697.66   \n",
       "1000    14532.0    284   45    25  5.335479  2,567  233.212500    932.85   \n",
       "1018    13313.0    851   47    36  5.317328  2,567  311.064000   1555.32   \n",
       "1096    13593.0    707   76    24  6.047355  2,567  398.056000   1990.28   \n",
       "1107    16326.0    689  157    12  6.876593  2,567  220.425714   3085.96   \n",
       "1163    15569.0    666   27    96  4.647429  2,567  275.142000   1375.71   \n",
       "1188    14040.0   1554  146    50  6.946658  2,567  301.243333   3614.92   \n",
       "1239    16206.0    272   52    24  5.628074  2,567  134.265000    537.06   \n",
       "1261    17988.0     42   36     3  5.155399  2,567   27.310000    191.17   \n",
       "1300    17708.0     91   28    12  4.729283  2,567  133.540000    267.08   \n",
       "1302    15606.0    880   48    48  5.336293  2,567  322.262222   2900.36   \n",
       "1445    15227.0    750   43    96  5.267211  2,567  243.880000   1219.40   \n",
       "1886    14276.0    739   50    24  5.542748  2,567  352.996667   1058.99   \n",
       "1965    13630.0   1387   51   144  5.482766  2,567  337.346667   2024.08   \n",
       "2155    14013.0    462   30    48  4.852169  2,567  157.673333    473.02   \n",
       "2200    13654.0   2182  157   108  7.262058  2,567  451.221667   2707.33   \n",
       "2211    16768.0    192   44    48  5.397916  2,567  153.096667    459.29   \n",
       "2321    17133.0   2730   13   360  3.482127  2,567  698.891429   4892.24   \n",
       "2959     28019N      2    2     1  1.000000  2,567    4.200000      4.20   \n",
       "3013    13450.0   1982   32   144  4.802582  2,567  340.620000   2043.72   \n",
       "3315    18232.0    302   31    25  4.844324  2,567  148.242500    592.97   \n",
       "3551    17651.0   3109  149   100  6.995344  2,567  392.715000   3927.15   \n",
       "3723    16866.0     60   10    12  3.277613  2,567   69.246667    207.74   \n",
       "4282    13434.0    300    9    96  3.121928  2,567  267.120000    534.24   \n",
       "\n",
       "            Md  \n",
       "18    0.016129  \n",
       "89    0.050000  \n",
       "181   0.017544  \n",
       "234   0.142857  \n",
       "253   0.346154  \n",
       "254   0.388889  \n",
       "265   0.029412  \n",
       "275   0.090909  \n",
       "276   0.043478  \n",
       "338   0.100000  \n",
       "368   0.307692  \n",
       "402   0.333333  \n",
       "668   0.055556  \n",
       "691   0.142857  \n",
       "759   0.166667  \n",
       "840   0.055556  \n",
       "1000  0.250000  \n",
       "1018  2.200000  \n",
       "1096  0.200000  \n",
       "1107  0.071429  \n",
       "1163  0.200000  \n",
       "1188  0.083333  \n",
       "1239  0.500000  \n",
       "1261  0.142857  \n",
       "1300  0.500000  \n",
       "1302  0.222222  \n",
       "1445  0.200000  \n",
       "1886  0.333333  \n",
       "1965  0.166667  \n",
       "2155  0.333333  \n",
       "2200  0.166667  \n",
       "2211  0.666667  \n",
       "2321  0.142857  \n",
       "2959  1.000000  \n",
       "3013  0.166667  \n",
       "3315  0.250000  \n",
       "3551  0.100000  \n",
       "3723  0.333333  \n",
       "4282  0.500000  "
      ],
      "text/html": "<div>\n<style scoped>\n    .dataframe tbody tr th:only-of-type {\n        vertical-align: middle;\n    }\n\n    .dataframe tbody tr th {\n        vertical-align: top;\n    }\n\n    .dataframe thead th {\n        text-align: right;\n    }\n</style>\n<table border=\"1\" class=\"dataframe\">\n  <thead>\n    <tr style=\"text-align: right;\">\n      <th></th>\n      <th>CustomerID</th>\n      <th>I</th>\n      <th>Iu</th>\n      <th>Imax</th>\n      <th>E</th>\n      <th>PIL</th>\n      <th>Mb</th>\n      <th>Ts</th>\n      <th>Md</th>\n    </tr>\n  </thead>\n  <tbody>\n    <tr>\n      <th>18</th>\n      <td>13408.0</td>\n      <td>16172</td>\n      <td>233</td>\n      <td>192</td>\n      <td>7.571949</td>\n      <td>2,567</td>\n      <td>452.290968</td>\n      <td>28042.04</td>\n      <td>0.016129</td>\n    </tr>\n    <tr>\n      <th>89</th>\n      <td>18229.0</td>\n      <td>2488</td>\n      <td>66</td>\n      <td>100</td>\n      <td>5.688924</td>\n      <td>2,567</td>\n      <td>363.845000</td>\n      <td>7276.90</td>\n      <td>0.050000</td>\n    </tr>\n    <tr>\n      <th>181</th>\n      <td>13798.0</td>\n      <td>23804</td>\n      <td>113</td>\n      <td>432</td>\n      <td>6.274834</td>\n      <td>2,567</td>\n      <td>647.552456</td>\n      <td>36910.49</td>\n      <td>0.017544</td>\n    </tr>\n    <tr>\n      <th>234</th>\n      <td>17819.0</td>\n      <td>1031</td>\n      <td>36</td>\n      <td>50</td>\n      <td>4.912782</td>\n      <td>2,567</td>\n      <td>529.267143</td>\n      <td>3704.87</td>\n      <td>0.142857</td>\n    </tr>\n    <tr>\n      <th>253</th>\n      <td>17243.0</td>\n      <td>3365</td>\n      <td>179</td>\n      <td>96</td>\n      <td>7.019719</td>\n      <td>2,567</td>\n      <td>333.019231</td>\n      <td>8658.50</td>\n      <td>0.346154</td>\n    </tr>\n    <tr>\n      <th>254</th>\n      <td>15465.0</td>\n      <td>1257</td>\n      <td>43</td>\n      <td>120</td>\n      <td>4.963964</td>\n      <td>2,567</td>\n      <td>408.590000</td>\n      <td>7354.62</td>\n      <td>0.388889</td>\n    </tr>\n    <tr>\n      <th>265</th>\n      <td>16839.0</td>\n      <td>8874</td>\n      <td>107</td>\n      <td>144</td>\n      <td>6.328929</td>\n      <td>2,567</td>\n      <td>482.136471</td>\n      <td>16392.64</td>\n      <td>0.029412</td>\n    </tr>\n    <tr>\n      <th>275</th>\n      <td>14810.0</td>\n      <td>1016</td>\n      <td>106</td>\n      <td>14</td>\n      <td>6.406077</td>\n      <td>2,567</td>\n      <td>189.807273</td>\n      <td>2087.88</td>\n      <td>0.090909</td>\n    </tr>\n    <tr>\n      <th>276</th>\n      <td>16353.0</td>\n      <td>2006</td>\n      <td>51</td>\n      <td>96</td>\n      <td>5.062961</td>\n      <td>2,567</td>\n      <td>290.248261</td>\n      <td>6675.71</td>\n      <td>0.043478</td>\n    </tr>\n    <tr>\n      <th>338</th>\n      <td>12708.0</td>\n      <td>1292</td>\n      <td>85</td>\n      <td>25</td>\n      <td>6.166405</td>\n      <td>3,570</td>\n      <td>244.291000</td>\n      <td>2442.91</td>\n      <td>0.100000</td>\n    </tr>\n    <tr>\n      <th>368</th>\n      <td>16722.0</td>\n      <td>4991</td>\n      <td>96</td>\n      <td>200</td>\n      <td>6.140309</td>\n      <td>2,567</td>\n      <td>362.639231</td>\n      <td>4714.31</td>\n      <td>0.307692</td>\n    </tr>\n    <tr>\n      <th>402</th>\n      <td>17616.0</td>\n      <td>224</td>\n      <td>1</td>\n      <td>128</td>\n      <td>0.000000</td>\n      <td>2,567</td>\n      <td>190.400000</td>\n      <td>571.20</td>\n      <td>0.333333</td>\n    </tr>\n    <tr>\n      <th>668</th>\n      <td>16923.0</td>\n      <td>3373</td>\n      <td>312</td>\n      <td>192</td>\n      <td>7.722473</td>\n      <td>2,567</td>\n      <td>394.222778</td>\n      <td>7096.01</td>\n      <td>0.055556</td>\n    </tr>\n    <tr>\n      <th>691</th>\n      <td>17937.0</td>\n      <td>1754</td>\n      <td>19</td>\n      <td>80</td>\n      <td>4.082673</td>\n      <td>2,567</td>\n      <td>614.460000</td>\n      <td>4301.22</td>\n      <td>0.142857</td>\n    </tr>\n    <tr>\n      <th>759</th>\n      <td>16899.0</td>\n      <td>522</td>\n      <td>80</td>\n      <td>48</td>\n      <td>6.149471</td>\n      <td>2,567</td>\n      <td>213.593333</td>\n      <td>1281.56</td>\n      <td>0.166667</td>\n    </tr>\n    <tr>\n      <th>840</th>\n      <td>16746.0</td>\n      <td>4665</td>\n      <td>234</td>\n      <td>144</td>\n      <td>7.553481</td>\n      <td>2,567</td>\n      <td>372.092222</td>\n      <td>6697.66</td>\n      <td>0.055556</td>\n    </tr>\n    <tr>\n      <th>1000</th>\n      <td>14532.0</td>\n      <td>284</td>\n      <td>45</td>\n      <td>25</td>\n      <td>5.335479</td>\n      <td>2,567</td>\n      <td>233.212500</td>\n      <td>932.85</td>\n      <td>0.250000</td>\n    </tr>\n    <tr>\n      <th>1018</th>\n      <td>13313.0</td>\n      <td>851</td>\n      <td>47</td>\n      <td>36</td>\n      <td>5.317328</td>\n      <td>2,567</td>\n      <td>311.064000</td>\n      <td>1555.32</td>\n      <td>2.200000</td>\n    </tr>\n    <tr>\n      <th>1096</th>\n      <td>13593.0</td>\n      <td>707</td>\n      <td>76</td>\n      <td>24</td>\n      <td>6.047355</td>\n      <td>2,567</td>\n      <td>398.056000</td>\n      <td>1990.28</td>\n      <td>0.200000</td>\n    </tr>\n    <tr>\n      <th>1107</th>\n      <td>16326.0</td>\n      <td>689</td>\n      <td>157</td>\n      <td>12</td>\n      <td>6.876593</td>\n      <td>2,567</td>\n      <td>220.425714</td>\n      <td>3085.96</td>\n      <td>0.071429</td>\n    </tr>\n    <tr>\n      <th>1163</th>\n      <td>15569.0</td>\n      <td>666</td>\n      <td>27</td>\n      <td>96</td>\n      <td>4.647429</td>\n      <td>2,567</td>\n      <td>275.142000</td>\n      <td>1375.71</td>\n      <td>0.200000</td>\n    </tr>\n    <tr>\n      <th>1188</th>\n      <td>14040.0</td>\n      <td>1554</td>\n      <td>146</td>\n      <td>50</td>\n      <td>6.946658</td>\n      <td>2,567</td>\n      <td>301.243333</td>\n      <td>3614.92</td>\n      <td>0.083333</td>\n    </tr>\n    <tr>\n      <th>1239</th>\n      <td>16206.0</td>\n      <td>272</td>\n      <td>52</td>\n      <td>24</td>\n      <td>5.628074</td>\n      <td>2,567</td>\n      <td>134.265000</td>\n      <td>537.06</td>\n      <td>0.500000</td>\n    </tr>\n    <tr>\n      <th>1261</th>\n      <td>17988.0</td>\n      <td>42</td>\n      <td>36</td>\n      <td>3</td>\n      <td>5.155399</td>\n      <td>2,567</td>\n      <td>27.310000</td>\n      <td>191.17</td>\n      <td>0.142857</td>\n    </tr>\n    <tr>\n      <th>1300</th>\n      <td>17708.0</td>\n      <td>91</td>\n      <td>28</td>\n      <td>12</td>\n      <td>4.729283</td>\n      <td>2,567</td>\n      <td>133.540000</td>\n      <td>267.08</td>\n      <td>0.500000</td>\n    </tr>\n    <tr>\n      <th>1302</th>\n      <td>15606.0</td>\n      <td>880</td>\n      <td>48</td>\n      <td>48</td>\n      <td>5.336293</td>\n      <td>2,567</td>\n      <td>322.262222</td>\n      <td>2900.36</td>\n      <td>0.222222</td>\n    </tr>\n    <tr>\n      <th>1445</th>\n      <td>15227.0</td>\n      <td>750</td>\n      <td>43</td>\n      <td>96</td>\n      <td>5.267211</td>\n      <td>2,567</td>\n      <td>243.880000</td>\n      <td>1219.40</td>\n      <td>0.200000</td>\n    </tr>\n    <tr>\n      <th>1886</th>\n      <td>14276.0</td>\n      <td>739</td>\n      <td>50</td>\n      <td>24</td>\n      <td>5.542748</td>\n      <td>2,567</td>\n      <td>352.996667</td>\n      <td>1058.99</td>\n      <td>0.333333</td>\n    </tr>\n    <tr>\n      <th>1965</th>\n      <td>13630.0</td>\n      <td>1387</td>\n      <td>51</td>\n      <td>144</td>\n      <td>5.482766</td>\n      <td>2,567</td>\n      <td>337.346667</td>\n      <td>2024.08</td>\n      <td>0.166667</td>\n    </tr>\n    <tr>\n      <th>2155</th>\n      <td>14013.0</td>\n      <td>462</td>\n      <td>30</td>\n      <td>48</td>\n      <td>4.852169</td>\n      <td>2,567</td>\n      <td>157.673333</td>\n      <td>473.02</td>\n      <td>0.333333</td>\n    </tr>\n    <tr>\n      <th>2200</th>\n      <td>13654.0</td>\n      <td>2182</td>\n      <td>157</td>\n      <td>108</td>\n      <td>7.262058</td>\n      <td>2,567</td>\n      <td>451.221667</td>\n      <td>2707.33</td>\n      <td>0.166667</td>\n    </tr>\n    <tr>\n      <th>2211</th>\n      <td>16768.0</td>\n      <td>192</td>\n      <td>44</td>\n      <td>48</td>\n      <td>5.397916</td>\n      <td>2,567</td>\n      <td>153.096667</td>\n      <td>459.29</td>\n      <td>0.666667</td>\n    </tr>\n    <tr>\n      <th>2321</th>\n      <td>17133.0</td>\n      <td>2730</td>\n      <td>13</td>\n      <td>360</td>\n      <td>3.482127</td>\n      <td>2,567</td>\n      <td>698.891429</td>\n      <td>4892.24</td>\n      <td>0.142857</td>\n    </tr>\n    <tr>\n      <th>2959</th>\n      <td>28019N</td>\n      <td>2</td>\n      <td>2</td>\n      <td>1</td>\n      <td>1.000000</td>\n      <td>2,567</td>\n      <td>4.200000</td>\n      <td>4.20</td>\n      <td>1.000000</td>\n    </tr>\n    <tr>\n      <th>3013</th>\n      <td>13450.0</td>\n      <td>1982</td>\n      <td>32</td>\n      <td>144</td>\n      <td>4.802582</td>\n      <td>2,567</td>\n      <td>340.620000</td>\n      <td>2043.72</td>\n      <td>0.166667</td>\n    </tr>\n    <tr>\n      <th>3315</th>\n      <td>18232.0</td>\n      <td>302</td>\n      <td>31</td>\n      <td>25</td>\n      <td>4.844324</td>\n      <td>2,567</td>\n      <td>148.242500</td>\n      <td>592.97</td>\n      <td>0.250000</td>\n    </tr>\n    <tr>\n      <th>3551</th>\n      <td>17651.0</td>\n      <td>3109</td>\n      <td>149</td>\n      <td>100</td>\n      <td>6.995344</td>\n      <td>2,567</td>\n      <td>392.715000</td>\n      <td>3927.15</td>\n      <td>0.100000</td>\n    </tr>\n    <tr>\n      <th>3723</th>\n      <td>16866.0</td>\n      <td>60</td>\n      <td>10</td>\n      <td>12</td>\n      <td>3.277613</td>\n      <td>2,567</td>\n      <td>69.246667</td>\n      <td>207.74</td>\n      <td>0.333333</td>\n    </tr>\n    <tr>\n      <th>4282</th>\n      <td>13434.0</td>\n      <td>300</td>\n      <td>9</td>\n      <td>96</td>\n      <td>3.121928</td>\n      <td>2,567</td>\n      <td>267.120000</td>\n      <td>534.24</td>\n      <td>0.500000</td>\n    </tr>\n  </tbody>\n</table>\n</div>"
     },
     "metadata": {},
     "execution_count": 173
    }
   ],
   "source": [
    "new_df[new_df[\"Md\"]!=0]"
   ]
  },
  {
   "cell_type": "code",
   "execution_count": 174,
   "metadata": {},
   "outputs": [],
   "source": [
    "new_df.to_csv('dataset/_temp_CS-dataset.csv', sep='\\t', index=False, decimal=\",\")"
   ]
  },
  {
   "cell_type": "code",
   "execution_count": null,
   "metadata": {},
   "outputs": [],
   "source": []
  }
 ]
}