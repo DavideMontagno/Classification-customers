{
 "metadata": {
  "language_info": {
   "codemirror_mode": {
    "name": "ipython",
    "version": 3
   },
   "file_extension": ".py",
   "mimetype": "text/x-python",
   "name": "python",
   "nbconvert_exporter": "python",
   "pygments_lexer": "ipython3",
   "version": "3.7.8-final"
  },
  "orig_nbformat": 2,
  "kernelspec": {
   "name": "Python 3.7.8 64-bit",
   "display_name": "Python 3.7.8 64-bit",
   "metadata": {
    "interpreter": {
     "hash": "57baa5815c940fdaff4d14510622de9616cae602444507ba5d0b6727c008cbd6"
    }
   }
  }
 },
 "nbformat": 4,
 "nbformat_minor": 2,
 "cells": [
  {
   "source": [
    "# Data preparation\n",
    "In questa sezione estrarremo i dati rilevanti per il clustering dei clienti.\n",
    "\n",
    "## Import dataset"
   ],
   "cell_type": "markdown",
   "metadata": {}
  },
  {
   "cell_type": "code",
   "execution_count": 2,
   "metadata": {},
   "outputs": [],
   "source": [
    "import numpy as np\n",
    "import pandas as pd\n",
    "import matplotlib.pyplot as plt"
   ]
  },
  {
   "cell_type": "code",
   "execution_count": 3,
   "metadata": {},
   "outputs": [
    {
     "output_type": "stream",
     "name": "stdout",
     "text": [
      "<class 'pandas.core.frame.DataFrame'>\nInt64Index: 471910 entries, 0 to 541909\nData columns (total 8 columns):\n #   Column           Non-Null Count   Dtype  \n---  ------           --------------   -----  \n 0   BasketID         471910 non-null  object \n 1   BasketDate       471910 non-null  object \n 2   Sale             471910 non-null  object \n 3   CustomerID       406830 non-null  float64\n 4   CustomerCountry  471910 non-null  object \n 5   ProdID           471910 non-null  object \n 6   ProdDescr        471157 non-null  object \n 7   Qta              471910 non-null  int64  \ndtypes: float64(1), int64(1), object(6)\nmemory usage: 32.4+ MB\n"
     ]
    }
   ],
   "source": [
    "df = pd.read_csv(\"dataset/TC-dataset.csv\", sep=\"\\t\",index_col=0)\n",
    "df.info()"
   ]
  },
  {
   "source": [
    "## Estrazione nuove features\n",
    "\n",
    "Estraiamo le feature per ogni utente:\n",
    "* I: the total number of items purchased by a customer during the period of\n",
    "observation.\n",
    "\n",
    "⚠️Si intende la somma delle quantità? Si chiarirà anche a lezione\n",
    "\n",
    "* Iu: the number of distinct items bought by a customer in the period of\n",
    "observation.\n",
    "\n",
    "* Imax: the maximum number of items purchased by a customer during a\n",
    "shopping session\n",
    "\n",
    "⚠️Si intende la quantità massima? si chiarirà anche a lezione\n",
    "\n",
    "* E: the Shannon entropy on the purchasing behaviour of the customer"
   ],
   "cell_type": "markdown",
   "metadata": {}
  },
  {
   "source": [
    "Utilizzeremo la shanno entropy indicata nella seguente formula:\n",
    "$H(X)=-\\sum_{i=1}^{n} \\frac{m_{i}}{m} \\log _{2} \\frac{m_{i}}{m}$\n"
   ],
   "cell_type": "markdown",
   "metadata": {}
  },
  {
   "cell_type": "code",
   "execution_count": 4,
   "metadata": {},
   "outputs": [],
   "source": [
    "import numpy as np\n",
    "def entropy(labels, base=None):\n",
    "\n",
    "  m = len(labels)\n",
    "  ent = 0.\n",
    "  base = e if base is None else base\n",
    "\n",
    "  if m <= 1:\n",
    "    return 0\n",
    "\n",
    "  _,mi = np.unique(labels, return_counts=True)\n",
    "  probs = mi / m\n",
    "\n",
    "  n_classes = np.count_nonzero(probs)\n",
    "  if n_classes <= 1:\n",
    "    return 0\n",
    "\n",
    "  \n",
    "  for p in probs:\n",
    "    ent -= p * np.math.log(p, base)\n",
    "\n",
    "  return ent"
   ]
  },
  {
   "source": [
    "Quindi processiamo i dati e creiamo un entrata per ogni utente"
   ],
   "cell_type": "markdown",
   "metadata": {}
  },
  {
   "cell_type": "code",
   "execution_count": 5,
   "metadata": {
    "tags": []
   },
   "outputs": [],
   "source": [
    "new_data=[]\n",
    "for elem in df.CustomerID.unique():\n",
    "    I=df[df[\"CustomerID\"]==elem].Qta.sum()\n",
    "    Iu=len(df[df[\"CustomerID\"]==elem].ProdID.unique())\n",
    "    Imax=df[df[\"CustomerID\"]==elem].Qta.max()\n",
    "    E=entropy(df[df[\"CustomerID\"]==elem].ProdID,2)\n",
    "    new_data.append([elem, I, Iu,Imax,E])\n",
    "    #print(\"Customer id:\\t\"+str(elem))\n",
    "    #print(\"l:\\t\"+str(i))\n",
    "    #print(\"lu:\\t\"+str(iu))\n",
    "    #print(\"lmax:\\t\"+str(imax))\n",
    "    #print(\"E:\\t\"+str(E))\n",
    "new_df = pd.DataFrame(new_data, columns=['CustomerID', 'I', 'Iu', 'Imax','E'])\n"
   ]
  },
  {
   "cell_type": "code",
   "execution_count": 6,
   "metadata": {},
   "outputs": [],
   "source": [
    "new_df.to_csv('dataset/_temp_CS-dataset.csv', sep='\\t', index=False)"
   ]
  },
  {
   "source": [
    "Altre proposte indicatori: \n",
    "* Orario del giorni preferito da ogni utente\n",
    "* Spesa media tra le varie sessioni\n"
   ],
   "cell_type": "markdown",
   "metadata": {}
  },
  {
   "source": [
    "## Indicatore reddito pro capite"
   ],
   "cell_type": "markdown",
   "metadata": {}
  },
  {
   "cell_type": "code",
   "execution_count": 9,
   "metadata": {},
   "outputs": [
    {
     "output_type": "stream",
     "name": "stdout",
     "text": [
      "                  Country          2010          2011\n1               Australia    52.022,10     62.517,80 \n2                 Austria    46.858,00     51.375,00 \n3                 Bahrain    20.722,10     22.514,30 \n4                 Belgium    44.141,90     47.348,50 \n5                  Brazil    11.286,20     13.245,60 \n6                  Canada    47.450,30     52.101,80 \n7         Channel Islands    74.463,10     75.863,10 \n8                  Cyprus    30.818,50     32.233,60 \n9          Czech Republic    19.808,10     21.717,50 \n10                Denmark    58.041,40     61.753,60 \n11                   EIRE    48.715,20     51.848,90 \n12                Finland    46.460,00     51.082,00 \n13                 France    40.638,30     43.790,70 \n14               Germany     41.531,90     46.644,80 \n15                 Greece    26.917,80     25.916,30 \n16              Hong Kong    32.550,00     35.142,50 \n17                Iceland    43.024,90     47.516,90 \n18                 Israel    30.693,60     33.669,20 \n19                  Italy    36.000,50     38.599,10 \n20                 Japan     44.507,70     48.168,00 \n21                Lebanon     7.756,74      7.703,39 \n22              Lithuania    11.953,90     14.338,60 \n23                  Malta    21.107,40     22.845,90 \n24            Netherlands    50.950,00     54.159,30 \n25                 Norway    87.693,80    100.601,00 \n26                 Poland    12.599,50     13.893,50 \n27               Portugal    22.498,70     23.186,90 \n28                    RSA     7.328,62      8.007,41 \n29           Saudi Arabia    19.262,50     23.745,80 \n30              Singapore    47.237,00     53.890,40 \n31                  Spain    30.502,70     31.636,40 \n32                 Sweden   52.817,40      88.415,60 \n33            Switzerland    74.605,80     88.415,60 \n34                    USA    48.466,80     49.883,10 \n35  United Arab Emirates     33.893,30     39.194,70 \n36         United Kingdom    39.435,80     42.038,50 \n"
     ]
    }
   ],
   "source": [
    "dfCountry = pd.read_csv(\"dataset/CountryRedditoProCap.csv\", sep=\";\",index_col=0)\n",
    "print(dfCountry)"
   ]
  },
  {
   "cell_type": "code",
   "execution_count": null,
   "metadata": {},
   "outputs": [],
   "source": []
  }
 ]
}