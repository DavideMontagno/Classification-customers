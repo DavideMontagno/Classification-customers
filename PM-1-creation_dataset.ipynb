{
 "metadata": {
  "language_info": {
   "codemirror_mode": {
    "name": "ipython",
    "version": 3
   },
   "file_extension": ".py",
   "mimetype": "text/x-python",
   "name": "python",
   "nbconvert_exporter": "python",
   "pygments_lexer": "ipython3",
   "version": "3.7.5-final"
  },
  "orig_nbformat": 2,
  "kernelspec": {
   "name": "python37564bit61209d9bcfea452998e2771b9ee1a7fb",
   "display_name": "Python 3.7.5 64-bit",
   "language": "python"
  }
 },
 "nbformat": 4,
 "nbformat_minor": 2,
 "cells": [
  {
   "cell_type": "code",
   "execution_count": 57,
   "metadata": {},
   "outputs": [],
   "source": [
    "import numpy as np\n",
    "import pandas as pd\n",
    "import matplotlib.pyplot as plt"
   ]
  },
  {
   "cell_type": "code",
   "execution_count": 58,
   "metadata": {},
   "outputs": [
    {
     "output_type": "stream",
     "name": "stdout",
     "text": [
      "<class 'pandas.core.frame.DataFrame'>\nInt64Index: 456644 entries, 0 to 541908\nData columns (total 8 columns):\nBasketID           456644 non-null int64\nBasketDate         456644 non-null object\nSale               456644 non-null float64\nCustomerID         456644 non-null object\nCustomerCountry    456644 non-null object\nProdID             456644 non-null object\nProdDescr          456644 non-null object\nQta                456644 non-null int64\ndtypes: float64(1), int64(2), object(5)\nmemory usage: 31.4+ MB\n"
     ]
    }
   ],
   "source": [
    "df = pd.read_csv(\"dataset/DQ-dataset.csv\", sep=\"\\t\",index_col=0, decimal=\",\")\n",
    "df.info()"
   ]
  },
  {
   "cell_type": "code",
   "execution_count": 59,
   "metadata": {},
   "outputs": [
    {
     "output_type": "execute_result",
     "data": {
      "text/plain": [
       "   BasketID           BasketDate  Sale CustomerID CustomerCountry  ProdID  \\\n",
       "0    536365  2010-12-01 08:26:00  2.55    17850.0  United Kingdom  85123A   \n",
       "1    536365  2010-12-01 08:26:00  3.39    17850.0  United Kingdom   71053   \n",
       "2    536365  2010-12-01 08:26:00  2.75    17850.0  United Kingdom  84406B   \n",
       "3    536365  2010-12-01 08:26:00  3.39    17850.0  United Kingdom  84029G   \n",
       "4    536365  2010-12-01 08:26:00  3.39    17850.0  United Kingdom  84029E   \n",
       "\n",
       "                             ProdDescr  Qta  \n",
       "0   WHITE HANGING HEART T-LIGHT HOLDER    6  \n",
       "1                  WHITE METAL LANTERN    6  \n",
       "2       CREAM CUPID HEARTS COAT HANGER    8  \n",
       "3  KNITTED UNION FLAG HOT WATER BOTTLE    6  \n",
       "4       RED WOOLLY HOTTIE WHITE HEART.    6  "
      ],
      "text/html": "<div>\n<style scoped>\n    .dataframe tbody tr th:only-of-type {\n        vertical-align: middle;\n    }\n\n    .dataframe tbody tr th {\n        vertical-align: top;\n    }\n\n    .dataframe thead th {\n        text-align: right;\n    }\n</style>\n<table border=\"1\" class=\"dataframe\">\n  <thead>\n    <tr style=\"text-align: right;\">\n      <th></th>\n      <th>BasketID</th>\n      <th>BasketDate</th>\n      <th>Sale</th>\n      <th>CustomerID</th>\n      <th>CustomerCountry</th>\n      <th>ProdID</th>\n      <th>ProdDescr</th>\n      <th>Qta</th>\n    </tr>\n  </thead>\n  <tbody>\n    <tr>\n      <th>0</th>\n      <td>536365</td>\n      <td>2010-12-01 08:26:00</td>\n      <td>2.55</td>\n      <td>17850.0</td>\n      <td>United Kingdom</td>\n      <td>85123A</td>\n      <td>WHITE HANGING HEART T-LIGHT HOLDER</td>\n      <td>6</td>\n    </tr>\n    <tr>\n      <th>1</th>\n      <td>536365</td>\n      <td>2010-12-01 08:26:00</td>\n      <td>3.39</td>\n      <td>17850.0</td>\n      <td>United Kingdom</td>\n      <td>71053</td>\n      <td>WHITE METAL LANTERN</td>\n      <td>6</td>\n    </tr>\n    <tr>\n      <th>2</th>\n      <td>536365</td>\n      <td>2010-12-01 08:26:00</td>\n      <td>2.75</td>\n      <td>17850.0</td>\n      <td>United Kingdom</td>\n      <td>84406B</td>\n      <td>CREAM CUPID HEARTS COAT HANGER</td>\n      <td>8</td>\n    </tr>\n    <tr>\n      <th>3</th>\n      <td>536365</td>\n      <td>2010-12-01 08:26:00</td>\n      <td>3.39</td>\n      <td>17850.0</td>\n      <td>United Kingdom</td>\n      <td>84029G</td>\n      <td>KNITTED UNION FLAG HOT WATER BOTTLE</td>\n      <td>6</td>\n    </tr>\n    <tr>\n      <th>4</th>\n      <td>536365</td>\n      <td>2010-12-01 08:26:00</td>\n      <td>3.39</td>\n      <td>17850.0</td>\n      <td>United Kingdom</td>\n      <td>84029E</td>\n      <td>RED WOOLLY HOTTIE WHITE HEART.</td>\n      <td>6</td>\n    </tr>\n  </tbody>\n</table>\n</div>"
     },
     "metadata": {},
     "execution_count": 59
    }
   ],
   "source": [
    "df.head()"
   ]
  },
  {
   "cell_type": "code",
   "execution_count": 60,
   "metadata": {
    "tags": []
   },
   "outputs": [],
   "source": [
    "\n",
    "df['ts'] = df.BasketDate.values.astype(np.datetime64).astype(np.int64)\n",
    "df = df[~df.CustomerID.str.contains(\"N\")]\n",
    "\n",
    "new_data=[]\n",
    "for elem in df.CustomerID.unique():\n",
    "    current_customer_transaction=df[df[\"CustomerID\"]==elem]\n",
    "\n",
    "    list_basket_elem=[]\n",
    "    for basket in current_customer_transaction.BasketID.unique():\n",
    "        current_basket=current_customer_transaction[current_customer_transaction[\"BasketID\"]==basket ]\n",
    "\n",
    "        list_elem=[]\n",
    "        for index, row in current_basket.iterrows():\n",
    "            list_elem.append(row[\"ProdDescr\"])\n",
    "\n",
    "        list_basket_elem.append((current_basket.iloc[0].ts,list_elem))\n",
    "\n",
    "    new_data.append(list_basket_elem)\n"
   ]
  },
  {
   "cell_type": "code",
   "execution_count": 62,
   "metadata": {},
   "outputs": [],
   "source": [
    "import pickle\n",
    "file_to_store = open(\"./dataset/PM-dataset.pickle\", \"wb\")\n",
    "pickle.dump(new_data, file_to_store)\n",
    "file_to_store.close()"
   ]
  },
  {
   "cell_type": "code",
   "execution_count": 64,
   "metadata": {},
   "outputs": [],
   "source": [
    "file_to_read = open(\"./dataset/PM-dataset.pickle\", \"rb\")\n",
    "loaded_object = pickle.load(file_to_read)\n",
    "file_to_read.close()"
   ]
  },
  {
   "cell_type": "code",
   "execution_count": 69,
   "metadata": {},
   "outputs": [],
   "source": [
    "# to delete timestamp\n",
    "loaded_object=[[basket[1] for basket in customer] for customer in loaded_object]"
   ]
  },
  {
   "cell_type": "code",
   "execution_count": 72,
   "metadata": {},
   "outputs": [
    {
     "output_type": "execute_result",
     "data": {
      "text/plain": [
       "[(1291191960,\n",
       "  ['WHITE HANGING HEART T-LIGHT HOLDER',\n",
       "   'WHITE METAL LANTERN',\n",
       "   'CREAM CUPID HEARTS COAT HANGER',\n",
       "   'KNITTED UNION FLAG HOT WATER BOTTLE',\n",
       "   'RED WOOLLY HOTTIE WHITE HEART.',\n",
       "   'SET 7 BABUSHKA NESTING BOXES',\n",
       "   'GLASS STAR FROSTED T-LIGHT HOLDER']),\n",
       " (1291192080, ['HAND WARMER UNION JACK'])]"
      ]
     },
     "metadata": {},
     "execution_count": 72
    }
   ],
   "source": [
    "new_data[0][0:2]"
   ]
  },
  {
   "cell_type": "code",
   "execution_count": 73,
   "metadata": {},
   "outputs": [
    {
     "output_type": "execute_result",
     "data": {
      "text/plain": [
       "[['WHITE HANGING HEART T-LIGHT HOLDER',\n",
       "  'WHITE METAL LANTERN',\n",
       "  'CREAM CUPID HEARTS COAT HANGER',\n",
       "  'KNITTED UNION FLAG HOT WATER BOTTLE',\n",
       "  'RED WOOLLY HOTTIE WHITE HEART.',\n",
       "  'SET 7 BABUSHKA NESTING BOXES',\n",
       "  'GLASS STAR FROSTED T-LIGHT HOLDER'],\n",
       " ['HAND WARMER UNION JACK']]"
      ]
     },
     "metadata": {},
     "execution_count": 73
    }
   ],
   "source": [
    "loaded_object[0][0:2]"
   ]
  },
  {
   "cell_type": "code",
   "execution_count": null,
   "metadata": {},
   "outputs": [],
   "source": []
  }
 ]
}